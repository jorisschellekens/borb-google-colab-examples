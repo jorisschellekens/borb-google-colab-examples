{
  "nbformat": 4,
  "nbformat_minor": 0,
  "metadata": {
    "colab": {
      "name": "Untitled3.ipynb",
      "provenance": [],
      "authorship_tag": "ABX9TyOUIog/Jlfrcafde8TDkJiC",
      "include_colab_link": true
    },
    "kernelspec": {
      "name": "python3",
      "display_name": "Python 3"
    },
    "language_info": {
      "name": "python"
    }
  },
  "cells": [
    {
      "cell_type": "markdown",
      "metadata": {
        "id": "view-in-github",
        "colab_type": "text"
      },
      "source": [
        "<a href=\"https://colab.research.google.com/github/jorisschellekens/borb-google-colab-examples/blob/main/using_borb_to_convert_markdown_to_pdf.ipynb\" target=\"_parent\"><img src=\"https://colab.research.google.com/assets/colab-badge.svg\" alt=\"Open In Colab\"/></a>"
      ]
    },
    {
      "cell_type": "markdown",
      "metadata": {
        "id": "kwBdgNnUnXha"
      },
      "source": [
        "# ![borb logo](https://github.com/jorisschellekens/borb/raw/master/logo/borb_64.png) Using `borb` to convert markdown to PDF"
      ]
    },
    {
      "cell_type": "markdown",
      "metadata": {
        "id": "rFxoLyJUneW1"
      },
      "source": [
        "[`borb`](https://github.com/jorisschellekens/borb) is a library for reading, creating and manipulating PDF files in python. borb was created in 2020 by Joris Schellekens and is still in active development. Check out the [GitHub repository](https://github.com/jorisschellekens/borb), or the [borb website](https://borbpdf.com)."
      ]
    },
    {
      "cell_type": "markdown",
      "metadata": {
        "id": "Okr5R4xHnfGF"
      },
      "source": [
        "Let's start by installing `borb`"
      ]
    },
    {
      "cell_type": "code",
      "metadata": {
        "id": "wVbbqYAUksyM"
      },
      "source": [
        "pip install borb"
      ],
      "execution_count": null,
      "outputs": []
    },
    {
      "cell_type": "markdown",
      "metadata": {
        "id": "29ztvlDklci0"
      },
      "source": [
        "Markdown is a popular lightweight format for content markup. It's so common among developers that it makes sense to enable you to easily convert markdown to PDF.\n",
        "\n",
        "`borb` does not (yet) support the full range of markdown. In particular `borb` does not support using `HTML` inside a markdown string.\n",
        "\n",
        "Let's get started by creating a markdown file. The content inside this file should give you an idea of what features of markdown are compatible with borb.\n",
        "\n",
        "We'll store this as `input.md`:"
      ]
    },
    {
      "cell_type": "markdown",
      "metadata": {
        "id": "idYUW280llz1"
      },
      "source": [
        "```console\n",
        "# Markdown in borb\n",
        "\n",
        "## Ordered Lists\n",
        "To create an ordered list, add line items with numbers followed by periods. The numbers don’t have to be in numerical order, but the list should start with the number one.\n",
        "\n",
        "1. First item\n",
        "2. Second item\n",
        "3. Third item\n",
        "4. Fourth item\n",
        "\n",
        "## Unordered Lists\n",
        "To create an unordered list, add dashes (\\-), asterisks (\\*), or plus signs (\\+) in front of line items. Indent one or more items to create a nested list.\n",
        "\n",
        "- First item\n",
        "- Second item\n",
        "- Third item\n",
        "- Fourth item\n",
        "\n",
        "## Code Blocks\n",
        "To create code blocks, indent every line of the block by at least four spaces or one tab.\n",
        "\n",
        "    <html>\n",
        "      <head>\n",
        "      </head>\n",
        "    </html>\n",
        "\n",
        "## Tables\n",
        "\n",
        "| Syntax      | Description |\n",
        "| ----------- | ----------- |\n",
        "| Header      | Title       |\n",
        "| Paragraph   | Text        |\n",
        "\n",
        "## Emoji\n",
        "\n",
        "`borb` supports the full range of GitHub emoji. :bowtie:\n",
        "You can find a complete list at https://gist.github.com/rxaviers/7360908.\n",
        "\n",
        "```"
      ]
    },
    {
      "cell_type": "code",
      "metadata": {
        "id": "E8Y5fmZBl6HW"
      },
      "source": [
        "with open(\"input.md\" , \"w\") as fh:\n",
        "  fh.write(\"\"\"\n",
        "# Markdown in borb\n",
        "\n",
        "## Ordered Lists\n",
        "To create an ordered list, add line items with numbers followed by periods. The numbers don’t have to be in numerical order, but the list should start with the number one.\n",
        "\n",
        "1. First item\n",
        "2. Second item\n",
        "3. Third item\n",
        "4. Fourth item\n",
        "\n",
        "## Unordered Lists\n",
        "To create an unordered list, add dashes (\\-), asterisks (\\*), or plus signs (\\+) in front of line items. Indent one or more items to create a nested list.\n",
        "\n",
        "- First item\n",
        "- Second item\n",
        "- Third item\n",
        "- Fourth item\n",
        "\n",
        "## Code Blocks\n",
        "To create code blocks, indent every line of the block by at least four spaces or one tab.\n",
        "\n",
        "    <html>\n",
        "      <head>\n",
        "      </head>\n",
        "    </html>\n",
        "\n",
        "## Tables\n",
        "\n",
        "| Syntax      | Description |\n",
        "| ----------- | ----------- |\n",
        "| Header      | Title       |\n",
        "| Paragraph   | Text        |\n",
        "\n",
        "## Emoji\n",
        "\n",
        "`borb` supports the full range of GitHub emoji. :bowtie:\n",
        "You can find a complete list at https://gist.github.com/rxaviers/7360908.\n",
        "  \"\"\")"
      ],
      "execution_count": 4,
      "outputs": []
    },
    {
      "cell_type": "markdown",
      "metadata": {
        "id": "5Wz8JkZbmJkA"
      },
      "source": [
        "Now we can access this from our little python script:"
      ]
    },
    {
      "cell_type": "code",
      "metadata": {
        "id": "csdjv3AUmQqs"
      },
      "source": [
        "from borb.pdf.document import Document\n",
        "from borb.pdf.pdf import PDF\n",
        "from borb.toolkit.export.markdown_to_pdf.markdown_to_pdf import MarkdownToPDF\n",
        "\n",
        "def main():\n",
        "  \n",
        "  # read input\n",
        "  markdown: str = \"\"\n",
        "  with open(\"input.md\", \"r\") as markdown_file_handle:\n",
        "      markdown = markdown_file_handle.read()\n",
        "\n",
        "  # convert\n",
        "  document: Document = MarkdownToPDF.convert_markdown_to_pdf(markdown)\n",
        "\n",
        "  # store PDF\n",
        "  with open(\"output.pdf\", \"wb\") as pdf_file_handle:\n",
        "    PDF.dumps(pdf_file_handle, document)\n",
        "\n",
        "main()"
      ],
      "execution_count": 6,
      "outputs": []
    }
  ]
}