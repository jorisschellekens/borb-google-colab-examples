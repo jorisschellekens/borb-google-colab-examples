{
  "nbformat": 4,
  "nbformat_minor": 0,
  "metadata": {
    "colab": {
      "name": "Untitled3.ipynb",
      "provenance": [],
      "authorship_tag": "ABX9TyPRa0XXFrRBK9aN+L6PzBYJ",
      "include_colab_link": true
    },
    "kernelspec": {
      "name": "python3",
      "display_name": "Python 3"
    },
    "language_info": {
      "name": "python"
    }
  },
  "cells": [
    {
      "cell_type": "markdown",
      "metadata": {
        "id": "view-in-github",
        "colab_type": "text"
      },
      "source": [
        "<a href=\"https://colab.research.google.com/github/jorisschellekens/borb-google-colab-examples/blob/main/using_borb_to_convert_markdown_to_pdf.ipynb\" target=\"_parent\"><img src=\"https://colab.research.google.com/assets/colab-badge.svg\" alt=\"Open In Colab\"/></a>"
      ]
    },
    {
      "cell_type": "markdown",
      "metadata": {
        "id": "kwBdgNnUnXha"
      },
      "source": [
        "# ![borb logo](https://github.com/jorisschellekens/borb/raw/master/logo/borb_64.png) Using `borb` to convert markdown to PDF"
      ]
    },
    {
      "cell_type": "markdown",
      "metadata": {
        "id": "rFxoLyJUneW1"
      },
      "source": [
        "[`borb`](https://github.com/jorisschellekens/borb) is a library for reading, creating and manipulating PDF files in python. borb was created in 2020 by Joris Schellekens and is still in active development. Check out the [GitHub repository](https://github.com/jorisschellekens/borb), or the [borb website](https://borbpdf.com)."
      ]
    },
    {
      "cell_type": "markdown",
      "metadata": {
        "id": "Okr5R4xHnfGF"
      },
      "source": [
        "Let's start by installing `borb`"
      ]
    },
    {
      "cell_type": "code",
      "metadata": {
        "id": "wVbbqYAUksyM",
        "outputId": "220fbc82-0572-4317-c2f2-3d474a70f0a5",
        "colab": {
          "base_uri": "https://localhost:8080/"
        }
      },
      "source": [
        "pip install borb"
      ],
      "execution_count": 1,
      "outputs": [
        {
          "output_type": "stream",
          "name": "stdout",
          "text": [
            "Collecting borb\n",
            "  Downloading borb-2.0.19-py3-none-any.whl (6.5 MB)\n",
            "\u001b[K     |████████████████████████████████| 6.5 MB 2.7 MB/s \n",
            "\u001b[?25hCollecting python-barcode>=0.13.1\n",
            "  Downloading python_barcode-0.13.1-py3-none-any.whl (217 kB)\n",
            "\u001b[K     |████████████████████████████████| 217 kB 45.6 MB/s \n",
            "\u001b[?25hRequirement already satisfied: setuptools>=51.1.1 in /usr/local/lib/python3.7/dist-packages (from borb) (57.4.0)\n",
            "Collecting fonttools>=4.22.1\n",
            "  Downloading fonttools-4.29.1-py3-none-any.whl (895 kB)\n",
            "\u001b[K     |████████████████████████████████| 895 kB 41.5 MB/s \n",
            "\u001b[?25hCollecting qrcode[pil]>=6.1\n",
            "  Downloading qrcode-7.3.1.tar.gz (43 kB)\n",
            "\u001b[K     |████████████████████████████████| 43 kB 1.8 MB/s \n",
            "\u001b[?25hCollecting requests>=2.24.0\n",
            "  Downloading requests-2.27.1-py2.py3-none-any.whl (63 kB)\n",
            "\u001b[K     |████████████████████████████████| 63 kB 1.3 MB/s \n",
            "\u001b[?25hRequirement already satisfied: Pillow>=7.1.0 in /usr/local/lib/python3.7/dist-packages (from borb) (7.1.2)\n",
            "Requirement already satisfied: charset-normalizer~=2.0.0 in /usr/local/lib/python3.7/dist-packages (from requests>=2.24.0->borb) (2.0.11)\n",
            "Requirement already satisfied: urllib3<1.27,>=1.21.1 in /usr/local/lib/python3.7/dist-packages (from requests>=2.24.0->borb) (1.24.3)\n",
            "Requirement already satisfied: idna<4,>=2.5 in /usr/local/lib/python3.7/dist-packages (from requests>=2.24.0->borb) (2.10)\n",
            "Requirement already satisfied: certifi>=2017.4.17 in /usr/local/lib/python3.7/dist-packages (from requests>=2.24.0->borb) (2021.10.8)\n",
            "Building wheels for collected packages: qrcode\n",
            "  Building wheel for qrcode (setup.py) ... \u001b[?25l\u001b[?25hdone\n",
            "  Created wheel for qrcode: filename=qrcode-7.3.1-py3-none-any.whl size=40402 sha256=c7b7a6754969c9c8c97a57b5772bced6672ffdfb461fdc63eaf28ef0839067b9\n",
            "  Stored in directory: /root/.cache/pip/wheels/93/d7/39/a4111be2cfb8e679938aa671a37888b6afb1f9e7d748e94492\n",
            "Successfully built qrcode\n",
            "Installing collected packages: qrcode, requests, python-barcode, fonttools, borb\n",
            "  Attempting uninstall: requests\n",
            "    Found existing installation: requests 2.23.0\n",
            "    Uninstalling requests-2.23.0:\n",
            "      Successfully uninstalled requests-2.23.0\n",
            "\u001b[31mERROR: pip's dependency resolver does not currently take into account all the packages that are installed. This behaviour is the source of the following dependency conflicts.\n",
            "google-colab 1.0.0 requires requests~=2.23.0, but you have requests 2.27.1 which is incompatible.\n",
            "datascience 0.10.6 requires folium==0.2.1, but you have folium 0.8.3 which is incompatible.\u001b[0m\n",
            "Successfully installed borb-2.0.19 fonttools-4.29.1 python-barcode-0.13.1 qrcode-7.3.1 requests-2.27.1\n"
          ]
        }
      ]
    },
    {
      "cell_type": "markdown",
      "metadata": {
        "id": "29ztvlDklci0"
      },
      "source": [
        "Markdown is a popular lightweight format for content markup. It's so common among developers that it makes sense to enable you to easily convert markdown to PDF.\n",
        "\n",
        "`borb` does not (yet) support the full range of markdown. In particular `borb` does not support using `HTML` inside a markdown string.\n",
        "\n",
        "Let's get started by creating a markdown file. The content inside this file should give you an idea of what features of markdown are compatible with borb.\n",
        "\n",
        "We'll store this as `input.md`:"
      ]
    },
    {
      "cell_type": "markdown",
      "metadata": {
        "id": "idYUW280llz1"
      },
      "source": [
        "```console\n",
        "# Markdown in borb\n",
        "\n",
        "## Ordered Lists\n",
        "To create an ordered list, add line items with numbers followed by periods. The numbers don’t have to be in numerical order, but the list should start with the number one.\n",
        "\n",
        "1. First item\n",
        "2. Second item\n",
        "3. Third item\n",
        "4. Fourth item\n",
        "\n",
        "## Unordered Lists\n",
        "To create an unordered list, add dashes (\\-), asterisks (\\*), or plus signs (\\+) in front of line items. Indent one or more items to create a nested list.\n",
        "\n",
        "- First item\n",
        "- Second item\n",
        "- Third item\n",
        "- Fourth item\n",
        "\n",
        "## Code Blocks\n",
        "To create code blocks, indent every line of the block by at least four spaces or one tab.\n",
        "\n",
        "    <html>\n",
        "      <head>\n",
        "      </head>\n",
        "    </html>\n",
        "\n",
        "## Tables\n",
        "\n",
        "| Syntax      | Description |\n",
        "| ----------- | ----------- |\n",
        "| Header      | Title       |\n",
        "| Paragraph   | Text        |\n",
        "\n",
        "## Emoji\n",
        "\n",
        "`borb` supports the full range of GitHub emoji. :bowtie:\n",
        "You can find a complete list at https://gist.github.com/rxaviers/7360908.\n",
        "\n",
        "```"
      ]
    },
    {
      "cell_type": "code",
      "metadata": {
        "id": "E8Y5fmZBl6HW"
      },
      "source": [
        "with open(\"input.md\" , \"w\") as fh:\n",
        "  fh.write(\"\"\"\n",
        "# Markdown in borb\n",
        "\n",
        "## Ordered Lists\n",
        "To create an ordered list, add line items with numbers followed by periods. The numbers don’t have to be in numerical order, but the list should start with the number one.\n",
        "\n",
        "1. First item\n",
        "2. Second item\n",
        "3. Third item\n",
        "4. Fourth item\n",
        "\n",
        "## Unordered Lists\n",
        "To create an unordered list, add dashes (\\-), asterisks (\\*), or plus signs (\\+) in front of line items. Indent one or more items to create a nested list.\n",
        "\n",
        "- First item\n",
        "- Second item\n",
        "- Third item\n",
        "- Fourth item\n",
        "\n",
        "## Code Blocks\n",
        "To create code blocks, indent every line of the block by at least four spaces or one tab.\n",
        "\n",
        "    <html>\n",
        "      <head>\n",
        "      </head>\n",
        "    </html>\n",
        "\n",
        "## Tables\n",
        "\n",
        "| Syntax      | Description |\n",
        "| ----------- | ----------- |\n",
        "| Header      | Title       |\n",
        "| Paragraph   | Text        |\n",
        "\n",
        "## Emoji\n",
        "\n",
        "`borb` supports the full range of GitHub emoji. :bowtie:\n",
        "You can find a complete list at https://gist.github.com/rxaviers/7360908.\n",
        "  \"\"\")"
      ],
      "execution_count": 2,
      "outputs": []
    },
    {
      "cell_type": "markdown",
      "metadata": {
        "id": "5Wz8JkZbmJkA"
      },
      "source": [
        "Now we can access this from our little python script:"
      ]
    },
    {
      "cell_type": "code",
      "metadata": {
        "id": "csdjv3AUmQqs"
      },
      "source": [
        "from borb.pdf.document.document import Document\n",
        "from borb.pdf.pdf import PDF\n",
        "from borb.toolkit.export.markdown_to_pdf.markdown_to_pdf import MarkdownToPDF\n",
        "\n",
        "def main():\n",
        "  \n",
        "  # read input\n",
        "  markdown: str = \"\"\n",
        "  with open(\"input.md\", \"r\") as markdown_file_handle:\n",
        "      markdown = markdown_file_handle.read()\n",
        "\n",
        "  # convert\n",
        "  document: Document = MarkdownToPDF.convert_markdown_to_pdf(markdown)\n",
        "\n",
        "  # store PDF\n",
        "  with open(\"output.pdf\", \"wb\") as pdf_file_handle:\n",
        "    PDF.dumps(pdf_file_handle, document)\n",
        "\n",
        "main()"
      ],
      "execution_count": 3,
      "outputs": []
    }
  ]
}