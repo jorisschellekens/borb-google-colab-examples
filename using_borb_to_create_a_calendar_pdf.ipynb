{
  "nbformat": 4,
  "nbformat_minor": 0,
  "metadata": {
    "colab": {
      "name": "Untitled3.ipynb",
      "provenance": [],
      "authorship_tag": "ABX9TyMu0zDFSKTsWre9KlNFflsD",
      "include_colab_link": true
    },
    "kernelspec": {
      "name": "python3",
      "display_name": "Python 3"
    },
    "language_info": {
      "name": "python"
    }
  },
  "cells": [
    {
      "cell_type": "markdown",
      "metadata": {
        "id": "view-in-github",
        "colab_type": "text"
      },
      "source": [
        "<a href=\"https://colab.research.google.com/github/jorisschellekens/borb-google-colab-examples/blob/main/using_borb_to_create_a_calendar_pdf.ipynb\" target=\"_parent\"><img src=\"https://colab.research.google.com/assets/colab-badge.svg\" alt=\"Open In Colab\"/></a>"
      ]
    },
    {
      "cell_type": "markdown",
      "metadata": {
        "id": "8hi4-135H9Nz"
      },
      "source": [
        "# ![borb logo](https://github.com/jorisschellekens/borb/raw/master/logo/borb_64.png) Using `borb` to create a calendar in PDF"
      ]
    },
    {
      "cell_type": "markdown",
      "metadata": {
        "id": "Xy4uDSUeIETd"
      },
      "source": [
        "[`borb`](https://github.com/jorisschellekens/borb) is a library for reading, creating and manipulating PDF files in python. borb was created in 2020 by Joris Schellekens and is still in active development. Check out the [GitHub repository](https://github.com/jorisschellekens/borb), or the [borb website](https://borbpdf.com)."
      ]
    },
    {
      "cell_type": "code",
      "metadata": {
        "colab": {
          "base_uri": "https://localhost:8080/"
        },
        "id": "aao-TUSG3xhG",
        "outputId": "cbbac449-daf0-43ea-ec71-3b285749a894"
      },
      "source": [
        "pip install borb"
      ],
      "execution_count": 74,
      "outputs": [
        {
          "output_type": "stream",
          "name": "stdout",
          "text": [
            "Requirement already satisfied: borb in /usr/local/lib/python3.7/dist-packages (2.0.12)\n",
            "Requirement already satisfied: Pillow>=7.1.0 in /usr/local/lib/python3.7/dist-packages (from borb) (7.1.2)\n",
            "Requirement already satisfied: qrcode[pil]>=6.1 in /usr/local/lib/python3.7/dist-packages (from borb) (7.3.1)\n",
            "Requirement already satisfied: setuptools~=51.1.1 in /usr/local/lib/python3.7/dist-packages (from borb) (51.1.2)\n",
            "Requirement already satisfied: requests>=2.24.0 in /usr/local/lib/python3.7/dist-packages (from borb) (2.26.0)\n",
            "Requirement already satisfied: python-barcode>=0.13.1 in /usr/local/lib/python3.7/dist-packages (from borb) (0.13.1)\n",
            "Requirement already satisfied: fonttools>=4.22.1 in /usr/local/lib/python3.7/dist-packages (from borb) (4.27.1)\n",
            "Requirement already satisfied: idna<4,>=2.5 in /usr/local/lib/python3.7/dist-packages (from requests>=2.24.0->borb) (2.10)\n",
            "Requirement already satisfied: urllib3<1.27,>=1.21.1 in /usr/local/lib/python3.7/dist-packages (from requests>=2.24.0->borb) (1.24.3)\n",
            "Requirement already satisfied: charset-normalizer~=2.0.0 in /usr/local/lib/python3.7/dist-packages (from requests>=2.24.0->borb) (2.0.6)\n",
            "Requirement already satisfied: certifi>=2017.4.17 in /usr/local/lib/python3.7/dist-packages (from requests>=2.24.0->borb) (2021.5.30)\n"
          ]
        }
      ]
    },
    {
      "cell_type": "markdown",
      "metadata": {
        "id": "l6Bt34oTIItP"
      },
      "source": [
        "We're now going to build a helper method that will construct a `Table` to represent the grid of the calendar.\n",
        "\n",
        "The precise layout may require some fiddling if you want to change it.\n",
        "\n",
        "Essentially, we need to find out how many incomplete weeks there will be (maybe the month starts/ends with some days before hitting Monday). And we need to take into account the headers of the `Table` (which will be the names of the days of the week) and some cells that will just be empty padding."
      ]
    },
    {
      "cell_type": "code",
      "metadata": {
        "id": "529qIE864KOX"
      },
      "source": [
        "from borb.pdf.canvas.layout.table.fixed_column_width_table import FixedColumnWidthTable\n",
        "from borb.pdf.canvas.layout.table.table import Table, TableCell\n",
        "from calendar import monthrange\n",
        "import typing\n",
        "from decimal import Decimal\n",
        "from borb.pdf.canvas.layout.layout_element import Alignment\n",
        "\n",
        "def build_table_for_month(month: int, year: int) -> FixedColumnWidthTable:\n",
        "\n",
        "  number_of_days: int = monthrange(year, month)[1]\n",
        "  first_day_of_month: int = monthrange(year, month)[0]\n",
        "  \n",
        "  weekdays_per_day: typing.List[int] = [(x + first_day_of_month) % 7 for x in range(0, number_of_days)]\n",
        "  \n",
        "  number_of_weeks: int = sum([1 for x in weekdays_per_day if x == 6])\n",
        "  if weekdays_per_day[-1] != 6:\n",
        "    number_of_weeks += 1\n",
        "\n",
        "  t: Table = FixedColumnWidthTable(number_of_columns=7, number_of_rows=number_of_weeks + 2)\n",
        "\n",
        "  # build header\n",
        "  for s in [\"Monday\", \"Tuesday\", \"Wednesday\", \"Thursday\", \"Friday\", \"Saturday\", \"Sunday\"]:\n",
        "    t.add(Paragraph(s, \n",
        "                    font=\"Helvetica-Bold\", \n",
        "                    font_size=Decimal(8),\n",
        "                    horizontal_alignment=Alignment.CENTERED,\n",
        "                    padding_bottom=Decimal(5),\n",
        "                    padding_top=Decimal(5)\n",
        "    ))\n",
        "\n",
        "  # these cells serve as spacing\n",
        "  for i in range(0, 7):\n",
        "    t.add(TableCell(Paragraph(\" \"), \n",
        "                    border_top=False,\n",
        "                    border_right=False,\n",
        "                    border_bottom=False,\n",
        "                    border_left=False))  \n",
        "\n",
        "  # add empty days (the month may not start on a Monday)\n",
        "  for i in range(0, first_day_of_month):\n",
        "    t.add(TableCell(Paragraph(\" \"), \n",
        "                    border_top=False,\n",
        "                    border_right=False,\n",
        "                    border_bottom=False,\n",
        "                    border_left=False))\n",
        "\n",
        "  # add days for month\n",
        "  for i in range(1, number_of_days + 1):\n",
        "    t.add(TableCell(Paragraph(str(i),\n",
        "                    horizontal_alignment=Alignment.RIGHT,\n",
        "                    padding_top=Decimal(20),\n",
        "                    padding_bottom=Decimal(5),\n",
        "                    padding_right=Decimal(5)),\n",
        "                    border_top=True,\n",
        "                    border_right=True,\n",
        "                    border_bottom=True,\n",
        "                    border_left=True,\n",
        "                    )\n",
        "    )\n",
        "\n",
        "  # add empty days\n",
        "  for i in range(weekdays_per_day[-1], 6):\n",
        "    t.add(TableCell(Paragraph(\" \"), \n",
        "                    border_top=False,\n",
        "                    border_right=False,\n",
        "                    border_bottom=False,\n",
        "                    border_left=False))\n",
        "  \n",
        "  return t\n"
      ],
      "execution_count": 75,
      "outputs": []
    },
    {
      "cell_type": "markdown",
      "metadata": {
        "id": "jMDsd9FmIn5A"
      },
      "source": [
        "That was the hard part!\n",
        "\n",
        "Now we just need to call that function 12 times, and spruce up the remainder of the `Page` a bit (by adding the month name and a picture)."
      ]
    },
    {
      "cell_type": "code",
      "metadata": {
        "id": "i5viw8-H36_h"
      },
      "source": [
        "from borb.pdf.document import Document\n",
        "from borb.pdf.page.page import Page\n",
        "from borb.pdf.pdf import PDF\n",
        "from borb.pdf.canvas.layout.page_layout.multi_column_layout import SingleColumnLayout\n",
        "from borb.pdf.canvas.layout.page_layout.page_layout import PageLayout\n",
        "from borb.pdf.canvas.layout.text.paragraph import Paragraph\n",
        "from borb.pdf.canvas.layout.image.image import Image\n",
        "\n",
        "\n",
        "# create new Document\n",
        "doc: Document = Document()\n",
        "\n",
        "# add months\n",
        "for month, month_name in enumerate([\"January\", \"February\", \"March\", \"April\", \"May\", \"June\", \"July\", \"August\", \"September\", \"October\", \"November\", \"December\"]):\n",
        "\n",
        "  # create new Page\n",
        "  page: Page = Page()\n",
        "  doc.append_page(page)\n",
        "\n",
        "  # set PageLayout\n",
        "  layout: PageLayout = SingleColumnLayout(page)\n",
        "  \n",
        "  # add month name\n",
        "  layout.add(Paragraph(month_name, \n",
        "                       font_size=Decimal(20)))\n",
        "\n",
        "  # add Image\n",
        "  layout.add(Image(\"https://images.unsplash.com/photo-1634901849515-40ba019f9387?ixid=MnwxMjA3fDB8MHxwaG90by1wYWdlfHx8fGVufDB8fHx8&ixlib=rb-1.2.1&auto=format&fit=crop&w=694&q=80\", \n",
        "                   width=Decimal(470), \n",
        "                   height=Decimal(300)))\n",
        "\n",
        "  # add Table\n",
        "  layout.add(build_table_for_month(month + 1, 2022))\n",
        "\n",
        "# store\n",
        "with open(\"output.pdf\", \"wb\") as pdf_file_handle:\n",
        "  PDF.dumps(pdf_file_handle, doc)"
      ],
      "execution_count": 76,
      "outputs": []
    }
  ]
}