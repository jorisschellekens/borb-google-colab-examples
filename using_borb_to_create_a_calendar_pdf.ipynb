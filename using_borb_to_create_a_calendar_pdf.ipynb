{
  "nbformat": 4,
  "nbformat_minor": 0,
  "metadata": {
    "colab": {
      "name": "Untitled3.ipynb",
      "provenance": [],
      "authorship_tag": "ABX9TyNsjr2BQcsQtxTkEpbLVTj7",
      "include_colab_link": true
    },
    "kernelspec": {
      "name": "python3",
      "display_name": "Python 3"
    },
    "language_info": {
      "name": "python"
    }
  },
  "cells": [
    {
      "cell_type": "markdown",
      "metadata": {
        "id": "view-in-github",
        "colab_type": "text"
      },
      "source": [
        "<a href=\"https://colab.research.google.com/github/jorisschellekens/borb-google-colab-examples/blob/main/using_borb_to_create_a_calendar_pdf.ipynb\" target=\"_parent\"><img src=\"https://colab.research.google.com/assets/colab-badge.svg\" alt=\"Open In Colab\"/></a>"
      ]
    },
    {
      "cell_type": "markdown",
      "metadata": {
        "id": "8hi4-135H9Nz"
      },
      "source": [
        "# ![borb logo](https://github.com/jorisschellekens/borb/raw/master/logo/borb_64.png) Using `borb` to create a calendar in PDF"
      ]
    },
    {
      "cell_type": "markdown",
      "metadata": {
        "id": "Xy4uDSUeIETd"
      },
      "source": [
        "[`borb`](https://github.com/jorisschellekens/borb) is a library for reading, creating and manipulating PDF files in python. borb was created in 2020 by Joris Schellekens and is still in active development. Check out the [GitHub repository](https://github.com/jorisschellekens/borb), or the [borb website](https://borbpdf.com)."
      ]
    },
    {
      "cell_type": "code",
      "metadata": {
        "colab": {
          "base_uri": "https://localhost:8080/"
        },
        "id": "aao-TUSG3xhG",
        "outputId": "3cc97dab-27d8-4bc9-fb94-77c2535e901a"
      },
      "source": [
        "pip install borb"
      ],
      "execution_count": 15,
      "outputs": [
        {
          "output_type": "stream",
          "name": "stdout",
          "text": [
            "Requirement already satisfied: borb in /usr/local/lib/python3.7/dist-packages (2.0.12)\n",
            "Requirement already satisfied: python-barcode>=0.13.1 in /usr/local/lib/python3.7/dist-packages (from borb) (0.13.1)\n",
            "Requirement already satisfied: fonttools>=4.22.1 in /usr/local/lib/python3.7/dist-packages (from borb) (4.27.1)\n",
            "Requirement already satisfied: requests>=2.24.0 in /usr/local/lib/python3.7/dist-packages (from borb) (2.26.0)\n",
            "Requirement already satisfied: qrcode[pil]>=6.1 in /usr/local/lib/python3.7/dist-packages (from borb) (7.3.1)\n",
            "Requirement already satisfied: setuptools~=51.1.1 in /usr/local/lib/python3.7/dist-packages (from borb) (51.1.2)\n",
            "Requirement already satisfied: Pillow>=7.1.0 in /usr/local/lib/python3.7/dist-packages (from borb) (7.1.2)\n",
            "Requirement already satisfied: certifi>=2017.4.17 in /usr/local/lib/python3.7/dist-packages (from requests>=2.24.0->borb) (2021.5.30)\n",
            "Requirement already satisfied: charset-normalizer~=2.0.0 in /usr/local/lib/python3.7/dist-packages (from requests>=2.24.0->borb) (2.0.6)\n",
            "Requirement already satisfied: idna<4,>=2.5 in /usr/local/lib/python3.7/dist-packages (from requests>=2.24.0->borb) (2.10)\n",
            "Requirement already satisfied: urllib3<1.27,>=1.21.1 in /usr/local/lib/python3.7/dist-packages (from requests>=2.24.0->borb) (1.24.3)\n"
          ]
        }
      ]
    },
    {
      "cell_type": "markdown",
      "metadata": {
        "id": "l6Bt34oTIItP"
      },
      "source": [
        "We're now going to build a helper method that will construct a `Table` to represent the grid of the calendar.\n",
        "\n",
        "The precise layout may require some fiddling if you want to change it.\n",
        "\n",
        "Essentially, we need to find out how many incomplete weeks there will be (maybe the month starts/ends with some days before hitting Monday). And we need to take into account the headers of the `Table` (which will be the names of the days of the week) and some cells that will just be empty padding."
      ]
    },
    {
      "cell_type": "code",
      "metadata": {
        "id": "529qIE864KOX"
      },
      "source": [
        "from borb.pdf.canvas.layout.table.fixed_column_width_table import FixedColumnWidthTable\n",
        "from borb.pdf.canvas.layout.table.table import Table, TableCell\n",
        "from calendar import monthrange\n",
        "import typing\n",
        "from decimal import Decimal\n",
        "from borb.pdf.canvas.layout.layout_element import Alignment\n",
        "\n",
        "def build_table_for_month(month: int, year: int) -> FixedColumnWidthTable:\n",
        "\n",
        "  number_of_days: int = monthrange(year, month)[1]\n",
        "  first_day_of_month: int = monthrange(year, month)[0]\n",
        "  \n",
        "  weekdays_per_day: typing.List[int] = [(x + first_day_of_month) % 7 for x in range(0, number_of_days)]\n",
        "  \n",
        "  number_of_weeks: int = sum([1 for x in weekdays_per_day if x == 6])\n",
        "  if weekdays_per_day[-1] != 6:\n",
        "    number_of_weeks += 1\n",
        "\n",
        "  t: Table = FixedColumnWidthTable(number_of_columns=7, number_of_rows=number_of_weeks + 2)\n",
        "\n",
        "  # build header\n",
        "  for s in [\"Monday\", \"Tuesday\", \"Wednesday\", \"Thursday\", \"Friday\", \"Saturday\", \"Sunday\"]:\n",
        "    t.add(Paragraph(s, \n",
        "                    font=\"Helvetica-Bold\", \n",
        "                    font_size=Decimal(8),\n",
        "                    horizontal_alignment=Alignment.CENTERED,\n",
        "                    padding_bottom=Decimal(5),\n",
        "                    padding_top=Decimal(5)\n",
        "    ))\n",
        "\n",
        "  # these cells serve as spacing\n",
        "  for i in range(0, 7):\n",
        "    t.add(TableCell(Paragraph(\" \"), \n",
        "                    border_top=False,\n",
        "                    border_right=False,\n",
        "                    border_bottom=False,\n",
        "                    border_left=False))  \n",
        "\n",
        "  # add empty days (the month may not start on a Monday)\n",
        "  for i in range(0, first_day_of_month):\n",
        "    t.add(TableCell(Paragraph(\" \"), \n",
        "                    border_top=False,\n",
        "                    border_right=False,\n",
        "                    border_bottom=False,\n",
        "                    border_left=False))\n",
        "\n",
        "  # add days for month\n",
        "  for i in range(1, number_of_days + 1):\n",
        "    t.add(TableCell(Paragraph(str(i),\n",
        "                    horizontal_alignment=Alignment.RIGHT,\n",
        "                    padding_top=Decimal(20),\n",
        "                    padding_bottom=Decimal(5),\n",
        "                    padding_right=Decimal(5)),\n",
        "                    border_top=True,\n",
        "                    border_right=True,\n",
        "                    border_bottom=True,\n",
        "                    border_left=True,\n",
        "                    )\n",
        "    )\n",
        "\n",
        "  # add empty days\n",
        "  for i in range(weekdays_per_day[-1], 6):\n",
        "    t.add(TableCell(Paragraph(\" \"), \n",
        "                    border_top=False,\n",
        "                    border_right=False,\n",
        "                    border_bottom=False,\n",
        "                    border_left=False))\n",
        "  \n",
        "  return t\n"
      ],
      "execution_count": 16,
      "outputs": []
    },
    {
      "cell_type": "markdown",
      "metadata": {
        "id": "jMDsd9FmIn5A"
      },
      "source": [
        "That was the hard part!\n",
        "\n",
        "Now we just need to call that function 12 times, and spruce up the remainder of the `Page` a bit (by adding the month name and a picture)."
      ]
    },
    {
      "cell_type": "code",
      "metadata": {
        "id": "i5viw8-H36_h"
      },
      "source": [
        "from borb.pdf.document import Document\n",
        "from borb.pdf.page.page import Page\n",
        "from borb.pdf.pdf import PDF\n",
        "from borb.pdf.canvas.layout.page_layout.multi_column_layout import SingleColumnLayout\n",
        "from borb.pdf.canvas.layout.page_layout.page_layout import PageLayout\n",
        "from borb.pdf.canvas.layout.text.paragraph import Paragraph\n",
        "from borb.pdf.canvas.layout.image.image import Image\n",
        "\n",
        "\n",
        "# Font\n",
        "from borb.pdf.canvas.font.simple_font.true_type_font import TrueTypeFont  \n",
        "from borb.pdf.canvas.font.font import Font\n",
        "from pathlib import Path  \n",
        "\n",
        "# create new Document\n",
        "doc: Document = Document()\n",
        "\n",
        "months: typing.List[typing.Tuple[str, str]] = [(\"January\", \"https://images.unsplash.com/photo-1491831947735-7f519f52f6db?ixid=MnwxMjA3fDB8MHxwaG90by1wYWdlfHx8fGVufDB8fHx8&ixlib=rb-1.2.1&auto=format&fit=crop&w=1373&q=80\"),\n",
        "                                               (\"February\", \"https://images.unsplash.com/photo-1484979045040-0ab3854b6acb?ixid=MnwxMjA3fDB8MHxwaG90by1wYWdlfHx8fGVufDB8fHx8&ixlib=rb-1.2.1&auto=format&fit=crop&w=1448&q=80\"),\n",
        "                                               (\"March\", \"https://images.unsplash.com/photo-1462275646964-a0e3386b89fa?ixid=MnwxMjA3fDB8MHxwaG90by1wYWdlfHx8fGVufDB8fHx8&ixlib=rb-1.2.1&auto=format&fit=crop&w=1528&q=80\"),\n",
        "                                               (\"April\", \"https://images.unsplash.com/photo-1551524612-4b158646bc05?ixlib=rb-1.2.1&ixid=MnwxMjA3fDB8MHxwaG90by1wYWdlfHx8fGVufDB8fHx8&auto=format&fit=crop&w=1545&q=80\"),\n",
        "                                               (\"May\", \"https://images.unsplash.com/photo-1614179741597-c24532a179a4?ixid=MnwxMjA3fDB8MHxwaG90by1wYWdlfHx8fGVufDB8fHx8&ixlib=rb-1.2.1&auto=format&fit=crop&w=1473&q=80\"),\n",
        "                                               (\"June\", \"https://images.unsplash.com/photo-1473496169904-658ba7c44d8a?ixid=MnwxMjA3fDB8MHxwaG90by1wYWdlfHx8fGVufDB8fHx8&ixlib=rb-1.2.1&auto=format&fit=crop&w=1470&q=80\"),\n",
        "                                               (\"July\", \"https://images.unsplash.com/photo-1520116468816-95b69f847357?ixid=MnwxMjA3fDB8MHxwaG90by1wYWdlfHx8fGVufDB8fHx8&ixlib=rb-1.2.1&auto=format&fit=crop&w=687&q=80\"),\n",
        "                                               (\"August\", \"https://images.unsplash.com/uploads/14121010130570e22bcdf/e1730efe?ixid=MnwxMjA3fDB8MHxwaG90by1wYWdlfHx8fGVufDB8fHx8&ixlib=rb-1.2.1&auto=format&fit=crop&w=1470&q=80\"),\n",
        "                                               (\"September\", \"https://images.unsplash.com/photo-1600675206532-b0a6dbf01252?ixid=MnwxMjA3fDB8MHxwaG90by1wYWdlfHx8fGVufDB8fHx8&ixlib=rb-1.2.1&auto=format&fit=crop&w=687&q=80\"),\n",
        "                                               (\"October\", \"https://images.unsplash.com/photo-1509622905150-fa66d3906e09?ixid=MnwxMjA3fDB8MHxwaG90by1wYWdlfHx8fGVufDB8fHx8&ixlib=rb-1.2.1&auto=format&fit=crop&w=735&q=80\"),\n",
        "                                               (\"November\", \"https://images.unsplash.com/photo-1445855743215-296f71d4b49c?ixid=MnwxMjA3fDB8MHxwaG90by1wYWdlfHx8fGVufDB8fHx8&ixlib=rb-1.2.1&auto=format&fit=crop&w=2070&q=80\"),\n",
        "                                               (\"December\", \"https://images.unsplash.com/photo-1609226536789-dbc1b85ae9db?ixid=MnwxMjA3fDB8MHxwaG90by1wYWdlfHx8fGVufDB8fHx8&ixlib=rb-1.2.1&auto=format&fit=crop&w=1471&q=80\")]\n",
        "\n",
        "# add months\n",
        "for month, (month_name, image_url) in enumerate(months):\n",
        "\n",
        "  # create new Page\n",
        "  page: Page = Page()\n",
        "  doc.append_page(page)\n",
        "\n",
        "  # set PageLayout\n",
        "  layout: PageLayout = SingleColumnLayout(page)\n",
        "  \n",
        "  # add month name\n",
        "  layout.add(Paragraph(month_name, \n",
        "                       font=TrueTypeFont.true_type_font_from_file(Path(\"IndieFlower-Regular.ttf\")),\n",
        "                       font_size=Decimal(20)))\n",
        "\n",
        "  # add Image\n",
        "  layout.add(Image(image_url, \n",
        "                   width=Decimal(470), \n",
        "                   height=Decimal(300)))\n",
        "\n",
        "  # add Table\n",
        "  layout.add(build_table_for_month(month + 1, 2022))"
      ],
      "execution_count": 17,
      "outputs": []
    },
    {
      "cell_type": "markdown",
      "metadata": {
        "id": "2zDypTjVNcZw"
      },
      "source": [
        "Now let's store our `Document`."
      ]
    },
    {
      "cell_type": "code",
      "metadata": {
        "id": "hf5lf-bjNZpv"
      },
      "source": [
        "# store\n",
        "with open(\"output_001.pdf\", \"wb\") as pdf_file_handle:\n",
        "  PDF.dumps(pdf_file_handle, doc)"
      ],
      "execution_count": 18,
      "outputs": []
    },
    {
      "cell_type": "markdown",
      "metadata": {
        "id": "ejy1lqm7Ngsd"
      },
      "source": [
        "We've used a lot of (large) images; let's see how big our file is. The following code prints the size of our PDF in Mb."
      ]
    },
    {
      "cell_type": "code",
      "metadata": {
        "id": "NyRnwpNaNoAy",
        "outputId": "0a08621c-31c1-495a-b421-a3ec09e41608",
        "colab": {
          "base_uri": "https://localhost:8080/"
        }
      },
      "source": [
        "import os\n",
        "os.path.getsize(\"output_001.pdf\") / 10**6"
      ],
      "execution_count": 19,
      "outputs": [
        {
          "output_type": "execute_result",
          "data": {
            "text/plain": [
              "2.67747"
            ]
          },
          "metadata": {},
          "execution_count": 19
        }
      ]
    },
    {
      "cell_type": "markdown",
      "metadata": {
        "id": "i4IShXVqOR-R"
      },
      "source": [
        "Most of this is because PDF (like HTML) differentiates between the size of the image it uses, and the size at which that image is displayed. So, even though our images are displayed at fairly small resolution, they're probably stored (inside the document) at quite substantial size(s).\n",
        "\n",
        "Luckily, `borb` comes with `ImageFormatOptimization`, which runs over the entire `Document` and checks the maximum display-size of each `Image`. It then changes the resolution of those `Image` instances to match.\n",
        "\n",
        "For our `Document`, you can expect quite a dramatic improvement."
      ]
    },
    {
      "cell_type": "code",
      "metadata": {
        "id": "Eo1BrjCOOSe-"
      },
      "source": [
        "from borb.toolkit.image.image_format_optimization import ImageFormatOptimization\n",
        "\n",
        "doc_002: typing.Optional[Document] = None\n",
        "l: ImageFormatOptimization = ImageFormatOptimization()\n",
        "with open(\"output_001.pdf\", \"rb\") as pdf_file_handle:\n",
        "  doc = PDF.loads(pdf_file_handle, [l])\n",
        "\n",
        "assert doc is not None\n",
        "\n",
        "# store PDF\n",
        "with open(\"output_002.pdf\", \"wb\") as out_file_handle:\n",
        "  PDF.dumps(out_file_handle, doc)"
      ],
      "execution_count": 20,
      "outputs": []
    },
    {
      "cell_type": "markdown",
      "metadata": {
        "id": "j4yFJA-rPSgn"
      },
      "source": [
        "Let's see what that gained us;"
      ]
    },
    {
      "cell_type": "code",
      "metadata": {
        "id": "jtb6Hy1IOypi",
        "outputId": "509aab44-0a72-411f-a126-2345e5372881",
        "colab": {
          "base_uri": "https://localhost:8080/"
        }
      },
      "source": [
        "import os\n",
        "os.path.getsize(\"output_002.pdf\") / 10**6"
      ],
      "execution_count": 21,
      "outputs": [
        {
          "output_type": "execute_result",
          "data": {
            "text/plain": [
              "0.414164"
            ]
          },
          "metadata": {},
          "execution_count": 21
        }
      ]
    }
  ]
}