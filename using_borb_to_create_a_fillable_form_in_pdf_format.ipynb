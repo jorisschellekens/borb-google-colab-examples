{
  "nbformat": 4,
  "nbformat_minor": 0,
  "metadata": {
    "colab": {
      "name": "using_borb_to_create_a_fillable_form_in_pdf_format.ipynb",
      "provenance": [],
      "authorship_tag": "ABX9TyNG3bwi9wfzo1ecvnCpbDlq",
      "include_colab_link": true
    },
    "kernelspec": {
      "name": "python3",
      "display_name": "Python 3"
    },
    "language_info": {
      "name": "python"
    }
  },
  "cells": [
    {
      "cell_type": "markdown",
      "metadata": {
        "id": "view-in-github",
        "colab_type": "text"
      },
      "source": [
        "<a href=\"https://colab.research.google.com/github/jorisschellekens/borb-google-colab-examples/blob/main/using_borb_to_create_a_fillable_form_in_pdf_format.ipynb\" target=\"_parent\"><img src=\"https://colab.research.google.com/assets/colab-badge.svg\" alt=\"Open In Colab\"/></a>"
      ]
    },
    {
      "cell_type": "markdown",
      "metadata": {
        "id": "PsPspufBEI0w"
      },
      "source": [
        "# ![borb logo](https://github.com/jorisschellekens/borb/raw/master/logo/borb_64.png) Using `borb` to create a fillable form in PDF format"
      ]
    },
    {
      "cell_type": "markdown",
      "metadata": {
        "id": "RmHgTRv9EPpf"
      },
      "source": [
        "[`borb`](https://github.com/jorisschellekens/borb) is a library for reading, creating and manipulating PDF files in python. borb was created in 2020 by Joris Schellekens and is still in active development. Check out the [GitHub repository](https://github.com/jorisschellekens/borb), or the [borb website](https://borbpdf.com)."
      ]
    },
    {
      "cell_type": "markdown",
      "metadata": {
        "id": "lkEyNGg7ER98"
      },
      "source": [
        "Let's start by installing `borb`"
      ]
    },
    {
      "cell_type": "code",
      "metadata": {
        "colab": {
          "base_uri": "https://localhost:8080/"
        },
        "id": "pQW_XfVL71O2",
        "outputId": "886f997c-fcef-4d56-b8ce-d83313fb0bc1"
      },
      "source": [
        "pip install borb"
      ],
      "execution_count": 12,
      "outputs": [
        {
          "output_type": "stream",
          "name": "stdout",
          "text": [
            "Looking in indexes: https://pypi.org/simple, https://us-python.pkg.dev/colab-wheels/public/simple/\n",
            "Requirement already satisfied: borb in /usr/local/lib/python3.7/dist-packages (2.0.29)\n",
            "Requirement already satisfied: Pillow>=7.1.0 in /usr/local/lib/python3.7/dist-packages (from borb) (7.1.2)\n",
            "Requirement already satisfied: setuptools>=51.1.1 in /usr/local/lib/python3.7/dist-packages (from borb) (57.4.0)\n",
            "Requirement already satisfied: qrcode[pil]>=6.1 in /usr/local/lib/python3.7/dist-packages (from borb) (7.3.1)\n",
            "Requirement already satisfied: requests>=2.24.0 in /usr/local/lib/python3.7/dist-packages (from borb) (2.28.1)\n",
            "Requirement already satisfied: fonttools>=4.22.1 in /usr/local/lib/python3.7/dist-packages (from borb) (4.33.3)\n",
            "Requirement already satisfied: python-barcode>=0.13.1 in /usr/local/lib/python3.7/dist-packages (from borb) (0.14.0)\n",
            "Requirement already satisfied: urllib3<1.27,>=1.21.1 in /usr/local/lib/python3.7/dist-packages (from requests>=2.24.0->borb) (1.24.3)\n",
            "Requirement already satisfied: charset-normalizer<3,>=2 in /usr/local/lib/python3.7/dist-packages (from requests>=2.24.0->borb) (2.0.12)\n",
            "Requirement already satisfied: idna<4,>=2.5 in /usr/local/lib/python3.7/dist-packages (from requests>=2.24.0->borb) (2.10)\n",
            "Requirement already satisfied: certifi>=2017.4.17 in /usr/local/lib/python3.7/dist-packages (from requests>=2.24.0->borb) (2022.6.15)\n"
          ]
        }
      ]
    },
    {
      "cell_type": "markdown",
      "metadata": {
        "id": "Jzkbhx4Q7_H8"
      },
      "source": [
        "Now that `borb` is installed, we can perform the basic imports;"
      ]
    },
    {
      "cell_type": "code",
      "metadata": {
        "id": "dvU1TyFO8D80"
      },
      "source": [
        "from borb.pdf.document.document import Document\n",
        "from borb.pdf.page.page import Page\n",
        "from borb.pdf.pdf import PDF\n",
        "from borb.pdf.canvas.layout.page_layout.multi_column_layout import SingleColumnLayout\n",
        "from borb.pdf.canvas.layout.page_layout.page_layout import PageLayout"
      ],
      "execution_count": 13,
      "outputs": []
    },
    {
      "cell_type": "markdown",
      "metadata": {
        "id": "ddR-pNTf8Ef_"
      },
      "source": [
        "The following code represents the basic steps on creating a PDF document using `borb`:\n",
        "\n",
        "- Creating an empty `Document`\n",
        "- Creating an empty `Page`\n",
        "- Appending the `Page` to the `Document`\n",
        "- Creating a `PageLayout` that is responsible for handling the flow of content (here we'll use `SingleColumnLayout`)\n",
        "- Adding content to the `PageLayout`\n",
        "- Persisting the `Document` to disk"
      ]
    },
    {
      "cell_type": "code",
      "metadata": {
        "id": "5vdClbog8t7H"
      },
      "source": [
        "# create empty Document\n",
        "pdf = Document()\n",
        "\n",
        "# create empty Page\n",
        "page = Page()\n",
        "\n",
        "# add Page to Document\n",
        "pdf.add_page(page)\n",
        "\n",
        "# create PageLayout\n",
        "layout: PageLayout = SingleColumnLayout(page)"
      ],
      "execution_count": 14,
      "outputs": []
    },
    {
      "cell_type": "markdown",
      "metadata": {
        "id": "GNsgiTnP84Dx"
      },
      "source": [
        "The next part is actually adding the content of the form.\n",
        "For this example we're going to create a form with some basic user-information questions.\n",
        "\n",
        "- Name\n",
        "- Surname\n",
        "- Gender\n",
        "- Place of residence\n",
        "- Nationality\n",
        "\n",
        "To ensure everything is laid out just right, we're going to add this content to a `Table`. The left column will contain the field name (e.g. \"name\", \"surname\"), the right column will contain the fields to be filled in."
      ]
    },
    {
      "cell_type": "code",
      "metadata": {
        "colab": {
          "base_uri": "https://localhost:8080/"
        },
        "id": "KcDoRrJq9Y6e",
        "outputId": "a61028b9-9a71-40e9-96b6-e6e36a565128"
      },
      "source": [
        "# new import(s)\n",
        "from borb.pdf.canvas.layout.table.fixed_column_width_table import FixedColumnWidthTable\n",
        "from borb.pdf.canvas.layout.text.paragraph import Paragraph\n",
        "from borb.pdf.canvas.layout.forms.text_field import TextField\n",
        "from borb.pdf.canvas.color.color import HexColor\n",
        "from decimal import Decimal\n",
        "from borb.pdf.canvas.layout.layout_element import Alignment\n",
        "from borb.pdf.canvas.layout.forms.drop_down_list import DropDownList\n",
        "\n",
        "# Let's start by adding a heading\n",
        "layout.add(Paragraph(\"Patient Information:\", font=\"Helvetica-Bold\"))\n",
        "\n",
        "# Use a table to lay out the form\n",
        "table: FixedColumnWidthTable = FixedColumnWidthTable(number_of_rows=5, number_of_columns=2)\n",
        "\n",
        "# Name\n",
        "table.add(Paragraph(\"Name : \", horizontal_alignment=Alignment.RIGHT, font_color=HexColor(\"56cbf9\")))\n",
        "table.add(TextField(value=\"Doe\", font_color=HexColor(\"56cbf9\"), font_size=Decimal(20)))\n",
        "\n",
        "# Surname\n",
        "table.add(Paragraph(\"Surname : \", horizontal_alignment=Alignment.RIGHT, font_color=HexColor(\"56cbf9\")))\n",
        "table.add(TextField(value=\"John\", font_color=HexColor(\"56cbf9\"), font_size=Decimal(20)))"
      ],
      "execution_count": 15,
      "outputs": [
        {
          "output_type": "execute_result",
          "data": {
            "text/plain": [
              "<borb.pdf.canvas.layout.table.fixed_column_width_table.FixedColumnWidthTable at 0x7f5d23fdb290>"
            ]
          },
          "metadata": {},
          "execution_count": 15
        }
      ]
    },
    {
      "cell_type": "markdown",
      "metadata": {
        "id": "Ut69pYTJCxrZ"
      },
      "source": [
        "We're going to model gender as a dropdown list, from which the reader can choose one of four options:\n",
        "\n",
        "- Female\n",
        "- Male\n",
        "- Other\n",
        "- Prefer not to disclose\n",
        "\n",
        "Let's see how that translates to `borb`"
      ]
    },
    {
      "cell_type": "code",
      "metadata": {
        "colab": {
          "base_uri": "https://localhost:8080/"
        },
        "id": "vk8ZOWYvCyLD",
        "outputId": "74331e4c-457e-4003-87b5-416c8ebaabb0"
      },
      "source": [
        "# Gender\n",
        "table.add(Paragraph(\"Gender : \", horizontal_alignment=Alignment.RIGHT))\n",
        "table.add(DropDownList(\n",
        "    possible_values=[\n",
        "                    \"Female\",\n",
        "                    \"Male\",\n",
        "                    \"Other\",\n",
        "                    \"Prefer not to disclose\",\n",
        "                    ]\n",
        "))"
      ],
      "execution_count": 16,
      "outputs": [
        {
          "output_type": "execute_result",
          "data": {
            "text/plain": [
              "<borb.pdf.canvas.layout.table.fixed_column_width_table.FixedColumnWidthTable at 0x7f5d23fdb290>"
            ]
          },
          "metadata": {},
          "execution_count": 16
        }
      ]
    },
    {
      "cell_type": "markdown",
      "metadata": {
        "id": "sxM_fiwFDVPn"
      },
      "source": [
        "We could do a similar thing for country of residence and nationality, but it would involve having to find a list of all countries in the world and manually creating the array to pass to the constructor of `DropDownList`.\n",
        "\n",
        "Because this particular field (a list of all countries) is such a common requirement, `borb` comes pre-loaded with the class `CountryDropDownList`.\n",
        "\n",
        "Let's see it in action;\n"
      ]
    },
    {
      "cell_type": "code",
      "metadata": {
        "colab": {
          "base_uri": "https://localhost:8080/"
        },
        "id": "Z4a8sDpmDrwm",
        "outputId": "7dc86cde-4ccc-4372-81cf-3d22ca6af992"
      },
      "source": [
        "# new import(s)\n",
        "from borb.pdf.canvas.layout.forms.country_drop_down_list import CountryDropDownList\n",
        "\n",
        "# Country of Residence\n",
        "table.add(Paragraph(\"Country of Residence : \", horizontal_alignment=Alignment.RIGHT))\n",
        "table.add(CountryDropDownList(value=\"Belgium\"))\n",
        "\n",
        "# Nationality\n",
        "table.add(Paragraph(\"Nationality : \", horizontal_alignment=Alignment.RIGHT))\n",
        "table.add(CountryDropDownList(value=\"Belgium\"))"
      ],
      "execution_count": 17,
      "outputs": [
        {
          "output_type": "execute_result",
          "data": {
            "text/plain": [
              "<borb.pdf.canvas.layout.table.fixed_column_width_table.FixedColumnWidthTable at 0x7f5d23fdb290>"
            ]
          },
          "metadata": {},
          "execution_count": 17
        }
      ]
    },
    {
      "cell_type": "markdown",
      "metadata": {
        "id": "NdPv8I1jDAUH"
      },
      "source": [
        "Now we can finally add the `Table` to our `PageLayout`"
      ]
    },
    {
      "cell_type": "code",
      "metadata": {
        "colab": {
          "base_uri": "https://localhost:8080/"
        },
        "id": "FIgUWdKcDAvi",
        "outputId": "6b76bd1c-00b5-404f-ceb9-86c4d915f3b9"
      },
      "source": [
        "# set some properties on the table to make the layout prettier\n",
        "table.set_padding_on_all_cells(Decimal(5), Decimal(5), Decimal(5), Decimal(5))\n",
        "table.no_borders()\n",
        "\n",
        "# adding Table to PageLayout\n",
        "layout.add(table)"
      ],
      "execution_count": 18,
      "outputs": [
        {
          "output_type": "execute_result",
          "data": {
            "text/plain": [
              "<borb.pdf.canvas.layout.page_layout.multi_column_layout.SingleColumnLayout at 0x7f5d23e7e790>"
            ]
          },
          "metadata": {},
          "execution_count": 18
        }
      ]
    },
    {
      "cell_type": "markdown",
      "metadata": {
        "id": "pNtHBCpBE-Go"
      },
      "source": [
        "Now let's add a (nonsense) data protection policy"
      ]
    },
    {
      "cell_type": "code",
      "metadata": {
        "colab": {
          "base_uri": "https://localhost:8080/"
        },
        "id": "kjwvcHmpFDuP",
        "outputId": "b8acd348-dfe9-4296-a2e3-13cdb5120197"
      },
      "source": [
        "# data protection policy\n",
        "layout.add(Paragraph(\"Data Protection Policy\", \n",
        "                     font=\"Helvetica-Bold\"))\n",
        "\n",
        "# dummy text\n",
        "layout.add(Paragraph(\n",
        "    \"\"\"\n",
        "    ** Lorem ipsum dolor sit amet, consectetur adipiscing elit, sed do eiusmod tempor incididunt ut labore et dolore magna aliqua. \n",
        "    Ut enim ad minim veniam, quis nostrud exercitation ullamco laboris nisi ut aliquip ex ea commodo consequat. \n",
        "    Duis aute irure dolor in reprehenderit in voluptate velit esse cillum dolore eu fugiat nulla pariatur. \n",
        "    Excepteur sint occaecat cupidatat non proident, sunt in culpa qui officia deserunt mollit anim id est laborum.\n",
        "    \"\"\",\n",
        "    font=\"Helvetica-Oblique\"\n",
        "))"
      ],
      "execution_count": 19,
      "outputs": [
        {
          "output_type": "execute_result",
          "data": {
            "text/plain": [
              "<borb.pdf.canvas.layout.page_layout.multi_column_layout.SingleColumnLayout at 0x7f5d23e7e790>"
            ]
          },
          "metadata": {},
          "execution_count": 19
        }
      ]
    },
    {
      "cell_type": "markdown",
      "metadata": {
        "id": "wGjMCvV5GKm5"
      },
      "source": [
        "Let's wrap things up by adding a footer. For now, we'll just add a rectangle filled in the accent color, at the bottom of the page. Nothing too fancy."
      ]
    },
    {
      "cell_type": "code",
      "metadata": {
        "colab": {
          "base_uri": "https://localhost:8080/"
        },
        "id": "MNRaf_c_GNFw",
        "outputId": "2a811d48-4ecb-446a-b7be-4c44a2eb48c5"
      },
      "source": [
        "# new import(s)\n",
        "import typing\n",
        "from borb.pdf.canvas.geometry.rectangle import Rectangle\n",
        "from borb.pdf.page.page_size import PageSize\n",
        "from borb.pdf.canvas.line_art.line_art_factory import LineArtFactory\n",
        "from borb.pdf.canvas.layout.shape.shape import Shape\n",
        "\n",
        "ps: typing.Tuple[Decimal, Decimal] = PageSize.A4_PORTRAIT.value\n",
        "r: Rectangle = Rectangle(Decimal(0), Decimal(32), ps[0], Decimal(8))\n",
        "Shape(points=LineArtFactory.rectangle(r), stroke_color=HexColor(\"56cbf9\"), fill_color=HexColor(\"56cbf9\")).layout(page, r)"
      ],
      "execution_count": 20,
      "outputs": [
        {
          "output_type": "execute_result",
          "data": {
            "text/plain": [
              "<borb.pdf.canvas.geometry.rectangle.Rectangle at 0x7f5d231ea150>"
            ]
          },
          "metadata": {},
          "execution_count": 20
        }
      ]
    },
    {
      "cell_type": "markdown",
      "metadata": {
        "id": "u5ofgZjnDNLJ"
      },
      "source": [
        "Lastly, we can store the `Document` we created using the `PDF` class."
      ]
    },
    {
      "cell_type": "code",
      "metadata": {
        "id": "c7puWVg9-l5M"
      },
      "source": [
        "# new import(s)\n",
        "from borb.pdf.pdf import PDF\n",
        "\n",
        "# store\n",
        "with open(\"output.pdf\", \"wb\") as out_file_handle:\n",
        "    PDF.dumps(out_file_handle, pdf)"
      ],
      "execution_count": 21,
      "outputs": []
    }
  ]
}