{
  "nbformat": 4,
  "nbformat_minor": 0,
  "metadata": {
    "colab": {
      "name": "using_borb_to_create_a_fillable_form_in_pdf_format.ipynb",
      "provenance": [],
      "authorship_tag": "ABX9TyPyggr3m/NkUDLpNALuP+lm",
      "include_colab_link": true
    },
    "kernelspec": {
      "name": "python3",
      "display_name": "Python 3"
    },
    "language_info": {
      "name": "python"
    }
  },
  "cells": [
    {
      "cell_type": "markdown",
      "metadata": {
        "id": "view-in-github",
        "colab_type": "text"
      },
      "source": [
        "<a href=\"https://colab.research.google.com/github/jorisschellekens/borb-google-colab-examples/blob/main/using_borb_to_create_a_fillable_form_in_pdf_format.ipynb\" target=\"_parent\"><img src=\"https://colab.research.google.com/assets/colab-badge.svg\" alt=\"Open In Colab\"/></a>"
      ]
    },
    {
      "cell_type": "markdown",
      "metadata": {
        "id": "PsPspufBEI0w"
      },
      "source": [
        "# ![borb logo](https://github.com/jorisschellekens/borb/raw/master/logo/borb_64.png) Using `borb` to create a fillable form in PDF format"
      ]
    },
    {
      "cell_type": "markdown",
      "metadata": {
        "id": "RmHgTRv9EPpf"
      },
      "source": [
        "[`borb`](https://github.com/jorisschellekens/borb) is a library for reading, creating and manipulating PDF files in python. borb was created in 2020 by Joris Schellekens and is still in active development. Check out the [GitHub repository](https://github.com/jorisschellekens/borb), or the [borb website](https://borbpdf.com)."
      ]
    },
    {
      "cell_type": "markdown",
      "metadata": {
        "id": "lkEyNGg7ER98"
      },
      "source": [
        "Let's start by installing `borb`"
      ]
    },
    {
      "cell_type": "code",
      "metadata": {
        "colab": {
          "base_uri": "https://localhost:8080/"
        },
        "id": "pQW_XfVL71O2",
        "outputId": "99ca5190-d98b-48bf-b7cd-16424c9acee4"
      },
      "source": [
        "pip install borb"
      ],
      "execution_count": 1,
      "outputs": [
        {
          "output_type": "stream",
          "name": "stdout",
          "text": [
            "Looking in indexes: https://pypi.org/simple, https://us-python.pkg.dev/colab-wheels/public/simple/\n",
            "Collecting borb\n",
            "  Downloading borb-2.1.0-py3-none-any.whl (6.2 MB)\n",
            "\u001b[K     |████████████████████████████████| 6.2 MB 4.2 MB/s \n",
            "\u001b[?25hRequirement already satisfied: Pillow>=7.1.0 in /usr/local/lib/python3.7/dist-packages (from borb) (7.1.2)\n",
            "Collecting python-barcode>=0.13.1\n",
            "  Downloading python_barcode-0.14.0-py3-none-any.whl (212 kB)\n",
            "\u001b[K     |████████████████████████████████| 212 kB 52.0 MB/s \n",
            "\u001b[?25hCollecting fonttools>=4.22.1\n",
            "  Downloading fonttools-4.37.1-py3-none-any.whl (957 kB)\n",
            "\u001b[K     |████████████████████████████████| 957 kB 54.2 MB/s \n",
            "\u001b[?25hRequirement already satisfied: setuptools>=51.1.1 in /usr/local/lib/python3.7/dist-packages (from borb) (57.4.0)\n",
            "Collecting qrcode[pil]>=6.1\n",
            "  Downloading qrcode-7.3.1.tar.gz (43 kB)\n",
            "\u001b[K     |████████████████████████████████| 43 kB 2.1 MB/s \n",
            "\u001b[?25hCollecting requests>=2.24.0\n",
            "  Downloading requests-2.28.1-py3-none-any.whl (62 kB)\n",
            "\u001b[K     |████████████████████████████████| 62 kB 1.4 MB/s \n",
            "\u001b[?25hRequirement already satisfied: urllib3<1.27,>=1.21.1 in /usr/local/lib/python3.7/dist-packages (from requests>=2.24.0->borb) (1.24.3)\n",
            "Requirement already satisfied: idna<4,>=2.5 in /usr/local/lib/python3.7/dist-packages (from requests>=2.24.0->borb) (2.10)\n",
            "Requirement already satisfied: charset-normalizer<3,>=2 in /usr/local/lib/python3.7/dist-packages (from requests>=2.24.0->borb) (2.1.1)\n",
            "Requirement already satisfied: certifi>=2017.4.17 in /usr/local/lib/python3.7/dist-packages (from requests>=2.24.0->borb) (2022.6.15)\n",
            "Building wheels for collected packages: qrcode\n",
            "  Building wheel for qrcode (setup.py) ... \u001b[?25l\u001b[?25hdone\n",
            "  Created wheel for qrcode: filename=qrcode-7.3.1-py3-none-any.whl size=40402 sha256=ed9ca349737515cde528bf2bb7d033bfa717cb18d393564d64423684da79b7fa\n",
            "  Stored in directory: /root/.cache/pip/wheels/93/d7/39/a4111be2cfb8e679938aa671a37888b6afb1f9e7d748e94492\n",
            "Successfully built qrcode\n",
            "Installing collected packages: qrcode, requests, python-barcode, fonttools, borb\n",
            "  Attempting uninstall: requests\n",
            "    Found existing installation: requests 2.23.0\n",
            "    Uninstalling requests-2.23.0:\n",
            "      Successfully uninstalled requests-2.23.0\n",
            "Successfully installed borb-2.1.0 fonttools-4.37.1 python-barcode-0.14.0 qrcode-7.3.1 requests-2.28.1\n"
          ]
        }
      ]
    },
    {
      "cell_type": "markdown",
      "metadata": {
        "id": "Jzkbhx4Q7_H8"
      },
      "source": [
        "Now that `borb` is installed, we can perform the basic imports;"
      ]
    },
    {
      "cell_type": "code",
      "metadata": {
        "id": "dvU1TyFO8D80"
      },
      "source": [
        "from borb.pdf.document.document import Document\n",
        "from borb.pdf.page.page import Page\n",
        "from borb.pdf.pdf import PDF\n",
        "from borb.pdf.canvas.layout.page_layout.multi_column_layout import SingleColumnLayout\n",
        "from borb.pdf.canvas.layout.page_layout.page_layout import PageLayout"
      ],
      "execution_count": 2,
      "outputs": []
    },
    {
      "cell_type": "markdown",
      "metadata": {
        "id": "ddR-pNTf8Ef_"
      },
      "source": [
        "The following code represents the basic steps on creating a PDF document using `borb`:\n",
        "\n",
        "- Creating an empty `Document`\n",
        "- Creating an empty `Page`\n",
        "- Appending the `Page` to the `Document`\n",
        "- Creating a `PageLayout` that is responsible for handling the flow of content (here we'll use `SingleColumnLayout`)\n",
        "- Adding content to the `PageLayout`\n",
        "- Persisting the `Document` to disk"
      ]
    },
    {
      "cell_type": "code",
      "metadata": {
        "id": "5vdClbog8t7H"
      },
      "source": [
        "# create empty Document\n",
        "pdf = Document()\n",
        "\n",
        "# create empty Page\n",
        "page = Page()\n",
        "\n",
        "# add Page to Document\n",
        "pdf.add_page(page)\n",
        "\n",
        "# create PageLayout\n",
        "layout: PageLayout = SingleColumnLayout(page)"
      ],
      "execution_count": 3,
      "outputs": []
    },
    {
      "cell_type": "markdown",
      "metadata": {
        "id": "GNsgiTnP84Dx"
      },
      "source": [
        "The next part is actually adding the content of the form.\n",
        "For this example we're going to create a form with some basic user-information questions.\n",
        "\n",
        "- Name\n",
        "- Surname\n",
        "- Gender\n",
        "- Place of residence\n",
        "- Nationality\n",
        "\n",
        "To ensure everything is laid out just right, we're going to add this content to a `Table`. The left column will contain the field name (e.g. \"name\", \"surname\"), the right column will contain the fields to be filled in."
      ]
    },
    {
      "cell_type": "code",
      "metadata": {
        "colab": {
          "base_uri": "https://localhost:8080/"
        },
        "id": "KcDoRrJq9Y6e",
        "outputId": "3fd73d53-2eef-4334-dc26-9ac0b0802b1a"
      },
      "source": [
        "# new import(s)\n",
        "from borb.pdf.canvas.layout.table.fixed_column_width_table import FixedColumnWidthTable\n",
        "from borb.pdf.canvas.layout.text.paragraph import Paragraph\n",
        "from borb.pdf.canvas.layout.forms.text_field import TextField\n",
        "from borb.pdf.canvas.color.color import HexColor\n",
        "from decimal import Decimal\n",
        "from borb.pdf.canvas.layout.layout_element import Alignment\n",
        "from borb.pdf.canvas.layout.forms.drop_down_list import DropDownList\n",
        "\n",
        "# Let's start by adding a heading\n",
        "layout.add(Paragraph(\"Patient Information:\", font=\"Helvetica-Bold\"))\n",
        "\n",
        "# Use a table to lay out the form\n",
        "table: FixedColumnWidthTable = FixedColumnWidthTable(number_of_rows=5, number_of_columns=2)\n",
        "\n",
        "# Name\n",
        "table.add(Paragraph(\"Name : \", horizontal_alignment=Alignment.RIGHT, font_color=HexColor(\"56cbf9\")))\n",
        "table.add(TextField(value=\"Doe\", font_color=HexColor(\"56cbf9\"), font_size=Decimal(20)))\n",
        "\n",
        "# Surname\n",
        "table.add(Paragraph(\"Surname : \", horizontal_alignment=Alignment.RIGHT, font_color=HexColor(\"56cbf9\")))\n",
        "table.add(TextField(value=\"John\", font_color=HexColor(\"56cbf9\"), font_size=Decimal(20)))"
      ],
      "execution_count": 4,
      "outputs": [
        {
          "output_type": "execute_result",
          "data": {
            "text/plain": [
              "<borb.pdf.canvas.layout.table.fixed_column_width_table.FixedColumnWidthTable at 0x7f0ebd231bd0>"
            ]
          },
          "metadata": {},
          "execution_count": 4
        }
      ]
    },
    {
      "cell_type": "markdown",
      "metadata": {
        "id": "Ut69pYTJCxrZ"
      },
      "source": [
        "We're going to model gender as a dropdown list, from which the reader can choose one of four options:\n",
        "\n",
        "- Female\n",
        "- Male\n",
        "- Other\n",
        "- Prefer not to disclose\n",
        "\n",
        "Let's see how that translates to `borb`"
      ]
    },
    {
      "cell_type": "code",
      "metadata": {
        "colab": {
          "base_uri": "https://localhost:8080/"
        },
        "id": "vk8ZOWYvCyLD",
        "outputId": "c0a4c3d5-59a8-4f9a-dc11-23337bee405e"
      },
      "source": [
        "# Gender\n",
        "table.add(Paragraph(\"Gender : \", horizontal_alignment=Alignment.RIGHT))\n",
        "table.add(DropDownList(\n",
        "    possible_values=[\n",
        "                    \"Female\",\n",
        "                    \"Male\",\n",
        "                    \"Other\",\n",
        "                    \"Prefer not to disclose\",\n",
        "                    ]\n",
        "))"
      ],
      "execution_count": 5,
      "outputs": [
        {
          "output_type": "execute_result",
          "data": {
            "text/plain": [
              "<borb.pdf.canvas.layout.table.fixed_column_width_table.FixedColumnWidthTable at 0x7f0ebd231bd0>"
            ]
          },
          "metadata": {},
          "execution_count": 5
        }
      ]
    },
    {
      "cell_type": "markdown",
      "metadata": {
        "id": "sxM_fiwFDVPn"
      },
      "source": [
        "We could do a similar thing for country of residence and nationality, but it would involve having to find a list of all countries in the world and manually creating the array to pass to the constructor of `DropDownList`.\n",
        "\n",
        "Because this particular field (a list of all countries) is such a common requirement, `borb` comes pre-loaded with the class `CountryDropDownList`.\n",
        "\n",
        "Let's see it in action;\n"
      ]
    },
    {
      "cell_type": "code",
      "metadata": {
        "colab": {
          "base_uri": "https://localhost:8080/"
        },
        "id": "Z4a8sDpmDrwm",
        "outputId": "6c6a01e8-599c-41e6-fe4a-fa2778a4a944"
      },
      "source": [
        "# new import(s)\n",
        "from borb.pdf.canvas.layout.forms.country_drop_down_list import CountryDropDownList\n",
        "\n",
        "# Country of Residence\n",
        "table.add(Paragraph(\"Country of Residence : \", horizontal_alignment=Alignment.RIGHT))\n",
        "table.add(CountryDropDownList(value=\"Belgium\"))\n",
        "\n",
        "# Nationality\n",
        "table.add(Paragraph(\"Nationality : \", horizontal_alignment=Alignment.RIGHT))\n",
        "table.add(CountryDropDownList(value=\"Belgium\"))"
      ],
      "execution_count": 6,
      "outputs": [
        {
          "output_type": "execute_result",
          "data": {
            "text/plain": [
              "<borb.pdf.canvas.layout.table.fixed_column_width_table.FixedColumnWidthTable at 0x7f0ebd231bd0>"
            ]
          },
          "metadata": {},
          "execution_count": 6
        }
      ]
    },
    {
      "cell_type": "markdown",
      "metadata": {
        "id": "NdPv8I1jDAUH"
      },
      "source": [
        "Now we can finally add the `Table` to our `PageLayout`"
      ]
    },
    {
      "cell_type": "code",
      "metadata": {
        "colab": {
          "base_uri": "https://localhost:8080/"
        },
        "id": "FIgUWdKcDAvi",
        "outputId": "ad1c8071-7aef-4842-bd7b-839d0ec82644"
      },
      "source": [
        "# set some properties on the table to make the layout prettier\n",
        "table.set_padding_on_all_cells(Decimal(5), Decimal(5), Decimal(5), Decimal(5))\n",
        "table.no_borders()\n",
        "\n",
        "# adding Table to PageLayout\n",
        "layout.add(table)"
      ],
      "execution_count": 7,
      "outputs": [
        {
          "output_type": "execute_result",
          "data": {
            "text/plain": [
              "<borb.pdf.canvas.layout.page_layout.multi_column_layout.SingleColumnLayout at 0x7f0ebd278f10>"
            ]
          },
          "metadata": {},
          "execution_count": 7
        }
      ]
    },
    {
      "cell_type": "markdown",
      "metadata": {
        "id": "pNtHBCpBE-Go"
      },
      "source": [
        "Now let's add a (nonsense) data protection policy"
      ]
    },
    {
      "cell_type": "code",
      "metadata": {
        "colab": {
          "base_uri": "https://localhost:8080/"
        },
        "id": "kjwvcHmpFDuP",
        "outputId": "ea55f39f-d688-4f52-ae04-4a3d41f97c4f"
      },
      "source": [
        "# data protection policy\n",
        "layout.add(Paragraph(\"Data Protection Policy\", \n",
        "                     font=\"Helvetica-Bold\"))\n",
        "\n",
        "# dummy text\n",
        "layout.add(Paragraph(\n",
        "    \"\"\"\n",
        "    ** Lorem ipsum dolor sit amet, consectetur adipiscing elit, sed do eiusmod tempor incididunt ut labore et dolore magna aliqua. \n",
        "    Ut enim ad minim veniam, quis nostrud exercitation ullamco laboris nisi ut aliquip ex ea commodo consequat. \n",
        "    Duis aute irure dolor in reprehenderit in voluptate velit esse cillum dolore eu fugiat nulla pariatur. \n",
        "    Excepteur sint occaecat cupidatat non proident, sunt in culpa qui officia deserunt mollit anim id est laborum.\n",
        "    \"\"\",\n",
        "    font=\"Helvetica-Oblique\"\n",
        "))"
      ],
      "execution_count": 8,
      "outputs": [
        {
          "output_type": "execute_result",
          "data": {
            "text/plain": [
              "<borb.pdf.canvas.layout.page_layout.multi_column_layout.SingleColumnLayout at 0x7f0ebd278f10>"
            ]
          },
          "metadata": {},
          "execution_count": 8
        }
      ]
    },
    {
      "cell_type": "markdown",
      "metadata": {
        "id": "wGjMCvV5GKm5"
      },
      "source": [
        "Let's wrap things up by adding a footer. For now, we'll just add a rectangle filled in the accent color, at the bottom of the page. Nothing too fancy."
      ]
    },
    {
      "cell_type": "code",
      "metadata": {
        "id": "MNRaf_c_GNFw"
      },
      "source": [
        "# new import(s)\n",
        "import typing\n",
        "from borb.pdf.canvas.geometry.rectangle import Rectangle\n",
        "from borb.pdf.page.page_size import PageSize\n",
        "from borb.pdf.canvas.line_art.line_art_factory import LineArtFactory\n",
        "from borb.pdf.canvas.layout.shape.connected_shape import ConnectedShape\n",
        "\n",
        "ps: typing.Tuple[Decimal, Decimal] = PageSize.A4_PORTRAIT.value\n",
        "r: Rectangle = Rectangle(Decimal(0), Decimal(32), ps[0], Decimal(8))\n",
        "ConnectedShape(points=LineArtFactory.rectangle(r), stroke_color=HexColor(\"56cbf9\"), fill_color=HexColor(\"56cbf9\")).paint(page, r)"
      ],
      "execution_count": 10,
      "outputs": []
    },
    {
      "cell_type": "markdown",
      "metadata": {
        "id": "u5ofgZjnDNLJ"
      },
      "source": [
        "Lastly, we can store the `Document` we created using the `PDF` class."
      ]
    },
    {
      "cell_type": "code",
      "metadata": {
        "id": "c7puWVg9-l5M"
      },
      "source": [
        "# new import(s)\n",
        "from borb.pdf.pdf import PDF\n",
        "\n",
        "# store\n",
        "with open(\"output.pdf\", \"wb\") as out_file_handle:\n",
        "    PDF.dumps(out_file_handle, pdf)"
      ],
      "execution_count": 11,
      "outputs": []
    }
  ]
}