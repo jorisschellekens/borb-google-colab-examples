{
  "nbformat": 4,
  "nbformat_minor": 0,
  "metadata": {
    "colab": {
      "name": "borb_colab_example_001.ipynb",
      "provenance": [],
      "collapsed_sections": [],
      "include_colab_link": true
    },
    "kernelspec": {
      "name": "python3",
      "display_name": "Python 3"
    },
    "language_info": {
      "name": "python"
    }
  },
  "cells": [
    {
      "cell_type": "markdown",
      "metadata": {
        "id": "view-in-github",
        "colab_type": "text"
      },
      "source": [
        "<a href=\"https://colab.research.google.com/github/jorisschellekens/borb-google-colab-examples/blob/main/using_borb_to_create_a_hello_world_pdf.ipynb\" target=\"_parent\"><img src=\"https://colab.research.google.com/assets/colab-badge.svg\" alt=\"Open In Colab\"/></a>"
      ]
    },
    {
      "cell_type": "markdown",
      "metadata": {
        "id": "69pFrdjXwffy"
      },
      "source": [
        "# ![borb logo](https://github.com/jorisschellekens/borb/raw/master/logo/borb_64.png) Using `borb` to create a \"Hello World!\" PDF"
      ]
    },
    {
      "cell_type": "markdown",
      "metadata": {
        "id": "QzPdWssCpvjm"
      },
      "source": [
        "[`borb`](https://github.com/jorisschellekens/borb) is a library for reading, creating and manipulating PDF files in python. borb was created in 2020 by Joris Schellekens and is still in active development. Check out the [GitHub repository](https://github.com/jorisschellekens/borb), or the [borb website](https://borbpdf.com)."
      ]
    },
    {
      "cell_type": "markdown",
      "metadata": {
        "id": "ok7w4E5cs-90"
      },
      "source": [
        "Let's start by installing `borb`"
      ]
    },
    {
      "cell_type": "code",
      "metadata": {
        "colab": {
          "base_uri": "https://localhost:8080/"
        },
        "id": "hCsIoviIrivr",
        "outputId": "82d7defd-f7aa-4d48-cd80-b83955805847"
      },
      "source": [
        "pip install borb"
      ],
      "execution_count": 1,
      "outputs": [
        {
          "output_type": "stream",
          "name": "stdout",
          "text": [
            "Collecting borb\n",
            "  Downloading borb-2.0.19-py3-none-any.whl (6.5 MB)\n",
            "\u001b[K     |████████████████████████████████| 6.5 MB 2.8 MB/s \n",
            "\u001b[?25hCollecting python-barcode>=0.13.1\n",
            "  Downloading python_barcode-0.13.1-py3-none-any.whl (217 kB)\n",
            "\u001b[K     |████████████████████████████████| 217 kB 49.8 MB/s \n",
            "\u001b[?25hCollecting qrcode[pil]>=6.1\n",
            "  Downloading qrcode-7.3.1.tar.gz (43 kB)\n",
            "\u001b[K     |████████████████████████████████| 43 kB 1.7 MB/s \n",
            "\u001b[?25hRequirement already satisfied: setuptools>=51.1.1 in /usr/local/lib/python3.7/dist-packages (from borb) (57.4.0)\n",
            "Collecting requests>=2.24.0\n",
            "  Downloading requests-2.27.1-py2.py3-none-any.whl (63 kB)\n",
            "\u001b[K     |████████████████████████████████| 63 kB 1.6 MB/s \n",
            "\u001b[?25hRequirement already satisfied: Pillow>=7.1.0 in /usr/local/lib/python3.7/dist-packages (from borb) (7.1.2)\n",
            "Collecting fonttools>=4.22.1\n",
            "  Downloading fonttools-4.29.1-py3-none-any.whl (895 kB)\n",
            "\u001b[K     |████████████████████████████████| 895 kB 34.4 MB/s \n",
            "\u001b[?25hRequirement already satisfied: urllib3<1.27,>=1.21.1 in /usr/local/lib/python3.7/dist-packages (from requests>=2.24.0->borb) (1.24.3)\n",
            "Requirement already satisfied: certifi>=2017.4.17 in /usr/local/lib/python3.7/dist-packages (from requests>=2.24.0->borb) (2021.10.8)\n",
            "Requirement already satisfied: charset-normalizer~=2.0.0 in /usr/local/lib/python3.7/dist-packages (from requests>=2.24.0->borb) (2.0.11)\n",
            "Requirement already satisfied: idna<4,>=2.5 in /usr/local/lib/python3.7/dist-packages (from requests>=2.24.0->borb) (2.10)\n",
            "Building wheels for collected packages: qrcode\n",
            "  Building wheel for qrcode (setup.py) ... \u001b[?25l\u001b[?25hdone\n",
            "  Created wheel for qrcode: filename=qrcode-7.3.1-py3-none-any.whl size=40402 sha256=9139952af43ff2e63f79425d0a544870ee47ad6bc952c6e746f8c7954ed7ec28\n",
            "  Stored in directory: /root/.cache/pip/wheels/93/d7/39/a4111be2cfb8e679938aa671a37888b6afb1f9e7d748e94492\n",
            "Successfully built qrcode\n",
            "Installing collected packages: qrcode, requests, python-barcode, fonttools, borb\n",
            "  Attempting uninstall: requests\n",
            "    Found existing installation: requests 2.23.0\n",
            "    Uninstalling requests-2.23.0:\n",
            "      Successfully uninstalled requests-2.23.0\n",
            "\u001b[31mERROR: pip's dependency resolver does not currently take into account all the packages that are installed. This behaviour is the source of the following dependency conflicts.\n",
            "google-colab 1.0.0 requires requests~=2.23.0, but you have requests 2.27.1 which is incompatible.\n",
            "datascience 0.10.6 requires folium==0.2.1, but you have folium 0.8.3 which is incompatible.\u001b[0m\n",
            "Successfully installed borb-2.0.19 fonttools-4.29.1 python-barcode-0.13.1 qrcode-7.3.1 requests-2.27.1\n"
          ]
        }
      ]
    },
    {
      "cell_type": "markdown",
      "metadata": {
        "id": "L3IBqyjEtLET"
      },
      "source": [
        "With that out of the way, you can now copy the imports needed to create a basic PDF document."
      ]
    },
    {
      "cell_type": "code",
      "metadata": {
        "id": "I6FzsGmprxbq"
      },
      "source": [
        "from borb.pdf.document.document import Document\n",
        "from borb.pdf.page.page import Page\n",
        "from borb.pdf.pdf import PDF\n",
        "from borb.pdf.canvas.layout.page_layout.multi_column_layout import SingleColumnLayout\n",
        "from borb.pdf.canvas.layout.page_layout.page_layout import PageLayout\n",
        "from borb.pdf.canvas.layout.text.paragraph import Paragraph"
      ],
      "execution_count": 2,
      "outputs": []
    },
    {
      "cell_type": "markdown",
      "metadata": {
        "id": "iGnd7R-DtTkt"
      },
      "source": [
        "This is the part where it gets fun. You're now going to set up everything to be able to add content to your PDF."
      ]
    },
    {
      "cell_type": "code",
      "metadata": {
        "id": "P5VlAvhqsCPR"
      },
      "source": [
        "# create empty Document\n",
        "pdf = Document()\n",
        "\n",
        "# create empty Page\n",
        "page = Page()\n",
        "\n",
        "# add Page to Document\n",
        "pdf.append_page(page)\n",
        "\n",
        "# create PageLayout\n",
        "layout: PageLayout = SingleColumnLayout(page)"
      ],
      "execution_count": 3,
      "outputs": []
    },
    {
      "cell_type": "markdown",
      "metadata": {
        "id": "mIGcXKNKtc0o"
      },
      "source": [
        "For now, let's add a simple `Hello World` to the `Document` using the `Paragraph` class."
      ]
    },
    {
      "cell_type": "code",
      "metadata": {
        "colab": {
          "base_uri": "https://localhost:8080/"
        },
        "id": "kPafsXiKtlH0",
        "outputId": "269a0a28-9103-480e-83fa-54719c5ca588"
      },
      "source": [
        "layout.add(Paragraph(\"Hello World!\"))"
      ],
      "execution_count": 4,
      "outputs": [
        {
          "output_type": "execute_result",
          "data": {
            "text/plain": [
              "<borb.pdf.canvas.layout.page_layout.multi_column_layout.SingleColumnLayout at 0x7fe5c6f93d50>"
            ]
          },
          "metadata": {},
          "execution_count": 4
        }
      ]
    },
    {
      "cell_type": "markdown",
      "metadata": {
        "id": "_nKSdLcPtvv-"
      },
      "source": [
        "Now, you can store the `Document` as a PDF using the `PDF.dumps` method."
      ]
    },
    {
      "cell_type": "code",
      "metadata": {
        "id": "zV-kv3I5t2Ax"
      },
      "source": [
        "with open(\"hello_world.pdf\", \"wb\") as pdf_file_handle:\n",
        "  PDF.dumps(pdf_file_handle, pdf)"
      ],
      "execution_count": 5,
      "outputs": []
    },
    {
      "cell_type": "markdown",
      "metadata": {
        "id": "xrksHOTewKxS"
      },
      "source": [
        "That's it! You now have a PDF document with the words `Hello World!` in it. That's how easy it is to create a PDF using `borb`."
      ]
    }
  ]
}