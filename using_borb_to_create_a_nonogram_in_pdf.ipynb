{
  "nbformat": 4,
  "nbformat_minor": 0,
  "metadata": {
    "colab": {
      "name": "using_borb_to_create_a_nonogram_in_pdf.ipynb",
      "provenance": [],
      "collapsed_sections": [],
      "authorship_tag": "ABX9TyNfKIdskX3iRGZbfoTljhax",
      "include_colab_link": true
    },
    "kernelspec": {
      "name": "python3",
      "display_name": "Python 3"
    },
    "language_info": {
      "name": "python"
    }
  },
  "cells": [
    {
      "cell_type": "markdown",
      "metadata": {
        "id": "view-in-github",
        "colab_type": "text"
      },
      "source": [
        "<a href=\"https://colab.research.google.com/github/jorisschellekens/borb-google-colab-examples/blob/main/using_borb_to_create_a_nonogram_in_pdf.ipynb\" target=\"_parent\"><img src=\"https://colab.research.google.com/assets/colab-badge.svg\" alt=\"Open In Colab\"/></a>"
      ]
    },
    {
      "cell_type": "markdown",
      "source": [
        "# ![borb logo](https://github.com/jorisschellekens/borb/raw/master/logo/borb_64.png) Using `borb` to create a nonogram in PDF"
      ],
      "metadata": {
        "id": "8XmRKyLsiC3u"
      }
    },
    {
      "cell_type": "markdown",
      "source": [
        "[`borb`](https://github.com/jorisschellekens/borb) is a library for reading, creating and manipulating PDF files in python. borb was created in 2020 by Joris Schellekens and is still in active development. Check out the [GitHub repository](https://github.com/jorisschellekens/borb), or the [borb website](https://borbpdf.com)."
      ],
      "metadata": {
        "id": "OYgCa3XWjP9X"
      }
    },
    {
      "cell_type": "markdown",
      "source": [
        "Let's start by installing `borb`"
      ],
      "metadata": {
        "id": "FraAWb6xjQsN"
      }
    },
    {
      "cell_type": "code",
      "source": [
        "pip install borb"
      ],
      "metadata": {
        "colab": {
          "base_uri": "https://localhost:8080/"
        },
        "id": "Jin6MLG6PitW",
        "outputId": "84fdd0aa-8938-4c0a-f878-c98fa8d21846"
      },
      "execution_count": 1,
      "outputs": [
        {
          "output_type": "stream",
          "name": "stdout",
          "text": [
            "Looking in indexes: https://pypi.org/simple, https://us-python.pkg.dev/colab-wheels/public/simple/\n",
            "Collecting borb\n",
            "  Downloading borb-2.0.29-py3-none-any.whl (6.3 MB)\n",
            "\u001b[K     |████████████████████████████████| 6.3 MB 12.2 MB/s \n",
            "\u001b[?25hCollecting python-barcode>=0.13.1\n",
            "  Downloading python_barcode-0.14.0-py3-none-any.whl (212 kB)\n",
            "\u001b[K     |████████████████████████████████| 212 kB 61.1 MB/s \n",
            "\u001b[?25hCollecting requests>=2.24.0\n",
            "  Downloading requests-2.28.1-py3-none-any.whl (62 kB)\n",
            "\u001b[K     |████████████████████████████████| 62 kB 1.8 MB/s \n",
            "\u001b[?25hRequirement already satisfied: Pillow>=7.1.0 in /usr/local/lib/python3.7/dist-packages (from borb) (7.1.2)\n",
            "Collecting fonttools>=4.22.1\n",
            "  Downloading fonttools-4.33.3-py3-none-any.whl (930 kB)\n",
            "\u001b[K     |████████████████████████████████| 930 kB 75.8 MB/s \n",
            "\u001b[?25hCollecting qrcode[pil]>=6.1\n",
            "  Downloading qrcode-7.3.1.tar.gz (43 kB)\n",
            "\u001b[K     |████████████████████████████████| 43 kB 2.4 MB/s \n",
            "\u001b[?25hRequirement already satisfied: setuptools>=51.1.1 in /usr/local/lib/python3.7/dist-packages (from borb) (57.4.0)\n",
            "Requirement already satisfied: charset-normalizer<3,>=2 in /usr/local/lib/python3.7/dist-packages (from requests>=2.24.0->borb) (2.0.12)\n",
            "Requirement already satisfied: certifi>=2017.4.17 in /usr/local/lib/python3.7/dist-packages (from requests>=2.24.0->borb) (2022.6.15)\n",
            "Requirement already satisfied: idna<4,>=2.5 in /usr/local/lib/python3.7/dist-packages (from requests>=2.24.0->borb) (2.10)\n",
            "Requirement already satisfied: urllib3<1.27,>=1.21.1 in /usr/local/lib/python3.7/dist-packages (from requests>=2.24.0->borb) (1.24.3)\n",
            "Building wheels for collected packages: qrcode\n",
            "  Building wheel for qrcode (setup.py) ... \u001b[?25l\u001b[?25hdone\n",
            "  Created wheel for qrcode: filename=qrcode-7.3.1-py3-none-any.whl size=40402 sha256=595c57a754cc9280bb00243d06f02526ed65cdb6e7d0802ab272f8fa1e739e60\n",
            "  Stored in directory: /root/.cache/pip/wheels/93/d7/39/a4111be2cfb8e679938aa671a37888b6afb1f9e7d748e94492\n",
            "Successfully built qrcode\n",
            "Installing collected packages: qrcode, requests, python-barcode, fonttools, borb\n",
            "  Attempting uninstall: requests\n",
            "    Found existing installation: requests 2.23.0\n",
            "    Uninstalling requests-2.23.0:\n",
            "      Successfully uninstalled requests-2.23.0\n",
            "\u001b[31mERROR: pip's dependency resolver does not currently take into account all the packages that are installed. This behaviour is the source of the following dependency conflicts.\n",
            "google-colab 1.0.0 requires requests~=2.23.0, but you have requests 2.28.1 which is incompatible.\n",
            "datascience 0.10.6 requires folium==0.2.1, but you have folium 0.8.3 which is incompatible.\u001b[0m\n",
            "Successfully installed borb-2.0.29 fonttools-4.33.3 python-barcode-0.14.0 qrcode-7.3.1 requests-2.28.1\n"
          ]
        }
      ]
    },
    {
      "cell_type": "markdown",
      "source": [
        "We're going to define the final nonogram as a piece of ASCII art:"
      ],
      "metadata": {
        "id": "tEQ39NSnjZQE"
      }
    },
    {
      "cell_type": "code",
      "execution_count": 2,
      "metadata": {
        "id": "G_0w9VWIGiXO"
      },
      "outputs": [],
      "source": [
        "ascii_art: str = \"\"\"\n",
        "■...........■..\n",
        "■...........■..\n",
        "■■■.■■■.■■■.■■■\n",
        "■.■.■.■.■...■.■\n",
        "■■■.■■■.■...■■■\n",
        "\"\"\""
      ]
    },
    {
      "cell_type": "markdown",
      "source": [
        "Now we need to turn this into a set of horizontal and vertical clues. The following code does just that!"
      ],
      "metadata": {
        "id": "dHUNAqEajf-q"
      }
    },
    {
      "cell_type": "code",
      "source": [
        "import typing\n",
        "\n",
        "# trim\n",
        "while ascii_art[0] == '\\n':\n",
        "  ascii_art = ascii_art[1:]\n",
        "while ascii_art[-1] == '\\n':\n",
        "  ascii_art = ascii_art[:-1]\n",
        "\n",
        "# horizontal clues\n",
        "horizontal_clues: typing.List[typing.List[int]] = []\n",
        "for row in ascii_art.split('\\n'):\n",
        "  prev_char: str = ''\n",
        "  prev_count: int = 0\n",
        "  row_clues: typing.List[int] = []\n",
        "  for c in row:\n",
        "    if c == prev_char:\n",
        "      prev_count += 1\n",
        "    else:\n",
        "      if prev_char == '■':\n",
        "        row_clues.append(prev_count)\n",
        "      prev_char = c\n",
        "      prev_count = 1\n",
        "  if prev_char == '■':\n",
        "    row_clues.append(prev_count)    \n",
        "  horizontal_clues.append(row_clues)\n",
        "number_of_rows: int = len(horizontal_clues)\n",
        "\n",
        "# vertical clues\n",
        "number_of_cols: int = int(len(ascii_art) / number_of_rows)\n",
        "vertical_clues: typing.List[typing.List[int]] = []\n",
        "for col_index in range(0, number_of_cols):\n",
        "  col = [ascii_art.split('\\n')[i][col_index] for i in range(0, number_of_rows)]\n",
        "  prev_char: str = ''\n",
        "  prev_count: int = 0\n",
        "  col_clues: typing.List[int] = []\n",
        "  for c in col:\n",
        "    if c == prev_char:\n",
        "      prev_count += 1\n",
        "    else:\n",
        "      if prev_char == '■':\n",
        "        col_clues.append(prev_count)\n",
        "      prev_char = c\n",
        "      prev_count = 1\n",
        "  if prev_char == '■':\n",
        "    col_clues.append(prev_count)\n",
        "  vertical_clues.append(col_clues)\n",
        "\n",
        "# padding for horizontal_clues\n",
        "max_number_of_horizontal_clues: int = max([len(x) for x in horizontal_clues])\n",
        "for row in horizontal_clues:\n",
        "  while len(row) < max_number_of_horizontal_clues:\n",
        "    row.insert(0, None)\n",
        "\n",
        "# padding for vertical_clues\n",
        "max_number_of_vertical_clues: int = max([len(x) for x in vertical_clues])\n",
        "for col in vertical_clues:\n",
        "  while len(col) < max_number_of_vertical_clues:\n",
        "    col.insert(0, None)"
      ],
      "metadata": {
        "id": "UHaeDMvrHFZb"
      },
      "execution_count": 3,
      "outputs": []
    },
    {
      "cell_type": "markdown",
      "source": [
        "For this PDF we're going to use a custom `Font`. Let's first download the `ttf` file."
      ],
      "metadata": {
        "id": "Sxm_xOsCjtK6"
      }
    },
    {
      "cell_type": "code",
      "source": [
        "from borb.pdf.canvas.font.simple_font.true_type_font import TrueTypeFont  \n",
        "from borb.pdf.canvas.font.font import Font\n",
        "\n",
        "# Download Font\n",
        "import requests\n",
        "with open('IndieFlower-Regular.ttf', 'wb') as ffh:\n",
        "  ffh.write(requests.get(\"https://github.com/google/fonts/blob/main/ofl/indieflower/IndieFlower-Regular.ttf?raw=true\", allow_redirects=True).content)"
      ],
      "metadata": {
        "id": "3PA2-9LaP8uC"
      },
      "execution_count": 4,
      "outputs": []
    },
    {
      "cell_type": "markdown",
      "source": [
        "Now we can create a skeleton document containing our title and explanation blurb:"
      ],
      "metadata": {
        "id": "5bPcm2jHj6t_"
      }
    },
    {
      "cell_type": "code",
      "source": [
        "from borb.pdf.document.document import Document\n",
        "from borb.pdf.page.page import Page\n",
        "from borb.pdf.pdf import PDF\n",
        "from borb.pdf.canvas.layout.page_layout.multi_column_layout import SingleColumnLayout\n",
        "from borb.pdf.canvas.layout.page_layout.page_layout import PageLayout\n",
        "from borb.pdf.canvas.layout.text.paragraph import Paragraph\n",
        "from borb.pdf.canvas.color.color import HexColor\n",
        "\n",
        "from pathlib import Path  \n",
        "from decimal import Decimal\n",
        "\n",
        "# create empty Document\n",
        "pdf = Document()\n",
        "\n",
        "# create empty Page\n",
        "page = Page()\n",
        "\n",
        "# add Page to Document\n",
        "pdf.add_page(page)\n",
        "\n",
        "# create PageLayout\n",
        "layout: PageLayout = SingleColumnLayout(page)\n",
        "\n",
        "# add title\n",
        "layout.add(Paragraph('Nonogram', \n",
        "                     font_color=HexColor('#19647E'),\n",
        "                      font=TrueTypeFont.true_type_font_from_file(Path(\"IndieFlower-Regular.ttf\")),\n",
        "                      font_size=Decimal(20)))\n",
        "  \n",
        "# add explanation\n",
        "layout.add(Paragraph(\"\"\"\n",
        "Nonograms, also known as Hanjie, Paint by Numbers, Picross, Griddlers, and Pic-a-Pix, and by various other names, \n",
        "are picture logic puzzles in which cells in a grid must be colored or left blank according to numbers at the side of the grid to reveal a hidden picture. \n",
        "In this puzzle type, the numbers are a form of discrete tomography that measures how many unbroken lines of filled-in squares there are in any given row or column. \n",
        "For example, a clue of \"4 8 3\" would mean there are sets of four, eight, and three filled squares, in that order, with at least one blank square between successive sets.\n",
        "                    \"\"\",\n",
        "                     font_color=HexColor('#28AFB0')))"
      ],
      "metadata": {
        "id": "RG4xtnVGHFVp",
        "colab": {
          "base_uri": "https://localhost:8080/"
        },
        "outputId": "0f722c68-c889-4076-e938-755d7dd48215"
      },
      "execution_count": 5,
      "outputs": [
        {
          "output_type": "execute_result",
          "data": {
            "text/plain": [
              "<borb.pdf.canvas.layout.page_layout.multi_column_layout.SingleColumnLayout at 0x7fd37a6d8810>"
            ]
          },
          "metadata": {},
          "execution_count": 5
        }
      ]
    },
    {
      "cell_type": "markdown",
      "source": [
        "We're going to represent the nonogram as a `Table`.\n",
        "The following code builds a `FixedColumnWidthTable` from the clues we defined earlier."
      ],
      "metadata": {
        "id": "jGXJMwVDkDOQ"
      }
    },
    {
      "cell_type": "code",
      "source": [
        "# new imports\n",
        "from borb.pdf.canvas.layout.table.fixed_column_width_table import FixedColumnWidthTable\n",
        "from borb.pdf.canvas.layout.table.table import TableCell\n",
        "from borb.pdf.canvas.layout.layout_element import Alignment\n",
        "\n",
        "table:FixedColumnWidthTable = FixedColumnWidthTable(number_of_rows=max_number_of_vertical_clues+number_of_rows, \n",
        "                                                    number_of_columns=max_number_of_horizontal_clues+number_of_cols)\n",
        "\n",
        "for i in range(0, max_number_of_vertical_clues):\n",
        "  for _ in range(0, max_number_of_horizontal_clues):\n",
        "    table.add(TableCell(Paragraph(\" \"), border_top=False, border_right=False, border_bottom=False, border_left=False))\n",
        "  for j in range(0, len(vertical_clues)):\n",
        "    if vertical_clues[j][i] is None:\n",
        "      table.add(TableCell(Paragraph(\" \"), border_top=False, border_right=False, border_bottom=False, border_left=False))\n",
        "    else:\n",
        "      table.add(TableCell(Paragraph(str(vertical_clues[j][i]), horizontal_alignment=Alignment.CENTERED), \n",
        "                          border_top=False, \n",
        "                          border_right=False, \n",
        "                          border_bottom=False, \n",
        "                          border_left=False))\n",
        "\n",
        "for i in range(0, len(horizontal_clues)):\n",
        "  for j in horizontal_clues[i]:\n",
        "    if j is None:\n",
        "      table.add(TableCell(Paragraph(\" \"), border_top=False, border_right=False, border_bottom=False, border_left=False))\n",
        "    else:\n",
        "      table.add(TableCell(Paragraph(str(j), horizontal_alignment=Alignment.CENTERED), border_top=False, border_right=False, border_bottom=False, border_left=False))\n",
        "  for _ in range(0, number_of_cols):\n",
        "      table.add(Paragraph(\" \"))\n",
        "\n",
        "table.set_padding_on_all_cells(Decimal(2), Decimal(2), Decimal(2), Decimal(2))\n",
        "\n",
        "# add Table\n",
        "layout.add(table)"
      ],
      "metadata": {
        "colab": {
          "base_uri": "https://localhost:8080/"
        },
        "id": "pRXADkEuQ9mz",
        "outputId": "d5da8dfa-2ae4-47fa-d8eb-2254b8adaadc"
      },
      "execution_count": 6,
      "outputs": [
        {
          "output_type": "execute_result",
          "data": {
            "text/plain": [
              "<borb.pdf.canvas.layout.page_layout.multi_column_layout.SingleColumnLayout at 0x7fd37a6d8810>"
            ]
          },
          "metadata": {},
          "execution_count": 6
        }
      ]
    },
    {
      "cell_type": "markdown",
      "source": [
        "Finally, we can store the `PDF`:"
      ],
      "metadata": {
        "id": "CgRepFPmkc80"
      }
    },
    {
      "cell_type": "code",
      "source": [
        "# write Document\n",
        "with open(\"output_001.pdf\", \"wb\") as pdf_file_handle:\n",
        "  PDF.dumps(pdf_file_handle, pdf)"
      ],
      "metadata": {
        "id": "5tkaCYosSzY0"
      },
      "execution_count": 7,
      "outputs": []
    }
  ]
}