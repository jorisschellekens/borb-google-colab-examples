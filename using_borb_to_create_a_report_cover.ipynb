{
  "cells": [
    {
      "cell_type": "markdown",
      "metadata": {
        "id": "view-in-github",
        "colab_type": "text"
      },
      "source": [
        "<a href=\"https://colab.research.google.com/github/jorisschellekens/borb-google-colab-examples/blob/main/using_borb_to_create_a_report_cover.ipynb\" target=\"_parent\"><img src=\"https://colab.research.google.com/assets/colab-badge.svg\" alt=\"Open In Colab\"/></a>"
      ]
    },
    {
      "cell_type": "markdown",
      "source": [
        "# ![borb logo](https://github.com/jorisschellekens/borb/raw/master/logo/borb_64.png) Using `borb` to create a (report) cover PDF"
      ],
      "metadata": {
        "id": "KfqMSQdJMEpJ"
      }
    },
    {
      "cell_type": "markdown",
      "source": [
        "[`borb`](https://github.com/jorisschellekens/borb) is a library for reading, creating and manipulating PDF files in python. borb was created in 2020 by Joris Schellekens and is still in active development. Check out the [GitHub repository](https://github.com/jorisschellekens/borb), or the [borb website](https://borbpdf.com).\n",
        "\n",
        "In this tutorial you'll learn how to create a cover for your PDF documents. You can use this page as the first page of a test-report, a collection of invoices, or anything else you'd like."
      ],
      "metadata": {
        "id": "OVlSrVNCTOqg"
      }
    },
    {
      "cell_type": "markdown",
      "source": [
        "Let's start by installing `borb`"
      ],
      "metadata": {
        "id": "4INgPGxCTTBU"
      }
    },
    {
      "cell_type": "code",
      "execution_count": 4,
      "metadata": {
        "id": "W9XBIB2Di0gY",
        "colab": {
          "base_uri": "https://localhost:8080/"
        },
        "outputId": "6c51e6f1-92bb-4d39-e744-8f3ddc934a07"
      },
      "outputs": [
        {
          "output_type": "stream",
          "name": "stdout",
          "text": [
            "Looking in indexes: https://pypi.org/simple, https://us-python.pkg.dev/colab-wheels/public/simple/\n",
            "Requirement already satisfied: borb in /usr/local/lib/python3.7/dist-packages (2.1.0)\n",
            "Requirement already satisfied: python-barcode>=0.13.1 in /usr/local/lib/python3.7/dist-packages (from borb) (0.14.0)\n",
            "Requirement already satisfied: Pillow>=7.1.0 in /usr/local/lib/python3.7/dist-packages (from borb) (7.1.2)\n",
            "Requirement already satisfied: fonttools>=4.22.1 in /usr/local/lib/python3.7/dist-packages (from borb) (4.37.1)\n",
            "Requirement already satisfied: qrcode[pil]>=6.1 in /usr/local/lib/python3.7/dist-packages (from borb) (7.3.1)\n",
            "Requirement already satisfied: setuptools>=51.1.1 in /usr/local/lib/python3.7/dist-packages (from borb) (57.4.0)\n",
            "Requirement already satisfied: requests>=2.24.0 in /usr/local/lib/python3.7/dist-packages (from borb) (2.28.1)\n",
            "Requirement already satisfied: idna<4,>=2.5 in /usr/local/lib/python3.7/dist-packages (from requests>=2.24.0->borb) (2.10)\n",
            "Requirement already satisfied: certifi>=2017.4.17 in /usr/local/lib/python3.7/dist-packages (from requests>=2.24.0->borb) (2022.6.15)\n",
            "Requirement already satisfied: urllib3<1.27,>=1.21.1 in /usr/local/lib/python3.7/dist-packages (from requests>=2.24.0->borb) (1.24.3)\n",
            "Requirement already satisfied: charset-normalizer<3,>=2 in /usr/local/lib/python3.7/dist-packages (from requests>=2.24.0->borb) (2.1.1)\n"
          ]
        }
      ],
      "source": [
        "pip install borb"
      ]
    },
    {
      "cell_type": "markdown",
      "source": [
        "With that out of the way, we can now create an empty `Document` to hold our content."
      ],
      "metadata": {
        "id": "0nWjN3p9TX_m"
      }
    },
    {
      "cell_type": "code",
      "execution_count": 5,
      "metadata": {
        "colab": {
          "base_uri": "https://localhost:8080/"
        },
        "id": "96oTb_pbjH9Y",
        "outputId": "fac7994d-faca-49d8-d1d3-fe31f73b60e6"
      },
      "outputs": [
        {
          "output_type": "execute_result",
          "data": {
            "text/plain": [
              "{<borb.io.read.types.Name at 0x7f6a81b90b90>: {<borb.io.read.types.Name at 0x7f6a81b908d0>: {<borb.io.read.types.Name at 0x7f6a81b90910>: {<borb.io.read.types.Name at 0x7f6a81b90c90>: <borb.io.read.types.Name at 0x7f6a81b90990>,\n",
              "    <borb.io.read.types.Name at 0x7f6a81b90e50>: {<borb.io.read.types.Name at 0x7f6a81b90890>: Decimal('1'),\n",
              "     <borb.io.read.types.Name at 0x7f6a827ff590>: [{<borb.io.read.types.Name at 0x7f6a81b9d290>: <borb.io.read.types.Name at 0x7f6a81b9d190>,\n",
              "       <borb.io.read.types.Name at 0x7f6a81b9d3d0>: [Decimal('0'),\n",
              "        Decimal('0'),\n",
              "        Decimal('595'),\n",
              "        Decimal('842')],\n",
              "       <borb.io.read.types.Name at 0x7f6a81b901d0>: {...}}],\n",
              "     <borb.io.read.types.Name at 0x7f6a81b906d0>: <borb.io.read.types.Name at 0x7f6a81aeefd0>}}},\n",
              "  <borb.io.read.types.Name at 0x7f6a81b90f90>: Decimal('0')}}"
            ]
          },
          "metadata": {},
          "execution_count": 5
        }
      ],
      "source": [
        "from borb.pdf import Document\n",
        "from borb.pdf import Page\n",
        "from borb.pdf import SingleColumnLayout\n",
        "from borb.pdf import PageLayout\n",
        "\n",
        "# create new Document\n",
        "doc: Document = Document()\n",
        "\n",
        "# create new Page\n",
        "page: Page = Page()\n",
        "doc.add_page(page)"
      ]
    },
    {
      "cell_type": "markdown",
      "source": [
        "This is the tricky part. We're going to add some geometric artwork to our PDF to really spruce things up. The following code-block does just that. It adds a large triangle to the PDF, and then some smaller accent shapes. Don't worry if you don't really understand the code at first glance. Just read it a couple of times. It should hopefully become clear."
      ],
      "metadata": {
        "id": "fgYMRTr7TeDv"
      }
    },
    {
      "cell_type": "code",
      "execution_count": 7,
      "metadata": {
        "id": "X43N_55djyor"
      },
      "outputs": [],
      "source": [
        "from decimal import Decimal\n",
        "from borb.pdf import ConnectedShape\n",
        "from borb.pdf import HexColor\n",
        "from borb.pdf.canvas.geometry.rectangle import Rectangle\n",
        "from borb.pdf import Alignment\n",
        "import typing\n",
        "\n",
        "# draw shape 1\n",
        "W: Decimal = Decimal(595)           # width of paper\n",
        "H: Decimal = Decimal(842)           # height of paper\n",
        "W70: Decimal = Decimal(0.70) * W    # width of our large triangle\n",
        "H87: Decimal = Decimal(0.87) * H    # height of our large triangle\n",
        "ConnectedShape(points=[(0, H - H87), (0, H), (W70, H)], \n",
        "      fill_color=HexColor(\"273e4c\"), \n",
        "      stroke_color=HexColor(\"273e4c\")).paint(page, Rectangle(0, 0 , W, H))\n",
        "\n",
        "# define a helper function\n",
        "# this function returns the y-coordinate for every x-coordinate on the longest side of the triangle\n",
        "# this is useful because all our other shapes will have a few coordinates in common with this side\n",
        "# being able to easily calculate a point on this side of the triangle is really going to help us out\n",
        "f: typing.Callable[[Decimal], Decimal] = lambda x: Decimal(109.46) + Decimal(1.7588) * x\n",
        "\n",
        "# shape 2\n",
        "ZERO: Decimal = Decimal(0)\n",
        "W20: Decimal = Decimal(0.20) * W70\n",
        "W40: Decimal = Decimal(0.40) * W70\n",
        "W60: Decimal = Decimal(0.60) * W70\n",
        "ConnectedShape(points=[(W20, f(W20)), (W40, f(W40)), (W20, f(W60)), (ZERO, f(W40))], \n",
        "      fill_color=HexColor(\"20dbcd\"), \n",
        "      stroke_color=HexColor(\"20dbcd\"),\n",
        "      vertical_alignment=Alignment.BOTTOM).paint(page, Rectangle(ZERO, f(W20) , W, H))\n",
        "\n",
        "# shape 3\n",
        "ConnectedShape(points=[(W40, f(W40)), (W60, f(W60)), (W20, f(W60))], \n",
        "      fill_color=HexColor(\"2da18b\"), \n",
        "      stroke_color=HexColor(\"2da18b\"),\n",
        "      vertical_alignment=Alignment.BOTTOM).paint(page, Rectangle(W20, f(W40) , W, H))\n",
        "\n",
        "# shape 4\n",
        "W80: Decimal = Decimal(0.8) * W70\n",
        "ConnectedShape(points=[(W60, f(W60)), (W60 + W20*2, f(W60)), (W80 + W20*2, f(W80)), (W80, f(W80))], \n",
        "      fill_color=HexColor(\"20dbcd\"), \n",
        "      stroke_color=HexColor(\"20dbcd\"),\n",
        "      vertical_alignment=Alignment.BOTTOM).paint(page, Rectangle(W60, f(W60) , W, H))\n",
        "\n",
        "# shape 5\n",
        "ConnectedShape(points=[(W80, f(W80)), (W80 + W20*2, f(W80)), (W + W20*2, f(W)), (W, f(W))], \n",
        "      fill_color=HexColor(\"00ffff\"), \n",
        "      stroke_color=HexColor(\"00ffff\"),\n",
        "      vertical_alignment=Alignment.BOTTOM).paint(page, Rectangle(W80, f(W80) , W, H))"
      ]
    },
    {
      "cell_type": "markdown",
      "source": [
        "That was the hard part :-)  \n",
        "I promise the next part is considerably more straightforward.  \n",
        "We're just going to add some text to our `Document`."
      ],
      "metadata": {
        "id": "fNl38ROjUWk-"
      }
    },
    {
      "cell_type": "code",
      "source": [
        "from borb.pdf import Paragraph\n",
        "\n",
        "# first paragraph\n",
        "M06: Decimal = Decimal(0.06) * W\n",
        "p0: Paragraph = Paragraph(\"PLACE TEXT\", font_size=Decimal(20), font_color=HexColor(\"ffffff\"))\n",
        "p0.paint(page, Rectangle(M06, 0, W, H - M06))\n",
        "\n",
        "# second paragraph\n",
        "y: Decimal = p0.get_previous_paint_box().get_y() - Decimal(2)\n",
        "p1: Paragraph = Paragraph(\"HEADLINE\", font=\"Helvetica-bold\", font_size=Decimal(30), font_color=HexColor(\"d3d9da\"))\n",
        "p1.paint(page, Rectangle(M06, 0, W, y))\n",
        "\n",
        "# third paragraph\n",
        "y: Decimal = p1.get_previous_paint_box().get_y() - Decimal(8)\n",
        "p2: Paragraph = Paragraph(\"Lorem ipsum is simply dummy text of the printing and typesetting industry\", font=\"Helvetica\", \n",
        "                          font_size=Decimal(12), \n",
        "                          font_color=HexColor(\"ffffff\"))\n",
        "p2.paint(page, Rectangle(M06, 0, W40, y))\n"
      ],
      "metadata": {
        "id": "cjoS67RiLdOx"
      },
      "execution_count": 11,
      "outputs": []
    },
    {
      "cell_type": "markdown",
      "source": [
        "That's all the titles and headings taken care of.  \n",
        "Now we'll add the main body of text. Again we're going to use absolute positioning. We have to (since our `Page` has a very uncommon layout.)"
      ],
      "metadata": {
        "id": "ZZnN66ycUp2s"
      }
    },
    {
      "cell_type": "code",
      "source": [
        "# fourth paragraph\n",
        "p3: Paragraph = Paragraph(\"Lorem ipsum dolor sit amet\", font=\"Helvetica-Bold\", \n",
        "                          font_size=Decimal(20), \n",
        "                          padding_left=Decimal(20),\n",
        "                          padding_right=Decimal(20),\n",
        "                          font_color=HexColor(\"273e4c\"))\n",
        "p3.paint(page, Rectangle(W*Decimal(0.5), \n",
        "                          0, \n",
        "                          W * Decimal(0.5) - M06, \n",
        "                          H * Decimal(0.56)))\n",
        "\n",
        "# main body of text\n",
        "p4: Paragraph = Paragraph(\"\"\"\n",
        "                          Lorem ipsum dolor sit amet, consectetur adipiscing elit, sed do eiusmod tempor incididunt ut labore et dolore magna aliqua. \n",
        "                          Ut enim ad minim veniam, quis nostrud exercitation ullamco laboris nisi ut aliquip ex ea commodo consequat. \n",
        "                          Duis aute irure dolor in reprehenderit in voluptate velit esse cillum dolore eu fugiat nulla pariatur. \n",
        "                          \"\"\", \n",
        "                          font_size=Decimal(12), \n",
        "                          padding_left=Decimal(20),\n",
        "                          padding_right=Decimal(20),\n",
        "                          text_alignment=Alignment.JUSTIFIED,\n",
        "                          font_color=HexColor(\"273e4c\"))\n",
        "p4.paint(page, Rectangle(W*Decimal(0.5), \n",
        "                          0, \n",
        "                          W * Decimal(0.5) - M06, \n",
        "                          p3.get_previous_paint_box().get_y() - Decimal(20)))\n",
        "\n",
        "p5: Paragraph = Paragraph(\"\"\"\n",
        "                          Lorem ipsum dolor sit amet, consectetur adipiscing elit, sed do eiusmod tempor incididunt ut labore et dolore magna aliqua. \n",
        "                          Ut enim ad minim veniam, quis nostrud exercitation ullamco laboris nisi ut aliquip ex ea commodo consequat. \n",
        "                          Duis aute irure dolor in reprehenderit in voluptate velit esse cillum dolore eu fugiat nulla pariatur. \n",
        "                          \"\"\", \n",
        "                          font_size=Decimal(12), \n",
        "                          padding_left=Decimal(20),\n",
        "                          padding_right=Decimal(20),\n",
        "                          text_alignment=Alignment.JUSTIFIED,\n",
        "                          font_color=HexColor(\"273e4c\"))\n",
        "p5.paint(page, Rectangle(W*Decimal(0.5), \n",
        "                          0, \n",
        "                          W * Decimal(0.5) - M06, \n",
        "                          p4.get_previous_paint_box().get_y() - Decimal(20)))"
      ],
      "metadata": {
        "id": "vjJXSVN0POZ9"
      },
      "execution_count": 14,
      "outputs": []
    },
    {
      "cell_type": "markdown",
      "source": [
        "Finally, we can store the `Document`."
      ],
      "metadata": {
        "id": "sGrC6CflU2w5"
      }
    },
    {
      "cell_type": "code",
      "execution_count": 15,
      "metadata": {
        "id": "rLVoXsZvnmm5"
      },
      "outputs": [],
      "source": [
        "from borb.pdf import PDF\n",
        "\n",
        "with open(\"output.pdf\", \"wb\") as pdf_file_handle:\n",
        "  PDF.dumps(pdf_file_handle, doc)"
      ]
    },
    {
      "cell_type": "markdown",
      "source": [
        "Great job!  \n",
        "Go check out your PDF."
      ],
      "metadata": {
        "id": "IUCAQd-5U5lm"
      }
    }
  ],
  "metadata": {
    "colab": {
      "name": "using_borb_to_create_a_report_cover.ipynb",
      "provenance": [],
      "collapsed_sections": [],
      "authorship_tag": "ABX9TyNOYt8iZdEmeK5jWUopeAnS",
      "include_colab_link": true
    },
    "kernelspec": {
      "display_name": "Python 3",
      "name": "python3"
    },
    "language_info": {
      "name": "python"
    }
  },
  "nbformat": 4,
  "nbformat_minor": 0
}