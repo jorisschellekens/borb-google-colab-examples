{
  "cells": [
    {
      "cell_type": "markdown",
      "metadata": {
        "id": "view-in-github",
        "colab_type": "text"
      },
      "source": [
        "<a href=\"https://colab.research.google.com/github/jorisschellekens/borb-google-colab-examples/blob/main/using_borb_to_create_a_report_cover.ipynb\" target=\"_parent\"><img src=\"https://colab.research.google.com/assets/colab-badge.svg\" alt=\"Open In Colab\"/></a>"
      ]
    },
    {
      "cell_type": "markdown",
      "source": [
        "# ![borb logo](https://github.com/jorisschellekens/borb/raw/master/logo/borb_64.png) Using `borb` to create a (report) cover PDF"
      ],
      "metadata": {
        "id": "KfqMSQdJMEpJ"
      }
    },
    {
      "cell_type": "markdown",
      "source": [
        "[`borb`](https://github.com/jorisschellekens/borb) is a library for reading, creating and manipulating PDF files in python. borb was created in 2020 by Joris Schellekens and is still in active development. Check out the [GitHub repository](https://github.com/jorisschellekens/borb), or the [borb website](https://borbpdf.com).\n",
        "\n",
        "In this tutorial you'll learn how to create a cover for your PDF documents. You can use this page as the first page of a test-report, a collection of invoices, or anything else you'd like."
      ],
      "metadata": {
        "id": "OVlSrVNCTOqg"
      }
    },
    {
      "cell_type": "markdown",
      "source": [
        "Let's start by installing `borb`"
      ],
      "metadata": {
        "id": "4INgPGxCTTBU"
      }
    },
    {
      "cell_type": "code",
      "execution_count": 1,
      "metadata": {
        "id": "W9XBIB2Di0gY",
        "colab": {
          "base_uri": "https://localhost:8080/"
        },
        "outputId": "e85af24b-a7d5-4b39-fa5d-1d4e89179fad"
      },
      "outputs": [
        {
          "output_type": "stream",
          "name": "stdout",
          "text": [
            "Looking in indexes: https://pypi.org/simple, https://us-python.pkg.dev/colab-wheels/public/simple/\n",
            "Collecting borb\n",
            "  Downloading borb-2.0.29-py3-none-any.whl (6.3 MB)\n",
            "\u001b[K     |████████████████████████████████| 6.3 MB 8.0 MB/s \n",
            "\u001b[?25hCollecting requests>=2.24.0\n",
            "  Downloading requests-2.28.1-py3-none-any.whl (62 kB)\n",
            "\u001b[K     |████████████████████████████████| 62 kB 1.8 MB/s \n",
            "\u001b[?25hCollecting fonttools>=4.22.1\n",
            "  Downloading fonttools-4.33.3-py3-none-any.whl (930 kB)\n",
            "\u001b[K     |████████████████████████████████| 930 kB 47.1 MB/s \n",
            "\u001b[?25hCollecting python-barcode>=0.13.1\n",
            "  Downloading python_barcode-0.14.0-py3-none-any.whl (212 kB)\n",
            "\u001b[K     |████████████████████████████████| 212 kB 54.3 MB/s \n",
            "\u001b[?25hRequirement already satisfied: setuptools>=51.1.1 in /usr/local/lib/python3.7/dist-packages (from borb) (57.4.0)\n",
            "Collecting qrcode[pil]>=6.1\n",
            "  Downloading qrcode-7.3.1.tar.gz (43 kB)\n",
            "\u001b[K     |████████████████████████████████| 43 kB 2.5 MB/s \n",
            "\u001b[?25hRequirement already satisfied: Pillow>=7.1.0 in /usr/local/lib/python3.7/dist-packages (from borb) (7.1.2)\n",
            "Requirement already satisfied: certifi>=2017.4.17 in /usr/local/lib/python3.7/dist-packages (from requests>=2.24.0->borb) (2022.6.15)\n",
            "Requirement already satisfied: urllib3<1.27,>=1.21.1 in /usr/local/lib/python3.7/dist-packages (from requests>=2.24.0->borb) (1.24.3)\n",
            "Requirement already satisfied: charset-normalizer<3,>=2 in /usr/local/lib/python3.7/dist-packages (from requests>=2.24.0->borb) (2.0.12)\n",
            "Requirement already satisfied: idna<4,>=2.5 in /usr/local/lib/python3.7/dist-packages (from requests>=2.24.0->borb) (2.10)\n",
            "Building wheels for collected packages: qrcode\n",
            "  Building wheel for qrcode (setup.py) ... \u001b[?25l\u001b[?25hdone\n",
            "  Created wheel for qrcode: filename=qrcode-7.3.1-py3-none-any.whl size=40402 sha256=dc510d08d1e20c6a065d515458662aba5b4c184abb3e7c5ebc5db2005977c214\n",
            "  Stored in directory: /root/.cache/pip/wheels/93/d7/39/a4111be2cfb8e679938aa671a37888b6afb1f9e7d748e94492\n",
            "Successfully built qrcode\n",
            "Installing collected packages: qrcode, requests, python-barcode, fonttools, borb\n",
            "  Attempting uninstall: requests\n",
            "    Found existing installation: requests 2.23.0\n",
            "    Uninstalling requests-2.23.0:\n",
            "      Successfully uninstalled requests-2.23.0\n",
            "\u001b[31mERROR: pip's dependency resolver does not currently take into account all the packages that are installed. This behaviour is the source of the following dependency conflicts.\n",
            "google-colab 1.0.0 requires requests~=2.23.0, but you have requests 2.28.1 which is incompatible.\n",
            "datascience 0.10.6 requires folium==0.2.1, but you have folium 0.8.3 which is incompatible.\u001b[0m\n",
            "Successfully installed borb-2.0.29 fonttools-4.33.3 python-barcode-0.14.0 qrcode-7.3.1 requests-2.28.1\n"
          ]
        }
      ],
      "source": [
        "pip install borb"
      ]
    },
    {
      "cell_type": "markdown",
      "source": [
        "With that out of the way, we can now create an empty `Document` to hold our content."
      ],
      "metadata": {
        "id": "0nWjN3p9TX_m"
      }
    },
    {
      "cell_type": "code",
      "execution_count": 2,
      "metadata": {
        "colab": {
          "base_uri": "https://localhost:8080/"
        },
        "id": "96oTb_pbjH9Y",
        "outputId": "8b02b08d-b7b8-43bf-dbd6-90859f0a61cb"
      },
      "outputs": [
        {
          "output_type": "execute_result",
          "data": {
            "text/plain": [
              "{<borb.io.read.types.Name at 0x7f22066626d0>: {<borb.io.read.types.Name at 0x7f2206662cd0>: Decimal('0'),\n",
              "  <borb.io.read.types.Name at 0x7f2206662a50>: {<borb.io.read.types.Name at 0x7f2206662ed0>: {<borb.io.read.types.Name at 0x7f220666e550>: {<borb.io.read.types.Name at 0x7f220666e790>: Decimal('1'),\n",
              "     <borb.io.read.types.Name at 0x7f220666ec50>: [{<borb.io.read.types.Name at 0x7f2206662090>: [Decimal('0'),\n",
              "        Decimal('0'),\n",
              "        Decimal('595'),\n",
              "        Decimal('842')],\n",
              "       <borb.io.read.types.Name at 0x7f220667a510>: {...},\n",
              "       <borb.io.read.types.Name at 0x7f220665de50>: <borb.io.read.types.Name at 0x7f222005af10>}],\n",
              "     <borb.io.read.types.Name at 0x7f220667a190>: <borb.io.read.types.Name at 0x7f220666ed90>},\n",
              "    <borb.io.read.types.Name at 0x7f220666e1d0>: <borb.io.read.types.Name at 0x7f220666e090>}}}}"
            ]
          },
          "metadata": {},
          "execution_count": 2
        }
      ],
      "source": [
        "from borb.pdf import Document\n",
        "from borb.pdf import Page\n",
        "from borb.pdf import SingleColumnLayout\n",
        "from borb.pdf import PageLayout\n",
        "\n",
        "# create new Document\n",
        "doc: Document = Document()\n",
        "\n",
        "# create new Page\n",
        "page: Page = Page()\n",
        "doc.add_page(page)"
      ]
    },
    {
      "cell_type": "markdown",
      "source": [
        "This is the tricky part. We're going to add some geometric artwork to our PDF to really spruce things up. The following code-block does just that. It adds a large triangle to the PDF, and then some smaller accent shapes. Don't worry if you don't really understand the code at first glance. Just read it a couple of times. It should hopefully become clear."
      ],
      "metadata": {
        "id": "fgYMRTr7TeDv"
      }
    },
    {
      "cell_type": "code",
      "execution_count": 3,
      "metadata": {
        "colab": {
          "base_uri": "https://localhost:8080/"
        },
        "id": "X43N_55djyor",
        "outputId": "8c17a780-17d5-419f-a453-9745ea8a6eaa"
      },
      "outputs": [
        {
          "output_type": "execute_result",
          "data": {
            "text/plain": [
              "<borb.pdf.canvas.geometry.rectangle.Rectangle at 0x7f220661d3d0>"
            ]
          },
          "metadata": {},
          "execution_count": 3
        }
      ],
      "source": [
        "from decimal import Decimal\n",
        "from borb.pdf import Shape\n",
        "from borb.pdf import HexColor\n",
        "from borb.pdf.canvas.geometry.rectangle import Rectangle\n",
        "from borb.pdf import Alignment\n",
        "import typing\n",
        "\n",
        "# draw shape 1\n",
        "W: Decimal = Decimal(595)           # width of paper\n",
        "H: Decimal = Decimal(842)           # height of paper\n",
        "W70: Decimal = Decimal(0.70) * W    # width of our large triangle\n",
        "H87: Decimal = Decimal(0.87) * H    # height of our large triangle\n",
        "Shape(points=[(0, H - H87), (0, H), (W70, H)], \n",
        "      fill_color=HexColor(\"273e4c\"), \n",
        "      stroke_color=HexColor(\"273e4c\")).layout(page, Rectangle(0, 0 , W, H))\n",
        "\n",
        "# define a helper function\n",
        "# this function returns the y-coordinate for every x-coordinate on the longest side of the triangle\n",
        "# this is useful because all our other shapes will have a few coordinates in common with this side\n",
        "# being able to easily calculate a point on this side of the triangle is really going to help us out\n",
        "f: typing.Callable[[Decimal], Decimal] = lambda x: Decimal(109.46) + Decimal(1.7588) * x\n",
        "\n",
        "# shape 2\n",
        "ZERO: Decimal = Decimal(0)\n",
        "W20: Decimal = Decimal(0.20) * W70\n",
        "W40: Decimal = Decimal(0.40) * W70\n",
        "W60: Decimal = Decimal(0.60) * W70\n",
        "Shape(points=[(W20, f(W20)), (W40, f(W40)), (W20, f(W60)), (ZERO, f(W40))], \n",
        "      fill_color=HexColor(\"20dbcd\"), \n",
        "      stroke_color=HexColor(\"20dbcd\"),\n",
        "      vertical_alignment=Alignment.BOTTOM).layout(page, Rectangle(ZERO, f(W20) , W, H))\n",
        "\n",
        "# shape 3\n",
        "Shape(points=[(W40, f(W40)), (W60, f(W60)), (W20, f(W60))], \n",
        "      fill_color=HexColor(\"2da18b\"), \n",
        "      stroke_color=HexColor(\"2da18b\"),\n",
        "      vertical_alignment=Alignment.BOTTOM).layout(page, Rectangle(W20, f(W40) , W, H))\n",
        "\n",
        "# shape 4\n",
        "W80: Decimal = Decimal(0.8) * W70\n",
        "Shape(points=[(W60, f(W60)), (W60 + W20*2, f(W60)), (W80 + W20*2, f(W80)), (W80, f(W80))], \n",
        "      fill_color=HexColor(\"20dbcd\"), \n",
        "      stroke_color=HexColor(\"20dbcd\"),\n",
        "      vertical_alignment=Alignment.BOTTOM).layout(page, Rectangle(W60, f(W60) , W, H))\n",
        "\n",
        "# shape 5\n",
        "Shape(points=[(W80, f(W80)), (W80 + W20*2, f(W80)), (W + W20*2, f(W)), (W, f(W))], \n",
        "      fill_color=HexColor(\"00ffff\"), \n",
        "      stroke_color=HexColor(\"00ffff\"),\n",
        "      vertical_alignment=Alignment.BOTTOM).layout(page, Rectangle(W80, f(W80) , W, H))"
      ]
    },
    {
      "cell_type": "markdown",
      "source": [
        "That was the hard part :-)  \n",
        "I promise the next part is considerably more straightforward.  \n",
        "We're just going to add some text to our `Document`."
      ],
      "metadata": {
        "id": "fNl38ROjUWk-"
      }
    },
    {
      "cell_type": "code",
      "source": [
        "from borb.pdf import Paragraph\n",
        "\n",
        "# first paragraph\n",
        "M06: Decimal = Decimal(0.06) * W\n",
        "p0: Paragraph = Paragraph(\"PLACE TEXT\", font_size=Decimal(20), font_color=HexColor(\"ffffff\"))\n",
        "p0.layout(page, Rectangle(M06, 0, W, H - M06))\n",
        "\n",
        "# second paragraph\n",
        "y: Decimal = p0.get_bounding_box().get_y() - Decimal(2)\n",
        "p1: Paragraph = Paragraph(\"HEADLINE\", font=\"Helvetica-bold\", font_size=Decimal(30), font_color=HexColor(\"d3d9da\"))\n",
        "p1.layout(page, Rectangle(M06, 0, W, y))\n",
        "\n",
        "# third paragraph\n",
        "y: Decimal = p1.get_bounding_box().get_y() - Decimal(8)\n",
        "p2: Paragraph = Paragraph(\"Lorem ipsum is simply dummy text of the printing and typesetting industry\", font=\"Helvetica\", \n",
        "                          font_size=Decimal(12), \n",
        "                          font_color=HexColor(\"ffffff\"))\n",
        "p2.layout(page, Rectangle(M06, 0, W40, y))\n"
      ],
      "metadata": {
        "colab": {
          "base_uri": "https://localhost:8080/"
        },
        "id": "cjoS67RiLdOx",
        "outputId": "ca0d226c-5e75-4d57-f5b7-ae8adf0347d2"
      },
      "execution_count": 4,
      "outputs": [
        {
          "output_type": "execute_result",
          "data": {
            "text/plain": [
              "<borb.pdf.canvas.geometry.rectangle.Rectangle at 0x7f2206384350>"
            ]
          },
          "metadata": {},
          "execution_count": 4
        }
      ]
    },
    {
      "cell_type": "markdown",
      "source": [
        "That's all the titles and headings taken care of.  \n",
        "Now we'll add the main body of text. Again we're going to use absolute positioning. We have to (since our `Page` has a very uncommon layout.)"
      ],
      "metadata": {
        "id": "ZZnN66ycUp2s"
      }
    },
    {
      "cell_type": "code",
      "source": [
        "# fourth paragraph\n",
        "p3: Paragraph = Paragraph(\"Lorem ipsum dolor sit amet\", font=\"Helvetica-Bold\", \n",
        "                          font_size=Decimal(20), \n",
        "                          padding_left=Decimal(20),\n",
        "                          padding_right=Decimal(20),\n",
        "                          font_color=HexColor(\"273e4c\"))\n",
        "p3.layout(page, Rectangle(W*Decimal(0.5), \n",
        "                          0, \n",
        "                          W * Decimal(0.5) - M06, \n",
        "                          H * Decimal(0.56)))\n",
        "\n",
        "# main body of text\n",
        "p4: Paragraph = Paragraph(\"\"\"\n",
        "                          Lorem ipsum dolor sit amet, consectetur adipiscing elit, sed do eiusmod tempor incididunt ut labore et dolore magna aliqua. \n",
        "                          Ut enim ad minim veniam, quis nostrud exercitation ullamco laboris nisi ut aliquip ex ea commodo consequat. \n",
        "                          Duis aute irure dolor in reprehenderit in voluptate velit esse cillum dolore eu fugiat nulla pariatur. \n",
        "                          \"\"\", \n",
        "                          font_size=Decimal(12), \n",
        "                          padding_left=Decimal(20),\n",
        "                          padding_right=Decimal(20),\n",
        "                          text_alignment=Alignment.JUSTIFIED,\n",
        "                          font_color=HexColor(\"273e4c\"))\n",
        "p4.layout(page, Rectangle(W*Decimal(0.5), \n",
        "                          0, \n",
        "                          W * Decimal(0.5) - M06, \n",
        "                          p3.get_bounding_box().get_y() - Decimal(20)))\n",
        "\n",
        "p5: Paragraph = Paragraph(\"\"\"\n",
        "                          Lorem ipsum dolor sit amet, consectetur adipiscing elit, sed do eiusmod tempor incididunt ut labore et dolore magna aliqua. \n",
        "                          Ut enim ad minim veniam, quis nostrud exercitation ullamco laboris nisi ut aliquip ex ea commodo consequat. \n",
        "                          Duis aute irure dolor in reprehenderit in voluptate velit esse cillum dolore eu fugiat nulla pariatur. \n",
        "                          \"\"\", \n",
        "                          font_size=Decimal(12), \n",
        "                          padding_left=Decimal(20),\n",
        "                          padding_right=Decimal(20),\n",
        "                          text_alignment=Alignment.JUSTIFIED,\n",
        "                          font_color=HexColor(\"273e4c\"))\n",
        "p5.layout(page, Rectangle(W*Decimal(0.5), \n",
        "                          0, \n",
        "                          W * Decimal(0.5) - M06, \n",
        "                          p4.get_bounding_box().get_y() - Decimal(20)))"
      ],
      "metadata": {
        "colab": {
          "base_uri": "https://localhost:8080/"
        },
        "id": "vjJXSVN0POZ9",
        "outputId": "c08fa03c-8b5d-45a8-f2a7-a94c4f10ce7b"
      },
      "execution_count": 5,
      "outputs": [
        {
          "output_type": "execute_result",
          "data": {
            "text/plain": [
              "<borb.pdf.canvas.geometry.rectangle.Rectangle at 0x7f22061e5190>"
            ]
          },
          "metadata": {},
          "execution_count": 5
        }
      ]
    },
    {
      "cell_type": "markdown",
      "source": [
        "Finally, we can store the `Document`."
      ],
      "metadata": {
        "id": "sGrC6CflU2w5"
      }
    },
    {
      "cell_type": "code",
      "execution_count": 6,
      "metadata": {
        "id": "rLVoXsZvnmm5"
      },
      "outputs": [],
      "source": [
        "from borb.pdf import PDF\n",
        "\n",
        "with open(\"output.pdf\", \"wb\") as pdf_file_handle:\n",
        "  PDF.dumps(pdf_file_handle, doc)"
      ]
    },
    {
      "cell_type": "markdown",
      "source": [
        "Great job!  \n",
        "Go check out your PDF."
      ],
      "metadata": {
        "id": "IUCAQd-5U5lm"
      }
    }
  ],
  "metadata": {
    "colab": {
      "name": "using_borb_to_create_a_report_cover.ipynb",
      "provenance": [],
      "collapsed_sections": [],
      "authorship_tag": "ABX9TyNQhh9wgUEaiddo1YWBDnxx",
      "include_colab_link": true
    },
    "kernelspec": {
      "display_name": "Python 3",
      "name": "python3"
    },
    "language_info": {
      "name": "python"
    }
  },
  "nbformat": 4,
  "nbformat_minor": 0
}