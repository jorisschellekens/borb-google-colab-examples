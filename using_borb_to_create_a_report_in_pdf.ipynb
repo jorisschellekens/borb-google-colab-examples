{
  "nbformat": 4,
  "nbformat_minor": 0,
  "metadata": {
    "colab": {
      "name": "Untitled1.ipynb",
      "provenance": [],
      "authorship_tag": "ABX9TyPY1wM3fQUHTQPFpbwh+71Q",
      "include_colab_link": true
    },
    "kernelspec": {
      "name": "python3",
      "display_name": "Python 3"
    },
    "language_info": {
      "name": "python"
    }
  },
  "cells": [
    {
      "cell_type": "markdown",
      "metadata": {
        "id": "view-in-github",
        "colab_type": "text"
      },
      "source": [
        "<a href=\"https://colab.research.google.com/github/jorisschellekens/borb-google-colab-examples/blob/main/using_borb_to_create_a_report_in_pdf.ipynb\" target=\"_parent\"><img src=\"https://colab.research.google.com/assets/colab-badge.svg\" alt=\"Open In Colab\"/></a>"
      ]
    },
    {
      "cell_type": "markdown",
      "metadata": {
        "id": "V6n-xtnTFS45"
      },
      "source": [
        "# ![borb logo](https://github.com/jorisschellekens/borb/raw/master/logo/borb_64.png) Using `borb` to create a report in PDF"
      ]
    },
    {
      "cell_type": "markdown",
      "metadata": {
        "id": "ZZGocUhnPgh7"
      },
      "source": [
        "[`borb`](https://github.com/jorisschellekens/borb) is a library for reading, creating and manipulating PDF files in python. borb was created in 2020 by Joris Schellekens and is still in active development. Check out the [GitHub repository](https://github.com/jorisschellekens/borb), or the [borb website](https://borbpdf.com)."
      ]
    },
    {
      "cell_type": "markdown",
      "metadata": {
        "id": "-r6uMUr2Pl0N"
      },
      "source": [
        "Let's start by installing `borb`"
      ]
    },
    {
      "cell_type": "code",
      "metadata": {
        "colab": {
          "base_uri": "https://localhost:8080/"
        },
        "id": "iZJ8UIv5Ez25",
        "outputId": "40fe6a2f-cce5-4c88-d6fd-3f9dae7e37f8"
      },
      "source": [
        "pip install borb"
      ],
      "execution_count": 31,
      "outputs": [
        {
          "output_type": "stream",
          "name": "stdout",
          "text": [
            "Requirement already satisfied: borb in /usr/local/lib/python3.7/dist-packages (2.0.10)\n",
            "Requirement already satisfied: Pillow>=7.1.0 in /usr/local/lib/python3.7/dist-packages (from borb) (7.1.2)\n",
            "Requirement already satisfied: setuptools~=51.1.1 in /usr/local/lib/python3.7/dist-packages (from borb) (51.1.2)\n",
            "Requirement already satisfied: python-barcode>=0.13.1 in /usr/local/lib/python3.7/dist-packages (from borb) (0.13.1)\n",
            "Requirement already satisfied: fonttools>=4.22.1 in /usr/local/lib/python3.7/dist-packages (from borb) (4.27.1)\n",
            "Requirement already satisfied: requests>=2.24.0 in /usr/local/lib/python3.7/dist-packages (from borb) (2.26.0)\n",
            "Requirement already satisfied: qrcode[pil]>=6.1 in /usr/local/lib/python3.7/dist-packages (from borb) (7.3)\n",
            "Requirement already satisfied: charset-normalizer~=2.0.0 in /usr/local/lib/python3.7/dist-packages (from requests>=2.24.0->borb) (2.0.6)\n",
            "Requirement already satisfied: urllib3<1.27,>=1.21.1 in /usr/local/lib/python3.7/dist-packages (from requests>=2.24.0->borb) (1.24.3)\n",
            "Requirement already satisfied: certifi>=2017.4.17 in /usr/local/lib/python3.7/dist-packages (from requests>=2.24.0->borb) (2021.5.30)\n",
            "Requirement already satisfied: idna<4,>=2.5 in /usr/local/lib/python3.7/dist-packages (from requests>=2.24.0->borb) (2.10)\n"
          ]
        }
      ]
    },
    {
      "cell_type": "markdown",
      "metadata": {
        "id": "HgFDMlu6FTsH"
      },
      "source": [
        "For this tutorial we're also going to need:\n",
        "\n",
        "- matplotlib\n",
        "- pandas (possibly, if you want to do some more advanced graphs/charts)"
      ]
    },
    {
      "cell_type": "code",
      "metadata": {
        "colab": {
          "base_uri": "https://localhost:8080/"
        },
        "id": "Z9LOUnueGggA",
        "outputId": "ec6aa930-9aaf-4af1-cc13-8a4b9a55b6fe"
      },
      "source": [
        "pip install matplotlib"
      ],
      "execution_count": 32,
      "outputs": [
        {
          "output_type": "stream",
          "name": "stdout",
          "text": [
            "Requirement already satisfied: matplotlib in /usr/local/lib/python3.7/dist-packages (3.2.2)\n",
            "Requirement already satisfied: cycler>=0.10 in /usr/local/lib/python3.7/dist-packages (from matplotlib) (0.10.0)\n",
            "Requirement already satisfied: kiwisolver>=1.0.1 in /usr/local/lib/python3.7/dist-packages (from matplotlib) (1.3.2)\n",
            "Requirement already satisfied: python-dateutil>=2.1 in /usr/local/lib/python3.7/dist-packages (from matplotlib) (2.8.2)\n",
            "Requirement already satisfied: numpy>=1.11 in /usr/local/lib/python3.7/dist-packages (from matplotlib) (1.19.5)\n",
            "Requirement already satisfied: pyparsing!=2.0.4,!=2.1.2,!=2.1.6,>=2.0.1 in /usr/local/lib/python3.7/dist-packages (from matplotlib) (2.4.7)\n",
            "Requirement already satisfied: six in /usr/local/lib/python3.7/dist-packages (from cycler>=0.10->matplotlib) (1.15.0)\n"
          ]
        }
      ]
    },
    {
      "cell_type": "markdown",
      "metadata": {
        "id": "N8KdhbBUGoAW"
      },
      "source": [
        "Before we can create a piechart, we're going to write a small utility function that generates N colors, evenly distributed among the color-spectrum. This will help us whenever we need to create a plot and color each section."
      ]
    },
    {
      "cell_type": "code",
      "metadata": {
        "id": "WSkl3EyKKPLp"
      },
      "source": [
        "# new import(s)\n",
        "from borb.pdf.canvas.color.color import HSVColor, HexColor\n",
        "from decimal import Decimal\n",
        "\n",
        "def create_n_colors(n: int) -> typing.List[str]:\n",
        "  # the base color is borb-blue\n",
        "  base_hsv_color: HSVColor = HSVColor.from_rgb(HexColor(\"56cbf9\"))\n",
        "  # this array comprehension creates n HSVColor objects, transforms then to RGB, and then returns their hex string\n",
        "  return [HSVColor(base_hsv_color.hue + Decimal(x / 360), Decimal(1), Decimal(1)).to_rgb().to_hex_string() for x in range(0, 360, int(360/n))]"
      ],
      "execution_count": 33,
      "outputs": []
    },
    {
      "cell_type": "markdown",
      "metadata": {
        "id": "RGKs-hriMCZU"
      },
      "source": [
        "Now we can define our `create_pie_chart` function;"
      ]
    },
    {
      "cell_type": "code",
      "metadata": {
        "id": "p-Am2lAaHBfq"
      },
      "source": [
        "# new import(s)\n",
        "import matplotlib.pyplot as plt\n",
        "import typing\n",
        "from borb.pdf.canvas.layout.image.chart import Chart\n",
        "from borb.pdf.canvas.layout.layout_element import Alignment\n",
        "\n",
        "\n",
        "def create_piechart(labels: typing.List[str], data: typing.List[float]):\n",
        "\n",
        "  fig1, ax1 = plt.subplots()\n",
        "  ax1.pie(\n",
        "    data,\n",
        "    explode=[0 for _ in range(0, len(labels))],\n",
        "    labels=labels,\n",
        "    autopct=\"%1.1f%%\",\n",
        "    shadow=True,\n",
        "    startangle=90,\n",
        "    colors=create_n_colors(len(labels)),\n",
        "  )\n",
        "\n",
        "  ax1.axis(\"equal\")  # Equal aspect ratio ensures that pie is drawn as a circle.\n",
        "\n",
        "  return Chart(\n",
        "    plt.gcf(),\n",
        "    width=Decimal(200),\n",
        "    height=Decimal(200),\n",
        "    horizontal_alignment=Alignment.CENTERED,\n",
        "  )"
      ],
      "execution_count": 34,
      "outputs": []
    },
    {
      "cell_type": "markdown",
      "metadata": {
        "id": "KdMbgJRFMN08"
      },
      "source": [
        "Now let's create a PDF document using our function"
      ]
    },
    {
      "cell_type": "code",
      "metadata": {
        "colab": {
          "base_uri": "https://localhost:8080/"
        },
        "id": "0lBRcVeHMRHE",
        "outputId": "75cf446f-f9c2-4f47-cfe0-30dc22b3472e"
      },
      "source": [
        "# new import(s)\n",
        "from borb.pdf.document import Document\n",
        "from borb.pdf.page.page import Page\n",
        "from borb.pdf.pdf import PDF\n",
        "from borb.pdf.canvas.layout.page_layout.multi_column_layout import MultiColumnLayout\n",
        "from borb.pdf.canvas.layout.page_layout.page_layout import PageLayout\n",
        "from borb.pdf.canvas.layout.text.paragraph import Paragraph\n",
        "\n",
        "# create empty Document\n",
        "pdf = Document()\n",
        "\n",
        "# create empty Page\n",
        "page = Page()\n",
        "\n",
        "# add Page to Document\n",
        "pdf.append_page(page)\n",
        "\n",
        "# create PageLayout\n",
        "layout: PageLayout = MultiColumnLayout(page)\n",
        "\n",
        "# write title\n",
        "layout.add(Paragraph(\"About Lorem Ipsum\", \n",
        "                     font_size=Decimal(20), \n",
        "                     font=\"Helvetica-Bold\"))"
      ],
      "execution_count": 35,
      "outputs": [
        {
          "output_type": "execute_result",
          "data": {
            "text/plain": [
              "<borb.pdf.canvas.layout.page_layout.multi_column_layout.MultiColumnLayout at 0x7fbb9882c1d0>"
            ]
          },
          "metadata": {},
          "execution_count": 35
        }
      ]
    },
    {
      "cell_type": "markdown",
      "metadata": {
        "id": "tH6N1_FVP7pM"
      },
      "source": [
        "We'll be using hyphenation in this PDF to ensure the text can be laid out even more smoothly. Hyphenation in `borb` is pretty straightforward;"
      ]
    },
    {
      "cell_type": "code",
      "metadata": {
        "colab": {
          "base_uri": "https://localhost:8080/",
          "height": 248
        },
        "id": "AfmXg2AEQEfj",
        "outputId": "9bb1e402-8dc1-4900-cecd-4808ce7b0079"
      },
      "source": [
        "# new import(s)\n",
        "from borb.pdf.canvas.layout.hyphenation.hyphenation import Hyphenation\n",
        "\n",
        "# create hyphenation algorithm\n",
        "hyphenation_algorithm: Hyphenation = Hyphenation(\"en-gb\")\n",
        "\n",
        "# write paragraph\n",
        "layout.add(Paragraph(\n",
        "    \"\"\"\n",
        "    Lorem Ipsum is simply dummy text of the printing and typesetting industry. \n",
        "    Lorem Ipsum has been the industry's standard dummy text ever since the 1500s, \n",
        "    when an unknown printer took a galley of type and scrambled it to make a type specimen book. \n",
        "    It has survived not only five centuries, but also the leap into electronic typesetting, remaining essentially unchanged. \n",
        "    It was popularised in the 1960s with the release of Letraset sheets containing Lorem Ipsum passages, \n",
        "    and more recently with desktop publishing software like Aldus PageMaker including versions of Lorem Ipsum.\n",
        "    \"\"\", text_alignment=Alignment.JUSTIFIED, hyphenation=hyphenation_algorithm))\n",
        "\n",
        "# write graph\n",
        "layout.add(create_piechart([\"Loren\", \"Ipsum\", \"Dolor\"], \n",
        "                           [0.6, 0.3, 0.1]))\n",
        "\n",
        "# write paragraph\n",
        "layout.add(Paragraph(\n",
        "    \"\"\"\n",
        "    Contrary to popular belief, Lorem Ipsum is not simply random text. \n",
        "    It has roots in a piece of classical Latin literature from 45 BC, making it over 2000 years old. \n",
        "    Richard McClintock, a Latin professor at Hampden-Sydney College in Virginia, looked up one of the more obscure Latin words, \n",
        "    consectetur, from a Lorem Ipsum passage, and going through the cites of the word in classical literature, \n",
        "    discovered the undoubtable source. Lorem Ipsum comes from sections 1.10.32 and 1.10.33 of \"de Finibus Bonorum et Malorum\" \n",
        "    (The Extremes of Good and Evil) by Cicero, written in 45 BC. \n",
        "    This book is a treatise on the theory of ethics, very popular during the Renaissance.\n",
        "    \"\"\", text_alignment=Alignment.JUSTIFIED, hyphenation=hyphenation_algorithm))\n",
        "\n",
        "# write paragraph\n",
        "layout.add(Paragraph(\n",
        "    \"\"\"\n",
        "    It is a long established fact that a reader will be distracted by the readable content of a page when looking at its layout. \n",
        "    The point of using Lorem Ipsum is that it has a more-or-less normal distribution of letters, as opposed to using 'Content here, content here', \n",
        "    making it look like readable English. Many desktop publishing packages and web page editors now use Lorem Ipsum as their default model text, \n",
        "    and a search for 'lorem ipsum' will uncover many web sites still in their infancy. \n",
        "    Various versions have evolved over the years, sometimes by accident, sometimes on purpose (injected humour and the like).\n",
        "    \"\"\", text_alignment=Alignment.JUSTIFIED, hyphenation=hyphenation_algorithm))\n",
        "\n",
        "# write to disk\n",
        "with open(\"output.pdf\", \"wb\") as pdf_file_handle:\n",
        "  PDF.dumps(pdf_file_handle, pdf)"
      ],
      "execution_count": 36,
      "outputs": [
        {
          "output_type": "display_data",
          "data": {
            "image/png": "[encoded data removed]",
            "text/plain": [
              "<Figure size 432x288 with 1 Axes>"
            ]
          },
          "metadata": {}
        }
      ]
    },
    {
      "cell_type": "markdown",
      "metadata": {
        "id": "vPlHN-LHQc3W"
      },
      "source": [
        "Now we can add a piechart using the function we declared earlier;"
      ]
    },
    {
      "cell_type": "code",
      "metadata": {
        "colab": {
          "base_uri": "https://localhost:8080/",
          "height": 265
        },
        "id": "gNqLPu_BQLFD",
        "outputId": "6b045bfe-6053-4bc7-97de-48ad511159d6"
      },
      "source": [
        "# write graph\n",
        "layout.add(create_piechart([\"Loren\", \"Ipsum\", \"Dolor\"], \n",
        "                           [0.6, 0.3, 0.1]))"
      ],
      "execution_count": 37,
      "outputs": [
        {
          "output_type": "execute_result",
          "data": {
            "text/plain": [
              "<borb.pdf.canvas.layout.page_layout.multi_column_layout.MultiColumnLayout at 0x7fbb9882c1d0>"
            ]
          },
          "metadata": {},
          "execution_count": 37
        },
        {
          "output_type": "display_data",
          "data": {
            "image/png": "[encoded data removed]",
            "text/plain": [
              "<Figure size 432x288 with 1 Axes>"
            ]
          },
          "metadata": {}
        }
      ]
    },
    {
      "cell_type": "markdown",
      "metadata": {
        "id": "i9kwgrWRQSOh"
      },
      "source": [
        "Next we're going to write two more `Paragraph` objects"
      ]
    },
    {
      "cell_type": "code",
      "metadata": {
        "colab": {
          "base_uri": "https://localhost:8080/"
        },
        "id": "nU6T2G91QVby",
        "outputId": "ff4338e4-ae62-4025-9c54-c3a259259f42"
      },
      "source": [
        "# write paragraph\n",
        "layout.add(Paragraph(\n",
        "    \"\"\"\n",
        "    Contrary to popular belief, Lorem Ipsum is not simply random text. \n",
        "    It has roots in a piece of classical Latin literature from 45 BC, making it over 2000 years old. \n",
        "    Richard McClintock, a Latin professor at Hampden-Sydney College in Virginia, looked up one of the more obscure Latin words, \n",
        "    consectetur, from a Lorem Ipsum passage, and going through the cites of the word in classical literature, \n",
        "    discovered the undoubtable source. Lorem Ipsum comes from sections 1.10.32 and 1.10.33 of \"de Finibus Bonorum et Malorum\" \n",
        "    (The Extremes of Good and Evil) by Cicero, written in 45 BC. \n",
        "    This book is a treatise on the theory of ethics, very popular during the Renaissance.\n",
        "    \"\"\", text_alignment=Alignment.JUSTIFIED, hyphenation=hyphenation_algorithm))\n",
        "\n",
        "# write paragraph\n",
        "layout.add(Paragraph(\n",
        "    \"\"\"\n",
        "    It is a long established fact that a reader will be distracted by the readable content of a page when looking at its layout. \n",
        "    The point of using Lorem Ipsum is that it has a more-or-less normal distribution of letters, as opposed to using 'Content here, content here', \n",
        "    making it look like readable English. Many desktop publishing packages and web page editors now use Lorem Ipsum as their default model text, \n",
        "    and a search for 'lorem ipsum' will uncover many web sites still in their infancy. \n",
        "    Various versions have evolved over the years, sometimes by accident, sometimes on purpose (injected humour and the like).\n",
        "    \"\"\", text_alignment=Alignment.JUSTIFIED, hyphenation=hyphenation_algorithm))"
      ],
      "execution_count": 38,
      "outputs": [
        {
          "output_type": "execute_result",
          "data": {
            "text/plain": [
              "<borb.pdf.canvas.layout.page_layout.multi_column_layout.MultiColumnLayout at 0x7fbb9882c1d0>"
            ]
          },
          "metadata": {},
          "execution_count": 38
        }
      ]
    },
    {
      "cell_type": "markdown",
      "metadata": {
        "id": "2-EbFX5jQW30"
      },
      "source": [
        "Finally, we can store the `Document`"
      ]
    },
    {
      "cell_type": "code",
      "metadata": {
        "id": "xdO9vQftQahO"
      },
      "source": [
        "# write to disk\n",
        "with open(\"output.pdf\", \"wb\") as pdf_file_handle:\n",
        "  PDF.dumps(pdf_file_handle, pdf)"
      ],
      "execution_count": 39,
      "outputs": []
    }
  ]
}