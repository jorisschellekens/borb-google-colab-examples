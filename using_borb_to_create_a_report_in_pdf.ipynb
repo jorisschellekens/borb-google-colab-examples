{
  "nbformat": 4,
  "nbformat_minor": 0,
  "metadata": {
    "colab": {
      "name": "using_borb_to_create_a_report_in_pdf.ipynb",
      "provenance": [],
      "authorship_tag": "ABX9TyNrvRhYw1Z52LCw72Ydw1L4",
      "include_colab_link": true
    },
    "kernelspec": {
      "name": "python3",
      "display_name": "Python 3"
    },
    "language_info": {
      "name": "python"
    }
  },
  "cells": [
    {
      "cell_type": "markdown",
      "metadata": {
        "id": "view-in-github",
        "colab_type": "text"
      },
      "source": [
        "<a href=\"https://colab.research.google.com/github/jorisschellekens/borb-google-colab-examples/blob/main/using_borb_to_create_a_report_in_pdf.ipynb\" target=\"_parent\"><img src=\"https://colab.research.google.com/assets/colab-badge.svg\" alt=\"Open In Colab\"/></a>"
      ]
    },
    {
      "cell_type": "markdown",
      "metadata": {
        "id": "V6n-xtnTFS45"
      },
      "source": [
        "# ![borb logo](https://github.com/jorisschellekens/borb/raw/master/logo/borb_64.png) Using `borb` to create a report in PDF"
      ]
    },
    {
      "cell_type": "markdown",
      "metadata": {
        "id": "ZZGocUhnPgh7"
      },
      "source": [
        "[`borb`](https://github.com/jorisschellekens/borb) is a library for reading, creating and manipulating PDF files in python. borb was created in 2020 by Joris Schellekens and is still in active development. Check out the [GitHub repository](https://github.com/jorisschellekens/borb), or the [borb website](https://borbpdf.com)."
      ]
    },
    {
      "cell_type": "markdown",
      "metadata": {
        "id": "-r6uMUr2Pl0N"
      },
      "source": [
        "Let's start by installing `borb`"
      ]
    },
    {
      "cell_type": "code",
      "metadata": {
        "colab": {
          "base_uri": "https://localhost:8080/"
        },
        "id": "iZJ8UIv5Ez25",
        "outputId": "146b04b7-2466-40b0-d675-bd918073035f"
      },
      "source": [
        "pip install borb"
      ],
      "execution_count": 12,
      "outputs": [
        {
          "output_type": "stream",
          "name": "stdout",
          "text": [
            "Requirement already satisfied: borb in /usr/local/lib/python3.7/dist-packages (2.0.19)\n",
            "Requirement already satisfied: fonttools>=4.22.1 in /usr/local/lib/python3.7/dist-packages (from borb) (4.29.1)\n",
            "Requirement already satisfied: qrcode[pil]>=6.1 in /usr/local/lib/python3.7/dist-packages (from borb) (7.3.1)\n",
            "Requirement already satisfied: setuptools>=51.1.1 in /usr/local/lib/python3.7/dist-packages (from borb) (57.4.0)\n",
            "Requirement already satisfied: Pillow>=7.1.0 in /usr/local/lib/python3.7/dist-packages (from borb) (7.1.2)\n",
            "Requirement already satisfied: requests>=2.24.0 in /usr/local/lib/python3.7/dist-packages (from borb) (2.27.1)\n",
            "Requirement already satisfied: python-barcode>=0.13.1 in /usr/local/lib/python3.7/dist-packages (from borb) (0.13.1)\n",
            "Requirement already satisfied: certifi>=2017.4.17 in /usr/local/lib/python3.7/dist-packages (from requests>=2.24.0->borb) (2021.10.8)\n",
            "Requirement already satisfied: charset-normalizer~=2.0.0 in /usr/local/lib/python3.7/dist-packages (from requests>=2.24.0->borb) (2.0.11)\n",
            "Requirement already satisfied: idna<4,>=2.5 in /usr/local/lib/python3.7/dist-packages (from requests>=2.24.0->borb) (2.10)\n",
            "Requirement already satisfied: urllib3<1.27,>=1.21.1 in /usr/local/lib/python3.7/dist-packages (from requests>=2.24.0->borb) (1.24.3)\n"
          ]
        }
      ]
    },
    {
      "cell_type": "markdown",
      "metadata": {
        "id": "HgFDMlu6FTsH"
      },
      "source": [
        "For this tutorial we're also going to need:\n",
        "\n",
        "- matplotlib\n",
        "- pandas (possibly, if you want to do some more advanced graphs/charts)"
      ]
    },
    {
      "cell_type": "code",
      "metadata": {
        "colab": {
          "base_uri": "https://localhost:8080/"
        },
        "id": "Z9LOUnueGggA",
        "outputId": "7acaec30-b08c-4fa8-f54c-869045bcf70f"
      },
      "source": [
        "pip install matplotlib"
      ],
      "execution_count": 13,
      "outputs": [
        {
          "output_type": "stream",
          "name": "stdout",
          "text": [
            "Requirement already satisfied: matplotlib in /usr/local/lib/python3.7/dist-packages (3.2.2)\n",
            "Requirement already satisfied: python-dateutil>=2.1 in /usr/local/lib/python3.7/dist-packages (from matplotlib) (2.8.2)\n",
            "Requirement already satisfied: numpy>=1.11 in /usr/local/lib/python3.7/dist-packages (from matplotlib) (1.21.5)\n",
            "Requirement already satisfied: pyparsing!=2.0.4,!=2.1.2,!=2.1.6,>=2.0.1 in /usr/local/lib/python3.7/dist-packages (from matplotlib) (3.0.7)\n",
            "Requirement already satisfied: cycler>=0.10 in /usr/local/lib/python3.7/dist-packages (from matplotlib) (0.11.0)\n",
            "Requirement already satisfied: kiwisolver>=1.0.1 in /usr/local/lib/python3.7/dist-packages (from matplotlib) (1.3.2)\n",
            "Requirement already satisfied: six>=1.5 in /usr/local/lib/python3.7/dist-packages (from python-dateutil>=2.1->matplotlib) (1.15.0)\n"
          ]
        }
      ]
    },
    {
      "cell_type": "markdown",
      "metadata": {
        "id": "N8KdhbBUGoAW"
      },
      "source": [
        "Before we can create a piechart, we're going to write a small utility function that generates N colors, evenly distributed among the color-spectrum. This will help us whenever we need to create a plot and color each section."
      ]
    },
    {
      "cell_type": "code",
      "metadata": {
        "id": "WSkl3EyKKPLp"
      },
      "source": [
        "# new import(s)\n",
        "from borb.pdf.canvas.color.color import HSVColor, HexColor\n",
        "from decimal import Decimal\n",
        "import typing\n",
        "\n",
        "def create_n_colors(n: int) -> typing.List[str]:\n",
        "  # the base color is borb-blue\n",
        "  base_hsv_color: HSVColor = HSVColor.from_rgb(HexColor(\"56cbf9\"))\n",
        "  # this array comprehension creates n HSVColor objects, transforms then to RGB, and then returns their hex string\n",
        "  return [HSVColor(base_hsv_color.hue + Decimal(x / 360), Decimal(1), Decimal(1)).to_rgb().to_hex_string() for x in range(0, 360, int(360/n))]"
      ],
      "execution_count": 14,
      "outputs": []
    },
    {
      "cell_type": "markdown",
      "metadata": {
        "id": "RGKs-hriMCZU"
      },
      "source": [
        "Now we can define our `create_pie_chart` function;"
      ]
    },
    {
      "cell_type": "code",
      "metadata": {
        "id": "p-Am2lAaHBfq"
      },
      "source": [
        "# new import(s)\n",
        "import matplotlib.pyplot as plt\n",
        "from borb.pdf.canvas.layout.image.chart import Chart\n",
        "from borb.pdf.canvas.layout.layout_element import Alignment\n",
        "\n",
        "\n",
        "def create_piechart(labels: typing.List[str], data: typing.List[float]):\n",
        "\n",
        "  fig1, ax1 = plt.subplots()\n",
        "  ax1.pie(\n",
        "    data,\n",
        "    explode=[0 for _ in range(0, len(labels))],\n",
        "    labels=labels,\n",
        "    autopct=\"%1.1f%%\",\n",
        "    shadow=True,\n",
        "    startangle=90,\n",
        "    colors=create_n_colors(len(labels)),\n",
        "  )\n",
        "\n",
        "  ax1.axis(\"equal\")  # Equal aspect ratio ensures that pie is drawn as a circle.\n",
        "\n",
        "  return Chart(\n",
        "    plt.gcf(),\n",
        "    width=Decimal(200),\n",
        "    height=Decimal(200),\n",
        "    horizontal_alignment=Alignment.CENTERED,\n",
        "  )"
      ],
      "execution_count": 15,
      "outputs": []
    },
    {
      "cell_type": "markdown",
      "metadata": {
        "id": "KdMbgJRFMN08"
      },
      "source": [
        "Now let's create a PDF document using our function"
      ]
    },
    {
      "cell_type": "code",
      "metadata": {
        "colab": {
          "base_uri": "https://localhost:8080/"
        },
        "id": "0lBRcVeHMRHE",
        "outputId": "eac81936-49a3-407a-d856-24419bcbeb34"
      },
      "source": [
        "# new import(s)\n",
        "from borb.pdf.document.document import Document\n",
        "from borb.pdf.page.page import Page\n",
        "from borb.pdf.pdf import PDF\n",
        "from borb.pdf.canvas.layout.page_layout.multi_column_layout import MultiColumnLayout\n",
        "from borb.pdf.canvas.layout.page_layout.page_layout import PageLayout\n",
        "from borb.pdf.canvas.layout.text.paragraph import Paragraph\n",
        "\n",
        "# create empty Document\n",
        "pdf = Document()\n",
        "\n",
        "# create empty Page\n",
        "page = Page()\n",
        "\n",
        "# add Page to Document\n",
        "pdf.append_page(page)\n",
        "\n",
        "# create PageLayout\n",
        "layout: PageLayout = MultiColumnLayout(page)\n",
        "\n",
        "# write title\n",
        "layout.add(Paragraph(\"About Lorem Ipsum\", \n",
        "                     font_size=Decimal(20), \n",
        "                     font=\"Helvetica-Bold\"))"
      ],
      "execution_count": 16,
      "outputs": [
        {
          "output_type": "execute_result",
          "data": {
            "text/plain": [
              "<borb.pdf.canvas.layout.page_layout.multi_column_layout.MultiColumnLayout at 0x7feabc362110>"
            ]
          },
          "metadata": {},
          "execution_count": 16
        }
      ]
    },
    {
      "cell_type": "markdown",
      "metadata": {
        "id": "tH6N1_FVP7pM"
      },
      "source": [
        "We'll be using hyphenation in this PDF to ensure the text can be laid out even more smoothly. Hyphenation in `borb` is pretty straightforward;"
      ]
    },
    {
      "cell_type": "code",
      "metadata": {
        "colab": {
          "base_uri": "https://localhost:8080/"
        },
        "id": "AfmXg2AEQEfj",
        "outputId": "8165be90-6e03-4d72-ec9b-db88d63194a7"
      },
      "source": [
        "# new import(s)\n",
        "from borb.pdf.canvas.layout.hyphenation.hyphenation import Hyphenation\n",
        "\n",
        "# create hyphenation algorithm\n",
        "hyphenation_algorithm: Hyphenation = Hyphenation(\"en-gb\")\n",
        "\n",
        "# write paragraph\n",
        "layout.add(Paragraph(\n",
        "    \"\"\"\n",
        "    Lorem Ipsum is simply dummy text of the printing and typesetting industry. \n",
        "    Lorem Ipsum has been the industry's standard dummy text ever since the 1500s, \n",
        "    when an unknown printer took a galley of type and scrambled it to make a type specimen book. \n",
        "    It has survived not only five centuries, but also the leap into electronic typesetting, remaining essentially unchanged. \n",
        "    It was popularised in the 1960s with the release of Letraset sheets containing Lorem Ipsum passages, \n",
        "    and more recently with desktop publishing software like Aldus PageMaker including versions of Lorem Ipsum.\n",
        "    \"\"\", text_alignment=Alignment.JUSTIFIED, hyphenation=hyphenation_algorithm))"
      ],
      "execution_count": 17,
      "outputs": [
        {
          "output_type": "execute_result",
          "data": {
            "text/plain": [
              "<borb.pdf.canvas.layout.page_layout.multi_column_layout.MultiColumnLayout at 0x7feabc362110>"
            ]
          },
          "metadata": {},
          "execution_count": 17
        }
      ]
    },
    {
      "cell_type": "markdown",
      "metadata": {
        "id": "vPlHN-LHQc3W"
      },
      "source": [
        "Now we can add a piechart using the function we declared earlier;"
      ]
    },
    {
      "cell_type": "code",
      "metadata": {
        "colab": {
          "base_uri": "https://localhost:8080/",
          "height": 0
        },
        "id": "gNqLPu_BQLFD",
        "outputId": "8dd4c5b8-e7c3-4e65-cea3-c39753aba132"
      },
      "source": [
        "# write graph\n",
        "layout.add(create_piechart([\"Loren\", \"Ipsum\", \"Dolor\"], \n",
        "                           [0.6, 0.3, 0.1]))"
      ],
      "execution_count": 18,
      "outputs": [
        {
          "output_type": "execute_result",
          "data": {
            "text/plain": [
              "<borb.pdf.canvas.layout.page_layout.multi_column_layout.MultiColumnLayout at 0x7feabc362110>"
            ]
          },
          "metadata": {},
          "execution_count": 18
        },
        {
          "output_type": "display_data",
          "data": {
            "image/png": "[encoded data removed]",
            "text/plain": [
              "<Figure size 432x288 with 1 Axes>"
            ]
          },
          "metadata": {}
        }
      ]
    },
    {
      "cell_type": "markdown",
      "metadata": {
        "id": "i9kwgrWRQSOh"
      },
      "source": [
        "Next we're going to write two more `Paragraph` objects"
      ]
    },
    {
      "cell_type": "code",
      "metadata": {
        "colab": {
          "base_uri": "https://localhost:8080/"
        },
        "id": "nU6T2G91QVby",
        "outputId": "207664e4-fa32-477a-da55-d0902496da49"
      },
      "source": [
        "# write paragraph\n",
        "layout.add(Paragraph(\n",
        "    \"\"\"\n",
        "    Contrary to popular belief, Lorem Ipsum is not simply random text. \n",
        "    It has roots in a piece of classical Latin literature from 45 BC, making it over 2000 years old. \n",
        "    Richard McClintock, a Latin professor at Hampden-Sydney College in Virginia, looked up one of the more obscure Latin words, \n",
        "    consectetur, from a Lorem Ipsum passage, and going through the cites of the word in classical literature, \n",
        "    discovered the undoubtable source.\n",
        "    \"\"\", text_alignment=Alignment.JUSTIFIED, hyphenation=hyphenation_algorithm))\n",
        "\n",
        "# write paragraph\n",
        "layout.add(Paragraph(\n",
        "    \"\"\"\n",
        "    Lorem Ipsum is simply dummy text of the printing and typesetting industry. \n",
        "    \"\"\", \n",
        "    font=\"Courier-Bold\",\n",
        "    text_alignment=Alignment.JUSTIFIED, \n",
        "    hyphenation=hyphenation_algorithm,\n",
        "    border_color=HexColor(\"56cbf9\"),\n",
        "    border_width=Decimal(3),\n",
        "    border_left=True,\n",
        "    padding_left=Decimal(5),\n",
        "    padding_bottom=Decimal(5),\n",
        "))\n",
        "\n",
        "# write paragraph\n",
        "layout.add(Paragraph(\n",
        "    \"\"\"\n",
        "    Lorem Ipsum comes from sections 1.10.32 and 1.10.33 of \"de Finibus Bonorum et Malorum\" \n",
        "    (The Extremes of Good and Evil) by Cicero, written in 45 BC. \n",
        "    This book is a treatise on the theory of ethics, very popular during the Renaissance.\n",
        "    \"\"\", text_alignment=Alignment.JUSTIFIED, hyphenation=hyphenation_algorithm))"
      ],
      "execution_count": 19,
      "outputs": [
        {
          "output_type": "execute_result",
          "data": {
            "text/plain": [
              "<borb.pdf.canvas.layout.page_layout.multi_column_layout.MultiColumnLayout at 0x7feabc362110>"
            ]
          },
          "metadata": {},
          "execution_count": 19
        }
      ]
    },
    {
      "cell_type": "markdown",
      "metadata": {
        "id": "PYDG_mMXhnaZ"
      },
      "source": [
        "Let's add another plot"
      ]
    },
    {
      "cell_type": "code",
      "metadata": {
        "id": "TaBFWSODhxDz",
        "outputId": "bf80f40e-2d4a-4297-e827-e8d6191f3b85",
        "colab": {
          "base_uri": "https://localhost:8080/",
          "height": 0
        }
      },
      "source": [
        "# write graph\n",
        "layout.add(create_piechart([\"Loren\", \"Ipsum\", \"Dolor\", \"Sit\", \"Amet\"], \n",
        "                           [600, 30, 89, 100, 203]))"
      ],
      "execution_count": 20,
      "outputs": [
        {
          "output_type": "execute_result",
          "data": {
            "text/plain": [
              "<borb.pdf.canvas.layout.page_layout.multi_column_layout.MultiColumnLayout at 0x7feabc362110>"
            ]
          },
          "metadata": {},
          "execution_count": 20
        },
        {
          "output_type": "display_data",
          "data": {
            "image/png": "[encoded data removed]",
            "text/plain": [
              "<Figure size 432x288 with 1 Axes>"
            ]
          },
          "metadata": {}
        }
      ]
    },
    {
      "cell_type": "markdown",
      "metadata": {
        "id": "iW9TET3qhq21"
      },
      "source": [
        "And one more paragraph of content"
      ]
    },
    {
      "cell_type": "code",
      "metadata": {
        "id": "DMd4U5qnhpcE",
        "outputId": "94f72c41-c598-495b-a8d3-9ab5c8daff58",
        "colab": {
          "base_uri": "https://localhost:8080/"
        }
      },
      "source": [
        "# write paragraph\n",
        "layout.add(Paragraph(\n",
        "    \"\"\"\n",
        "    It is a long established fact that a reader will be distracted by the readable content of a page when looking at its layout. \n",
        "    The point of using Lorem Ipsum is that it has a more-or-less normal distribution of letters, as opposed to using 'Content here, content here', \n",
        "    making it look like readable English. Many desktop publishing packages and web page editors now use Lorem Ipsum as their default model text, \n",
        "    and a search for 'lorem ipsum' will uncover many web sites still in their infancy. \n",
        "    Various versions have evolved over the years, sometimes by accident, sometimes on purpose (injected humour and the like).\n",
        "    \"\"\", text_alignment=Alignment.JUSTIFIED, hyphenation=hyphenation_algorithm))"
      ],
      "execution_count": 21,
      "outputs": [
        {
          "output_type": "execute_result",
          "data": {
            "text/plain": [
              "<borb.pdf.canvas.layout.page_layout.multi_column_layout.MultiColumnLayout at 0x7feabc362110>"
            ]
          },
          "metadata": {},
          "execution_count": 21
        }
      ]
    },
    {
      "cell_type": "markdown",
      "metadata": {
        "id": "2-EbFX5jQW30"
      },
      "source": [
        "Finally, we can store the `Document`"
      ]
    },
    {
      "cell_type": "code",
      "metadata": {
        "id": "xdO9vQftQahO"
      },
      "source": [
        "# write to disk\n",
        "with open(\"output.pdf\", \"wb\") as pdf_file_handle:\n",
        "  PDF.dumps(pdf_file_handle, pdf)"
      ],
      "execution_count": 22,
      "outputs": []
    }
  ]
}
