{
  "nbformat": 4,
  "nbformat_minor": 0,
  "metadata": {
    "colab": {
      "name": "using_borb_to_create_a_stunning_flyer_in_pdf.ipynb",
      "provenance": [],
      "collapsed_sections": [],
      "authorship_tag": "ABX9TyOVlZj9BBUdb43P1f7w1ePZ",
      "include_colab_link": true
    },
    "kernelspec": {
      "name": "python3",
      "display_name": "Python 3"
    },
    "language_info": {
      "name": "python"
    }
  },
  "cells": [
    {
      "cell_type": "markdown",
      "metadata": {
        "id": "view-in-github",
        "colab_type": "text"
      },
      "source": [
        "<a href=\"https://colab.research.google.com/github/jorisschellekens/borb-google-colab-examples/blob/main/using_borb_to_create_a_stunning_flyer_in_pdf.ipynb\" target=\"_parent\"><img src=\"https://colab.research.google.com/assets/colab-badge.svg\" alt=\"Open In Colab\"/></a>"
      ]
    },
    {
      "cell_type": "markdown",
      "metadata": {
        "id": "ROfVr-yY-ONA"
      },
      "source": [
        "# ![borb logo](https://github.com/jorisschellekens/borb/raw/master/logo/borb_64.png) Using `borb` to create a stunning flyer in PDF"
      ]
    },
    {
      "cell_type": "markdown",
      "metadata": {
        "id": "pQAUIyuU-VLd"
      },
      "source": [
        "[`borb`](https://github.com/jorisschellekens/borb) is a library for reading, creating and manipulating PDF files in python. borb was created in 2020 by Joris Schellekens and is still in active development. Check out the [GitHub repository](https://github.com/jorisschellekens/borb), or the [borb website](https://borbpdf.com)."
      ]
    },
    {
      "cell_type": "markdown",
      "metadata": {
        "id": "6-M_AuIQ-Y94"
      },
      "source": [
        "Let's start by installing `borb`"
      ]
    },
    {
      "cell_type": "code",
      "metadata": {
        "colab": {
          "base_uri": "https://localhost:8080/"
        },
        "id": "hZr_6C0PvP2z",
        "outputId": "bcdf611e-77e4-4a80-a649-d865bdee16bb"
      },
      "source": [
        "pip install borb"
      ],
      "execution_count": 8,
      "outputs": [
        {
          "output_type": "stream",
          "name": "stdout",
          "text": [
            "Looking in indexes: https://pypi.org/simple, https://us-python.pkg.dev/colab-wheels/public/simple/\n",
            "Requirement already satisfied: borb in /usr/local/lib/python3.7/dist-packages (2.0.29)\n",
            "Requirement already satisfied: fonttools>=4.22.1 in /usr/local/lib/python3.7/dist-packages (from borb) (4.33.3)\n",
            "Requirement already satisfied: qrcode[pil]>=6.1 in /usr/local/lib/python3.7/dist-packages (from borb) (7.3.1)\n",
            "Requirement already satisfied: requests>=2.24.0 in /usr/local/lib/python3.7/dist-packages (from borb) (2.28.1)\n",
            "Requirement already satisfied: setuptools>=51.1.1 in /usr/local/lib/python3.7/dist-packages (from borb) (57.4.0)\n",
            "Requirement already satisfied: Pillow>=7.1.0 in /usr/local/lib/python3.7/dist-packages (from borb) (7.1.2)\n",
            "Requirement already satisfied: python-barcode>=0.13.1 in /usr/local/lib/python3.7/dist-packages (from borb) (0.14.0)\n",
            "Requirement already satisfied: charset-normalizer<3,>=2 in /usr/local/lib/python3.7/dist-packages (from requests>=2.24.0->borb) (2.0.12)\n",
            "Requirement already satisfied: urllib3<1.27,>=1.21.1 in /usr/local/lib/python3.7/dist-packages (from requests>=2.24.0->borb) (1.24.3)\n",
            "Requirement already satisfied: idna<4,>=2.5 in /usr/local/lib/python3.7/dist-packages (from requests>=2.24.0->borb) (2.10)\n",
            "Requirement already satisfied: certifi>=2017.4.17 in /usr/local/lib/python3.7/dist-packages (from requests>=2.24.0->borb) (2022.6.15)\n"
          ]
        }
      ]
    },
    {
      "cell_type": "markdown",
      "metadata": {
        "id": "E1jL_SYNiWJo"
      },
      "source": [
        "For the next snippet of code, we're going to need these imports. They form the basis of any workflow (with borb) in which you create a PDF."
      ]
    },
    {
      "cell_type": "code",
      "metadata": {
        "id": "I6FzsGmprxbq"
      },
      "source": [
        "from borb.pdf.document.document import Document\n",
        "from borb.pdf.page.page import Page\n",
        "from borb.pdf.pdf import PDF\n",
        "from borb.pdf.canvas.layout.page_layout.multi_column_layout import SingleColumnLayout\n",
        "from borb.pdf.canvas.layout.page_layout.page_layout import PageLayout"
      ],
      "execution_count": 9,
      "outputs": []
    },
    {
      "cell_type": "markdown",
      "metadata": {
        "id": "JyAoXM0Wiiww"
      },
      "source": [
        "These are the steps to creating a PDF document using `borb`:\n",
        "\n",
        "- Create an empty `Document`\n",
        "- Create an empty `Page`\n",
        "- Append the `Page` to the `Document`\n",
        "- Set a `PageLayout` to handle the flow of content (we're using a `SingleColumnLayout` here)\n",
        "- Add content (not shown here)\n",
        "- Write the PDF to disk (not shown here)"
      ]
    },
    {
      "cell_type": "code",
      "metadata": {
        "id": "KclBW8AMvrRz"
      },
      "source": [
        "# create empty Document\n",
        "pdf = Document()\n",
        "\n",
        "# create empty Page\n",
        "page = Page()\n",
        "\n",
        "# add Page to Document\n",
        "pdf.add_page(page)\n",
        "\n",
        "# create PageLayout\n",
        "layout: PageLayout = SingleColumnLayout(page)"
      ],
      "execution_count": 10,
      "outputs": []
    },
    {
      "cell_type": "markdown",
      "metadata": {
        "id": "uSwIrgmdjdU6"
      },
      "source": [
        "We'd like to add some geometric artwork to our flyer in the upper right corner. We're going to write a separate method to do that. Then we can later re-use this method (for instance on every `Page` in the `Document`)."
      ]
    },
    {
      "cell_type": "code",
      "metadata": {
        "id": "0smqhXX9weMl"
      },
      "source": [
        "# new imports\n",
        "from borb.pdf.canvas.layout.shape.shape import Shape\n",
        "from decimal import Decimal\n",
        "from borb.pdf.canvas.color.color import HexColor, X11Color\n",
        "from borb.pdf.canvas.geometry.rectangle import Rectangle\n",
        "from borb.pdf.page.page_size import PageSize\n",
        "import typing\n",
        "import random\n",
        "\n",
        "def add_gray_artwork_to_upper_right_corner(page: Page) -> None:\n",
        "  \"\"\"\n",
        "  This method will add a gray artwork of squares and triangles in the upper right corner\n",
        "  of the given Page\n",
        "  \"\"\"\n",
        "\n",
        "  # define a list of gray colors\n",
        "  grays: typing.List[HexColor] = [HexColor(\"A9A9A9\"), \n",
        "                                HexColor(\"D3D3D3\"), \n",
        "                                HexColor(\"DCDCDC\"), \n",
        "                                HexColor(\"E0E0E0\"),\n",
        "                                HexColor(\"E8E8E8\"),\n",
        "                                HexColor(\"F0F0F0\")]\n",
        "\n",
        "  # we're going to use the size of the page later on,\n",
        "  # so perhaps it's a good idea to retrieve it now                                \n",
        "  ps: typing.Tuple[Decimal, Decimal] = PageSize.A4_PORTRAIT.value\n",
        "\n",
        "  # now we'll write N triangles in the upper right corner\n",
        "  # we'll later fill the remaining space with squares\n",
        "  N: int = 4\n",
        "  M: Decimal = Decimal(32)\n",
        "  for i in range(0, N):\n",
        "    x: Decimal = ps[0] - N * M + i * M\n",
        "    y: Decimal = ps[1] - (i+1) * M\n",
        "    rg: HexColor = random.choice(grays)\n",
        "    Shape(points=[(x + M,y), (x + M, y + M), (x, y + M)], stroke_color=rg, fill_color=rg).layout(page, Rectangle(x, y, M, M))\n",
        "\n",
        "  # now we can fill up the remaining space with squares    \n",
        "  for i in range(0, N-1):\n",
        "    for j in range(0, N-1):\n",
        "      if j > i:\n",
        "        continue\n",
        "      x: Decimal = ps[0] - (N-1) * M + i * M\n",
        "      y: Decimal = ps[1] - (j+1) * M\n",
        "      rg: HexColor = random.choice(grays)\n",
        "      Shape(points=[(x, y), (x + M, y), (x + M, y + M), (x, y + M)], stroke_color=rg, fill_color=rg).layout(page, Rectangle(x, y, M, M))\n"
      ],
      "execution_count": 11,
      "outputs": []
    },
    {
      "cell_type": "markdown",
      "metadata": {
        "id": "nVQOwHHXk7_R"
      },
      "source": [
        "Now that we've defined this method, we can call it in the main body of our script to add the artwork to the PDF."
      ]
    },
    {
      "cell_type": "code",
      "metadata": {
        "id": "yjlC-7om7vCS"
      },
      "source": [
        "# now we can call this method in the main method\n",
        "add_gray_artwork_to_upper_right_corner(page)"
      ],
      "execution_count": 12,
      "outputs": []
    },
    {
      "cell_type": "markdown",
      "metadata": {
        "id": "a0RGaqsOlkIA"
      },
      "source": [
        "Next we're going to add our company contact details, so people know where to reach us:"
      ]
    },
    {
      "cell_type": "code",
      "metadata": {
        "id": "nVl6edLalowW",
        "colab": {
          "base_uri": "https://localhost:8080/"
        },
        "outputId": "45275774-c6e2-411a-9668-a552908ce6f9"
      },
      "source": [
        "# new imports\n",
        "from borb.pdf.canvas.layout.text.paragraph import Paragraph\n",
        "from borb.pdf.canvas.layout.image.barcode import Barcode, BarcodeType\n",
        "from borb.pdf.canvas.layout.layout_element import LayoutElement\n",
        "from borb.pdf.canvas.layout.table.flexible_column_width_table import FlexibleColumnWidthTable\n",
        "from borb.pdf.canvas.layout.annotation.remote_go_to_annotation import RemoteGoToAnnotation\n",
        "\n",
        "# contact information\n",
        "layout.add(Paragraph(\"Your Company\", font_color=HexColor(\"#6d64e8\"), font_size=Decimal(20)))\n",
        "\n",
        "# We're going to add a qr code that links to our website.\n",
        "# Later, we're going to add a remote go-to annotation \n",
        "# (that's just PDF talk for \"if you click the qr code, it will take you to our website\")\n",
        "# in order to be able to do that, we need its coordinates.\n",
        "qr_code: LayoutElement = Barcode(\n",
        "    data=\"https://www.borbpdf.com\",\n",
        "    width=Decimal(64),\n",
        "    height=Decimal(64),\n",
        "    type=BarcodeType.QR,\n",
        ")\n",
        "\n",
        "# now we can add this content to the table\n",
        "layout.add(\n",
        "    FlexibleColumnWidthTable(number_of_columns=2, number_of_rows=1)\n",
        "    .add(qr_code)\n",
        "    .add(\n",
        "      Paragraph(\n",
        "          \"\"\"\n",
        "          500 South Buena Vista Street\n",
        "          Burbank CA\n",
        "          91521-0991 USA\n",
        "          \"\"\",\n",
        "          padding_top=Decimal(12),\n",
        "          respect_newlines_in_text=True,\n",
        "          font_color=HexColor(\"#666666\"),\n",
        "          font_size=Decimal(10),\n",
        "      )\n",
        "    )\n",
        "    .no_borders()\n",
        ")\n",
        "\n",
        "# let's add the remote go-to annotation\n",
        "page.add_annotation(RemoteGoToAnnotation(\n",
        "  qr_code.get_bounding_box(), uri=\"https://www.borbpdf.com\"\n",
        "))\n"
      ],
      "execution_count": 13,
      "outputs": [
        {
          "output_type": "execute_result",
          "data": {
            "text/plain": [
              "{<borb.io.read.types.Name at 0x7f61cbd354d0>: [{<borb.io.read.types.Name at 0x7f61cbcdbbd0>: {<borb.io.read.types.Name at 0x7f61cbd1ef10>: <borb.io.read.types.Name at 0x7f61cbd65710>,\n",
              "    <borb.io.read.types.Name at 0x7f61cbcce810>: <borb.io.read.types.Name at 0x7f61cbccea10>,\n",
              "    <borb.io.read.types.Name at 0x7f61cbd40250>: <borb.io.read.types.String at 0x7f61cbd70bd0>},\n",
              "   <borb.io.read.types.Name at 0x7f61cbdf5f50>: [Decimal('0'),\n",
              "    Decimal('0'),\n",
              "    Decimal('0')],\n",
              "   <borb.io.read.types.Name at 0x7f61cbd2aad0>: Decimal('4'),\n",
              "   <borb.io.read.types.Name at 0x7f61cbd58450>: <borb.io.read.types.String at 0x7f61cbd58650>,\n",
              "   <borb.io.read.types.Name at 0x7f61cbd58610>: <borb.io.read.types.String at 0x7f61cbd40b10>,\n",
              "   <borb.io.read.types.Name at 0x7f61cbd35d90>: {...},\n",
              "   <borb.io.read.types.Name at 0x7f61cc002ad0>: [Decimal('59.50000000000000330291349826'),\n",
              "    Decimal('655'),\n",
              "    Decimal('123.5000000000000033029134983'),\n",
              "    Decimal('719')],\n",
              "   <borb.io.read.types.Name at 0x7f61cbd2a810>: <borb.io.read.types.Name at 0x7f61cbd2ae10>,\n",
              "   <borb.io.read.types.Name at 0x7f61cbd70fd0>: <borb.io.read.types.Name at 0x7f61cbf99490>}],\n",
              " <borb.io.read.types.Name at 0x7f61cbff3510>: {<borb.io.read.types.Name at 0x7f61cc04cad0>: b'x\\xda\\xdd\\x94MO\\x83@\\x10\\x86\\xef\\xfe\\x8a9\\xeaA\\xca\\xc0.\\xb0G[?\\xe2\\xb1\\x16M<\\xa2i\\xfd\\x82\\xd6\\xd66\\xc6\\x7f/T\\xca\\xce\\x00\\xd3\\xd4\\x86&Fz\\x99\\xe1\\x9d\\xb2\\xcf\\xbc;\\xbbsp\\x1d\\xa3\\x10\\xc3\\xa0%\\xb8\\xb9\\x82m\\xf2\\xe2\\t\\xd0q\\xd7\\x0f|\\x822f\\x93D\\xe8n\\xc2\\x0c\\x98\\xa0\\xbcM\\x98\\xe6B\\x10\\xb6\\x0b}\\x80!\\xcc\\xf3\\x85\\xa20R>\\xb6\\x04?d\\xa2\\xcc\\xc9\\xb4_%a\\x18\\x112\"\\x10\\xe4\\x14\\x84^(Y7\\x9e\\xe9\\xc0\\xaf\\xc8T@\\xc9\\x88`\\x91S\\x10zad\\xae\\x89\\\\\\xd5\\x12\\x94d\\x92\\\\#3\\xbaZ\\x07\\x15%#\\x82ENA\\xe8\\xa5{\\xcf\\xc49\\x13w\\x93\\n|\\x00\\xa5\\xc9<\\xdc\\x00\\xd6\\x90\\xadg5d\"02\\xb1\\x97\\xae\\'S<3\\xe2d\\x8a\\xbdH\\xfb\\xd2\\xb5\\xcb\\xad\\x00|dkdD\\xe0.K\\xf6[\\xe4\\xc0\\x0b\\x95n\\tJdI\\x96\\xcf?w\\x99\\x9c2\\xee\\xb2\\xd8\\x8bd\\xff\\x01\\x91\\xf9\\x95%^\\x0cb/\\xd2(\\x15\\xc8G@\\x9e9\\xcb\\xfa1K]G\\x15\\x9c\\xc5\\\\\\xf8\\xc6C\\x1d\\xd2;\\x8dU\\xf6.\\xd1\\xb6\\x12O\\xa8\\xc4\\xea\\xbc\\xca\\xbf\\xe2g3m\\x1c]\\xf2\\xfa\\xbe\\x13\\x95\\xdf\\xc9\\xc4\\xef\\x1c\\xdf\\xcfV\\x0b\\x18\\xcc\\xb2\\xf7d\\xfau\\x02\\xf1+S/b\\xf1\\x8f\\xb6{\\xf6zm\\x85\\xed\\xa0\\x19\\xe4[E\\x18\\xb1\\xba\\xdd\\xb2\\xc6g\\xd0\\xf3[\\xea\\xd2mu\\x81\\xd6r\\x9d]v\\xc7\\xb2\\xad\\xabN\\x1ao\\x86\\x8d7\\xb9\\x13\\x81\\xa2\\xfbd\\xb3V\\x98\\xc7\\x0cz\\xd7\\x19\\xc2\\xf9,?\\x0f\\xbf\\x9a\\xaer\\x89F\\xb0\\xe7t!\\x9b.\\x9b\\xa1\\xa7+l{d\\xb6\\x8dW^\\r\\xa3\\xd9j\\xf9\\x0c\\xfd\\xd5x\\x9a\\xc0\\xdd\\xcb\\xc72\\x81\\xd1r1\\x1e/;\\x18\\xb7?\\xe8K\\xe4\\xef\\xe2K\\x7f\\xb5xH\\xa6o08\\xfb\\x9f.\\x84\\xb8\\x8b\\x0b\\x06\\xb5\\x87\\xa7\\xae1\\x08\\xb7\\xa3=\\x9d\\xf8\\x06\\r\\x1f5\\xc7',\n",
              "  <borb.io.read.types.Name at 0x7f61cc04c910>: b'q 0.941176 0.941176 0.941176 RG  0.941176 0.941176 0.941176 rg 1.000000 w 499.000000 810.000000 m  499.000000 842.000000 l  467.000000 842.000000 l  B  Q q 0.878431 0.878431 0.878431 RG  0.878431 0.878431 0.878431 rg 1.000000 w 531.000000 778.000000 m  531.000000 810.000000 l  499.000000 810.000000 l  B  Q q 0.941176 0.941176 0.941176 RG  0.941176 0.941176 0.941176 rg 1.000000 w 563.000000 746.000000 m  563.000000 778.000000 l  531.000000 778.000000 l  B  Q q 0.909804 0.909804 0.909804 RG  0.909804 0.909804 0.909804 rg 1.000000 w 595.000000 714.000000 m  595.000000 746.000000 l  563.000000 746.000000 l  B  Q q 0.941176 0.941176 0.941176 RG  0.941176 0.941176 0.941176 rg 1.000000 w 499.000000 810.000000 m  531.000000 810.000000 l  531.000000 842.000000 l  499.000000 842.000000 l  B  Q q 0.878431 0.878431 0.878431 RG  0.878431 0.878431 0.878431 rg 1.000000 w 531.000000 810.000000 m  563.000000 810.000000 l  563.000000 842.000000 l  531.000000 842.000000 l  B  Q q 0.941176 0.941176 0.941176 RG  0.941176 0.941176 0.941176 rg 1.000000 w 531.000000 778.000000 m  563.000000 778.000000 l  563.000000 810.000000 l  531.000000 810.000000 l  B  Q q 0.878431 0.878431 0.878431 RG  0.878431 0.878431 0.878431 rg 1.000000 w 563.000000 810.000000 m  595.000000 810.000000 l  595.000000 842.000000 l  563.000000 842.000000 l  B  Q q 0.862745 0.862745 0.862745 RG  0.862745 0.862745 0.862745 rg 1.000000 w 563.000000 778.000000 m  595.000000 778.000000 l  595.000000 810.000000 l  563.000000 810.000000 l  B  Q q 0.862745 0.862745 0.862745 RG  0.862745 0.862745 0.862745 rg 1.000000 w 563.000000 746.000000 m  595.000000 746.000000 l  595.000000 778.000000 l  563.000000 778.000000 l  B  Q\\n            q\\n            BT\\n            0.427451 0.392157 0.909804 rg\\n            /F1 1.000000 Tf            \\n            20.000000 0 0 20.000000 59.500000 733.800000 Tm            \\n            (Your Company) Tj\\n            ET            \\n            Q\\n        \\n                q 1.000000 1.000000 1.000000 rg 59.500000 719.000000 m\\n                123.500000 719.000000 l\\n                123.500000 655.000000 l\\n                59.500000 655.000000 l\\n                59.500000 719.000000 l\\n                f\\n                Q\\n                 q 64.000000 0 0 64.000000 59.500000 655.000000 cm /Im1 Do Q \\n            q\\n            BT\\n            0.400000 0.400000 0.400000 rg\\n            /F1 1.000000 Tf            \\n            10.000000 0 0 10.000000 125.500000 695.000000 Tm            \\n            (500 South Buena Vista Street) Tj\\n            ET            \\n            Q\\n        \\n            q\\n            BT\\n            0.400000 0.400000 0.400000 rg\\n            /F1 1.000000 Tf            \\n            10.000000 0 0 10.000000 125.500000 683.000000 Tm            \\n            (Burbank CA) Tj\\n            ET            \\n            Q\\n        \\n            q\\n            BT\\n            0.400000 0.400000 0.400000 rg\\n            /F1 1.000000 Tf            \\n            10.000000 0 0 10.000000 125.500000 671.000000 Tm            \\n            (91521-0991 USA) Tj\\n            ET            \\n            Q\\n        ',\n",
              "  <borb.io.read.types.Name at 0x7f61cbff3090>: <borb.io.read.types.Name at 0x7f61cbf43a50>,\n",
              "  <borb.io.read.types.Name at 0x7f61cbff3190>: 470},\n",
              " <borb.io.read.types.Name at 0x7f61cbf6d590>: [Decimal('0'),\n",
              "  Decimal('0'),\n",
              "  Decimal('595'),\n",
              "  Decimal('842')],\n",
              " <borb.io.read.types.Name at 0x7f61cbf8d590>: {<borb.io.read.types.Name at 0x7f61cc062d50>: Decimal('1'),\n",
              "  <borb.io.read.types.Name at 0x7f61cc1e5c50>: [{...}],\n",
              "  <borb.io.read.types.Name at 0x7f61cbfe7590>: <borb.io.read.types.Name at 0x7f61cbfa6d10>},\n",
              " <borb.io.read.types.Name at 0x7f61cbff3650>: {<borb.io.read.types.Name at 0x7f61cbfb45d0>: {<borb.io.read.types.Name at 0x7f61cbf52810>: {<borb.io.read.types.Name at 0x7f61cbf43c90>: <borb.io.read.types.Name at 0x7f61cbf43c50>,\n",
              "    <borb.io.read.types.Name at 0x7f61cbf525d0>: <borb.io.read.types.Name at 0x7f61cbf433d0>,\n",
              "    <borb.io.read.types.Name at 0x7f61cbf5ed50>: <borb.io.read.types.Name at 0x7f61cbf43790>,\n",
              "    <borb.io.read.types.Name at 0x7f61cbf99e50>: <borb.io.read.types.Name at 0x7f61cbf5e390>}},\n",
              "  <borb.io.read.types.Name at 0x7f61cc002b10>: {<borb.io.read.types.Name at 0x7f61cbd89b90>: <PIL.Image.Image image mode=RGB size=330x330 at 0x7F61CC012990>}},\n",
              " <borb.io.read.types.Name at 0x7f61cbf6d4d0>: <borb.io.read.types.Name at 0x7f61cbf6d410>}"
            ]
          },
          "metadata": {},
          "execution_count": 13
        }
      ]
    },
    {
      "cell_type": "markdown",
      "metadata": {
        "id": "szaVhyIultBr"
      },
      "source": [
        "Now we can add a few titles and subtitles and some promotional blurb;"
      ]
    },
    {
      "cell_type": "code",
      "metadata": {
        "id": "eBgkNRxNlzCd",
        "colab": {
          "base_uri": "https://localhost:8080/"
        },
        "outputId": "d68d2d0a-ef9c-4a6a-d435-77865eb27575"
      },
      "source": [
        "# title\n",
        "layout.add(Paragraph(\"Productbrochure\", \n",
        "                     font_color=HexColor(\"#283592\"), \n",
        "                     font_size=Decimal(34)))\n",
        "\n",
        "# subtitle\n",
        "layout.add(Paragraph(\"September 4th, 2021\", \n",
        "                     font_color=HexColor(\"#e01b84\"), \n",
        "                     font_size=Decimal(11)))\n",
        "\n",
        "layout.add(Paragraph(\"Product Overview\",\n",
        "                     font_color=HexColor(\"000000\"),\n",
        "                     font_size=Decimal(21)))\n",
        "\n",
        "layout.add(Paragraph(\"\"\"\n",
        "                    Lorem ipsum dolor sit amet, consectetur adipiscing elit, sed do eiusmod tempor incididunt ut labore et dolore magna aliqua. \n",
        "                    Ut enim ad minim veniam, quis nostrud exercitation ullamco laboris nisi ut aliquip ex ea commodo consequat. \n",
        "                    Duis aute irure dolor in reprehenderit in voluptate velit esse cillum dolore eu fugiat nulla pariatur. \n",
        "                    Excepteur sint occaecat cupidatat non proident, sunt in culpa qui officia deserunt mollit anim id est laborum.\n",
        "                    \"\"\"))"
      ],
      "execution_count": 14,
      "outputs": [
        {
          "output_type": "execute_result",
          "data": {
            "text/plain": [
              "<borb.pdf.canvas.layout.page_layout.multi_column_layout.SingleColumnLayout at 0x7f61cbf6d990>"
            ]
          },
          "metadata": {},
          "execution_count": 14
        }
      ]
    },
    {
      "cell_type": "markdown",
      "metadata": {
        "id": "Zn3FvnFroUSt"
      },
      "source": [
        "Images make things more visually interesting. Let's add an `Image` with some core product features next to it;"
      ]
    },
    {
      "cell_type": "code",
      "metadata": {
        "id": "u-szV_0rodef",
        "outputId": "714f17d4-adf2-4dbe-c881-28f6ff37784d",
        "colab": {
          "base_uri": "https://localhost:8080/"
        }
      },
      "source": [
        "# new imports\n",
        "from borb.pdf.canvas.layout.table.fixed_column_width_table import FixedColumnWidthTable\n",
        "from borb.pdf.canvas.layout.table.table import TableCell\n",
        "from borb.pdf.canvas.layout.image.image import Image\n",
        "from borb.pdf.canvas.layout.list.unordered_list import UnorderedList\n",
        "\n",
        "# table with image and key features\n",
        "layout.add(\n",
        "  FixedColumnWidthTable(number_of_rows=2, number_of_columns=2, column_widths=[Decimal(0.3), Decimal(0.7)])\n",
        "  .add(\n",
        "    TableCell(\n",
        "      Image(\"https://www.att.com/catalog/en/skus/images/apple-iphone%2012-purple-450x350.png\", width=Decimal(128), height=Decimal(128)),\n",
        "      row_span=2,\n",
        "    )\n",
        "  )\n",
        "  .add(Paragraph(\"Key Features\", font_color=HexColor(\"e01b84\"), font=\"Helvetica-Bold\", padding_bottom=Decimal(10)))            \n",
        "  .add(\n",
        "    UnorderedList()\n",
        "      .add(Paragraph(\"Nam aliquet ex eget felis lobortis aliquet sit amet ut risus.\"))\n",
        "      .add(Paragraph(\"Maecenas sit amet odio ut erat tincidunt consectetur accumsan ut nunc.\"))\n",
        "      .add(Paragraph(\"Phasellus eget magna et justo malesuada fringilla.\"))\n",
        "      .add(Paragraph(\"Maecenas vitae dui ac nisi aliquam malesuada in consequat sapien.\"))\n",
        "    )\n",
        "  .no_borders()\n",
        ")"
      ],
      "execution_count": 15,
      "outputs": [
        {
          "output_type": "execute_result",
          "data": {
            "text/plain": [
              "<borb.pdf.canvas.layout.page_layout.multi_column_layout.SingleColumnLayout at 0x7f61cbf6d990>"
            ]
          },
          "metadata": {},
          "execution_count": 15
        }
      ]
    },
    {
      "cell_type": "markdown",
      "metadata": {
        "id": "xPDi9yons-ZX"
      },
      "source": [
        "Let's add a footer to the bottom of the page. We're going to put this in a separate method (so that we could call it later on, if we ever need to apply it to other pages in the PDF)."
      ]
    },
    {
      "cell_type": "code",
      "metadata": {
        "id": "UZWejXeetHJT"
      },
      "source": [
        "# new imports\n",
        "from borb.pdf.canvas.line_art.line_art_factory import LineArtFactory\n",
        "\n",
        "def add_colored_artwork_to_bottom_right_corner(page: Page) -> None:\n",
        "  \"\"\"\n",
        "  This method will add a blue/purple artwork of lines and squares to the bottom right corner\n",
        "  of the given Page\n",
        "  \"\"\"\n",
        "  ps: typing.Tuple[Decimal, Decimal] = PageSize.A4_PORTRAIT.value\n",
        "  \n",
        "  # square\n",
        "  Shape(points=[(ps[0] - 32, 40), (ps[0], 40), (ps[0], 40 + 32), (ps[0] - 32, 40 + 32)], stroke_color=HexColor(\"d53067\"), fill_color=HexColor(\"d53067\")).layout(page, Rectangle(ps[0] - 32, 40, 32, 32))\n",
        "  \n",
        "  # square\n",
        "  Shape(points=[(ps[0] - 64, 40), (ps[0] - 32, 40), (ps[0] - 32, 40 + 32), (ps[0] - 64, 40 + 32)], stroke_color=HexColor(\"eb3f79\"), fill_color=HexColor(\"eb3f79\")).layout(page, Rectangle(ps[0] - 64, 40, 32, 32))\n",
        "  \n",
        "  # triangle\n",
        "  Shape(points=[(ps[0] - 96, 40), (ps[0] - 64, 40), (ps[0] - 64, 40 + 32)], stroke_color=HexColor(\"e01b84\"), fill_color=HexColor(\"e01b84\")).layout(page, Rectangle(ps[0] - 96, 40, 32, 32))\n",
        "  \n",
        "  # line\n",
        "  r: Rectangle = Rectangle(Decimal(0), Decimal(32), ps[0], Decimal(8))\n",
        "  Shape(points=LineArtFactory.rectangle(r), stroke_color=HexColor(\"283592\"), fill_color=HexColor(\"283592\")).layout(page, r)\n"
      ],
      "execution_count": 16,
      "outputs": []
    },
    {
      "cell_type": "markdown",
      "metadata": {
        "id": "y15omGFEtwak"
      },
      "source": [
        "Now we can call this method in the main body;"
      ]
    },
    {
      "cell_type": "code",
      "metadata": {
        "id": "WYot_t4dtvs0"
      },
      "source": [
        "add_colored_artwork_to_bottom_right_corner(page)"
      ],
      "execution_count": 17,
      "outputs": []
    },
    {
      "cell_type": "markdown",
      "metadata": {
        "id": "ED2fE2vdpKYM"
      },
      "source": [
        "Finally, we can store the PDF;"
      ]
    },
    {
      "cell_type": "code",
      "metadata": {
        "id": "ADT70voWy21U"
      },
      "source": [
        "with open(\"flyer.pdf\", \"wb\") as pdf_file_handle:\n",
        "  PDF.dumps(pdf_file_handle, pdf)"
      ],
      "execution_count": 18,
      "outputs": []
    }
  ]
}