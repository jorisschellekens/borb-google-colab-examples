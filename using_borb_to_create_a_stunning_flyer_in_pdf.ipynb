{
  "nbformat": 4,
  "nbformat_minor": 0,
  "metadata": {
    "colab": {
      "name": "borb_collab_example_005.ipynb",
      "provenance": [],
      "collapsed_sections": [],
      "authorship_tag": "ABX9TyMsq5TrmtHnTZ1/t6ISo3iq",
      "include_colab_link": true
    },
    "kernelspec": {
      "name": "python3",
      "display_name": "Python 3"
    },
    "language_info": {
      "name": "python"
    }
  },
  "cells": [
    {
      "cell_type": "markdown",
      "metadata": {
        "id": "view-in-github",
        "colab_type": "text"
      },
      "source": [
        "<a href=\"https://colab.research.google.com/github/jorisschellekens/borb-google-colab-examples/blob/main/using_borb_to_create_a_stunning_flyer_in_pdf.ipynb\" target=\"_parent\"><img src=\"https://colab.research.google.com/assets/colab-badge.svg\" alt=\"Open In Colab\"/></a>"
      ]
    },
    {
      "cell_type": "markdown",
      "metadata": {
        "id": "ROfVr-yY-ONA"
      },
      "source": [
        "# ![borb logo](https://github.com/jorisschellekens/borb/raw/master/logo/borb_64.png) Using `borb` to create a stunning flyer in PDF"
      ]
    },
    {
      "cell_type": "markdown",
      "metadata": {
        "id": "pQAUIyuU-VLd"
      },
      "source": [
        "[`borb`](https://github.com/jorisschellekens/borb) is a library for reading, creating and manipulating PDF files in python. borb was created in 2020 by Joris Schellekens and is still in active development. Check out the [GitHub repository](https://github.com/jorisschellekens/borb), or the [borb website](https://borbpdf.com)."
      ]
    },
    {
      "cell_type": "markdown",
      "metadata": {
        "id": "6-M_AuIQ-Y94"
      },
      "source": [
        "Let's start by installing `borb`"
      ]
    },
    {
      "cell_type": "code",
      "metadata": {
        "colab": {
          "base_uri": "https://localhost:8080/"
        },
        "id": "hZr_6C0PvP2z",
        "outputId": "d6c1bbb7-dc0f-482c-99b1-dbfe280eeea8"
      },
      "source": [
        "pip install borb"
      ],
      "execution_count": 107,
      "outputs": [
        {
          "output_type": "stream",
          "name": "stdout",
          "text": [
            "Requirement already satisfied: borb in /usr/local/lib/python3.7/dist-packages (2.0.9.1)\n",
            "Requirement already satisfied: python-barcode>=0.13.1 in /usr/local/lib/python3.7/dist-packages (from borb) (0.13.1)\n",
            "Requirement already satisfied: Pillow>=7.1.0 in /usr/local/lib/python3.7/dist-packages (from borb) (7.1.2)\n",
            "Requirement already satisfied: requests>=2.24.0 in /usr/local/lib/python3.7/dist-packages (from borb) (2.26.0)\n",
            "Requirement already satisfied: qrcode[pil]>=6.1 in /usr/local/lib/python3.7/dist-packages (from borb) (7.3)\n",
            "Requirement already satisfied: setuptools~=51.1.1 in /usr/local/lib/python3.7/dist-packages (from borb) (51.1.2)\n",
            "Requirement already satisfied: fonttools>=4.22.1 in /usr/local/lib/python3.7/dist-packages (from borb) (4.26.2)\n",
            "Requirement already satisfied: idna<4,>=2.5 in /usr/local/lib/python3.7/dist-packages (from requests>=2.24.0->borb) (2.10)\n",
            "Requirement already satisfied: charset-normalizer~=2.0.0 in /usr/local/lib/python3.7/dist-packages (from requests>=2.24.0->borb) (2.0.4)\n",
            "Requirement already satisfied: certifi>=2017.4.17 in /usr/local/lib/python3.7/dist-packages (from requests>=2.24.0->borb) (2021.5.30)\n",
            "Requirement already satisfied: urllib3<1.27,>=1.21.1 in /usr/local/lib/python3.7/dist-packages (from requests>=2.24.0->borb) (1.24.3)\n"
          ]
        }
      ]
    },
    {
      "cell_type": "code",
      "metadata": {
        "id": "I6FzsGmprxbq"
      },
      "source": [
        "from borb.pdf.document import Document\n",
        "from borb.pdf.page.page import Page\n",
        "from borb.pdf.pdf import PDF\n",
        "from borb.pdf.canvas.layout.page_layout.multi_column_layout import SingleColumnLayout\n",
        "from borb.pdf.canvas.layout.page_layout.page_layout import PageLayout\n",
        "from borb.pdf.canvas.layout.text.paragraph import Paragraph\n",
        "from borb.pdf.canvas.layout.image.shape import Shape\n",
        "from decimal import Decimal\n",
        "from borb.pdf.canvas.color.color import HexColor, X11Color\n",
        "from borb.pdf.canvas.geometry.rectangle import Rectangle\n",
        "from borb.pdf.page.page_size import PageSize\n",
        "import typing\n",
        "import random"
      ],
      "execution_count": 108,
      "outputs": []
    },
    {
      "cell_type": "code",
      "metadata": {
        "id": "KclBW8AMvrRz"
      },
      "source": [
        "# create empty Document\n",
        "pdf = Document()\n",
        "\n",
        "# create empty Page\n",
        "page = Page()\n",
        "\n",
        "# add Page to Document\n",
        "pdf.append_page(page)\n",
        "\n",
        "# create PageLayout\n",
        "layout: PageLayout = SingleColumnLayout(page)"
      ],
      "execution_count": 113,
      "outputs": []
    },
    {
      "cell_type": "code",
      "metadata": {
        "id": "0smqhXX9weMl"
      },
      "source": [
        "def add_gray_artwork_upper_right_corner(page: Page) -> None:\n",
        "  \"\"\"\n",
        "  This method will add a gray artwork of squares and triangles in the upper right corner\n",
        "  of the given Page\n",
        "  \"\"\"\n",
        "  grays: typing.List[HexColor] = [HexColor(\"A9A9A9\"), \n",
        "                                HexColor(\"D3D3D3\"), \n",
        "                                HexColor(\"DCDCDC\"), \n",
        "                                HexColor(\"E0E0E0\"),\n",
        "                                HexColor(\"E8E8E8\"),\n",
        "                                HexColor(\"F0F0F0\")]\n",
        "  ps: typing.Tuple[Decimal, Decimal] = PageSize.A4_PORTRAIT.value\n",
        "  N: int = 4\n",
        "  M: Decimal = Decimal(32)\n",
        "  for i in range(0, N):\n",
        "    x: Decimal = ps[0] - N * M + i * M\n",
        "    y: Decimal = ps[1] - (i+1) * M\n",
        "    rg: HexColor = random.choice(grays)\n",
        "    Shape(points=[(x + M,y), (x + M, y + M), (x, y + M)], stroke_color=rg, fill_color=rg).layout(page, Rectangle(x, y, M, M))\n",
        "  for i in range(0, N-1):\n",
        "    for j in range(0, N-1):\n",
        "      if j > i:\n",
        "        continue\n",
        "      x: Decimal = ps[0] - (N-1) * M + i * M\n",
        "      y: Decimal = ps[1] - (j+1) * M\n",
        "      rg: HexColor = random.choice(grays)\n",
        "      Shape(points=[(x, y), (x + M, y), (x + M, y + M), (x, y + M)], stroke_color=rg, fill_color=rg).layout(page, Rectangle(x, y, M, M))\n"
      ],
      "execution_count": 110,
      "outputs": []
    },
    {
      "cell_type": "code",
      "metadata": {
        "colab": {
          "base_uri": "https://localhost:8080/"
        },
        "id": "yjlC-7om7vCS",
        "outputId": "a2817652-fc62-4e67-9f92-a9059d0653f3"
      },
      "source": [
        "add_gray_artwork_upper_right_corner(page)\n",
        "\n",
        "# contact information\n",
        "layout.add(Paragraph(\"Your Company\", font_color=HexColor(\"#6d64e8\"), font_size=Decimal(20)))\n",
        "layout.add(Paragraph(\"\"\"Je straat 123\n",
        "                        1234 AB Je plaats\n",
        "                        (+31) 00 000 00 00\n",
        "                    \"\"\", respect_newlines_in_text=True, font_color=HexColor(\"#666666\"), font_size=Decimal(10)))\n",
        "\n",
        "# title\n",
        "layout.add(Paragraph(\"Productbrochure\", \n",
        "                     font_color=HexColor(\"#283592\"), \n",
        "                     font_size=Decimal(34)))\n",
        "\n",
        "# subtitle\n",
        "layout.add(Paragraph(\"September 4th, 2021\", \n",
        "                     font_color=HexColor(\"#e01b84\"), \n",
        "                     font_size=Decimal(11)))\n",
        "\n",
        "layout.add(Paragraph(\"Productoverzicht\",\n",
        "                     font_color=HexColor(\"000000\"),\n",
        "                     font_size=Decimal(21)))\n",
        "\n",
        "layout.add(Paragraph(\"\"\"\n",
        "                      Voeg hier je tekst in Voeg hier je tekst in Voeg hier je tekst in \n",
        "                      Voeg hier je tekst in Voeg hier je tekst in Voeg hier je tekst in \n",
        "                      Voeg hier je tekst in Voeg hier je tekst in Voeg hier je tekst in \n",
        "                      Voeg hier je tekst in Voeg hier je tekst in Voeg hier je tekst in \n",
        "                      Voeg hier je tekst in Voeg hier je tekst in.\n",
        "                    \"\"\"))"
      ],
      "execution_count": 114,
      "outputs": [
        {
          "output_type": "execute_result",
          "data": {
            "text/plain": [
              "<borb.pdf.canvas.layout.page_layout.multi_column_layout.SingleColumnLayout at 0x7f3cc4fb6b90>"
            ]
          },
          "metadata": {},
          "execution_count": 114
        }
      ]
    },
    {
      "cell_type": "code",
      "metadata": {
        "id": "ADT70voWy21U"
      },
      "source": [
        "with open(\"flyer.pdf\", \"wb\") as pdf_file_handle:\n",
        "  PDF.dumps(pdf_file_handle, pdf)"
      ],
      "execution_count": 115,
      "outputs": []
    }
  ]
}