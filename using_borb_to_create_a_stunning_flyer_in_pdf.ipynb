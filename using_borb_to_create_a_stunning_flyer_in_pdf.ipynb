{
  "nbformat": 4,
  "nbformat_minor": 0,
  "metadata": {
    "colab": {
      "name": "using_borb_to_create_a_stunning_flyer_in_pdf.ipynb",
      "provenance": [],
      "collapsed_sections": [],
      "authorship_tag": "ABX9TyPAQcv6U+I/ec9gFPbdSe+X",
      "include_colab_link": true
    },
    "kernelspec": {
      "name": "python3",
      "display_name": "Python 3"
    },
    "language_info": {
      "name": "python"
    }
  },
  "cells": [
    {
      "cell_type": "markdown",
      "metadata": {
        "id": "view-in-github",
        "colab_type": "text"
      },
      "source": [
        "<a href=\"https://colab.research.google.com/github/jorisschellekens/borb-google-colab-examples/blob/main/using_borb_to_create_a_stunning_flyer_in_pdf.ipynb\" target=\"_parent\"><img src=\"https://colab.research.google.com/assets/colab-badge.svg\" alt=\"Open In Colab\"/></a>"
      ]
    },
    {
      "cell_type": "markdown",
      "metadata": {
        "id": "ROfVr-yY-ONA"
      },
      "source": [
        "# ![borb logo](https://github.com/jorisschellekens/borb/raw/master/logo/borb_64.png) Using `borb` to create a stunning flyer in PDF"
      ]
    },
    {
      "cell_type": "markdown",
      "metadata": {
        "id": "pQAUIyuU-VLd"
      },
      "source": [
        "[`borb`](https://github.com/jorisschellekens/borb) is a library for reading, creating and manipulating PDF files in python. borb was created in 2020 by Joris Schellekens and is still in active development. Check out the [GitHub repository](https://github.com/jorisschellekens/borb), or the [borb website](https://borbpdf.com)."
      ]
    },
    {
      "cell_type": "markdown",
      "metadata": {
        "id": "6-M_AuIQ-Y94"
      },
      "source": [
        "Let's start by installing `borb`"
      ]
    },
    {
      "cell_type": "code",
      "metadata": {
        "colab": {
          "base_uri": "https://localhost:8080/"
        },
        "id": "hZr_6C0PvP2z",
        "outputId": "2d2bf5d2-8a20-47a7-a517-ab6931ad5077"
      },
      "source": [
        "pip install borb"
      ],
      "execution_count": 6,
      "outputs": [
        {
          "output_type": "stream",
          "name": "stdout",
          "text": [
            "Requirement already satisfied: borb in /usr/local/lib/python3.7/dist-packages (2.0.19)\n",
            "Requirement already satisfied: requests>=2.24.0 in /usr/local/lib/python3.7/dist-packages (from borb) (2.27.1)\n",
            "Requirement already satisfied: Pillow>=7.1.0 in /usr/local/lib/python3.7/dist-packages (from borb) (7.1.2)\n",
            "Requirement already satisfied: python-barcode>=0.13.1 in /usr/local/lib/python3.7/dist-packages (from borb) (0.13.1)\n",
            "Requirement already satisfied: setuptools>=51.1.1 in /usr/local/lib/python3.7/dist-packages (from borb) (57.4.0)\n",
            "Requirement already satisfied: qrcode[pil]>=6.1 in /usr/local/lib/python3.7/dist-packages (from borb) (7.3.1)\n",
            "Requirement already satisfied: fonttools>=4.22.1 in /usr/local/lib/python3.7/dist-packages (from borb) (4.29.1)\n",
            "Requirement already satisfied: charset-normalizer~=2.0.0 in /usr/local/lib/python3.7/dist-packages (from requests>=2.24.0->borb) (2.0.11)\n",
            "Requirement already satisfied: idna<4,>=2.5 in /usr/local/lib/python3.7/dist-packages (from requests>=2.24.0->borb) (2.10)\n",
            "Requirement already satisfied: urllib3<1.27,>=1.21.1 in /usr/local/lib/python3.7/dist-packages (from requests>=2.24.0->borb) (1.24.3)\n",
            "Requirement already satisfied: certifi>=2017.4.17 in /usr/local/lib/python3.7/dist-packages (from requests>=2.24.0->borb) (2021.10.8)\n"
          ]
        }
      ]
    },
    {
      "cell_type": "markdown",
      "metadata": {
        "id": "E1jL_SYNiWJo"
      },
      "source": [
        "For the next snippet of code, we're going to need these imports. They form the basis of any workflow (with borb) in which you create a PDF."
      ]
    },
    {
      "cell_type": "code",
      "metadata": {
        "id": "I6FzsGmprxbq"
      },
      "source": [
        "from borb.pdf.document.document import Document\n",
        "from borb.pdf.page.page import Page\n",
        "from borb.pdf.pdf import PDF\n",
        "from borb.pdf.canvas.layout.page_layout.multi_column_layout import SingleColumnLayout\n",
        "from borb.pdf.canvas.layout.page_layout.page_layout import PageLayout"
      ],
      "execution_count": 7,
      "outputs": []
    },
    {
      "cell_type": "markdown",
      "metadata": {
        "id": "JyAoXM0Wiiww"
      },
      "source": [
        "These are the steps to creating a PDF document using `borb`:\n",
        "\n",
        "- Create an empty `Document`\n",
        "- Create an empty `Page`\n",
        "- Append the `Page` to the `Document`\n",
        "- Set a `PageLayout` to handle the flow of content (we're using a `SingleColumnLayout` here)\n",
        "- Add content (not shown here)\n",
        "- Write the PDF to disk (not shown here)"
      ]
    },
    {
      "cell_type": "code",
      "metadata": {
        "id": "KclBW8AMvrRz"
      },
      "source": [
        "# create empty Document\n",
        "pdf = Document()\n",
        "\n",
        "# create empty Page\n",
        "page = Page()\n",
        "\n",
        "# add Page to Document\n",
        "pdf.append_page(page)\n",
        "\n",
        "# create PageLayout\n",
        "layout: PageLayout = SingleColumnLayout(page)"
      ],
      "execution_count": 8,
      "outputs": []
    },
    {
      "cell_type": "markdown",
      "metadata": {
        "id": "uSwIrgmdjdU6"
      },
      "source": [
        "We'd like to add some geometric artwork to our flyer in the upper right corner. We're going to write a separate method to do that. Then we can later re-use this method (for instance on every `Page` in the `Document`)."
      ]
    },
    {
      "cell_type": "code",
      "metadata": {
        "id": "0smqhXX9weMl"
      },
      "source": [
        "# new imports\n",
        "from borb.pdf.canvas.layout.shape.shape import Shape\n",
        "from decimal import Decimal\n",
        "from borb.pdf.canvas.color.color import HexColor, X11Color\n",
        "from borb.pdf.canvas.geometry.rectangle import Rectangle\n",
        "from borb.pdf.page.page_size import PageSize\n",
        "import typing\n",
        "import random\n",
        "\n",
        "def add_gray_artwork_to_upper_right_corner(page: Page) -> None:\n",
        "  \"\"\"\n",
        "  This method will add a gray artwork of squares and triangles in the upper right corner\n",
        "  of the given Page\n",
        "  \"\"\"\n",
        "\n",
        "  # define a list of gray colors\n",
        "  grays: typing.List[HexColor] = [HexColor(\"A9A9A9\"), \n",
        "                                HexColor(\"D3D3D3\"), \n",
        "                                HexColor(\"DCDCDC\"), \n",
        "                                HexColor(\"E0E0E0\"),\n",
        "                                HexColor(\"E8E8E8\"),\n",
        "                                HexColor(\"F0F0F0\")]\n",
        "\n",
        "  # we're going to use the size of the page later on,\n",
        "  # so perhaps it's a good idea to retrieve it now                                \n",
        "  ps: typing.Tuple[Decimal, Decimal] = PageSize.A4_PORTRAIT.value\n",
        "\n",
        "  # now we'll write N triangles in the upper right corner\n",
        "  # we'll later fill the remaining space with squares\n",
        "  N: int = 4\n",
        "  M: Decimal = Decimal(32)\n",
        "  for i in range(0, N):\n",
        "    x: Decimal = ps[0] - N * M + i * M\n",
        "    y: Decimal = ps[1] - (i+1) * M\n",
        "    rg: HexColor = random.choice(grays)\n",
        "    Shape(points=[(x + M,y), (x + M, y + M), (x, y + M)], stroke_color=rg, fill_color=rg).layout(page, Rectangle(x, y, M, M))\n",
        "\n",
        "  # now we can fill up the remaining space with squares    \n",
        "  for i in range(0, N-1):\n",
        "    for j in range(0, N-1):\n",
        "      if j > i:\n",
        "        continue\n",
        "      x: Decimal = ps[0] - (N-1) * M + i * M\n",
        "      y: Decimal = ps[1] - (j+1) * M\n",
        "      rg: HexColor = random.choice(grays)\n",
        "      Shape(points=[(x, y), (x + M, y), (x + M, y + M), (x, y + M)], stroke_color=rg, fill_color=rg).layout(page, Rectangle(x, y, M, M))\n"
      ],
      "execution_count": 9,
      "outputs": []
    },
    {
      "cell_type": "markdown",
      "metadata": {
        "id": "nVQOwHHXk7_R"
      },
      "source": [
        "Now that we've defined this method, we can call it in the main body of our script to add the artwork to the PDF."
      ]
    },
    {
      "cell_type": "code",
      "metadata": {
        "id": "yjlC-7om7vCS"
      },
      "source": [
        "# now we can call this method in the main method\n",
        "add_gray_artwork_to_upper_right_corner(page)"
      ],
      "execution_count": 10,
      "outputs": []
    },
    {
      "cell_type": "markdown",
      "metadata": {
        "id": "a0RGaqsOlkIA"
      },
      "source": [
        "Next we're going to add our company contact details, so people know where to reach us:"
      ]
    },
    {
      "cell_type": "code",
      "metadata": {
        "id": "nVl6edLalowW",
        "colab": {
          "base_uri": "https://localhost:8080/"
        },
        "outputId": "2ce9320e-fa98-4c89-b41a-7b9fbf31b6ee"
      },
      "source": [
        "# new imports\n",
        "from borb.pdf.canvas.layout.text.paragraph import Paragraph\n",
        "from borb.pdf.canvas.layout.image.barcode import Barcode, BarcodeType\n",
        "from borb.pdf.canvas.layout.layout_element import LayoutElement\n",
        "from borb.pdf.canvas.layout.table.flexible_column_width_table import FlexibleColumnWidthTable\n",
        "from borb.pdf.canvas.layout.annotation.remote_go_to_annotation import RemoteGoToAnnotation\n",
        "\n",
        "# contact information\n",
        "layout.add(Paragraph(\"Your Company\", font_color=HexColor(\"#6d64e8\"), font_size=Decimal(20)))\n",
        "\n",
        "# We're going to add a qr code that links to our website.\n",
        "# Later, we're going to add a remote go-to annotation \n",
        "# (that's just PDF talk for \"if you click the qr code, it will take you to our website\")\n",
        "# in order to be able to do that, we need its coordinates.\n",
        "qr_code: LayoutElement = Barcode(\n",
        "    data=\"https://www.borbpdf.com\",\n",
        "    width=Decimal(64),\n",
        "    height=Decimal(64),\n",
        "    type=BarcodeType.QR,\n",
        ")\n",
        "\n",
        "# now we can add this content to the table\n",
        "layout.add(\n",
        "    FlexibleColumnWidthTable(number_of_columns=2, number_of_rows=1)\n",
        "    .add(qr_code)\n",
        "    .add(\n",
        "      Paragraph(\n",
        "          \"\"\"\n",
        "          500 South Buena Vista Street\n",
        "          Burbank CA\n",
        "          91521-0991 USA\n",
        "          \"\"\",\n",
        "          padding_top=Decimal(12),\n",
        "          respect_newlines_in_text=True,\n",
        "          font_color=HexColor(\"#666666\"),\n",
        "          font_size=Decimal(10),\n",
        "      )\n",
        "    )\n",
        "    .no_borders()\n",
        ")\n",
        "\n",
        "# let's add the remote go-to annotation\n",
        "page.append_annotation(RemoteGoToAnnotation(\n",
        "  qr_code.get_bounding_box(), uri=\"https://www.borbpdf.com\"\n",
        "))\n"
      ],
      "execution_count": 13,
      "outputs": [
        {
          "output_type": "execute_result",
          "data": {
            "text/plain": [
              "{<borb.io.read.types.Name at 0x7f4e13f3e1d0>: [{<borb.io.read.types.Name at 0x7f4e13f8e350>: {<borb.io.read.types.Name at 0x7f4e13f8e810>: <borb.io.read.types.Name at 0x7f4e13f8eb50>,\n",
              "    <borb.io.read.types.Name at 0x7f4e13f8e950>: <borb.io.read.types.Name at 0x7f4e13f8ec10>,\n",
              "    <borb.io.read.types.Name at 0x7f4e13f5d610>: <borb.io.read.types.String at 0x7f4e13f5d2d0>},\n",
              "   <borb.io.read.types.Name at 0x7f4e13f4b990>: Decimal('4'),\n",
              "   <borb.io.read.types.Name at 0x7f4e13f4b890>: <borb.io.read.types.String at 0x7f4e13f4bb50>,\n",
              "   <borb.io.read.types.Name at 0x7f4e13f32910>: <borb.io.read.types.String at 0x7f4e13f32e10>,\n",
              "   <borb.io.read.types.Name at 0x7f4e13f5d490>: {...},\n",
              "   <borb.io.read.types.Name at 0x7f4e140bac50>: [Decimal('59.50000000000000330291349826'),\n",
              "    Decimal('528'),\n",
              "    Decimal('123.5000000000000033029134983'),\n",
              "    Decimal('592')],\n",
              "   <borb.io.read.types.Name at 0x7f4e13fec610>: <borb.io.read.types.Name at 0x7f4e13f4bf50>,\n",
              "   <borb.io.read.types.Name at 0x7f4e140073d0>: <borb.io.read.types.Name at 0x7f4e14241f90>}],\n",
              " <borb.io.read.types.Name at 0x7f4e15166490>: {<borb.io.read.types.Name at 0x7f4e15185910>: b'x\\xda\\xed\\x94KO\\x83P\\x10\\x85\\xf7\\xfe\\x8aY\\xeaB\\xca\\x85\\xfb\\\\\\xda\\xfa\\x88K-\\x9a\\xb8DS\\x9fP,\\xb61\\xfe{\\xa9\\x05\\xee\\\\d\\x1al*Qc\\xbb\\x99\\xe9\\xa1\\xf0\\xcd\\xe1\\xdc\\x99\\x81\\xefI\\x19(.Z\\x8a\\xf3\\x13X\\'\\xe7wE\\xed\\x7f|\\xe0\\x15\\xb81U\\xa3Y\\xfd{\\n\\x8e\\xc0\\x83\\xaaL\\nA\\xaava\\x08p\\x06\\xb3\\xe2\\xe6\\x863\\xa6dK\\xb1\"#e\\x97L\\x84\\xacj\\x94\\xd2\\x88\\x0c\\t\\x089\\x01b\\x96o \\x93aM\\xc6%&C\\x82EN\\x80\\x98\\xc5!\\xf3\\x8d\\xf6yKQ\\x92Qr\\x83\\xcc\\x88\\xfa9\\x8cc2$X\\xe4\\x04\\x88Y0\\x99^\\xa6\\x86\\xb5\\x14+2R\\xee\\x983\\xf2mb\\xc1\\r \\x95L\\x8b\\\\E\\xbeY\\x94\\xc8\\x94L\\x06\\xb0\\x81l=k #\\xc1!#g\\xa9\\x91\\xb7s\\x9a\\xe93C&\\x93\\x9c\\x85z/[\\x0eF;\\x80\\x1b\\xd9\\x06\\x19\\x12\\\\\\x97)\\xfb-\\xb2\\xd2<d-E\\x89L\\xc9\\xf4\\xf9w]F\\xa7\\xccu\\x99\\x9c\\x85\\xb2\\xbf\\xb7\\x95E.\\x06r\\x16*JK\\xe4\\x1d@\\x9f\\x99\\xd3\\r#\\xa7\\xf5=^\\xe5\"4\\x01\\x13\\n\\xef4\\xe7\\xca\\xc11\\x83:\\x8b\\xd1-\\x96\\x9c\\xeb\\x82z\\xde\\xe5\\xd7v\\xc2x\\xa2\\xe4\\rCO\\x97\\xf7I\\xc9\\xfb\\xec^e\\x8b\\x1cFY\\xfa\\x1cO\\xdf\\xf6 zt\\xd4\\xa3\\x88\\xfc#\\x9a~\\x06\\x92c\\x1a\\xdbY\\x1a)j\\x87oR\\x18\\x9c\\xa6\\x0c\\x0e\\xb3\\xe2\\xad\\x7f\\xc9\\xc3\\xf2\\x11\\x9f\\x8a\\r=d\\x8e\\x87\\xb6c\\x81\\xa8\\xb1m0\\xd6\\x99X\\\\\\r\\xe3l1\\xbf\\x87\\xe1b2\\x8d\\xe1\\xf2\\xe1e\\x1e\\xc3x\\x9eO&\\xf3\\xcdL\\xfd\\xe9\\xbe\\xe8\\xb0\\x8b/\\xc3E~\\x1dO\\x9f`t\\xf07]P\\xac\\x8b\\x0b\\x86\\x89\\x80\\xed\\xfb\\xc60\\xb8\\x18\\xf7\\xe1D\\xef\\xbbF\\xfa\\xaa\\x8b\\x11=\\xed\\x1a\\x11\\xe8\\xdf\\xb8k\\x84\\xd4\\xff\\xbb\\xa6\\xcd\\x17!\\xffw\\r\\x08\\xce\\xfb\\xda5\\xefQS\\xc4\\xe1',\n",
              "  <borb.io.read.types.Name at 0x7f4e15185990>: b'q 0.662745 0.662745 0.662745 RG  0.662745 0.662745 0.662745 rg 0.000000 w 499.000000 810.000000 m  499.000000 842.000000 l  467.000000 842.000000 l  B  Q q 0.941176 0.941176 0.941176 RG  0.941176 0.941176 0.941176 rg 0.000000 w 531.000000 778.000000 m  531.000000 810.000000 l  499.000000 810.000000 l  B  Q q 0.941176 0.941176 0.941176 RG  0.941176 0.941176 0.941176 rg 0.000000 w 563.000000 746.000000 m  563.000000 778.000000 l  531.000000 778.000000 l  B  Q q 0.909804 0.909804 0.909804 RG  0.909804 0.909804 0.909804 rg 0.000000 w 595.000000 714.000000 m  595.000000 746.000000 l  563.000000 746.000000 l  B  Q q 0.827451 0.827451 0.827451 RG  0.827451 0.827451 0.827451 rg 0.000000 w 499.000000 810.000000 m  531.000000 810.000000 l  531.000000 842.000000 l  499.000000 842.000000 l  B  Q q 0.862745 0.862745 0.862745 RG  0.862745 0.862745 0.862745 rg 0.000000 w 531.000000 810.000000 m  563.000000 810.000000 l  563.000000 842.000000 l  531.000000 842.000000 l  B  Q q 0.662745 0.662745 0.662745 RG  0.662745 0.662745 0.662745 rg 0.000000 w 531.000000 778.000000 m  563.000000 778.000000 l  563.000000 810.000000 l  531.000000 810.000000 l  B  Q q 0.827451 0.827451 0.827451 RG  0.827451 0.827451 0.827451 rg 0.000000 w 563.000000 810.000000 m  595.000000 810.000000 l  595.000000 842.000000 l  563.000000 842.000000 l  B  Q q 0.878431 0.878431 0.878431 RG  0.878431 0.878431 0.878431 rg 0.000000 w 563.000000 778.000000 m  595.000000 778.000000 l  595.000000 810.000000 l  563.000000 810.000000 l  B  Q q 0.941176 0.941176 0.941176 RG  0.941176 0.941176 0.941176 rg 0.000000 w 563.000000 746.000000 m  595.000000 746.000000 l  595.000000 778.000000 l  563.000000 778.000000 l  B  Q\\n            q\\n            BT\\n            0.427451 0.392157 0.909804 rg\\n            /F1 1.000000 Tf            \\n            20.000000 0 0 20.000000 59.500000 733.800000 Tm            \\n            (Your Company) Tj\\n            ET            \\n            Q\\n         q 64.000000 0 0 64.000000 59.500000 655.000000 cm /Im1 Do Q \\n            q\\n            BT\\n            0.400000 0.400000 0.400000 rg\\n            /F1 1.000000 Tf            \\n            10.000000 0 0 10.000000 125.500000 695.000000 Tm            \\n            (500 South Buena Vista Street) Tj\\n            ET            \\n            Q\\n        \\n            q\\n            BT\\n            0.400000 0.400000 0.400000 rg\\n            /F1 1.000000 Tf            \\n            10.000000 0 0 10.000000 125.500000 683.000000 Tm            \\n            (Burbank CA) Tj\\n            ET            \\n            Q\\n        \\n            q\\n            BT\\n            0.400000 0.400000 0.400000 rg\\n            /F1 1.000000 Tf            \\n            10.000000 0 0 10.000000 125.500000 671.000000 Tm            \\n            (91521-0991 USA) Tj\\n            ET            \\n            Q\\n        \\n            q\\n            BT\\n            0.427451 0.392157 0.909804 rg\\n            /F1 1.000000 Tf            \\n            20.000000 0 0 20.000000 59.500000 607.000000 Tm            \\n            (Your Company) Tj\\n            ET            \\n            Q\\n         q 64.000000 0 0 64.000000 59.500000 528.000000 cm /Im1 Do Q \\n            q\\n            BT\\n            0.400000 0.400000 0.400000 rg\\n            /F1 1.000000 Tf            \\n            10.000000 0 0 10.000000 125.500000 568.000000 Tm            \\n            (500 South Buena Vista Street) Tj\\n            ET            \\n            Q\\n        \\n            q\\n            BT\\n            0.400000 0.400000 0.400000 rg\\n            /F1 1.000000 Tf            \\n            10.000000 0 0 10.000000 125.500000 556.000000 Tm            \\n            (Burbank CA) Tj\\n            ET            \\n            Q\\n        \\n            q\\n            BT\\n            0.400000 0.400000 0.400000 rg\\n            /F1 1.000000 Tf            \\n            10.000000 0 0 10.000000 125.500000 544.000000 Tm            \\n            (91521-0991 USA) Tj\\n            ET            \\n            Q\\n        ',\n",
              "  <borb.io.read.types.Name at 0x7f4e1c1a1750>: <borb.io.read.types.Name at 0x7f4e197a5d50>,\n",
              "  <borb.io.read.types.Name at 0x7f4e15166d10>: 473},\n",
              " <borb.io.read.types.Name at 0x7f4e15159f90>: [Decimal('0'),\n",
              "  Decimal('0'),\n",
              "  Decimal('595'),\n",
              "  Decimal('842')],\n",
              " <borb.io.read.types.Name at 0x7f4e15150310>: {<borb.io.read.types.Name at 0x7f4e15166210>: Decimal('1'),\n",
              "  <borb.io.read.types.Name at 0x7f4e15185690>: [{...}],\n",
              "  <borb.io.read.types.Name at 0x7f4e15185d50>: <borb.io.read.types.Name at 0x7f4e15185cd0>},\n",
              " <borb.io.read.types.Name at 0x7f4e151664d0>: {<borb.io.read.types.Name at 0x7f4e144dba50>: {<borb.io.read.types.Name at 0x7f4e144ea290>: {<borb.io.read.types.Name at 0x7f4e144db110>: <borb.io.read.types.Name at 0x7f4e144db3d0>,\n",
              "    <borb.io.read.types.Name at 0x7f4e144dbf50>: <borb.io.read.types.Name at 0x7f4e144dbe90>,\n",
              "    <borb.io.read.types.Name at 0x7f4e144e27d0>: <borb.io.read.types.Name at 0x7f4e144dba90>,\n",
              "    <borb.io.read.types.Name at 0x7f4e1447d110>: <borb.io.read.types.Name at 0x7f4e15150cd0>}},\n",
              "  <borb.io.read.types.Name at 0x7f4e142385d0>: {<borb.io.read.types.Name at 0x7f4e14238390>: <PIL.Image.Image image mode=RGB size=330x330 at 0x7F4E14490A50>}},\n",
              " <borb.io.read.types.Name at 0x7f4e15159150>: <borb.io.read.types.Name at 0x7f4e15159a90>}"
            ]
          },
          "metadata": {},
          "execution_count": 13
        }
      ]
    },
    {
      "cell_type": "markdown",
      "metadata": {
        "id": "szaVhyIultBr"
      },
      "source": [
        "Now we can add a few titles and subtitles and some promotional blurb;"
      ]
    },
    {
      "cell_type": "code",
      "metadata": {
        "id": "eBgkNRxNlzCd",
        "colab": {
          "base_uri": "https://localhost:8080/"
        },
        "outputId": "fcef529e-abbd-4b94-9db8-a40fcb404b80"
      },
      "source": [
        "# title\n",
        "layout.add(Paragraph(\"Productbrochure\", \n",
        "                     font_color=HexColor(\"#283592\"), \n",
        "                     font_size=Decimal(34)))\n",
        "\n",
        "# subtitle\n",
        "layout.add(Paragraph(\"September 4th, 2021\", \n",
        "                     font_color=HexColor(\"#e01b84\"), \n",
        "                     font_size=Decimal(11)))\n",
        "\n",
        "layout.add(Paragraph(\"Product Overview\",\n",
        "                     font_color=HexColor(\"000000\"),\n",
        "                     font_size=Decimal(21)))\n",
        "\n",
        "layout.add(Paragraph(\"\"\"\n",
        "                    Lorem ipsum dolor sit amet, consectetur adipiscing elit, sed do eiusmod tempor incididunt ut labore et dolore magna aliqua. \n",
        "                    Ut enim ad minim veniam, quis nostrud exercitation ullamco laboris nisi ut aliquip ex ea commodo consequat. \n",
        "                    Duis aute irure dolor in reprehenderit in voluptate velit esse cillum dolore eu fugiat nulla pariatur. \n",
        "                    Excepteur sint occaecat cupidatat non proident, sunt in culpa qui officia deserunt mollit anim id est laborum.\n",
        "                    \"\"\"))"
      ],
      "execution_count": 14,
      "outputs": [
        {
          "output_type": "execute_result",
          "data": {
            "text/plain": [
              "<borb.pdf.canvas.layout.page_layout.multi_column_layout.SingleColumnLayout at 0x7f4e151502d0>"
            ]
          },
          "metadata": {},
          "execution_count": 14
        }
      ]
    },
    {
      "cell_type": "markdown",
      "metadata": {
        "id": "Zn3FvnFroUSt"
      },
      "source": [
        "Images make things more visually interesting. Let's add an `Image` with some core product features next to it;"
      ]
    },
    {
      "cell_type": "code",
      "metadata": {
        "id": "u-szV_0rodef",
        "outputId": "daef2375-940e-4e7b-c9ef-4d1e1f017505",
        "colab": {
          "base_uri": "https://localhost:8080/"
        }
      },
      "source": [
        "# new imports\n",
        "from borb.pdf.canvas.layout.table.fixed_column_width_table import FixedColumnWidthTable\n",
        "from borb.pdf.canvas.layout.table.table import TableCell\n",
        "from borb.pdf.canvas.layout.image.image import Image\n",
        "from borb.pdf.canvas.layout.list.unordered_list import UnorderedList\n",
        "\n",
        "# table with image and key features\n",
        "layout.add(\n",
        "  FixedColumnWidthTable(number_of_rows=2, number_of_columns=2, column_widths=[Decimal(0.3), Decimal(0.7)])\n",
        "  .add(\n",
        "    TableCell(\n",
        "      Image(\"https://www.att.com/catalog/en/skus/images/apple-iphone%2012-purple-450x350.png\", width=Decimal(128), height=Decimal(128)),\n",
        "      row_span=2,\n",
        "    )\n",
        "  )\n",
        "  .add(Paragraph(\"Key Features\", font_color=HexColor(\"e01b84\"), font=\"Helvetica-Bold\", padding_bottom=Decimal(10)))            \n",
        "  .add(\n",
        "    UnorderedList()\n",
        "      .add(Paragraph(\"Nam aliquet ex eget felis lobortis aliquet sit amet ut risus.\"))\n",
        "      .add(Paragraph(\"Maecenas sit amet odio ut erat tincidunt consectetur accumsan ut nunc.\"))\n",
        "      .add(Paragraph(\"Phasellus eget magna et justo malesuada fringilla.\"))\n",
        "      .add(Paragraph(\"Maecenas vitae dui ac nisi aliquam malesuada in consequat sapien.\"))\n",
        "    )\n",
        "  .no_borders()\n",
        ")"
      ],
      "execution_count": 15,
      "outputs": [
        {
          "output_type": "execute_result",
          "data": {
            "text/plain": [
              "<borb.pdf.canvas.layout.page_layout.multi_column_layout.SingleColumnLayout at 0x7f4e151502d0>"
            ]
          },
          "metadata": {},
          "execution_count": 15
        }
      ]
    },
    {
      "cell_type": "markdown",
      "metadata": {
        "id": "xPDi9yons-ZX"
      },
      "source": [
        "Let's add a footer to the bottom of the page. We're going to put this in a separate method (so that we could call it later on, if we ever need to apply it to other pages in the PDF)."
      ]
    },
    {
      "cell_type": "code",
      "metadata": {
        "id": "UZWejXeetHJT"
      },
      "source": [
        "# new imports\n",
        "from borb.pdf.canvas.line_art.line_art_factory import LineArtFactory\n",
        "\n",
        "def add_colored_artwork_to_bottom_right_corner(page: Page) -> None:\n",
        "  \"\"\"\n",
        "  This method will add a blue/purple artwork of lines and squares to the bottom right corner\n",
        "  of the given Page\n",
        "  \"\"\"\n",
        "  ps: typing.Tuple[Decimal, Decimal] = PageSize.A4_PORTRAIT.value\n",
        "  \n",
        "  # square\n",
        "  Shape(points=[(ps[0] - 32, 40), (ps[0], 40), (ps[0], 40 + 32), (ps[0] - 32, 40 + 32)], stroke_color=HexColor(\"d53067\"), fill_color=HexColor(\"d53067\")).layout(page, Rectangle(ps[0] - 32, 40, 32, 32))\n",
        "  \n",
        "  # square\n",
        "  Shape(points=[(ps[0] - 64, 40), (ps[0] - 32, 40), (ps[0] - 32, 40 + 32), (ps[0] - 64, 40 + 32)], stroke_color=HexColor(\"eb3f79\"), fill_color=HexColor(\"eb3f79\")).layout(page, Rectangle(ps[0] - 64, 40, 32, 32))\n",
        "  \n",
        "  # triangle\n",
        "  Shape(points=[(ps[0] - 96, 40), (ps[0] - 64, 40), (ps[0] - 64, 40 + 32)], stroke_color=HexColor(\"e01b84\"), fill_color=HexColor(\"e01b84\")).layout(page, Rectangle(ps[0] - 96, 40, 32, 32))\n",
        "  \n",
        "  # line\n",
        "  r: Rectangle = Rectangle(Decimal(0), Decimal(32), ps[0], Decimal(8))\n",
        "  Shape(points=LineArtFactory.rectangle(r), stroke_color=HexColor(\"283592\"), fill_color=HexColor(\"283592\")).layout(page, r)\n"
      ],
      "execution_count": 16,
      "outputs": []
    },
    {
      "cell_type": "markdown",
      "metadata": {
        "id": "y15omGFEtwak"
      },
      "source": [
        "Now we can call this method in the main body;"
      ]
    },
    {
      "cell_type": "code",
      "metadata": {
        "id": "WYot_t4dtvs0"
      },
      "source": [
        "add_colored_artwork_to_bottom_right_corner(page)"
      ],
      "execution_count": 17,
      "outputs": []
    },
    {
      "cell_type": "markdown",
      "metadata": {
        "id": "ED2fE2vdpKYM"
      },
      "source": [
        "Finally, we can store the PDF;"
      ]
    },
    {
      "cell_type": "code",
      "metadata": {
        "id": "ADT70voWy21U"
      },
      "source": [
        "with open(\"flyer.pdf\", \"wb\") as pdf_file_handle:\n",
        "  PDF.dumps(pdf_file_handle, pdf)"
      ],
      "execution_count": 18,
      "outputs": []
    }
  ]
}
