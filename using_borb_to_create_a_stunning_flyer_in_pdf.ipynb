{
  "nbformat": 4,
  "nbformat_minor": 0,
  "metadata": {
    "colab": {
      "name": "borb_collab_example_005.ipynb",
      "provenance": [],
      "collapsed_sections": [],
      "authorship_tag": "ABX9TyMKrJLjcMDz0sicU+UY5gk6",
      "include_colab_link": true
    },
    "kernelspec": {
      "name": "python3",
      "display_name": "Python 3"
    },
    "language_info": {
      "name": "python"
    }
  },
  "cells": [
    {
      "cell_type": "markdown",
      "metadata": {
        "id": "view-in-github",
        "colab_type": "text"
      },
      "source": [
        "<a href=\"https://colab.research.google.com/github/jorisschellekens/borb-google-colab-examples/blob/main/using_borb_to_create_a_stunning_flyer_in_pdf.ipynb\" target=\"_parent\"><img src=\"https://colab.research.google.com/assets/colab-badge.svg\" alt=\"Open In Colab\"/></a>"
      ]
    },
    {
      "cell_type": "markdown",
      "metadata": {
        "id": "ROfVr-yY-ONA"
      },
      "source": [
        "# ![borb logo](https://github.com/jorisschellekens/borb/raw/master/logo/borb_64.png) Using `borb` to create a stunning flyer in PDF"
      ]
    },
    {
      "cell_type": "markdown",
      "metadata": {
        "id": "pQAUIyuU-VLd"
      },
      "source": [
        "[`borb`](https://github.com/jorisschellekens/borb) is a library for reading, creating and manipulating PDF files in python. borb was created in 2020 by Joris Schellekens and is still in active development. Check out the [GitHub repository](https://github.com/jorisschellekens/borb), or the [borb website](https://borbpdf.com)."
      ]
    },
    {
      "cell_type": "markdown",
      "metadata": {
        "id": "6-M_AuIQ-Y94"
      },
      "source": [
        "Let's start by installing `borb`"
      ]
    },
    {
      "cell_type": "code",
      "metadata": {
        "colab": {
          "base_uri": "https://localhost:8080/"
        },
        "id": "hZr_6C0PvP2z",
        "outputId": "e7f68de8-73ce-4050-f827-c1c9403f59ca"
      },
      "source": [
        "pip install borb"
      ],
      "execution_count": 11,
      "outputs": [
        {
          "output_type": "stream",
          "name": "stdout",
          "text": [
            "Requirement already satisfied: borb in /usr/local/lib/python3.7/dist-packages (2.0.10)\n",
            "Requirement already satisfied: setuptools~=51.1.1 in /usr/local/lib/python3.7/dist-packages (from borb) (51.1.2)\n",
            "Requirement already satisfied: qrcode[pil]>=6.1 in /usr/local/lib/python3.7/dist-packages (from borb) (7.3)\n",
            "Requirement already satisfied: requests>=2.24.0 in /usr/local/lib/python3.7/dist-packages (from borb) (2.26.0)\n",
            "Requirement already satisfied: python-barcode>=0.13.1 in /usr/local/lib/python3.7/dist-packages (from borb) (0.13.1)\n",
            "Requirement already satisfied: fonttools>=4.22.1 in /usr/local/lib/python3.7/dist-packages (from borb) (4.27.0)\n",
            "Requirement already satisfied: Pillow>=7.1.0 in /usr/local/lib/python3.7/dist-packages (from borb) (7.1.2)\n",
            "Requirement already satisfied: certifi>=2017.4.17 in /usr/local/lib/python3.7/dist-packages (from requests>=2.24.0->borb) (2021.5.30)\n",
            "Requirement already satisfied: idna<4,>=2.5 in /usr/local/lib/python3.7/dist-packages (from requests>=2.24.0->borb) (2.10)\n",
            "Requirement already satisfied: urllib3<1.27,>=1.21.1 in /usr/local/lib/python3.7/dist-packages (from requests>=2.24.0->borb) (1.24.3)\n",
            "Requirement already satisfied: charset-normalizer~=2.0.0 in /usr/local/lib/python3.7/dist-packages (from requests>=2.24.0->borb) (2.0.5)\n"
          ]
        }
      ]
    },
    {
      "cell_type": "markdown",
      "metadata": {
        "id": "E1jL_SYNiWJo"
      },
      "source": [
        "For the next snippet of code, we're going to need these imports. They form the basis of any workflow (with borb) in which you create a PDF."
      ]
    },
    {
      "cell_type": "code",
      "metadata": {
        "id": "I6FzsGmprxbq"
      },
      "source": [
        "from borb.pdf.document import Document\n",
        "from borb.pdf.page.page import Page\n",
        "from borb.pdf.pdf import PDF\n",
        "from borb.pdf.canvas.layout.page_layout.multi_column_layout import SingleColumnLayout\n",
        "from borb.pdf.canvas.layout.page_layout.page_layout import PageLayout"
      ],
      "execution_count": 12,
      "outputs": []
    },
    {
      "cell_type": "markdown",
      "metadata": {
        "id": "JyAoXM0Wiiww"
      },
      "source": [
        "These are the steps to creating a PDF document using `borb`:\n",
        "\n",
        "- Create an empty `Document`\n",
        "- Create an empty `Page`\n",
        "- Append the `Page` to the `Document`\n",
        "- Set a `PageLayout` to handle the flow of content (we're using a `SingleColumnLayout` here)\n",
        "- Add content (not shown here)\n",
        "- Write the PDF to disk (not shown here)"
      ]
    },
    {
      "cell_type": "code",
      "metadata": {
        "id": "KclBW8AMvrRz"
      },
      "source": [
        "# create empty Document\n",
        "pdf = Document()\n",
        "\n",
        "# create empty Page\n",
        "page = Page()\n",
        "\n",
        "# add Page to Document\n",
        "pdf.append_page(page)\n",
        "\n",
        "# create PageLayout\n",
        "layout: PageLayout = SingleColumnLayout(page)"
      ],
      "execution_count": 17,
      "outputs": []
    },
    {
      "cell_type": "markdown",
      "metadata": {
        "id": "uSwIrgmdjdU6"
      },
      "source": [
        "We'd like to add some geometric artwork to our flyer in the upper right corner. We're going to write a separate method to do that. Then we can later re-use this method (for instance on every `Page` in the `Document`)."
      ]
    },
    {
      "cell_type": "code",
      "metadata": {
        "id": "0smqhXX9weMl"
      },
      "source": [
        "# new imports\n",
        "from borb.pdf.canvas.layout.image.shape import Shape\n",
        "from decimal import Decimal\n",
        "from borb.pdf.canvas.color.color import HexColor, X11Color\n",
        "from borb.pdf.canvas.geometry.rectangle import Rectangle\n",
        "from borb.pdf.page.page_size import PageSize\n",
        "import typing\n",
        "import random\n",
        "\n",
        "def add_gray_artwork_to_upper_right_corner(page: Page) -> None:\n",
        "  \"\"\"\n",
        "  This method will add a gray artwork of squares and triangles in the upper right corner\n",
        "  of the given Page\n",
        "  \"\"\"\n",
        "\n",
        "  # define a list of gray colors\n",
        "  grays: typing.List[HexColor] = [HexColor(\"A9A9A9\"), \n",
        "                                HexColor(\"D3D3D3\"), \n",
        "                                HexColor(\"DCDCDC\"), \n",
        "                                HexColor(\"E0E0E0\"),\n",
        "                                HexColor(\"E8E8E8\"),\n",
        "                                HexColor(\"F0F0F0\")]\n",
        "\n",
        "  # we're going to use the size of the page later on,\n",
        "  # so perhaps it's a good idea to retrieve it now                                \n",
        "  ps: typing.Tuple[Decimal, Decimal] = PageSize.A4_PORTRAIT.value\n",
        "\n",
        "  # now we'll write N triangles in the upper right corner\n",
        "  # we'll later fill the remaining space with squares\n",
        "  N: int = 4\n",
        "  M: Decimal = Decimal(32)\n",
        "  for i in range(0, N):\n",
        "    x: Decimal = ps[0] - N * M + i * M\n",
        "    y: Decimal = ps[1] - (i+1) * M\n",
        "    rg: HexColor = random.choice(grays)\n",
        "    Shape(points=[(x + M,y), (x + M, y + M), (x, y + M)], stroke_color=rg, fill_color=rg).layout(page, Rectangle(x, y, M, M))\n",
        "\n",
        "  # now we can fill up the remaining space with squares    \n",
        "  for i in range(0, N-1):\n",
        "    for j in range(0, N-1):\n",
        "      if j > i:\n",
        "        continue\n",
        "      x: Decimal = ps[0] - (N-1) * M + i * M\n",
        "      y: Decimal = ps[1] - (j+1) * M\n",
        "      rg: HexColor = random.choice(grays)\n",
        "      Shape(points=[(x, y), (x + M, y), (x + M, y + M), (x, y + M)], stroke_color=rg, fill_color=rg).layout(page, Rectangle(x, y, M, M))\n"
      ],
      "execution_count": 14,
      "outputs": []
    },
    {
      "cell_type": "markdown",
      "metadata": {
        "id": "nVQOwHHXk7_R"
      },
      "source": [
        "Now that we've defined this method, we can call it in the main body of our script to add the artwork to the PDF."
      ]
    },
    {
      "cell_type": "code",
      "metadata": {
        "id": "yjlC-7om7vCS"
      },
      "source": [
        "# now we can call this method in the main method\n",
        "add_gray_artwork_to_upper_right_corner(page)"
      ],
      "execution_count": 18,
      "outputs": []
    },
    {
      "cell_type": "markdown",
      "metadata": {
        "id": "a0RGaqsOlkIA"
      },
      "source": [
        "Next we're going to add our company contact details, so people know where to reach us:"
      ]
    },
    {
      "cell_type": "code",
      "metadata": {
        "id": "nVl6edLalowW",
        "outputId": "0eb7b696-b3a1-4865-cefb-ca8057f91b5b",
        "colab": {
          "base_uri": "https://localhost:8080/"
        }
      },
      "source": [
        "# new imports\n",
        "from borb.pdf.canvas.layout.image.barcode import Barcode, BarcodeType\n",
        "from borb.pdf.canvas.layout.layout_element import LayoutElement\n",
        "from borb.pdf.canvas.layout.table.flexible_column_width_table import FlexibleColumnWidthTable\n",
        "\n",
        "# contact information\n",
        "layout.add(Paragraph(\"Your Company\", font_color=HexColor(\"#6d64e8\"), font_size=Decimal(20)))\n",
        "\n",
        "# We're going to add a qr code that links to our website.\n",
        "# Later, we're going to add a remote go-to annotation \n",
        "# (that's just PDF talk for \"if you click the qr code, it will take you to our website\")\n",
        "# in order to be able to do that, we need its coordinates.\n",
        "qr_code: LayoutElement = Barcode(\n",
        "    data=\"https://www.borbpdf.com\",\n",
        "    width=Decimal(64),\n",
        "    height=Decimal(64),\n",
        "    type=BarcodeType.QR,\n",
        ")\n",
        "\n",
        "# now we can add this content to the table\n",
        "layout.add(\n",
        "    FlexibleColumnWidthTable(number_of_columns=2, number_of_rows=1)\n",
        "    .add(qr_code)\n",
        "    .add(\n",
        "      Paragraph(\n",
        "          \"\"\"\n",
        "          500 South Buena Vista Street\n",
        "          Burbank CA\n",
        "          91521-0991 USA\n",
        "          \"\"\",\n",
        "          padding_top=Decimal(12),\n",
        "          respect_newlines_in_text=True,\n",
        "          font_color=HexColor(\"#666666\"),\n",
        "          font_size=Decimal(10),\n",
        "      )\n",
        "    )\n",
        "    .no_borders()\n",
        ")\n",
        "\n",
        "# let's add the remote go-to annotation\n",
        "page.append_remote_go_to_annotation(\n",
        "  qr_code.get_bounding_box(), uri=\"https://www.borbpdf.com\"\n",
        ")\n"
      ],
      "execution_count": 21,
      "outputs": [
        {
          "output_type": "execute_result",
          "data": {
            "text/plain": [
              "{<borb.io.read.types.Name at 0x7efda90e5410>: [{<borb.io.read.types.Name at 0x7efda90356d0>: {<borb.io.read.types.Name at 0x7efda9164910>: <borb.io.read.types.Name at 0x7efda93c8bd0>,\n",
              "    <borb.io.read.types.Name at 0x7efda931f410>: <borb.io.read.types.Name at 0x7efda93dfd90>,\n",
              "    <borb.io.read.types.Name at 0x7efda9082b10>: <borb.io.read.types.String at 0x7efda9110110>},\n",
              "   <borb.io.read.types.Name at 0x7efda9098910>: [Decimal('0'),\n",
              "    Decimal('0'),\n",
              "    Decimal('0')],\n",
              "   <borb.io.read.types.Name at 0x7efda9098bd0>: Decimal('4'),\n",
              "   <borb.io.read.types.Name at 0x7efda9098b10>: <borb.io.read.types.String at 0x7efda90d7a10>,\n",
              "   <borb.io.read.types.Name at 0x7efda90d7550>: <borb.io.read.types.String at 0x7efda90bce10>,\n",
              "   <borb.io.read.types.Name at 0x7efda90cb090>: {...},\n",
              "   <borb.io.read.types.Name at 0x7efda90f3c50>: [Decimal('59.50000000000000330291349826'),\n",
              "    Decimal('559'),\n",
              "    Decimal('123.5000000000000033029134983'),\n",
              "    Decimal('623')],\n",
              "   <borb.io.read.types.Name at 0x7efda90354d0>: <borb.io.read.types.Name at 0x7efda9035390>,\n",
              "   <borb.io.read.types.Name at 0x7efda908f210>: <borb.io.read.types.Name at 0x7efda908f450>}],\n",
              " <borb.io.read.types.Name at 0x7efdaa1eee10>: {<borb.io.read.types.Name at 0x7efdaa1db7d0>: b\"x\\xda\\xed\\x96KS\\x830\\x14\\x85\\xf7\\xfe\\x8a\\xbb\\xd4\\x85\\x94@B\\xc8R\\xeac\\\\\\xd6\\xa23.\\xd1\\xa9O(\\x820\\x8e\\xff^jy\\xe4j.\\xd3V\\xa6u\\x1c\\xe9&\\xb7\\x1f\\x90sNn\\xd2f`[\\xcaV\\xbe\\xcd\\r\\x83\\x8b3\\xe8\\xc3\\xf9}5\\xb6?/x\\x03\\xaeTS\\xf8\\xac\\xfd>\\x01\\x02\\xc4\\x18pG\\x07\\x9e4\\x83\\x00`\\x92U\\x93z\\x9e#\\xb90\\x0c\\x96\\x8aI\\x8c\\x15\\x0b\\x975\\x85\\x94\\xbe\\xa6\\xd8\\x0cb\\x04h+\\x084\\x8a\\x15gLz\\x86A\\x9d1\\x85\\xbf(\\xf6\\xdcV\\x18\\xf7t\\xc5F\\x10c@Y\\xc1``\\xc5J\\xb4\\xd30\\xae+6\\x82\\x18\\x03\\xd2\\n\\x02\\xc3v\\xc5\\xfa}Lv\\x85\\x0ep\\x83S\\x9d?p\\xf8FaI\\x9f\\xe2.c\\x1a \\xc5\\xa4\\xc7\\x9d\\xefU\\xb2\\xf3I\\x8fT*\\x03[1\\xce\\x9f\\xf4\\t\\xeb\\xb6\\x04\\r\\xf0\\xaaP\\xcb\\xd56\\xd8 g\\xbe9\\xe3\\xa4/|mwS`\\xc5\\x96l\\xac\\xf8\\x8b\\x8c\\x99a\\xb0\\xb4B\\xe2\\x1f\\x1f\\xad\\xe4AEz\\xa4RYX\\xd9\\x03\\xed\\xcaP\\x15\\x84\\xa8\\xb4-\\xdeXq\\x95\\xc3\\x84\\xd4\\x97\\x07\\xdd9:e\\xd0\\xf6tx\\xa7#t\\x9f\\xd3\\x06\\xb1\\xf8t\\x95P\\x96\\xa8\\xf5\\xba\\xae\\xe5\\xd7\\xefI\\xc8\\xf7\\xec_\\xa7e\\x0e\\xe34y\\x89\\xe6\\xef\\x07\\x10>!z\\x12\\x92\\x0fv\\xee\\x7fw\\x0c\\x9e/\\xfec\\xa8bp\\xe5vb\\x80\\x0c<\\xae\\xab\\xe9\\xaaN\\x8d\\x10\\xed\\xaf\\xe9m\\x02\\xa3\\xf3\\x84\\xc1q\\n\\x93\\xf52\\xac\\xa7\\xf86\\xd80C\\x862\\xec*\\xe6\\x88Vv\\xf7'\\xa0/\\xc4\\xean\\x98\\xa6e\\xf1\\x00A9\\x9bGp\\xf5\\xf8ZD0-\\xf2\\xd9\\xac\\xd8Bo\\xed \\x17_\\xae\\x92KP\\xe67\\xd1\\xfc\\x19\\xc6G\\x7f3\\x05)VIA1\\xe1\\xb0C[)\\x06\\x97\\xd3\\r\\x93\\xf8\\x00@\\x04\\x8e\\x1d\",\n",
              "  <borb.io.read.types.Name at 0x7efdaa1db350>: b'q 0.909804 0.909804 0.909804 RG  0.909804 0.909804 0.909804 rg 0.000000 w 499.000000 810.000000 m  499.000000 810.000000 l  499.000000 842.000000 l  467.000000 842.000000 l  B  Qq 0.662745 0.662745 0.662745 RG  0.662745 0.662745 0.662745 rg 0.000000 w 531.000000 778.000000 m  531.000000 778.000000 l  531.000000 810.000000 l  499.000000 810.000000 l  B  Qq 0.941176 0.941176 0.941176 RG  0.941176 0.941176 0.941176 rg 0.000000 w 563.000000 746.000000 m  563.000000 746.000000 l  563.000000 778.000000 l  531.000000 778.000000 l  B  Qq 0.941176 0.941176 0.941176 RG  0.941176 0.941176 0.941176 rg 0.000000 w 595.000000 714.000000 m  595.000000 714.000000 l  595.000000 746.000000 l  563.000000 746.000000 l  B  Qq 0.662745 0.662745 0.662745 RG  0.662745 0.662745 0.662745 rg 0.000000 w 499.000000 810.000000 m  499.000000 810.000000 l  531.000000 810.000000 l  531.000000 842.000000 l  499.000000 842.000000 l  B  Qq 0.941176 0.941176 0.941176 RG  0.941176 0.941176 0.941176 rg 0.000000 w 531.000000 810.000000 m  531.000000 810.000000 l  563.000000 810.000000 l  563.000000 842.000000 l  531.000000 842.000000 l  B  Qq 0.662745 0.662745 0.662745 RG  0.662745 0.662745 0.662745 rg 0.000000 w 531.000000 778.000000 m  531.000000 778.000000 l  563.000000 778.000000 l  563.000000 810.000000 l  531.000000 810.000000 l  B  Qq 0.662745 0.662745 0.662745 RG  0.662745 0.662745 0.662745 rg 0.000000 w 563.000000 810.000000 m  563.000000 810.000000 l  595.000000 810.000000 l  595.000000 842.000000 l  563.000000 842.000000 l  B  Qq 0.909804 0.909804 0.909804 RG  0.909804 0.909804 0.909804 rg 0.000000 w 563.000000 778.000000 m  563.000000 778.000000 l  595.000000 778.000000 l  595.000000 810.000000 l  563.000000 810.000000 l  B  Qq 0.827451 0.827451 0.827451 RG  0.827451 0.827451 0.827451 rg 0.000000 w 563.000000 746.000000 m  563.000000 746.000000 l  595.000000 746.000000 l  595.000000 778.000000 l  563.000000 778.000000 l  B  Q\\n            q\\n            BT\\n            0.427451 0.392157 0.909804 rg\\n            /F1 1.000000 Tf            \\n            20.000000 0 0 20.000000 59.500000 733.800000 Tm            \\n            (Your Company) Tj\\n            ET            \\n            Q\\n        \\n            q\\n            BT\\n            0.427451 0.392157 0.909804 rg\\n            /F1 1.000000 Tf            \\n            20.000000 0 0 20.000000 59.500000 685.800000 Tm            \\n            (Your Company) Tj\\n            ET            \\n            Q\\n        \\n            q\\n            BT\\n            0.427451 0.392157 0.909804 rg\\n            /F1 1.000000 Tf            \\n            20.000000 0 0 20.000000 59.500000 637.800000 Tm            \\n            (Your Company) Tj\\n            ET            \\n            Q\\n         q 64.000000 0 0 64.000000 59.500000 559.000000 cm /Im1 Do Q \\n            q\\n            BT\\n            0.400000 0.400000 0.400000 rg\\n            /F1 1.000000 Tf            \\n            10.000000 0 0 10.000000 125.500000 599.000000 Tm            \\n            (500 South Buena Vista Street) Tj\\n            ET            \\n            Q\\n        \\n            q\\n            BT\\n            0.400000 0.400000 0.400000 rg\\n            /F1 1.000000 Tf            \\n            10.000000 0 0 10.000000 125.500000 587.000000 Tm            \\n            (Burbank CA) Tj\\n            ET            \\n            Q\\n        \\n            q\\n            BT\\n            0.400000 0.400000 0.400000 rg\\n            /F1 1.000000 Tf            \\n            10.000000 0 0 10.000000 125.500000 575.000000 Tm            \\n            (91521-0991 USA) Tj\\n            ET            \\n            Q\\n        ',\n",
              "  <borb.io.read.types.Name at 0x7efdab260a90>: <borb.io.read.types.Name at 0x7efdaa1db210>,\n",
              "  <borb.io.read.types.Name at 0x7efdaa1ee410>: 447},\n",
              " <borb.io.read.types.Name at 0x7efdaa1f8310>: [Decimal('0'),\n",
              "  Decimal('0'),\n",
              "  Decimal('595'),\n",
              "  Decimal('842')],\n",
              " <borb.io.read.types.Name at 0x7efdaa1fd550>: {<borb.io.read.types.Name at 0x7efdaa1fdd10>: Decimal('1'),\n",
              "  <borb.io.read.types.Name at 0x7efdaa1fd950>: [{...}],\n",
              "  <borb.io.read.types.Name at 0x7efdaa1fd350>: <borb.io.read.types.Name at 0x7efdaa1fd890>},\n",
              " <borb.io.read.types.Name at 0x7efda94bab50>: {<borb.io.read.types.Name at 0x7efda941b950>: {<borb.io.read.types.Name at 0x7efda941bb10>: {<borb.io.read.types.Name at 0x7efda94ba3d0>: <borb.io.read.types.Name at 0x7efda94ba310>,\n",
              "    <borb.io.read.types.Name at 0x7efda94ba550>: <borb.io.read.types.Name at 0x7efda94ba490>,\n",
              "    <borb.io.read.types.Name at 0x7efda951e090>: <borb.io.read.types.Name at 0x7efda94ba150>,\n",
              "    <borb.io.read.types.Name at 0x7efda9514490>: <borb.io.read.types.Name at 0x7efda9475190>}},\n",
              "  <borb.io.read.types.Name at 0x7efda914a310>: {<borb.io.read.types.Name at 0x7efda914add0>: <PIL.Image.Image image mode=RGB size=330x330 at 0x7EFDA93C2450>}},\n",
              " <borb.io.read.types.Name at 0x7efdaa1f81d0>: <borb.io.read.types.Name at 0x7efdaa1f8110>}"
            ]
          },
          "metadata": {},
          "execution_count": 21
        }
      ]
    },
    {
      "cell_type": "markdown",
      "metadata": {
        "id": "szaVhyIultBr"
      },
      "source": [
        "Now we can add a few titles and subtitles and some promotional blurb;"
      ]
    },
    {
      "cell_type": "code",
      "metadata": {
        "id": "eBgkNRxNlzCd",
        "outputId": "a7633aa6-234e-49b1-b8d7-c027b7eb412a",
        "colab": {
          "base_uri": "https://localhost:8080/"
        }
      },
      "source": [
        "# title\n",
        "layout.add(Paragraph(\"Productbrochure\", \n",
        "                     font_color=HexColor(\"#283592\"), \n",
        "                     font_size=Decimal(34)))\n",
        "\n",
        "# subtitle\n",
        "layout.add(Paragraph(\"September 4th, 2021\", \n",
        "                     font_color=HexColor(\"#e01b84\"), \n",
        "                     font_size=Decimal(11)))\n",
        "\n",
        "layout.add(Paragraph(\"Product Overview\",\n",
        "                     font_color=HexColor(\"000000\"),\n",
        "                     font_size=Decimal(21)))\n",
        "\n",
        "layout.add(Paragraph(\"\"\"\n",
        "                    Lorem ipsum dolor sit amet, consectetur adipiscing elit, sed do eiusmod tempor incididunt ut labore et dolore magna aliqua. \n",
        "                    Ut enim ad minim veniam, quis nostrud exercitation ullamco laboris nisi ut aliquip ex ea commodo consequat. \n",
        "                    Duis aute irure dolor in reprehenderit in voluptate velit esse cillum dolore eu fugiat nulla pariatur. \n",
        "                    Excepteur sint occaecat cupidatat non proident, sunt in culpa qui officia deserunt mollit anim id est laborum.\n",
        "                    \"\"\"))"
      ],
      "execution_count": 22,
      "outputs": [
        {
          "output_type": "execute_result",
          "data": {
            "text/plain": [
              "<borb.pdf.canvas.layout.page_layout.multi_column_layout.SingleColumnLayout at 0x7efdaa1cd710>"
            ]
          },
          "metadata": {},
          "execution_count": 22
        }
      ]
    },
    {
      "cell_type": "markdown",
      "metadata": {
        "id": "Zn3FvnFroUSt"
      },
      "source": [
        "Images make things more visually interesting. Let's add an `Image` with some core product features next to it;"
      ]
    },
    {
      "cell_type": "code",
      "metadata": {
        "id": "u-szV_0rodef"
      },
      "source": [
        "# table with image and key features\n",
        "layout.add(\n",
        "  FixedColumnWidthTable(number_of_rows=2, number_of_columns=2, column_widths=[Decimal(0.3), Decimal(0.7)])\n",
        "  .add(\n",
        "    TableCell(\n",
        "      Image(\"https://www.att.com/catalog/en/skus/images/apple-iphone%2012-purple-450x350.png\", width=Decimal(128), height=Decimal(128)),\n",
        "      row_span=2,\n",
        "    )\n",
        "  )\n",
        "  .add(Paragraph(\"Key Features\", font_color=HexColor(\"e01b84\"), font=\"Helvetica-Bold\", padding_bottom=Decimal(10)))            \n",
        "  .add(\n",
        "    UnorderedList()\n",
        "      .add(Paragraph(\"Nam aliquet ex eget felis lobortis aliquet sit amet ut risus.\"))\n",
        "      .add(Paragraph(\"Maecenas sit amet odio ut erat tincidunt consectetur accumsan ut nunc.\"))\n",
        "      .add(Paragraph(\"Phasellus eget magna et justo malesuada fringilla.\"))\n",
        "      .add(Paragraph(\"Maecenas vitae dui ac nisi aliquam malesuada in consequat sapien.\"))\n",
        "    )\n",
        "  .no_borders()\n",
        ")"
      ],
      "execution_count": null,
      "outputs": []
    },
    {
      "cell_type": "markdown",
      "metadata": {
        "id": "ED2fE2vdpKYM"
      },
      "source": [
        "Finally, we can store the PDF;"
      ]
    },
    {
      "cell_type": "code",
      "metadata": {
        "id": "ADT70voWy21U"
      },
      "source": [
        "with open(\"flyer.pdf\", \"wb\") as pdf_file_handle:\n",
        "  PDF.dumps(pdf_file_handle, pdf)"
      ],
      "execution_count": 23,
      "outputs": []
    }
  ]
}