{
  "nbformat": 4,
  "nbformat_minor": 0,
  "metadata": {
    "colab": {
      "name": "borb_collab_example_005.ipynb",
      "provenance": [],
      "collapsed_sections": [],
      "authorship_tag": "ABX9TyNBaEEtjULJrDqVgVXh+yLW",
      "include_colab_link": true
    },
    "kernelspec": {
      "name": "python3",
      "display_name": "Python 3"
    },
    "language_info": {
      "name": "python"
    }
  },
  "cells": [
    {
      "cell_type": "markdown",
      "metadata": {
        "id": "view-in-github",
        "colab_type": "text"
      },
      "source": [
        "<a href=\"https://colab.research.google.com/github/jorisschellekens/borb-google-colab-examples/blob/main/using_borb_to_create_a_stunning_flyer_in_pdf.ipynb\" target=\"_parent\"><img src=\"https://colab.research.google.com/assets/colab-badge.svg\" alt=\"Open In Colab\"/></a>"
      ]
    },
    {
      "cell_type": "markdown",
      "metadata": {
        "id": "ROfVr-yY-ONA"
      },
      "source": [
        "# ![borb logo](https://github.com/jorisschellekens/borb/raw/master/logo/borb_64.png) Using `borb` to create a stunning flyer in PDF"
      ]
    },
    {
      "cell_type": "markdown",
      "metadata": {
        "id": "pQAUIyuU-VLd"
      },
      "source": [
        "[`borb`](https://github.com/jorisschellekens/borb) is a library for reading, creating and manipulating PDF files in python. borb was created in 2020 by Joris Schellekens and is still in active development. Check out the [GitHub repository](https://github.com/jorisschellekens/borb), or the [borb website](https://borbpdf.com)."
      ]
    },
    {
      "cell_type": "markdown",
      "metadata": {
        "id": "6-M_AuIQ-Y94"
      },
      "source": [
        "Let's start by installing `borb`"
      ]
    },
    {
      "cell_type": "code",
      "metadata": {
        "colab": {
          "base_uri": "https://localhost:8080/"
        },
        "id": "hZr_6C0PvP2z",
        "outputId": "a7b78f9b-e37a-4bf6-cc3d-c9a1129f6006"
      },
      "source": [
        "pip install borb"
      ],
      "execution_count": 40,
      "outputs": [
        {
          "output_type": "stream",
          "name": "stdout",
          "text": [
            "Requirement already satisfied: borb in /usr/local/lib/python3.7/dist-packages (2.0.10)\n",
            "Requirement already satisfied: setuptools~=51.1.1 in /usr/local/lib/python3.7/dist-packages (from borb) (51.1.2)\n",
            "Requirement already satisfied: python-barcode>=0.13.1 in /usr/local/lib/python3.7/dist-packages (from borb) (0.13.1)\n",
            "Requirement already satisfied: requests>=2.24.0 in /usr/local/lib/python3.7/dist-packages (from borb) (2.26.0)\n",
            "Requirement already satisfied: Pillow>=7.1.0 in /usr/local/lib/python3.7/dist-packages (from borb) (7.1.2)\n",
            "Requirement already satisfied: fonttools>=4.22.1 in /usr/local/lib/python3.7/dist-packages (from borb) (4.27.0)\n",
            "Requirement already satisfied: qrcode[pil]>=6.1 in /usr/local/lib/python3.7/dist-packages (from borb) (7.3)\n",
            "Requirement already satisfied: certifi>=2017.4.17 in /usr/local/lib/python3.7/dist-packages (from requests>=2.24.0->borb) (2021.5.30)\n",
            "Requirement already satisfied: idna<4,>=2.5 in /usr/local/lib/python3.7/dist-packages (from requests>=2.24.0->borb) (2.10)\n",
            "Requirement already satisfied: urllib3<1.27,>=1.21.1 in /usr/local/lib/python3.7/dist-packages (from requests>=2.24.0->borb) (1.24.3)\n",
            "Requirement already satisfied: charset-normalizer~=2.0.0 in /usr/local/lib/python3.7/dist-packages (from requests>=2.24.0->borb) (2.0.5)\n"
          ]
        }
      ]
    },
    {
      "cell_type": "markdown",
      "metadata": {
        "id": "E1jL_SYNiWJo"
      },
      "source": [
        "For the next snippet of code, we're going to need these imports. They form the basis of any workflow (with borb) in which you create a PDF."
      ]
    },
    {
      "cell_type": "code",
      "metadata": {
        "id": "I6FzsGmprxbq"
      },
      "source": [
        "from borb.pdf.document import Document\n",
        "from borb.pdf.page.page import Page\n",
        "from borb.pdf.pdf import PDF\n",
        "from borb.pdf.canvas.layout.page_layout.multi_column_layout import SingleColumnLayout\n",
        "from borb.pdf.canvas.layout.page_layout.page_layout import PageLayout"
      ],
      "execution_count": 41,
      "outputs": []
    },
    {
      "cell_type": "markdown",
      "metadata": {
        "id": "JyAoXM0Wiiww"
      },
      "source": [
        "These are the steps to creating a PDF document using `borb`:\n",
        "\n",
        "- Create an empty `Document`\n",
        "- Create an empty `Page`\n",
        "- Append the `Page` to the `Document`\n",
        "- Set a `PageLayout` to handle the flow of content (we're using a `SingleColumnLayout` here)\n",
        "- Add content (not shown here)\n",
        "- Write the PDF to disk (not shown here)"
      ]
    },
    {
      "cell_type": "code",
      "metadata": {
        "id": "KclBW8AMvrRz"
      },
      "source": [
        "# create empty Document\n",
        "pdf = Document()\n",
        "\n",
        "# create empty Page\n",
        "page = Page()\n",
        "\n",
        "# add Page to Document\n",
        "pdf.append_page(page)\n",
        "\n",
        "# create PageLayout\n",
        "layout: PageLayout = SingleColumnLayout(page)"
      ],
      "execution_count": 42,
      "outputs": []
    },
    {
      "cell_type": "markdown",
      "metadata": {
        "id": "uSwIrgmdjdU6"
      },
      "source": [
        "We'd like to add some geometric artwork to our flyer in the upper right corner. We're going to write a separate method to do that. Then we can later re-use this method (for instance on every `Page` in the `Document`)."
      ]
    },
    {
      "cell_type": "code",
      "metadata": {
        "id": "0smqhXX9weMl"
      },
      "source": [
        "# new imports\n",
        "from borb.pdf.canvas.layout.image.shape import Shape\n",
        "from decimal import Decimal\n",
        "from borb.pdf.canvas.color.color import HexColor, X11Color\n",
        "from borb.pdf.canvas.geometry.rectangle import Rectangle\n",
        "from borb.pdf.page.page_size import PageSize\n",
        "import typing\n",
        "import random\n",
        "\n",
        "def add_gray_artwork_to_upper_right_corner(page: Page) -> None:\n",
        "  \"\"\"\n",
        "  This method will add a gray artwork of squares and triangles in the upper right corner\n",
        "  of the given Page\n",
        "  \"\"\"\n",
        "\n",
        "  # define a list of gray colors\n",
        "  grays: typing.List[HexColor] = [HexColor(\"A9A9A9\"), \n",
        "                                HexColor(\"D3D3D3\"), \n",
        "                                HexColor(\"DCDCDC\"), \n",
        "                                HexColor(\"E0E0E0\"),\n",
        "                                HexColor(\"E8E8E8\"),\n",
        "                                HexColor(\"F0F0F0\")]\n",
        "\n",
        "  # we're going to use the size of the page later on,\n",
        "  # so perhaps it's a good idea to retrieve it now                                \n",
        "  ps: typing.Tuple[Decimal, Decimal] = PageSize.A4_PORTRAIT.value\n",
        "\n",
        "  # now we'll write N triangles in the upper right corner\n",
        "  # we'll later fill the remaining space with squares\n",
        "  N: int = 4\n",
        "  M: Decimal = Decimal(32)\n",
        "  for i in range(0, N):\n",
        "    x: Decimal = ps[0] - N * M + i * M\n",
        "    y: Decimal = ps[1] - (i+1) * M\n",
        "    rg: HexColor = random.choice(grays)\n",
        "    Shape(points=[(x + M,y), (x + M, y + M), (x, y + M)], stroke_color=rg, fill_color=rg).layout(page, Rectangle(x, y, M, M))\n",
        "\n",
        "  # now we can fill up the remaining space with squares    \n",
        "  for i in range(0, N-1):\n",
        "    for j in range(0, N-1):\n",
        "      if j > i:\n",
        "        continue\n",
        "      x: Decimal = ps[0] - (N-1) * M + i * M\n",
        "      y: Decimal = ps[1] - (j+1) * M\n",
        "      rg: HexColor = random.choice(grays)\n",
        "      Shape(points=[(x, y), (x + M, y), (x + M, y + M), (x, y + M)], stroke_color=rg, fill_color=rg).layout(page, Rectangle(x, y, M, M))\n"
      ],
      "execution_count": 43,
      "outputs": []
    },
    {
      "cell_type": "markdown",
      "metadata": {
        "id": "nVQOwHHXk7_R"
      },
      "source": [
        "Now that we've defined this method, we can call it in the main body of our script to add the artwork to the PDF."
      ]
    },
    {
      "cell_type": "code",
      "metadata": {
        "id": "yjlC-7om7vCS"
      },
      "source": [
        "# now we can call this method in the main method\n",
        "add_gray_artwork_to_upper_right_corner(page)"
      ],
      "execution_count": 44,
      "outputs": []
    },
    {
      "cell_type": "markdown",
      "metadata": {
        "id": "a0RGaqsOlkIA"
      },
      "source": [
        "Next we're going to add our company contact details, so people know where to reach us:"
      ]
    },
    {
      "cell_type": "code",
      "metadata": {
        "id": "nVl6edLalowW",
        "colab": {
          "base_uri": "https://localhost:8080/"
        },
        "outputId": "31fec55e-2fa2-4de7-db22-04c114f0c0dd"
      },
      "source": [
        "# new imports\n",
        "from borb.pdf.canvas.layout.image.barcode import Barcode, BarcodeType\n",
        "from borb.pdf.canvas.layout.layout_element import LayoutElement\n",
        "from borb.pdf.canvas.layout.table.flexible_column_width_table import FlexibleColumnWidthTable\n",
        "\n",
        "# contact information\n",
        "layout.add(Paragraph(\"Your Company\", font_color=HexColor(\"#6d64e8\"), font_size=Decimal(20)))\n",
        "\n",
        "# We're going to add a qr code that links to our website.\n",
        "# Later, we're going to add a remote go-to annotation \n",
        "# (that's just PDF talk for \"if you click the qr code, it will take you to our website\")\n",
        "# in order to be able to do that, we need its coordinates.\n",
        "qr_code: LayoutElement = Barcode(\n",
        "    data=\"https://www.borbpdf.com\",\n",
        "    width=Decimal(64),\n",
        "    height=Decimal(64),\n",
        "    type=BarcodeType.QR,\n",
        ")\n",
        "\n",
        "# now we can add this content to the table\n",
        "layout.add(\n",
        "    FlexibleColumnWidthTable(number_of_columns=2, number_of_rows=1)\n",
        "    .add(qr_code)\n",
        "    .add(\n",
        "      Paragraph(\n",
        "          \"\"\"\n",
        "          500 South Buena Vista Street\n",
        "          Burbank CA\n",
        "          91521-0991 USA\n",
        "          \"\"\",\n",
        "          padding_top=Decimal(12),\n",
        "          respect_newlines_in_text=True,\n",
        "          font_color=HexColor(\"#666666\"),\n",
        "          font_size=Decimal(10),\n",
        "      )\n",
        "    )\n",
        "    .no_borders()\n",
        ")\n",
        "\n",
        "# let's add the remote go-to annotation\n",
        "page.append_remote_go_to_annotation(\n",
        "  qr_code.get_bounding_box(), uri=\"https://www.borbpdf.com\"\n",
        ")\n"
      ],
      "execution_count": 45,
      "outputs": [
        {
          "output_type": "execute_result",
          "data": {
            "text/plain": [
              "{<borb.io.read.types.Name at 0x7efda8b619d0>: [{<borb.io.read.types.Name at 0x7efda91acfd0>: {<borb.io.read.types.Name at 0x7efda8ac8b90>: <borb.io.read.types.Name at 0x7efda8d2a6d0>,\n",
              "    <borb.io.read.types.Name at 0x7efda91acad0>: <borb.io.read.types.Name at 0x7efda91ac890>,\n",
              "    <borb.io.read.types.Name at 0x7efda8b61910>: <borb.io.read.types.String at 0x7efda8b61690>},\n",
              "   <borb.io.read.types.Name at 0x7efda8f60790>: [Decimal('0'),\n",
              "    Decimal('0'),\n",
              "    Decimal('0')],\n",
              "   <borb.io.read.types.Name at 0x7efda8b4b5d0>: Decimal('4'),\n",
              "   <borb.io.read.types.Name at 0x7efda8b4bd90>: <borb.io.read.types.String at 0x7efda8b4b710>,\n",
              "   <borb.io.read.types.Name at 0x7efda8b4be10>: <borb.io.read.types.String at 0x7efda8b4bc50>,\n",
              "   <borb.io.read.types.Name at 0x7efda8cfef50>: {...},\n",
              "   <borb.io.read.types.Name at 0x7efda921d9d0>: [Decimal('59.50000000000000330291349826'),\n",
              "    Decimal('655'),\n",
              "    Decimal('123.5000000000000033029134983'),\n",
              "    Decimal('719')],\n",
              "   <borb.io.read.types.Name at 0x7efda91acc90>: <borb.io.read.types.Name at 0x7efda8f65950>,\n",
              "   <borb.io.read.types.Name at 0x7efda8b61b50>: <borb.io.read.types.Name at 0x7efda94f1110>}],\n",
              " <borb.io.read.types.Name at 0x7efda8d20590>: {<borb.io.read.types.Name at 0x7efdaa3588d0>: b\"x\\xda\\xdd\\x94MO\\x83@\\x10\\x86\\xef\\xfe\\x8a9\\xeaA\\xca\\xc0.\\xb0G\\xa9\\x1f\\xf1X\\x8b&\\x1e\\xd1\\xd4O(\\x82\\x10\\xe3\\xbf\\xb7UXvt\\xa7AR\\xa3\\x91^f\\xfa\\x00\\xfb\\xbe\\xef\\xceR\\x82\\xeb(WE\\xae\\xb0\\x14g'\\xb0\\tW\\xb7\\xab\\xda}\\xbf\\xe0\\x05\\x84R]\\x13\\xa1\\xfe?\\x07\\x06d\\x14\\x08\\xcf\\x04Ah\\x071\\xc0\\xac\\\\-\\x1a\\x05^(\\xa4\\xa5\\xf8P\\xccb\\xaaX\\xfa\\xd85a\\x18\\x19\\x8a\\xed #\\x80\\xb7B@\\xa7X\\t\\xc40\\xb0\\x14m\\xc6\\x1c\\xfe\\xa48\\xf0\\xb50\\x11\\x98\\x8a\\xad \\xa3\\x80\\xb3B\\xc1\\x963VR/\\x83\\xc2Tl\\x05\\x19\\x05\\xac\\x15\\x02t\\xc6\\xbf4\\xc7\\xecT\\x98\\x80\\x0e87\\xf9:\\xfcu\\x94h)\\xda\\xf09\\xcc\\x0e8\\xb5\\xc2+\\xee3\\xe6\\x01Q\\xccz\\xdc\\xee\\xae\\x8c8\\xab\\xec\\xe4\\xb3\\x1e\\xb9T\\xb6\\xbc+\\xd6\\xf5\\xf3M\\xc2\\xfa#\\xc1\\x03\\xba+\\xdcvi+a$|\\xb4\\x14\\xad\\x15\\x0e\\xf3\\xdf#\\xba+l\\xf8\\xc6\\xe9\\xe6\\xc0\\xc0\\x91\\xfc9+\\x03?\\xad\\xec\\x87\\x8a\\xf5\\xc8\\xa5\\xb2\\xb6\\xb2\\x03\\xc6U\\x92.NH\\xeb:\\xa2\\x1b0_y(C\\xf3\\xd0\\x90;'\\xc7\\x08z\\xa6\\x93\\x1b\\x13\\x91\\xfb<\\x1d\\xc4\\xfa\\xd7wR9\\xb2\\xd5\\xeb\\xfbN\\xd4\\xbe'g\\xdf\\xb3{Y4\\x15L\\x8b\\xfc)]\\xbe\\xeeA\\xf2@\\xe8Q\\xc2>h\\xb8/!\\x10\\xa6\\x9a\\xbe\\xeb\\xd5\\x04R'|\\x9d\\xc3\\xe44G8,`\\x06\\xdf\\xca\\xb0]\\xe2K12C$\\x19\\xf6\\x1dzR\\xcb\\xee\\x07cS\\x88\\xab\\xbba^4\\xf5\\x1d\\xc4\\xcdb\\x99\\xc2\\xc5\\xfds\\x9d\\xc2\\xbc\\xae\\x16\\x8bz\\\\\\xa8\\x7f=\\x97\\xc8\\x1f\\x92K\\xdcTW\\xe9\\xf2\\x11\\xa6\\x07\\xff3\\x85\\x10\\x87\\xa4\\xa0Pz\\xb8\\xef*\\x85p>\\x1f\\x99\\xc4\\x1b}\\xe96\\xc4\",\n",
              "  <borb.io.read.types.Name at 0x7efda9103350>: b'q 0.909804 0.909804 0.909804 RG  0.909804 0.909804 0.909804 rg 0.000000 w 499.000000 810.000000 m  499.000000 810.000000 l  499.000000 842.000000 l  467.000000 842.000000 l  B  Qq 0.862745 0.862745 0.862745 RG  0.862745 0.862745 0.862745 rg 0.000000 w 531.000000 778.000000 m  531.000000 778.000000 l  531.000000 810.000000 l  499.000000 810.000000 l  B  Qq 0.941176 0.941176 0.941176 RG  0.941176 0.941176 0.941176 rg 0.000000 w 563.000000 746.000000 m  563.000000 746.000000 l  563.000000 778.000000 l  531.000000 778.000000 l  B  Qq 0.862745 0.862745 0.862745 RG  0.862745 0.862745 0.862745 rg 0.000000 w 595.000000 714.000000 m  595.000000 714.000000 l  595.000000 746.000000 l  563.000000 746.000000 l  B  Qq 0.909804 0.909804 0.909804 RG  0.909804 0.909804 0.909804 rg 0.000000 w 499.000000 810.000000 m  499.000000 810.000000 l  531.000000 810.000000 l  531.000000 842.000000 l  499.000000 842.000000 l  B  Qq 0.827451 0.827451 0.827451 RG  0.827451 0.827451 0.827451 rg 0.000000 w 531.000000 810.000000 m  531.000000 810.000000 l  563.000000 810.000000 l  563.000000 842.000000 l  531.000000 842.000000 l  B  Qq 0.909804 0.909804 0.909804 RG  0.909804 0.909804 0.909804 rg 0.000000 w 531.000000 778.000000 m  531.000000 778.000000 l  563.000000 778.000000 l  563.000000 810.000000 l  531.000000 810.000000 l  B  Qq 0.827451 0.827451 0.827451 RG  0.827451 0.827451 0.827451 rg 0.000000 w 563.000000 810.000000 m  563.000000 810.000000 l  595.000000 810.000000 l  595.000000 842.000000 l  563.000000 842.000000 l  B  Qq 0.878431 0.878431 0.878431 RG  0.878431 0.878431 0.878431 rg 0.000000 w 563.000000 778.000000 m  563.000000 778.000000 l  595.000000 778.000000 l  595.000000 810.000000 l  563.000000 810.000000 l  B  Qq 0.878431 0.878431 0.878431 RG  0.878431 0.878431 0.878431 rg 0.000000 w 563.000000 746.000000 m  563.000000 746.000000 l  595.000000 746.000000 l  595.000000 778.000000 l  563.000000 778.000000 l  B  Q\\n            q\\n            BT\\n            0.427451 0.392157 0.909804 rg\\n            /F1 1.000000 Tf            \\n            20.000000 0 0 20.000000 59.500000 733.800000 Tm            \\n            (Your Company) Tj\\n            ET            \\n            Q\\n         q 64.000000 0 0 64.000000 59.500000 655.000000 cm /Im1 Do Q \\n            q\\n            BT\\n            0.400000 0.400000 0.400000 rg\\n            /F1 1.000000 Tf            \\n            10.000000 0 0 10.000000 125.500000 695.000000 Tm            \\n            (500 South Buena Vista Street) Tj\\n            ET            \\n            Q\\n        \\n            q\\n            BT\\n            0.400000 0.400000 0.400000 rg\\n            /F1 1.000000 Tf            \\n            10.000000 0 0 10.000000 125.500000 683.000000 Tm            \\n            (Burbank CA) Tj\\n            ET            \\n            Q\\n        \\n            q\\n            BT\\n            0.400000 0.400000 0.400000 rg\\n            /F1 1.000000 Tf            \\n            10.000000 0 0 10.000000 125.500000 671.000000 Tm            \\n            (91521-0991 USA) Tj\\n            ET            \\n            Q\\n        ',\n",
              "  <borb.io.read.types.Name at 0x7efda918e210>: <borb.io.read.types.Name at 0x7efdaa358890>,\n",
              "  <borb.io.read.types.Name at 0x7efda918e6d0>: 438},\n",
              " <borb.io.read.types.Name at 0x7efda918e490>: [Decimal('0'),\n",
              "  Decimal('0'),\n",
              "  Decimal('595'),\n",
              "  Decimal('842')],\n",
              " <borb.io.read.types.Name at 0x7efda8b13bd0>: {<borb.io.read.types.Name at 0x7efdaa358210>: Decimal('1'),\n",
              "  <borb.io.read.types.Name at 0x7efda8e39ed0>: [{...}],\n",
              "  <borb.io.read.types.Name at 0x7efda8b16750>: <borb.io.read.types.Name at 0x7efda8e39990>},\n",
              " <borb.io.read.types.Name at 0x7efdaa1ee2d0>: {<borb.io.read.types.Name at 0x7efdaa36dd90>: {<borb.io.read.types.Name at 0x7efda9125950>: {<borb.io.read.types.Name at 0x7efda93d1a90>: <borb.io.read.types.Name at 0x7efda93d1490>,\n",
              "    <borb.io.read.types.Name at 0x7efda93c2f50>: <borb.io.read.types.Name at 0x7efda93d1bd0>,\n",
              "    <borb.io.read.types.Name at 0x7efda91b30d0>: <borb.io.read.types.Name at 0x7efda9098d90>,\n",
              "    <borb.io.read.types.Name at 0x7efda8d34350>: <borb.io.read.types.Name at 0x7efda91b3950>}},\n",
              "  <borb.io.read.types.Name at 0x7efda8d13f90>: {<borb.io.read.types.Name at 0x7efda8cfe450>: <PIL.Image.Image image mode=RGB size=330x330 at 0x7EFDA916F0D0>}},\n",
              " <borb.io.read.types.Name at 0x7efda918e850>: <borb.io.read.types.Name at 0x7efda918e750>}"
            ]
          },
          "metadata": {},
          "execution_count": 45
        }
      ]
    },
    {
      "cell_type": "markdown",
      "metadata": {
        "id": "szaVhyIultBr"
      },
      "source": [
        "Now we can add a few titles and subtitles and some promotional blurb;"
      ]
    },
    {
      "cell_type": "code",
      "metadata": {
        "id": "eBgkNRxNlzCd",
        "colab": {
          "base_uri": "https://localhost:8080/"
        },
        "outputId": "7bf94772-2493-4536-add4-48929057c866"
      },
      "source": [
        "# title\n",
        "layout.add(Paragraph(\"Productbrochure\", \n",
        "                     font_color=HexColor(\"#283592\"), \n",
        "                     font_size=Decimal(34)))\n",
        "\n",
        "# subtitle\n",
        "layout.add(Paragraph(\"September 4th, 2021\", \n",
        "                     font_color=HexColor(\"#e01b84\"), \n",
        "                     font_size=Decimal(11)))\n",
        "\n",
        "layout.add(Paragraph(\"Product Overview\",\n",
        "                     font_color=HexColor(\"000000\"),\n",
        "                     font_size=Decimal(21)))\n",
        "\n",
        "layout.add(Paragraph(\"\"\"\n",
        "                    Lorem ipsum dolor sit amet, consectetur adipiscing elit, sed do eiusmod tempor incididunt ut labore et dolore magna aliqua. \n",
        "                    Ut enim ad minim veniam, quis nostrud exercitation ullamco laboris nisi ut aliquip ex ea commodo consequat. \n",
        "                    Duis aute irure dolor in reprehenderit in voluptate velit esse cillum dolore eu fugiat nulla pariatur. \n",
        "                    Excepteur sint occaecat cupidatat non proident, sunt in culpa qui officia deserunt mollit anim id est laborum.\n",
        "                    \"\"\"))"
      ],
      "execution_count": 46,
      "outputs": [
        {
          "output_type": "execute_result",
          "data": {
            "text/plain": [
              "<borb.pdf.canvas.layout.page_layout.multi_column_layout.SingleColumnLayout at 0x7efdaa364590>"
            ]
          },
          "metadata": {},
          "execution_count": 46
        }
      ]
    },
    {
      "cell_type": "markdown",
      "metadata": {
        "id": "Zn3FvnFroUSt"
      },
      "source": [
        "Images make things more visually interesting. Let's add an `Image` with some core product features next to it;"
      ]
    },
    {
      "cell_type": "code",
      "metadata": {
        "id": "u-szV_0rodef",
        "outputId": "7f63e6d1-83db-4e01-b3d4-3d772d2bd915",
        "colab": {
          "base_uri": "https://localhost:8080/"
        }
      },
      "source": [
        "# new imports\n",
        "from borb.pdf.canvas.layout.table.fixed_column_width_table import FixedColumnWidthTable\n",
        "from borb.pdf.canvas.layout.table.table import TableCell\n",
        "from borb.pdf.canvas.layout.image.image import Image\n",
        "from borb.pdf.canvas.layout.list.unordered_list import UnorderedList\n",
        "\n",
        "# table with image and key features\n",
        "layout.add(\n",
        "  FixedColumnWidthTable(number_of_rows=2, number_of_columns=2, column_widths=[Decimal(0.3), Decimal(0.7)])\n",
        "  .add(\n",
        "    TableCell(\n",
        "      Image(\"https://www.att.com/catalog/en/skus/images/apple-iphone%2012-purple-450x350.png\", width=Decimal(128), height=Decimal(128)),\n",
        "      row_span=2,\n",
        "    )\n",
        "  )\n",
        "  .add(Paragraph(\"Key Features\", font_color=HexColor(\"e01b84\"), font=\"Helvetica-Bold\", padding_bottom=Decimal(10)))            \n",
        "  .add(\n",
        "    UnorderedList()\n",
        "      .add(Paragraph(\"Nam aliquet ex eget felis lobortis aliquet sit amet ut risus.\"))\n",
        "      .add(Paragraph(\"Maecenas sit amet odio ut erat tincidunt consectetur accumsan ut nunc.\"))\n",
        "      .add(Paragraph(\"Phasellus eget magna et justo malesuada fringilla.\"))\n",
        "      .add(Paragraph(\"Maecenas vitae dui ac nisi aliquam malesuada in consequat sapien.\"))\n",
        "    )\n",
        "  .no_borders()\n",
        ")"
      ],
      "execution_count": 49,
      "outputs": [
        {
          "output_type": "execute_result",
          "data": {
            "text/plain": [
              "<borb.pdf.canvas.layout.page_layout.multi_column_layout.SingleColumnLayout at 0x7efdaa364590>"
            ]
          },
          "metadata": {},
          "execution_count": 49
        }
      ]
    },
    {
      "cell_type": "markdown",
      "metadata": {
        "id": "xPDi9yons-ZX"
      },
      "source": [
        "Let's add a footer to the bottom of the page. We're going to put this in a separate method (so that we could call it later on, if we ever need to apply it to other pages in the PDF)."
      ]
    },
    {
      "cell_type": "code",
      "metadata": {
        "id": "UZWejXeetHJT"
      },
      "source": [
        "# new imports\n",
        "from borb.pdf.canvas.line_art.line_art_factory import LineArtFactory\n",
        "\n",
        "def add_colored_artwork_to_bottom_right_corner(page: Page) -> None:\n",
        "  \"\"\"\n",
        "  This method will add a blue/purple artwork of lines and squares to the bottom right corner\n",
        "  of the given Page\n",
        "  \"\"\"\n",
        "  ps: typing.Tuple[Decimal, Decimal] = PageSize.A4_PORTRAIT.value\n",
        "  \n",
        "  # square\n",
        "  Shape(points=[(ps[0] - 32, 40), (ps[0], 40), (ps[0], 40 + 32), (ps[0] - 32, 40 + 32)], stroke_color=HexColor(\"d53067\"), fill_color=HexColor(\"d53067\")).layout(page, Rectangle(ps[0] - 32, 40, 32, 32))\n",
        "  \n",
        "  # square\n",
        "  Shape(points=[(ps[0] - 64, 40), (ps[0] - 32, 40), (ps[0] - 32, 40 + 32), (ps[0] - 64, 40 + 32)], stroke_color=HexColor(\"eb3f79\"), fill_color=HexColor(\"eb3f79\")).layout(page, Rectangle(ps[0] - 64, 40, 32, 32))\n",
        "  \n",
        "  # triangle\n",
        "  Shape(points=[(ps[0] - 96, 40), (ps[0] - 64, 40), (ps[0] - 64, 40 + 32)], stroke_color=HexColor(\"e01b84\"), fill_color=HexColor(\"e01b84\")).layout(page, Rectangle(ps[0] - 96, 40, 32, 32))\n",
        "  \n",
        "  # line\n",
        "  r: Rectangle = Rectangle(Decimal(0), Decimal(32), ps[0], Decimal(8))\n",
        "  Shape(points=LineArtFactory.rectangle(r), stroke_color=HexColor(\"283592\"), fill_color=HexColor(\"283592\")).layout(page, r)\n"
      ],
      "execution_count": 55,
      "outputs": []
    },
    {
      "cell_type": "markdown",
      "metadata": {
        "id": "y15omGFEtwak"
      },
      "source": [
        "Now we can call this method in the main body;"
      ]
    },
    {
      "cell_type": "code",
      "metadata": {
        "id": "WYot_t4dtvs0"
      },
      "source": [
        "add_colored_artwork_to_bottom_right_corner(page)"
      ],
      "execution_count": 56,
      "outputs": []
    },
    {
      "cell_type": "markdown",
      "metadata": {
        "id": "ED2fE2vdpKYM"
      },
      "source": [
        "Finally, we can store the PDF;"
      ]
    },
    {
      "cell_type": "code",
      "metadata": {
        "id": "ADT70voWy21U"
      },
      "source": [
        "with open(\"flyer.pdf\", \"wb\") as pdf_file_handle:\n",
        "  PDF.dumps(pdf_file_handle, pdf)"
      ],
      "execution_count": 57,
      "outputs": []
    }
  ]
}