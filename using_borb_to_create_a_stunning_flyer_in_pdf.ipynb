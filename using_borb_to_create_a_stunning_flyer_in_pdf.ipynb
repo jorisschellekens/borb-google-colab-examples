{
  "nbformat": 4,
  "nbformat_minor": 0,
  "metadata": {
    "colab": {
      "name": "using_borb_to_create_a_stunning_flyer_in_pdf.ipynb",
      "provenance": [],
      "collapsed_sections": [],
      "include_colab_link": true
    },
    "kernelspec": {
      "name": "python3",
      "display_name": "Python 3"
    },
    "language_info": {
      "name": "python"
    }
  },
  "cells": [
    {
      "cell_type": "markdown",
      "metadata": {
        "id": "view-in-github",
        "colab_type": "text"
      },
      "source": [
        "<a href=\"https://colab.research.google.com/github/jorisschellekens/borb-google-colab-examples/blob/main/using_borb_to_create_a_stunning_flyer_in_pdf.ipynb\" target=\"_parent\"><img src=\"https://colab.research.google.com/assets/colab-badge.svg\" alt=\"Open In Colab\"/></a>"
      ]
    },
    {
      "cell_type": "markdown",
      "metadata": {
        "id": "ROfVr-yY-ONA"
      },
      "source": [
        "# ![borb logo](https://github.com/jorisschellekens/borb/raw/master/logo/borb_64.png) Using `borb` to create a stunning flyer in PDF"
      ]
    },
    {
      "cell_type": "markdown",
      "metadata": {
        "id": "pQAUIyuU-VLd"
      },
      "source": [
        "[`borb`](https://github.com/jorisschellekens/borb) is a library for reading, creating and manipulating PDF files in python. borb was created in 2020 by Joris Schellekens and is still in active development. Check out the [GitHub repository](https://github.com/jorisschellekens/borb), or the [borb website](https://borbpdf.com)."
      ]
    },
    {
      "cell_type": "markdown",
      "metadata": {
        "id": "6-M_AuIQ-Y94"
      },
      "source": [
        "Let's start by installing `borb`"
      ]
    },
    {
      "cell_type": "code",
      "metadata": {
        "colab": {
          "base_uri": "https://localhost:8080/"
        },
        "id": "hZr_6C0PvP2z",
        "outputId": "ab1d9740-856f-4ffc-d8c8-35d9dfdd5186"
      },
      "source": [
        "pip install borb"
      ],
      "execution_count": 16,
      "outputs": [
        {
          "output_type": "stream",
          "name": "stdout",
          "text": [
            "Looking in indexes: https://pypi.org/simple, https://us-python.pkg.dev/colab-wheels/public/simple/\n",
            "Requirement already satisfied: borb in /usr/local/lib/python3.7/dist-packages (2.1.0)\n",
            "Requirement already satisfied: python-barcode>=0.13.1 in /usr/local/lib/python3.7/dist-packages (from borb) (0.14.0)\n",
            "Requirement already satisfied: requests>=2.24.0 in /usr/local/lib/python3.7/dist-packages (from borb) (2.28.1)\n",
            "Requirement already satisfied: Pillow>=7.1.0 in /usr/local/lib/python3.7/dist-packages (from borb) (7.1.2)\n",
            "Requirement already satisfied: qrcode[pil]>=6.1 in /usr/local/lib/python3.7/dist-packages (from borb) (7.3.1)\n",
            "Requirement already satisfied: fonttools>=4.22.1 in /usr/local/lib/python3.7/dist-packages (from borb) (4.37.1)\n",
            "Requirement already satisfied: setuptools>=51.1.1 in /usr/local/lib/python3.7/dist-packages (from borb) (57.4.0)\n",
            "Requirement already satisfied: certifi>=2017.4.17 in /usr/local/lib/python3.7/dist-packages (from requests>=2.24.0->borb) (2022.6.15)\n",
            "Requirement already satisfied: charset-normalizer<3,>=2 in /usr/local/lib/python3.7/dist-packages (from requests>=2.24.0->borb) (2.1.1)\n",
            "Requirement already satisfied: urllib3<1.27,>=1.21.1 in /usr/local/lib/python3.7/dist-packages (from requests>=2.24.0->borb) (1.24.3)\n",
            "Requirement already satisfied: idna<4,>=2.5 in /usr/local/lib/python3.7/dist-packages (from requests>=2.24.0->borb) (2.10)\n"
          ]
        }
      ]
    },
    {
      "cell_type": "markdown",
      "metadata": {
        "id": "E1jL_SYNiWJo"
      },
      "source": [
        "For the next snippet of code, we're going to need these imports. They form the basis of any workflow (with borb) in which you create a PDF."
      ]
    },
    {
      "cell_type": "code",
      "metadata": {
        "id": "I6FzsGmprxbq"
      },
      "source": [
        "from borb.pdf.document.document import Document\n",
        "from borb.pdf.page.page import Page\n",
        "from borb.pdf.pdf import PDF\n",
        "from borb.pdf.canvas.layout.page_layout.multi_column_layout import SingleColumnLayout\n",
        "from borb.pdf.canvas.layout.page_layout.page_layout import PageLayout"
      ],
      "execution_count": 17,
      "outputs": []
    },
    {
      "cell_type": "markdown",
      "metadata": {
        "id": "JyAoXM0Wiiww"
      },
      "source": [
        "These are the steps to creating a PDF document using `borb`:\n",
        "\n",
        "- Create an empty `Document`\n",
        "- Create an empty `Page`\n",
        "- Append the `Page` to the `Document`\n",
        "- Set a `PageLayout` to handle the flow of content (we're using a `SingleColumnLayout` here)\n",
        "- Add content (not shown here)\n",
        "- Write the PDF to disk (not shown here)"
      ]
    },
    {
      "cell_type": "code",
      "metadata": {
        "id": "KclBW8AMvrRz"
      },
      "source": [
        "# create empty Document\n",
        "pdf = Document()\n",
        "\n",
        "# create empty Page\n",
        "page = Page()\n",
        "\n",
        "# add Page to Document\n",
        "pdf.add_page(page)\n",
        "\n",
        "# create PageLayout\n",
        "layout: PageLayout = SingleColumnLayout(page)"
      ],
      "execution_count": 18,
      "outputs": []
    },
    {
      "cell_type": "markdown",
      "metadata": {
        "id": "uSwIrgmdjdU6"
      },
      "source": [
        "We'd like to add some geometric artwork to our flyer in the upper right corner. We're going to write a separate method to do that. Then we can later re-use this method (for instance on every `Page` in the `Document`)."
      ]
    },
    {
      "cell_type": "code",
      "metadata": {
        "id": "0smqhXX9weMl"
      },
      "source": [
        "# new imports\n",
        "from borb.pdf.canvas.layout.shape.connected_shape import ConnectedShape\n",
        "from decimal import Decimal\n",
        "from borb.pdf.canvas.color.color import HexColor, X11Color\n",
        "from borb.pdf.canvas.geometry.rectangle import Rectangle\n",
        "from borb.pdf.page.page_size import PageSize\n",
        "import typing\n",
        "import random\n",
        "\n",
        "def add_gray_artwork_to_upper_right_corner(page: Page) -> None:\n",
        "  \"\"\"\n",
        "  This method will add a gray artwork of squares and triangles in the upper right corner\n",
        "  of the given Page\n",
        "  \"\"\"\n",
        "\n",
        "  # define a list of gray colors\n",
        "  grays: typing.List[HexColor] = [HexColor(\"A9A9A9\"), \n",
        "                                HexColor(\"D3D3D3\"), \n",
        "                                HexColor(\"DCDCDC\"), \n",
        "                                HexColor(\"E0E0E0\"),\n",
        "                                HexColor(\"E8E8E8\"),\n",
        "                                HexColor(\"F0F0F0\")]\n",
        "\n",
        "  # we're going to use the size of the page later on,\n",
        "  # so perhaps it's a good idea to retrieve it now                                \n",
        "  ps: typing.Tuple[Decimal, Decimal] = PageSize.A4_PORTRAIT.value\n",
        "\n",
        "  # now we'll write N triangles in the upper right corner\n",
        "  # we'll later fill the remaining space with squares\n",
        "  N: int = 4\n",
        "  M: Decimal = Decimal(32)\n",
        "  for i in range(0, N):\n",
        "    x: Decimal = ps[0] - N * M + i * M\n",
        "    y: Decimal = ps[1] - (i+1) * M\n",
        "    rg: HexColor = random.choice(grays)\n",
        "    ConnectedShape(points=[(x + M,y), (x + M, y + M), (x, y + M)], stroke_color=rg, fill_color=rg).paint(page, Rectangle(x, y, M, M))\n",
        "\n",
        "  # now we can fill up the remaining space with squares    \n",
        "  for i in range(0, N-1):\n",
        "    for j in range(0, N-1):\n",
        "      if j > i:\n",
        "        continue\n",
        "      x: Decimal = ps[0] - (N-1) * M + i * M\n",
        "      y: Decimal = ps[1] - (j+1) * M\n",
        "      rg: HexColor = random.choice(grays)\n",
        "      ConnectedShape(points=[(x, y), (x + M, y), (x + M, y + M), (x, y + M)], stroke_color=rg, fill_color=rg).paint(page, Rectangle(x, y, M, M))\n"
      ],
      "execution_count": 19,
      "outputs": []
    },
    {
      "cell_type": "markdown",
      "metadata": {
        "id": "nVQOwHHXk7_R"
      },
      "source": [
        "Now that we've defined this method, we can call it in the main body of our script to add the artwork to the PDF."
      ]
    },
    {
      "cell_type": "code",
      "metadata": {
        "id": "yjlC-7om7vCS"
      },
      "source": [
        "# now we can call this method in the main method\n",
        "add_gray_artwork_to_upper_right_corner(page)"
      ],
      "execution_count": 20,
      "outputs": []
    },
    {
      "cell_type": "markdown",
      "metadata": {
        "id": "a0RGaqsOlkIA"
      },
      "source": [
        "Next we're going to add our company contact details, so people know where to reach us:"
      ]
    },
    {
      "cell_type": "code",
      "metadata": {
        "id": "nVl6edLalowW",
        "colab": {
          "base_uri": "https://localhost:8080/"
        },
        "outputId": "13575961-7432-4421-a493-5f491e440dd9"
      },
      "source": [
        "# new imports\n",
        "from borb.pdf.canvas.layout.text.paragraph import Paragraph\n",
        "from borb.pdf.canvas.layout.image.barcode import Barcode, BarcodeType\n",
        "from borb.pdf.canvas.layout.layout_element import LayoutElement\n",
        "from borb.pdf.canvas.layout.table.flexible_column_width_table import FlexibleColumnWidthTable\n",
        "from borb.pdf.canvas.layout.annotation.remote_go_to_annotation import RemoteGoToAnnotation\n",
        "\n",
        "# contact information\n",
        "layout.add(Paragraph(\"Your Company\", font_color=HexColor(\"#6d64e8\"), font_size=Decimal(20)))\n",
        "\n",
        "# We're going to add a qr code that links to our website.\n",
        "# Later, we're going to add a remote go-to annotation \n",
        "# (that's just PDF talk for \"if you click the qr code, it will take you to our website\")\n",
        "# in order to be able to do that, we need its coordinates.\n",
        "qr_code: LayoutElement = Barcode(\n",
        "    data=\"https://www.borbpdf.com\",\n",
        "    width=Decimal(64),\n",
        "    height=Decimal(64),\n",
        "    type=BarcodeType.QR,\n",
        ")\n",
        "\n",
        "# now we can add this content to the table\n",
        "layout.add(\n",
        "    FlexibleColumnWidthTable(number_of_columns=2, number_of_rows=1)\n",
        "    .add(qr_code)\n",
        "    .add(\n",
        "      Paragraph(\n",
        "          \"\"\"\n",
        "          500 South Buena Vista Street\n",
        "          Burbank CA\n",
        "          91521-0991 USA\n",
        "          \"\"\",\n",
        "          padding_top=Decimal(12),\n",
        "          respect_newlines_in_text=True,\n",
        "          font_color=HexColor(\"#666666\"),\n",
        "          font_size=Decimal(10),\n",
        "      )\n",
        "    )\n",
        "    .no_borders()\n",
        ")\n",
        "\n",
        "# let's add the remote go-to annotation\n",
        "page.add_annotation(RemoteGoToAnnotation(\n",
        "  qr_code.get_previous_paint_box(), uri=\"https://www.borbpdf.com\"\n",
        "))\n"
      ],
      "execution_count": 21,
      "outputs": [
        {
          "output_type": "execute_result",
          "data": {
            "text/plain": [
              "{<borb.io.read.types.Name at 0x7f5f64b6c310>: <borb.io.read.types.Name at 0x7f5f64b6c690>,\n",
              " <borb.io.read.types.Name at 0x7f5f64b374d0>: [Decimal('0'),\n",
              "  Decimal('0'),\n",
              "  Decimal('595'),\n",
              "  Decimal('842')],\n",
              " <borb.io.read.types.Name at 0x7f5f64bc5c10>: {<borb.io.read.types.Name at 0x7f5f64d41310>: Decimal('1'),\n",
              "  <borb.io.read.types.Name at 0x7f5f658a1d10>: [{...}],\n",
              "  <borb.io.read.types.Name at 0x7f5f64aa4690>: <borb.io.read.types.Name at 0x7f5f64bcdfd0>},\n",
              " <borb.io.read.types.Name at 0x7f5f64aa45d0>: {<borb.io.read.types.Name at 0x7f5f6498d810>: b'q 0.909804 0.909804 0.909804 RG  0.909804 0.909804 0.909804 rg 1.000000 w 499.000000 810.000000 m  499.000000 842.000000 l  467.000000 842.000000 l  B  Qq 0.909804 0.909804 0.909804 RG  0.909804 0.909804 0.909804 rg 1.000000 w 531.000000 778.000000 m  531.000000 810.000000 l  499.000000 810.000000 l  B  Qq 0.662745 0.662745 0.662745 RG  0.662745 0.662745 0.662745 rg 1.000000 w 563.000000 746.000000 m  563.000000 778.000000 l  531.000000 778.000000 l  B  Qq 0.862745 0.862745 0.862745 RG  0.862745 0.862745 0.862745 rg 1.000000 w 595.000000 714.000000 m  595.000000 746.000000 l  563.000000 746.000000 l  B  Qq 0.941176 0.941176 0.941176 RG  0.941176 0.941176 0.941176 rg 1.000000 w 499.000000 810.000000 m  531.000000 810.000000 l  531.000000 842.000000 l  499.000000 842.000000 l  B  Qq 0.827451 0.827451 0.827451 RG  0.827451 0.827451 0.827451 rg 1.000000 w 531.000000 810.000000 m  563.000000 810.000000 l  563.000000 842.000000 l  531.000000 842.000000 l  B  Qq 0.941176 0.941176 0.941176 RG  0.941176 0.941176 0.941176 rg 1.000000 w 531.000000 778.000000 m  563.000000 778.000000 l  563.000000 810.000000 l  531.000000 810.000000 l  B  Qq 0.827451 0.827451 0.827451 RG  0.827451 0.827451 0.827451 rg 1.000000 w 563.000000 810.000000 m  595.000000 810.000000 l  595.000000 842.000000 l  563.000000 842.000000 l  B  Qq 0.941176 0.941176 0.941176 RG  0.941176 0.941176 0.941176 rg 1.000000 w 563.000000 778.000000 m  595.000000 778.000000 l  595.000000 810.000000 l  563.000000 810.000000 l  B  Qq 0.941176 0.941176 0.941176 RG  0.941176 0.941176 0.941176 rg 1.000000 w 563.000000 746.000000 m  595.000000 746.000000 l  595.000000 778.000000 l  563.000000 778.000000 l  B  Q\\n            q\\n            BT\\n            0.427451 0.392157 0.909804 rg\\n            /F1 1.000000 Tf            \\n            20.000000 0 0 20.000000 59.500000 741.940000 Tm            \\n            (Your Company) Tj\\n            ET            \\n            Q\\n        \\n                q 1.000000 1.000000 1.000000 rg 59.500000 709.800000 m\\n                123.500000 709.800000 l\\n                123.500000 645.800000 l\\n                59.500000 645.800000 l\\n                59.500000 709.800000 l\\n                f\\n                Q\\n                 q 64.000000 0 0 64.000000 59.500000 645.800000 cm /Im1 Do Q \\n            q\\n            BT\\n            0.400000 0.400000 0.400000 rg\\n            /F1 1.000000 Tf            \\n            10.000000 0 0 10.000000 123.500000 689.870000 Tm            \\n            (500 South Buena Vista Street) Tj\\n            ET            \\n            Q\\n        \\n            q\\n            BT\\n            0.400000 0.400000 0.400000 rg\\n            /F1 1.000000 Tf            \\n            10.000000 0 0 10.000000 123.500000 677.870000 Tm            \\n            (Burbank CA) Tj\\n            ET            \\n            Q\\n        \\n            q\\n            BT\\n            0.400000 0.400000 0.400000 rg\\n            /F1 1.000000 Tf            \\n            10.000000 0 0 10.000000 123.500000 665.870000 Tm            \\n            (91521-0991 USA) Tj\\n            ET            \\n            Q\\n        ',\n",
              "  <borb.io.read.types.Name at 0x7f5f6498d550>: b'x\\xda\\xddTMO\\x83@\\x10\\xbd\\xfb+\\xe6\\xa8\\x07\\x91\\x85\\xfd`\\x8f\\xb6~\\xc4c-\\x9ax\\xac\\xa6\\xf5\\x0b\\x8a\\xc56\\xc6\\x7f/m\\x81\\x9d\\x85\\x9d\\x8a\\r&Fz\\x99\\xe1Mw\\xde\\xbcy\\xec\\x02|O\\xfb:\\xf2\\xb9#\\xb8\\xbe\\x84]p\\xfe\\x08\\xcc\\xf37\\x0f|\\x00\\xd7\\xbaJ\"\\xe6Wa\\n\\x16\\xc0\\x83*L\\n@*70\\x00\\x18-z#&\\xc2:Q*B\\xc4\\x10\\x80\\x18\\'@\\x8c\\x82\\x88I\\x19(.\\x1c\\xc1\\x96\\x18\\t7\\x88\\xc9\\xb0&\\xc6%&\\x86\\x00\\xc38\\x01b\\x14D,\\xaa\\x1a6\\x83-1\\x12n\\x10\\xd3\\xa2n\\xc38&\\x86\\x00\\xc38\\x01b\\x14\\xbcJ\\xce\\x98\\x92\\x8e\\xa0\\\\%\\x05w\\xf4\\x18\\xb9J\\x0c\\xd8\\xe6\\xa3\\\\YK\\xb9\\x16\\x869\\x82RJ\\n&\\xcd\\xd7`l\\x14k0F\\x80E\\x8c\\x1c\\xa5_\\x8d\\xe9\\xcf\\x85t%9\\n\\xb5\\x95\\x9e5v\\xf6\\xb7\\xed\\xda \\x86\\x00[cJ\\xfc\\x9e5vJ\\xd9\\xf8\\xc0l\\x8d\\xc9Q(\\xf1\\x7f\\x8f\\xb1}W\\x91W\\x029\\n\\xe5\\xa35\\xe3\\x03@\\xcf\\xc2\\xca\\x06\\xb1\\x95\\xfa\\x1e\\xaf\\\\\\x11\\xea\\x80\\t\\x85\\xef\\x7f\\xab\\xf2\\xe4\\x82\\x99Q\\xe2\\x19\\x86\\xac\\xba\\xa0\\x96o\\xfd3\\x99\\xd0\\x9e\\xa8&d\\x85<\\xdbsR\\xf2\\x9c\\xc3\\xbbl\\x95\\xc30K\\xdf&\\xf3\\xcf#\\x88_,\\xf4<&\\xffh\\xa6\\xb7^o\\xa40\\x13\\xb4\\x83bU\\x88\\xa3\\xaf\\xbd\\xa8\\\\O\\xeb\\x18\\x16\\x84\\x8e\\xbadW\\x9d\\xe4\\x82\\xae3m;\\x96\\xed\\xec:k\\xbd\\x19\\xb5\\xde\\x14JH\\x8e\\xf7d2\\'\\x99\\x87\\x14N\\xaeR\\x06g\\x19\\x8c\\xe0G\\xee*[\\xb4\\x82=\\xdd\\xc5,w\\x99\\x0cK\\x1d\\x15\\xe2\\xa8o\\xedUT\\xc38[-\\x9f`\\xb0\\x9a\\xce\\'p\\xfb\\xfc\\xbe\\x9c\\xc0x\\x99O\\xa7\\xcb\\x1e\\xec\\xf6\\x07uQ\\xaa\\x8b.\\x83U~?\\x99\\xbf\\xc2\\xf0\\xf4\\x7f\\xaa E\\x17\\x154\\x13\\x01;\\xf6\\xb5fp3\\xdeS\\x89/\\xe6\\xc74\\xc3',\n",
              "  <borb.io.read.types.Name at 0x7f5f6498dd90>: <borb.io.read.types.Name at 0x7f5f6498dd50>,\n",
              "  <borb.io.read.types.Name at 0x7f5f64aa4fd0>: Decimal('471')},\n",
              " <borb.io.read.types.Name at 0x7f5f64bc5850>: {<borb.io.read.types.Name at 0x7f5f644fa9d0>: {<borb.io.read.types.Name at 0x7f5f6b7e1190>: {<borb.io.read.types.Name at 0x7f5f63f04110>: <borb.io.read.types.Name at 0x7f5f6da39d50>,\n",
              "    <borb.io.read.types.Name at 0x7f5f63f04fd0>: <borb.io.read.types.Name at 0x7f5f64438dd0>,\n",
              "    <borb.io.read.types.Name at 0x7f5f64866990>: <borb.io.read.types.Name at 0x7f5f64866a50>,\n",
              "    <borb.io.read.types.Name at 0x7f5f648669d0>: <borb.io.read.types.Name at 0x7f5f64866b50>}},\n",
              "  <borb.io.read.types.Name at 0x7f5f64aa20d0>: {<borb.io.read.types.Name at 0x7f5f64aa2190>: <PIL.Image.Image image mode=RGB size=330x330 at 0x7F5F64866E90>}},\n",
              " <borb.io.read.types.Name at 0x7f5f63eeee50>: [{<borb.io.read.types.Name at 0x7f5f64866e50>: <borb.io.read.types.Name at 0x7f5f63f04e50>,\n",
              "   <borb.io.read.types.Name at 0x7f5f64d3b2d0>: [Decimal('59.50000000000000330291349826'),\n",
              "    Decimal('645.7999999999999971023179057'),\n",
              "    Decimal('123.5000000000000033029134983'),\n",
              "    Decimal('709.7999999999999971023179057')],\n",
              "   <borb.io.read.types.Name at 0x7f5f648cef10>: <borb.io.read.types.String at 0x7f5f6480d750>,\n",
              "   <borb.io.read.types.Name at 0x7f5f648ce9d0>: <borb.io.read.types.String at 0x7f5f648cea90>,\n",
              "   <borb.io.read.types.Name at 0x7f5f6480d790>: Decimal('4'),\n",
              "   <borb.io.read.types.Name at 0x7f5f648ce790>: <borb.io.read.types.Name at 0x7f5f6480d610>,\n",
              "   <borb.io.read.types.Name at 0x7f5f648ceb10>: [Decimal('0'),\n",
              "    Decimal('0'),\n",
              "    Decimal('0')],\n",
              "   <borb.io.read.types.Name at 0x7f5f643cf850>: {<borb.io.read.types.Name at 0x7f5f643cf110>: <borb.io.read.types.Name at 0x7f5f643cf0d0>,\n",
              "    <borb.io.read.types.Name at 0x7f5f64ca9e10>: <borb.io.read.types.Name at 0x7f5f64446610>,\n",
              "    <borb.io.read.types.Name at 0x7f5f6480d490>: <borb.io.read.types.String at 0x7f5f6480d0d0>},\n",
              "   <borb.io.read.types.Name at 0x7f5f63eeea90>: {...}}]}"
            ]
          },
          "metadata": {},
          "execution_count": 21
        }
      ]
    },
    {
      "cell_type": "markdown",
      "metadata": {
        "id": "szaVhyIultBr"
      },
      "source": [
        "Now we can add a few titles and subtitles and some promotional blurb;"
      ]
    },
    {
      "cell_type": "code",
      "metadata": {
        "id": "eBgkNRxNlzCd",
        "colab": {
          "base_uri": "https://localhost:8080/"
        },
        "outputId": "60962809-5e7a-40ef-fd76-ef9a236baa2f"
      },
      "source": [
        "# title\n",
        "layout.add(Paragraph(\"Productbrochure\", \n",
        "                     font_color=HexColor(\"#283592\"), \n",
        "                     font_size=Decimal(34)))\n",
        "\n",
        "# subtitle\n",
        "layout.add(Paragraph(\"September 4th, 2021\", \n",
        "                     font_color=HexColor(\"#e01b84\"), \n",
        "                     font_size=Decimal(11)))\n",
        "\n",
        "layout.add(Paragraph(\"Product Overview\",\n",
        "                     font_color=HexColor(\"000000\"),\n",
        "                     font_size=Decimal(21)))\n",
        "\n",
        "layout.add(Paragraph(\"\"\"\n",
        "                    Lorem ipsum dolor sit amet, consectetur adipiscing elit, sed do eiusmod tempor incididunt ut labore et dolore magna aliqua. \n",
        "                    Ut enim ad minim veniam, quis nostrud exercitation ullamco laboris nisi ut aliquip ex ea commodo consequat. \n",
        "                    Duis aute irure dolor in reprehenderit in voluptate velit esse cillum dolore eu fugiat nulla pariatur. \n",
        "                    Excepteur sint occaecat cupidatat non proident, sunt in culpa qui officia deserunt mollit anim id est laborum.\n",
        "                    \"\"\"))"
      ],
      "execution_count": 22,
      "outputs": [
        {
          "output_type": "execute_result",
          "data": {
            "text/plain": [
              "<borb.pdf.canvas.layout.page_layout.multi_column_layout.SingleColumnLayout at 0x7f5f64b378d0>"
            ]
          },
          "metadata": {},
          "execution_count": 22
        }
      ]
    },
    {
      "cell_type": "markdown",
      "metadata": {
        "id": "Zn3FvnFroUSt"
      },
      "source": [
        "Images make things more visually interesting. Let's add an `Image` with some core product features next to it;"
      ]
    },
    {
      "cell_type": "code",
      "metadata": {
        "id": "u-szV_0rodef",
        "outputId": "8ea92b4f-6323-4a52-d963-f4d709705f68",
        "colab": {
          "base_uri": "https://localhost:8080/"
        }
      },
      "source": [
        "# new imports\n",
        "from borb.pdf.canvas.layout.table.fixed_column_width_table import FixedColumnWidthTable\n",
        "from borb.pdf.canvas.layout.table.table import TableCell\n",
        "from borb.pdf.canvas.layout.image.image import Image\n",
        "from borb.pdf.canvas.layout.list.unordered_list import UnorderedList\n",
        "\n",
        "# table with image and key features\n",
        "layout.add(\n",
        "  FixedColumnWidthTable(number_of_rows=2, number_of_columns=2, column_widths=[Decimal(0.3), Decimal(0.7)])\n",
        "  .add(\n",
        "    TableCell(\n",
        "      Image(\"https://www.att.com/catalog/en/skus/images/apple-iphone%2012-purple-450x350.png\", width=Decimal(128), height=Decimal(128)),\n",
        "      row_span=2,\n",
        "    )\n",
        "  )\n",
        "  .add(Paragraph(\"Key Features\", font_color=HexColor(\"e01b84\"), font=\"Helvetica-Bold\", padding_bottom=Decimal(10)))            \n",
        "  .add(\n",
        "    UnorderedList()\n",
        "      .add(Paragraph(\"Nam aliquet ex eget felis lobortis aliquet sit amet ut risus.\"))\n",
        "      .add(Paragraph(\"Maecenas sit amet odio ut erat tincidunt consectetur accumsan ut nunc.\"))\n",
        "      .add(Paragraph(\"Phasellus eget magna et justo malesuada fringilla.\"))\n",
        "      .add(Paragraph(\"Maecenas vitae dui ac nisi aliquam malesuada in consequat sapien.\"))\n",
        "    )\n",
        "  .no_borders()\n",
        ")"
      ],
      "execution_count": 23,
      "outputs": [
        {
          "output_type": "execute_result",
          "data": {
            "text/plain": [
              "<borb.pdf.canvas.layout.page_layout.multi_column_layout.SingleColumnLayout at 0x7f5f64b378d0>"
            ]
          },
          "metadata": {},
          "execution_count": 23
        }
      ]
    },
    {
      "cell_type": "markdown",
      "metadata": {
        "id": "xPDi9yons-ZX"
      },
      "source": [
        "Let's add a footer to the bottom of the page. We're going to put this in a separate method (so that we could call it later on, if we ever need to apply it to other pages in the PDF)."
      ]
    },
    {
      "cell_type": "code",
      "metadata": {
        "id": "UZWejXeetHJT"
      },
      "source": [
        "# new imports\n",
        "from borb.pdf.canvas.line_art.line_art_factory import LineArtFactory\n",
        "\n",
        "def add_colored_artwork_to_bottom_right_corner(page: Page) -> None:\n",
        "  \"\"\"\n",
        "  This method will add a blue/purple artwork of lines and squares to the bottom right corner\n",
        "  of the given Page\n",
        "  \"\"\"\n",
        "  ps: typing.Tuple[Decimal, Decimal] = PageSize.A4_PORTRAIT.value\n",
        "  \n",
        "  # square\n",
        "  ConnectedShape(points=[(ps[0] - 32, 40), (ps[0], 40), (ps[0], 40 + 32), (ps[0] - 32, 40 + 32)], stroke_color=HexColor(\"d53067\"), fill_color=HexColor(\"d53067\")).paint(page, Rectangle(ps[0] - 32, 40, 32, 32))\n",
        "  \n",
        "  # square\n",
        "  ConnectedShape(points=[(ps[0] - 64, 40), (ps[0] - 32, 40), (ps[0] - 32, 40 + 32), (ps[0] - 64, 40 + 32)], stroke_color=HexColor(\"eb3f79\"), fill_color=HexColor(\"eb3f79\")).paint(page, Rectangle(ps[0] - 64, 40, 32, 32))\n",
        "  \n",
        "  # triangle\n",
        "  ConnectedShape(points=[(ps[0] - 96, 40), (ps[0] - 64, 40), (ps[0] - 64, 40 + 32)], stroke_color=HexColor(\"e01b84\"), fill_color=HexColor(\"e01b84\")).paint(page, Rectangle(ps[0] - 96, 40, 32, 32))\n",
        "  \n",
        "  # line\n",
        "  r: Rectangle = Rectangle(Decimal(0), Decimal(32), ps[0], Decimal(8))\n",
        "  ConnectedShape(points=LineArtFactory.rectangle(r), stroke_color=HexColor(\"283592\"), fill_color=HexColor(\"283592\")).paint(page, r)\n"
      ],
      "execution_count": 24,
      "outputs": []
    },
    {
      "cell_type": "markdown",
      "metadata": {
        "id": "y15omGFEtwak"
      },
      "source": [
        "Now we can call this method in the main body;"
      ]
    },
    {
      "cell_type": "code",
      "metadata": {
        "id": "WYot_t4dtvs0"
      },
      "source": [
        "add_colored_artwork_to_bottom_right_corner(page)"
      ],
      "execution_count": 25,
      "outputs": []
    },
    {
      "cell_type": "markdown",
      "metadata": {
        "id": "ED2fE2vdpKYM"
      },
      "source": [
        "Finally, we can store the PDF;"
      ]
    },
    {
      "cell_type": "code",
      "metadata": {
        "id": "ADT70voWy21U"
      },
      "source": [
        "with open(\"output.pdf\", \"wb\") as pdf_file_handle:\n",
        "  PDF.dumps(pdf_file_handle, pdf)"
      ],
      "execution_count": 26,
      "outputs": []
    }
  ]
}