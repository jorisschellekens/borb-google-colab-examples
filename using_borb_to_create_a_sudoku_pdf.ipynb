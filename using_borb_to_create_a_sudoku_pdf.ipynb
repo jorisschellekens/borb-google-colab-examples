{
  "nbformat": 4,
  "nbformat_minor": 0,
  "metadata": {
    "colab": {
      "name": "borb_colab_example_002.ipynb",
      "provenance": [],
      "collapsed_sections": [],
      "authorship_tag": "ABX9TyMsrx1tcErrnUuO2MSVTVOe",
      "include_colab_link": true
    },
    "kernelspec": {
      "name": "python3",
      "display_name": "Python 3"
    },
    "language_info": {
      "name": "python"
    }
  },
  "cells": [
    {
      "cell_type": "markdown",
      "metadata": {
        "id": "view-in-github",
        "colab_type": "text"
      },
      "source": [
        "<a href=\"https://colab.research.google.com/github/jorisschellekens/borb-google-colab-examples/blob/main/using_borb_to_create_a_sudoku_pdf.ipynb\" target=\"_parent\"><img src=\"https://colab.research.google.com/assets/colab-badge.svg\" alt=\"Open In Colab\"/></a>"
      ]
    },
    {
      "cell_type": "markdown",
      "metadata": {
        "id": "1HerxBI0zCqA"
      },
      "source": [
        "# ![borb logo](https://github.com/jorisschellekens/borb/raw/master/logo/borb_64.png) Using `borb` to create a Sudoku PDF"
      ]
    },
    {
      "cell_type": "markdown",
      "metadata": {
        "id": "92vIqePbsUR-"
      },
      "source": [
        "[`borb`](https://github.com/jorisschellekens/borb) is a library for reading, creating and manipulating PDF files in python. borb was created in 2020 by Joris Schellekens and is still in active development. Check out the [GitHub repository](https://github.com/jorisschellekens/borb), or the [borb website](https://borbpdf.com)."
      ]
    },
    {
      "cell_type": "code",
      "metadata": {
        "colab": {
          "base_uri": "https://localhost:8080/",
          "height": 843
        },
        "id": "3BqV3ARuqT98",
        "outputId": "ebab2654-3b4d-4d09-ed5b-d050da966854"
      },
      "source": [
        "pip install borb"
      ],
      "execution_count": null,
      "outputs": [
        {
          "output_type": "stream",
          "text": [
            "Collecting borb\n",
            "  Downloading borb-2.0.8.1-py3-none-any.whl (6.3 MB)\n",
            "\u001b[K     |████████████████████████████████| 6.3 MB 4.4 MB/s \n",
            "\u001b[?25hCollecting python-barcode>=0.13.1\n",
            "  Downloading python_barcode-0.13.1-py3-none-any.whl (217 kB)\n",
            "\u001b[K     |████████████████████████████████| 217 kB 46.1 MB/s \n",
            "\u001b[?25hCollecting setuptools~=51.1.1\n",
            "  Downloading setuptools-51.1.2-py3-none-any.whl (784 kB)\n",
            "\u001b[K     |████████████████████████████████| 784 kB 49.0 MB/s \n",
            "\u001b[?25hRequirement already satisfied: Pillow>=7.1.0 in /usr/local/lib/python3.7/dist-packages (from borb) (7.1.2)\n",
            "Collecting fonttools>=4.22.1\n",
            "  Downloading fonttools-4.26.2-py3-none-any.whl (870 kB)\n",
            "\u001b[K     |████████████████████████████████| 870 kB 40.9 MB/s \n",
            "\u001b[?25hCollecting requests>=2.24.0\n",
            "  Downloading requests-2.26.0-py2.py3-none-any.whl (62 kB)\n",
            "\u001b[K     |████████████████████████████████| 62 kB 660 kB/s \n",
            "\u001b[?25hCollecting qrcode[pil]>=6.1\n",
            "  Downloading qrcode-7.3.tar.gz (43 kB)\n",
            "\u001b[K     |████████████████████████████████| 43 kB 1.5 MB/s \n",
            "\u001b[?25hRequirement already satisfied: charset-normalizer~=2.0.0 in /usr/local/lib/python3.7/dist-packages (from requests>=2.24.0->borb) (2.0.4)\n",
            "Requirement already satisfied: certifi>=2017.4.17 in /usr/local/lib/python3.7/dist-packages (from requests>=2.24.0->borb) (2021.5.30)\n",
            "Requirement already satisfied: idna<4,>=2.5 in /usr/local/lib/python3.7/dist-packages (from requests>=2.24.0->borb) (2.10)\n",
            "Requirement already satisfied: urllib3<1.27,>=1.21.1 in /usr/local/lib/python3.7/dist-packages (from requests>=2.24.0->borb) (1.24.3)\n",
            "Building wheels for collected packages: qrcode\n",
            "  Building wheel for qrcode (setup.py) ... \u001b[?25l\u001b[?25hdone\n",
            "  Created wheel for qrcode: filename=qrcode-7.3-py3-none-any.whl size=40238 sha256=f3bad7edffa501e92a028153dac30b84024f43cb8b88d4654f5d873d958eed81\n",
            "  Stored in directory: /root/.cache/pip/wheels/4f/ed/3e/24f78bcb5ee2f41ec2322691ff82ed037f7f5a21d79ed33565\n",
            "Successfully built qrcode\n",
            "Installing collected packages: qrcode, setuptools, requests, python-barcode, fonttools, borb\n",
            "  Attempting uninstall: setuptools\n",
            "    Found existing installation: setuptools 57.4.0\n",
            "    Uninstalling setuptools-57.4.0:\n",
            "      Successfully uninstalled setuptools-57.4.0\n",
            "  Attempting uninstall: requests\n",
            "    Found existing installation: requests 2.23.0\n",
            "    Uninstalling requests-2.23.0:\n",
            "      Successfully uninstalled requests-2.23.0\n",
            "\u001b[31mERROR: pip's dependency resolver does not currently take into account all the packages that are installed. This behaviour is the source of the following dependency conflicts.\n",
            "google-colab 1.0.0 requires requests~=2.23.0, but you have requests 2.26.0 which is incompatible.\n",
            "datascience 0.10.6 requires folium==0.2.1, but you have folium 0.8.3 which is incompatible.\u001b[0m\n",
            "Successfully installed borb-2.0.8.1 fonttools-4.26.2 python-barcode-0.13.1 qrcode-7.3 requests-2.26.0 setuptools-51.1.2\n"
          ],
          "name": "stdout"
        },
        {
          "output_type": "display_data",
          "data": {
            "application/vnd.colab-display-data+json": {
              "pip_warning": {
                "packages": [
                  "pkg_resources"
                ]
              }
            }
          },
          "metadata": {}
        }
      ]
    },
    {
      "cell_type": "markdown",
      "metadata": {
        "id": "4_djkOERulaX"
      },
      "source": [
        "First you'll define all imports. \n",
        "You have a couple of categories of imports:\n",
        "\n",
        "- basic: Everything needed to create a basic PDF. These are `Document`, `Page` and `PDF`\n",
        "- layout: Everything borb needs to represent various kinds of content, or perform layout on that content. These are `PageLayout`, `SingleColumnLayout`, `Paragraph` and `Image`\n",
        "- color: In this example you'll be using borb to automatically create a color-scheme for your `Document`. These classes can help you with representing `Color`: `HexColor`, `HSVColor`, `RGBColor`, `Color`, `Pantone`\n",
        "\n",
        "It'll become clear over the course of this example why each import is needed."
      ]
    },
    {
      "cell_type": "code",
      "metadata": {
        "id": "I6FzsGmprxbq"
      },
      "source": [
        "from borb.pdf.document import Document\n",
        "from borb.pdf.page.page import Page\n",
        "from borb.pdf.pdf import PDF\n",
        "\n",
        "from borb.pdf.canvas.layout.page_layout.multi_column_layout import SingleColumnLayout\n",
        "from borb.pdf.canvas.layout.page_layout.page_layout import PageLayout\n",
        "from borb.pdf.canvas.layout.text.paragraph import Paragraph\n",
        "from borb.pdf.canvas.layout.table.flexible_column_width_table import FlexibleColumnWidthTable\n",
        "from borb.pdf.canvas.layout.table.table import Table, TableCell\n",
        "from borb.pdf.canvas.layout.image.image import Image\n",
        "from borb.pdf.canvas.layout.layout_element import Alignment\n",
        "\n",
        "from borb.pdf.canvas.color.color import HexColor, HSVColor, RGBColor, Color\n",
        "from borb.pdf.canvas.color.pantone import Pantone\n",
        "\n",
        "import typing\n",
        "import random\n",
        "from decimal import Decimal"
      ],
      "execution_count": null,
      "outputs": []
    },
    {
      "cell_type": "markdown",
      "metadata": {
        "id": "dEG36TyFsSYS"
      },
      "source": [
        "Let's set up the basics to build a `Document`. We're going to be using a `PageLayout` to ensure we don't have to calculate the exact position of every `LayoutElement`."
      ]
    },
    {
      "cell_type": "code",
      "metadata": {
        "id": "YmagYsHHq8xk"
      },
      "source": [
        "# create new Document\n",
        "doc: Document = Document()\n",
        "\n",
        "# create new Page\n",
        "page: Page = Page()\n",
        "doc.append_page(page)\n",
        "\n",
        "# set PageLayout\n",
        "layout: PageLayout = SingleColumnLayout(page)"
      ],
      "execution_count": null,
      "outputs": []
    },
    {
      "cell_type": "markdown",
      "metadata": {
        "id": "-s4B8pSisN0s"
      },
      "source": [
        "Now let's work out a color scheme for the `Document`:"
      ]
    },
    {
      "cell_type": "code",
      "metadata": {
        "colab": {
          "base_uri": "https://localhost:8080/"
        },
        "id": "tIr7_L02rLwa",
        "outputId": "43939552-e09d-44da-bae1-c48df68428f2"
      },
      "source": [
        "theme_color: Color = HexColor(\"f1cd2e\")\n",
        "accent_colors: typing.List[Color] = HSVColor.tetradic_rectangle(theme_color)\n",
        "for i, c in enumerate(accent_colors):\n",
        "  print(\"%d %s\" % (i, Pantone.find_nearest_pantone_color(c).get_name()))"
      ],
      "execution_count": null,
      "outputs": [
        {
          "output_type": "stream",
          "text": [
            "0 freesia\n",
            "1 acid-lime\n",
            "2 palace-blue\n",
            "3 baja-blue\n"
          ],
          "name": "stdout"
        }
      ]
    },
    {
      "cell_type": "markdown",
      "metadata": {
        "id": "RN8wsX07t9DW"
      },
      "source": [
        "Next up, you're going to add a logo and title to the `Document`. You're going to explictly state the `width` and `height` of the logo, and specify the `font_color` of the title (using the colors we calculated earlier):"
      ]
    },
    {
      "cell_type": "code",
      "metadata": {
        "colab": {
          "base_uri": "https://localhost:8080/"
        },
        "id": "fiX7VncbsgPJ",
        "outputId": "c7809ce1-d9a0-430c-e36b-3d7b5d20dff1"
      },
      "source": [
        "# add logo to the Document\n",
        "layout.add(Image(\"https://github.com/jorisschellekens/borb/raw/master/logo/borb.png\", width=Decimal(64), height=Decimal(64)))\n",
        "\n",
        "# add title to the Document\n",
        "layout.add(Paragraph(\"borb coffee corner puzzle #%d\" % random.randint(1000, 9999), \n",
        "                     font_color=theme_color, \n",
        "                     font_size=Decimal(20)))"
      ],
      "execution_count": null,
      "outputs": [
        {
          "output_type": "execute_result",
          "data": {
            "text/plain": [
              "<borb.pdf.canvas.layout.page_layout.multi_column_layout.SingleColumnLayout at 0x7fa88db05ed0>"
            ]
          },
          "metadata": {},
          "execution_count": 58
        }
      ]
    },
    {
      "cell_type": "markdown",
      "metadata": {
        "id": "YkdwbXbKxFyZ"
      },
      "source": [
        "For the purposes of this demo, you'll be representing the sudoku as `str`, each character is either a digit, or `.` (representing an empty cell)"
      ]
    },
    {
      "cell_type": "code",
      "metadata": {
        "id": "jVDE_Rlfvlrb"
      },
      "source": [
        "# represent the sudoku as a plaintext str\n",
        "# every . represents an empty cell in the puzzle\n",
        "# this is easier to debug/change\n",
        "sudoku_str: str = \"\"\"\n",
        "    3.9...4..\n",
        "    2..7.9...\n",
        "    .87......\n",
        "    75..6.23.\n",
        "    6..9.4..8\n",
        "    .28.5..41\n",
        "    ......59.\n",
        "    ...1.6..7\n",
        "    ..6...1.4\n",
        "    \"\"\"\n",
        "sudoku_str = sudoku_str.replace(\"\\t\",\"\").replace(\" \",\"\").replace(\"\\n\",\"\")"
      ],
      "execution_count": null,
      "outputs": []
    },
    {
      "cell_type": "markdown",
      "metadata": {
        "id": "XMFpi-DaxRbd"
      },
      "source": [
        "You're also going to add a short explanation on how to solve a sudoku, just in case :-)"
      ]
    },
    {
      "cell_type": "code",
      "metadata": {
        "colab": {
          "base_uri": "https://localhost:8080/"
        },
        "id": "jEX7ZpEswB-A",
        "outputId": "51f0dfbd-f2b8-4f4d-fc6a-a0b167d51458"
      },
      "source": [
        "# add the explanation of how to solve a sudoku\n",
        "layout.add(Paragraph(\"\"\"\n",
        "                Sudoku is a logic-based, combinatorial number-placement puzzle. \n",
        "                In classic sudoku, the objective is to fill a 9×9 grid with digits so that each column, each row, \n",
        "                and each of the nine 3×3 subgrids that compose the grid contains all of the digits from 1 to 9. \n",
        "                The puzzle setter provides a partially completed grid, which for a well-posed puzzle has a single solution.\n",
        "                \"\"\", font=\"Helvetica-Oblique\"))"
      ],
      "execution_count": null,
      "outputs": [
        {
          "output_type": "execute_result",
          "data": {
            "text/plain": [
              "<borb.pdf.canvas.layout.page_layout.multi_column_layout.SingleColumnLayout at 0x7fa88db05ed0>"
            ]
          },
          "metadata": {},
          "execution_count": 60
        }
      ]
    },
    {
      "cell_type": "markdown",
      "metadata": {
        "id": "WI6ZFmV2xZuE"
      },
      "source": [
        "Now you can finally add the Sudoku to the `Document`. You'll represent the Sudoku as a `Table`. `borb` has two implementations of this abstract class, depending on whether you'd like to have columns with flexible width, or just divide the entire available width among the columns.\n",
        "\n",
        "Here you'll be using `FlexibleColumnWidthTable`."
      ]
    },
    {
      "cell_type": "code",
      "metadata": {
        "colab": {
          "base_uri": "https://localhost:8080/"
        },
        "id": "yaS8SqX_wP4w",
        "outputId": "b2c90b80-ff85-48e1-f45d-79160294b1c1"
      },
      "source": [
        "# add Table\n",
        "s: Decimal = Decimal(20)\n",
        "t: Table = FlexibleColumnWidthTable(number_of_rows=9, number_of_columns=9, horizontal_alignment=Alignment.CENTERED)\n",
        "for i in range(0, 81):\n",
        "    r: int = int(i / 9)\n",
        "    c: int = i % 9\n",
        "    background_color: Color = HexColor(\"ffffff\")\n",
        "    if r in [0,1,2,6,7,8] and c in [0,1,2,6,7,8]:\n",
        "        background_color = accent_colors[3]\n",
        "    if r in [3,4,5] and c in [3,4,5]:\n",
        "        background_color = accent_colors[3]\n",
        "    if sudoku_str[i] == \".\":\n",
        "        t.add(TableCell(Paragraph(\" \"), preferred_width=s, preferred_height=s, background_color=background_color))\n",
        "    else:\n",
        "        t.add(TableCell(Paragraph(sudoku_str[i], text_alignment=Alignment.CENTERED), preferred_width=s, preferred_height=s, background_color=background_color))\n",
        "t.set_padding_on_all_cells(Decimal(5), Decimal(5), Decimal(5), Decimal(5))\n",
        "layout.add(t)"
      ],
      "execution_count": null,
      "outputs": [
        {
          "output_type": "execute_result",
          "data": {
            "text/plain": [
              "<borb.pdf.canvas.layout.page_layout.multi_column_layout.SingleColumnLayout at 0x7fa88db05ed0>"
            ]
          },
          "metadata": {},
          "execution_count": 64
        }
      ]
    },
    {
      "cell_type": "markdown",
      "metadata": {
        "id": "r35y1uWvyu-K"
      },
      "source": [
        "With all the hard work done, all that's left is to save the `Document` to disk."
      ]
    },
    {
      "cell_type": "code",
      "metadata": {
        "id": "62Uh0xV-s-kj"
      },
      "source": [
        "with open(\"output.pdf\", \"wb\") as pdf_file_handle:\n",
        "  PDF.dumps(pdf_file_handle, doc)"
      ],
      "execution_count": null,
      "outputs": []
    },
    {
      "cell_type": "markdown",
      "metadata": {
        "id": "ylFULm18y1mL"
      },
      "source": [
        "Congratulations! You should now have a PDF containing a Sudoku."
      ]
    }
  ]
}
