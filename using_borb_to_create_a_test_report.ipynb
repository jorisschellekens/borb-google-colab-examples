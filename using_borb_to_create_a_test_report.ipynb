{
  "nbformat": 4,
  "nbformat_minor": 0,
  "metadata": {
    "colab": {
      "name": "using_borb_to_create_a_test_report.ipynb",
      "provenance": [],
      "collapsed_sections": [],
      "authorship_tag": "ABX9TyOiOP5g+4wBwMw7kEKh1LPw",
      "include_colab_link": true
    },
    "kernelspec": {
      "name": "python3",
      "display_name": "Python 3"
    },
    "language_info": {
      "name": "python"
    }
  },
  "cells": [
    {
      "cell_type": "markdown",
      "metadata": {
        "id": "view-in-github",
        "colab_type": "text"
      },
      "source": [
        "<a href=\"https://colab.research.google.com/github/jorisschellekens/borb-google-colab-examples/blob/main/using_borb_to_create_a_test_report.ipynb\" target=\"_parent\"><img src=\"https://colab.research.google.com/assets/colab-badge.svg\" alt=\"Open In Colab\"/></a>"
      ]
    },
    {
      "cell_type": "markdown",
      "source": [
        "# ![borb logo](https://github.com/jorisschellekens/borb/raw/master/logo/borb_64.png) Using `borb` to create a test-report"
      ],
      "metadata": {
        "id": "iKA3Ute2LeYr"
      }
    },
    {
      "cell_type": "markdown",
      "source": [
        "[`borb`](https://github.com/jorisschellekens/borb) is a library for reading, creating and manipulating PDF files in python. borb was created in 2020 by Joris Schellekens and is still in active development. Check out the [GitHub repository](https://github.com/jorisschellekens/borb), or the [borb website](https://borbpdf.com).\n",
        "\n",
        "In this tutorial you'll learn how you can easily generate a test-report from raw data. You'll learn:\n",
        "\n",
        "- How to create a `Document`\n",
        "- How to add `Page` objects to a `Document`\n",
        "- How to add `Paragraph` objects to a `Page`\n",
        "- How to easily generate a `Table`  \n",
        "\n",
        "and more"
      ],
      "metadata": {
        "id": "8BlzBzWzbXkA"
      }
    },
    {
      "cell_type": "markdown",
      "source": [
        "Let's start by installing `borb`"
      ],
      "metadata": {
        "id": "n1_tEZCN_1E3"
      }
    },
    {
      "cell_type": "code",
      "execution_count": 125,
      "metadata": {
        "colab": {
          "base_uri": "https://localhost:8080/"
        },
        "id": "CZ73hT1a_SZ8",
        "outputId": "695c7931-0868-4f57-d617-3299c5373fcc"
      },
      "outputs": [
        {
          "output_type": "stream",
          "name": "stdout",
          "text": [
            "Looking in indexes: https://pypi.org/simple, https://us-python.pkg.dev/colab-wheels/public/simple/\n",
            "Requirement already satisfied: borb in /usr/local/lib/python3.7/dist-packages (2.0.32)\n",
            "Requirement already satisfied: Pillow>=7.1.0 in /usr/local/lib/python3.7/dist-packages (from borb) (7.1.2)\n",
            "Requirement already satisfied: fonttools>=4.22.1 in /usr/local/lib/python3.7/dist-packages (from borb) (4.34.4)\n",
            "Requirement already satisfied: qrcode[pil]>=6.1 in /usr/local/lib/python3.7/dist-packages (from borb) (7.3.1)\n",
            "Requirement already satisfied: setuptools>=51.1.1 in /usr/local/lib/python3.7/dist-packages (from borb) (57.4.0)\n",
            "Requirement already satisfied: requests>=2.24.0 in /usr/local/lib/python3.7/dist-packages (from borb) (2.28.1)\n",
            "Requirement already satisfied: python-barcode>=0.13.1 in /usr/local/lib/python3.7/dist-packages (from borb) (0.14.0)\n",
            "Requirement already satisfied: idna<4,>=2.5 in /usr/local/lib/python3.7/dist-packages (from requests>=2.24.0->borb) (2.10)\n",
            "Requirement already satisfied: urllib3<1.27,>=1.21.1 in /usr/local/lib/python3.7/dist-packages (from requests>=2.24.0->borb) (1.24.3)\n",
            "Requirement already satisfied: certifi>=2017.4.17 in /usr/local/lib/python3.7/dist-packages (from requests>=2.24.0->borb) (2022.6.15)\n",
            "Requirement already satisfied: charset-normalizer<3,>=2 in /usr/local/lib/python3.7/dist-packages (from requests>=2.24.0->borb) (2.1.0)\n"
          ]
        }
      ],
      "source": [
        "pip install borb"
      ]
    },
    {
      "cell_type": "markdown",
      "source": [
        "Next we're going to create some dummy data. In real life, you would of course get this data from running your test-suite."
      ],
      "metadata": {
        "id": "t9IuwpG0_8Jt"
      }
    },
    {
      "cell_type": "code",
      "source": [
        "import typing\n",
        "\n",
        "# This variable is going to represent our test data.\n",
        "# It maps the name of a test to all its previous executions.\n",
        "# Each execution is represented by \n",
        "#   - date of previous execution \n",
        "#   - how long it took the test to execute\n",
        "#   - whether the test passed\n",
        "# The timestamps here represent 8:00 AM, 8th of August, 2022 --> 8:00 AM, 12th of August, 2022\n",
        "test_data: typing.Dict[str, typing.List[typing.Tuple[float, float, bool]]] = {\n",
        "    \"test 1\": [(1659938400, 10, True), (1660024800, 9, True), (1660111200, 12, True), (1660197600, 7, True), (1660284000, 9, False)],\n",
        "    \"test 2\": [(1659938400, 15, True), (1660024800, 16, False), (1660111200, 12, False), (1660197600, 15, True), (1660284000, 15, True)],\n",
        "    \"test 3\": [(1659938400, 9, False), (1660024800, 8, True), (1660111200, 8, True), (1660197600, 11, True), (1660284000, 10, True)]\n",
        "}\n"
      ],
      "metadata": {
        "id": "PfWmO4kxATuQ"
      },
      "execution_count": 126,
      "outputs": []
    },
    {
      "cell_type": "markdown",
      "source": [
        "With that out of the way, we can now start generating a PDF.\n",
        "We need to do some small stuff to set up everything. These steps are always the same when you're creating a basic PDF using `borb`."
      ],
      "metadata": {
        "id": "NwmWLYA6JCWY"
      }
    },
    {
      "cell_type": "code",
      "source": [
        "from borb.pdf import Document\n",
        "from borb.pdf import Page\n",
        "\n",
        "# create Document\n",
        "doc: Document = Document()\n",
        "\n",
        "# create empty Page\n",
        "page: Page = Page()\n",
        "doc.add_page(page)"
      ],
      "metadata": {
        "colab": {
          "base_uri": "https://localhost:8080/"
        },
        "id": "BZsFYrW4JGq7",
        "outputId": "1ddd4e4b-65d1-4068-f0a2-9bcc2f3095af"
      },
      "execution_count": 127,
      "outputs": [
        {
          "output_type": "execute_result",
          "data": {
            "text/plain": [
              "{<borb.io.read.types.Name at 0x7f7a4f868a50>: {<borb.io.read.types.Name at 0x7f7a50b01590>: Decimal('0'),\n",
              "  <borb.io.read.types.Name at 0x7f7a50b017d0>: {<borb.io.read.types.Name at 0x7f7a50b01b10>: {<borb.io.read.types.Name at 0x7f7a532c6f50>: {<borb.io.read.types.Name at 0x7f7a4f82dd10>: Decimal('1'),\n",
              "     <borb.io.read.types.Name at 0x7f7a4f82d810>: [{<borb.io.read.types.Name at 0x7f7a4f868b10>: [Decimal('0'),\n",
              "        Decimal('0'),\n",
              "        Decimal('595'),\n",
              "        Decimal('842')],\n",
              "       <borb.io.read.types.Name at 0x7f7a54137dd0>: {...},\n",
              "       <borb.io.read.types.Name at 0x7f7a4f8688d0>: <borb.io.read.types.Name at 0x7f7a4f868190>}],\n",
              "     <borb.io.read.types.Name at 0x7f7a532c6e90>: <borb.io.read.types.Name at 0x7f7a50b70450>},\n",
              "    <borb.io.read.types.Name at 0x7f7a50b01910>: <borb.io.read.types.Name at 0x7f7a50b01990>}}}}"
            ]
          },
          "metadata": {},
          "execution_count": 127
        }
      ]
    },
    {
      "cell_type": "markdown",
      "source": [
        "In order to easily add content to a `Page` we are going to define a `PageLayout`. A `PageLayout` is responsible for keeping track of where previous content was added, and where any new content would be placed."
      ],
      "metadata": {
        "id": "J00Z4l9mJ6BG"
      }
    },
    {
      "cell_type": "code",
      "source": [
        "from borb.pdf import PageLayout\n",
        "from borb.pdf import SingleColumnLayout\n",
        "\n",
        "# create PageLayout\n",
        "layout: PageLayout = SingleColumnLayout(page)"
      ],
      "metadata": {
        "id": "rnYgitSiJxxX"
      },
      "execution_count": 128,
      "outputs": []
    },
    {
      "cell_type": "markdown",
      "source": [
        "Now let's add a title and subtitle for our test report."
      ],
      "metadata": {
        "id": "8XI5hGBOKdJz"
      }
    },
    {
      "cell_type": "code",
      "source": [
        "from borb.pdf import Paragraph\n",
        "from borb.pdf import HexColor\n",
        "from decimal import Decimal\n",
        "\n",
        "# title\n",
        "layout.add(Paragraph(\"Test Report\", \n",
        "                     font=\"Helvetica-Bold\",\n",
        "                     font_size=Decimal(20), \n",
        "                     font_color=HexColor(\"#489FB5\")))\n",
        "\n",
        "# subtitle\n",
        "layout.add(Paragraph(\"12-08-2022\", \n",
        "                     font_size=Decimal(16), \n",
        "                     font_color=HexColor(\"#16697A\")))"
      ],
      "metadata": {
        "colab": {
          "base_uri": "https://localhost:8080/"
        },
        "id": "_DuEGAT-Kh-X",
        "outputId": "30a0d1a4-e8c4-43fa-ade5-32abb8e4f8bb"
      },
      "execution_count": 129,
      "outputs": [
        {
          "output_type": "execute_result",
          "data": {
            "text/plain": [
              "<borb.pdf.canvas.layout.page_layout.multi_column_layout.SingleColumnLayout at 0x7f7a50c1c350>"
            ]
          },
          "metadata": {},
          "execution_count": 129
        }
      ]
    },
    {
      "cell_type": "markdown",
      "source": [
        ""
      ],
      "metadata": {
        "id": "qsZasEj_MFM6"
      }
    },
    {
      "cell_type": "code",
      "source": [
        "from borb.pdf import TableUtil\n",
        "\n",
        "# subtitle\n",
        "layout.add(Paragraph(\"Execution Time (s)\", \n",
        "                     font_size=Decimal(14), \n",
        "                     font_color=HexColor(\"#82C0CC\")))\n",
        "\n",
        "# use TableUtil to easily create a Table\n",
        "layout.add(TableUtil.from_2d_array([[\"Test Name\", \"08-08-2022\", \"09-08-2022\", \"10-08-2022\", \"11-08-2022\", \"12-08-2022\"],\n",
        "                                    [\"test 1\", test_data[\"test 1\"][0][1], test_data[\"test 1\"][1][1], test_data[\"test 1\"][2][1] ,test_data[\"test 1\"][3][1], test_data[\"test 1\"][4][1]],\n",
        "                                    [\"test 2\", test_data[\"test 2\"][0][1], test_data[\"test 2\"][1][1], test_data[\"test 2\"][2][1] ,test_data[\"test 2\"][3][1], test_data[\"test 2\"][4][1]],\n",
        "                                    [\"test 3\", test_data[\"test 3\"][0][1], test_data[\"test 3\"][1][1], test_data[\"test 3\"][2][1] ,test_data[\"test 3\"][3][1], test_data[\"test 3\"][4][1]],\n",
        "                                    ], \n",
        "                                   flexible_column_width=False).set_borders_on_all_cells(True, False, True, False))"
      ],
      "metadata": {
        "colab": {
          "base_uri": "https://localhost:8080/"
        },
        "id": "b1j1dIqkMEfg",
        "outputId": "5556b466-3a92-467a-865e-6f2e32f28358"
      },
      "execution_count": 130,
      "outputs": [
        {
          "output_type": "execute_result",
          "data": {
            "text/plain": [
              "<borb.pdf.canvas.layout.page_layout.multi_column_layout.SingleColumnLayout at 0x7f7a50c1c350>"
            ]
          },
          "metadata": {},
          "execution_count": 130
        }
      ]
    },
    {
      "cell_type": "markdown",
      "source": [
        "That should give the reader a quick overview. But we can do better.\n",
        "Let's add a few aggregate statistics for each test."
      ],
      "metadata": {
        "id": "rK51SwlQOQ3u"
      }
    },
    {
      "cell_type": "code",
      "source": [
        "from borb.pdf import FixedColumnWidthTable\n",
        "from borb.pdf import Table\n",
        "from borb.pdf import TableCell\n",
        "from borb.pdf.canvas.layout.shape.progressbar import ProgressSquare\n",
        "\n",
        "import numpy as np\n",
        "\n",
        "for k,v in test_data.items():\n",
        "\n",
        "  # subtitle\n",
        "  layout.add(Paragraph(k, \n",
        "                      font_size=Decimal(14), \n",
        "                      font_color=HexColor(\"#82C0CC\")))\n",
        "  \n",
        "  # avg execution time\n",
        "  avg_execution_time: float = round(np.average([x[1] for x in v]), 2)\n",
        "  dev_execution_time: float = round(np.std([x[1] for x in v]), 2)\n",
        "  count_pass: int = len([1 for x in v if x[2]])\n",
        "  count_fail: int = len(v) - count_pass\n",
        "\n",
        "  # info\n",
        "  table: Table = FixedColumnWidthTable(number_of_columns=3, number_of_rows=4)\n",
        "  table.add(Paragraph(\"Avg. Execution Time\"))\n",
        "  table.add(TableCell(Paragraph(str(avg_execution_time)), col_span=2))\n",
        "\n",
        "  # std dev\n",
        "  table.add(Paragraph(\"Std. Dev. Execution Time\"))\n",
        "  table.add(TableCell(Paragraph(str(dev_execution_time)), col_span=2))\n",
        "\n",
        "  # outliers\n",
        "  count_outliers: int = len([x for x in v if (x[1] > avg_execution_time + dev_execution_time) or (x[1] < avg_execution_time - dev_execution_time)])\n",
        "  table.add(Paragraph(\"Time Outliers\"))\n",
        "  table.add(Paragraph(\"%d / %d\" % (count_outliers, len(v))))\n",
        "  table.add(ProgressSquare(count_outliers / len(v), stroke_color=HexColor(\"#82C0CC\"), fill_color=HexColor(\"#EDE7E3\")))\n",
        "\n",
        "  # success rate\n",
        "  table.add(Paragraph(\"Success Rate\"))\n",
        "  table.add(Paragraph(\"%d / %d\" % (count_pass, len(v))))\n",
        "  table.add(ProgressSquare(count_pass / len(v), stroke_color=HexColor(\"#82C0CC\"), fill_color=HexColor(\"#EDE7E3\")))\n",
        "\n",
        "  # global table properties\n",
        "  table.set_padding_on_all_cells(Decimal(2), Decimal(2), Decimal(2), Decimal(2))\n",
        "  table.set_borders_on_all_cells(True, False, True, False)\n",
        "\n",
        "  layout.add(table)"
      ],
      "metadata": {
        "id": "NL9gDcsSOw2G"
      },
      "execution_count": 131,
      "outputs": []
    },
    {
      "cell_type": "markdown",
      "source": [
        "Finally, we can store the `Document`."
      ],
      "metadata": {
        "id": "DelnMzpkLuNY"
      }
    },
    {
      "cell_type": "code",
      "source": [
        "from borb.pdf import PDF\n",
        "\n",
        "# use PDF.dumps\n",
        "with open(\"output.pdf\", \"wb\") as pdf_file_handle:\n",
        "  PDF.dumps(pdf_file_handle, doc)"
      ],
      "metadata": {
        "id": "ItEUNcg9LHJR"
      },
      "execution_count": 132,
      "outputs": []
    }
  ]
}