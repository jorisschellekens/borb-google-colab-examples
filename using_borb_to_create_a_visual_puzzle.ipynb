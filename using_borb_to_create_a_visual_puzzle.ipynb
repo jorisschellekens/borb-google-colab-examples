{
  "nbformat": 4,
  "nbformat_minor": 0,
  "metadata": {
    "colab": {
      "name": "using_borb_to_create_a_visual_puzzle.ipynb",
      "provenance": [],
      "collapsed_sections": [],
      "authorship_tag": "ABX9TyMjVA+4RVB3ObvuQ+q7Qr7Z",
      "include_colab_link": true
    },
    "kernelspec": {
      "name": "python3",
      "display_name": "Python 3"
    },
    "language_info": {
      "name": "python"
    }
  },
  "cells": [
    {
      "cell_type": "markdown",
      "metadata": {
        "id": "view-in-github",
        "colab_type": "text"
      },
      "source": [
        "<a href=\"https://colab.research.google.com/github/jorisschellekens/borb-google-colab-examples/blob/main/using_borb_to_create_a_visual_puzzle.ipynb\" target=\"_parent\"><img src=\"https://colab.research.google.com/assets/colab-badge.svg\" alt=\"Open In Colab\"/></a>"
      ]
    },
    {
      "cell_type": "markdown",
      "source": [
        "# ![borb logo](https://github.com/jorisschellekens/borb/raw/master/logo/borb_64.png) Using `borb` to create a visual puzzle in PDF"
      ],
      "metadata": {
        "id": "u37CIuX0TpNQ"
      }
    },
    {
      "cell_type": "markdown",
      "source": [
        "[`borb`](https://github.com/jorisschellekens/borb) is a library for reading, creating and manipulating PDF files in python. borb was created in 2020 by Joris Schellekens and is still in active development. Check out the [GitHub repository](https://github.com/jorisschellekens/borb), or the [borb website](https://borbpdf.com)."
      ],
      "metadata": {
        "id": "DPmGIMe5TugO"
      }
    },
    {
      "cell_type": "markdown",
      "source": [
        "Let's start by installing `borb`"
      ],
      "metadata": {
        "id": "6yLPXVJNT0SL"
      }
    },
    {
      "cell_type": "code",
      "execution_count": 5,
      "metadata": {
        "colab": {
          "base_uri": "https://localhost:8080/"
        },
        "id": "RQ8Yw8lINDFh",
        "outputId": "152eca1c-bbb1-462f-8d8f-d09a308b5886"
      },
      "outputs": [
        {
          "output_type": "stream",
          "name": "stdout",
          "text": [
            "Looking in indexes: https://pypi.org/simple, https://us-python.pkg.dev/colab-wheels/public/simple/\n",
            "Requirement already satisfied: borb in /usr/local/lib/python3.7/dist-packages (2.0.29)\n",
            "Requirement already satisfied: fonttools>=4.22.1 in /usr/local/lib/python3.7/dist-packages (from borb) (4.33.3)\n",
            "Requirement already satisfied: qrcode[pil]>=6.1 in /usr/local/lib/python3.7/dist-packages (from borb) (7.3.1)\n",
            "Requirement already satisfied: python-barcode>=0.13.1 in /usr/local/lib/python3.7/dist-packages (from borb) (0.14.0)\n",
            "Requirement already satisfied: requests>=2.24.0 in /usr/local/lib/python3.7/dist-packages (from borb) (2.28.1)\n",
            "Requirement already satisfied: setuptools>=51.1.1 in /usr/local/lib/python3.7/dist-packages (from borb) (57.4.0)\n",
            "Requirement already satisfied: Pillow>=7.1.0 in /usr/local/lib/python3.7/dist-packages (from borb) (7.1.2)\n",
            "Requirement already satisfied: urllib3<1.27,>=1.21.1 in /usr/local/lib/python3.7/dist-packages (from requests>=2.24.0->borb) (1.24.3)\n",
            "Requirement already satisfied: certifi>=2017.4.17 in /usr/local/lib/python3.7/dist-packages (from requests>=2.24.0->borb) (2022.6.15)\n",
            "Requirement already satisfied: idna<4,>=2.5 in /usr/local/lib/python3.7/dist-packages (from requests>=2.24.0->borb) (2.10)\n",
            "Requirement already satisfied: charset-normalizer<3,>=2 in /usr/local/lib/python3.7/dist-packages (from requests>=2.24.0->borb) (2.0.12)\n"
          ]
        }
      ],
      "source": [
        "pip install borb"
      ]
    },
    {
      "cell_type": "markdown",
      "source": [
        "We are going to be using a custom font for the title of this PDF. So let's start by downloading it;"
      ],
      "metadata": {
        "id": "230ZFdxxT4ly"
      }
    },
    {
      "cell_type": "code",
      "source": [
        "from borb.pdf.canvas.font.simple_font.true_type_font import TrueTypeFont  \n",
        "from borb.pdf.canvas.font.font import Font\n",
        "\n",
        "# Download Font\n",
        "import requests\n",
        "with open('IndieFlower-Regular.ttf', 'wb') as ffh:\n",
        "  ffh.write(requests.get(\"https://github.com/google/fonts/blob/main/ofl/indieflower/IndieFlower-Regular.ttf?raw=true\", allow_redirects=True).content)"
      ],
      "metadata": {
        "id": "CzhpkMuwUAeC"
      },
      "execution_count": 6,
      "outputs": []
    },
    {
      "cell_type": "code",
      "source": [
        "from borb.pdf.document.document import Document\n",
        "from borb.pdf.page.page import Page\n",
        "from borb.pdf.pdf import PDF\n",
        "from borb.pdf.canvas.layout.page_layout.multi_column_layout import SingleColumnLayout\n",
        "from borb.pdf.canvas.layout.page_layout.page_layout import PageLayout\n",
        "from borb.pdf.canvas.layout.text.paragraph import Paragraph\n",
        "from borb.pdf.canvas.layout.image.image import Image\n",
        "from borb.pdf.canvas.layout.table.fixed_column_width_table import FixedColumnWidthTable\n",
        "\n",
        "# Font\n",
        "from borb.pdf.canvas.color.color import HexColor\n",
        "\n",
        "# Python\n",
        "from decimal import Decimal\n",
        "from pathlib import Path  \n",
        "import typing\n",
        "import random\n",
        "\n",
        "# create Document\n",
        "doc: Document = Document()\n",
        "\n",
        "page: Page = Page()\n",
        "doc.add_page(page)\n",
        "\n",
        "# set PageLayout\n",
        "layout: PageLayout = SingleColumnLayout(page)\n",
        "\n",
        "# add title\n",
        "layout.add(Paragraph('Odd one out', \n",
        "                     font_color=HexColor('#19647E'),\n",
        "                      font=TrueTypeFont.true_type_font_from_file(Path(\"IndieFlower-Regular.ttf\")),\n",
        "                      font_size=Decimal(20)))\n",
        "  \n",
        "# add explanation\n",
        "layout.add(Paragraph('Each animal is displayed twice, except for one. Can you find the odd one out?',\n",
        "                     font_color=HexColor('#28AFB0')))\n",
        "\n",
        "# create array containing 10 animals (adding each animal twice)\n",
        "cells: typing.List[str] = [\"https://icons.iconarchive.com/icons/icojam/animals/64/01-bird-icon.png\",\n",
        "                           \"https://icons.iconarchive.com/icons/icojam/animals/64/01-bull-icon.png\",\n",
        "                           \"https://icons.iconarchive.com/icons/icojam/animals/64/01-cat-icon.png\",\n",
        "                           \"https://icons.iconarchive.com/icons/icojam/animals/64/01-cow-icon.png\",\n",
        "                           \"https://icons.iconarchive.com/icons/icojam/animals/64/01-dog-icon.png\",\n",
        "                           \"https://icons.iconarchive.com/icons/icojam/animals/64/01-duck-icon.png\",\n",
        "                           \"https://icons.iconarchive.com/icons/icojam/animals/64/01-elephant-icon.png\",\n",
        "                           \"https://icons.iconarchive.com/icons/icojam/animals/64/01-fish-icon.png\",\n",
        "                           \"https://icons.iconarchive.com/icons/icojam/animals/64/01-horse-icon.png\",\n",
        "                           \"https://icons.iconarchive.com/icons/icojam/animals/64/01-ladybug-icon.png\",\n",
        "                            ] * 2\n",
        "\n",
        "# remove random animal (thus creating the odd one out)\n",
        "cells.pop(random.randint(0, len(cells)-1))\n",
        "\n",
        "# populate remainder with None\n",
        "for _ in range(0, 49 - len(cells)):\n",
        "  cells.append(None)\n",
        "\n",
        "# shuffle\n",
        "random.shuffle(cells)\n",
        "\n",
        "# build Table using cells\n",
        "table:FixedColumnWidthTable = FixedColumnWidthTable(number_of_rows=7, number_of_columns=7)\n",
        "for s in cells:\n",
        "  if s == None:\n",
        "    table.add(Paragraph(' '))\n",
        "  else:\n",
        "    table.add(Image(s, \n",
        "                    width=Decimal(32), \n",
        "                    height=Decimal(32)))\n",
        "\n",
        "table.set_padding_on_all_cells(Decimal(5), Decimal(5), Decimal(5), Decimal(5))\n",
        "table.no_borders()\n",
        "\n",
        "# add to PageLayout\n",
        "layout.add(table)\n",
        "\n",
        "# write Document\n",
        "with open(\"output.pdf\", \"wb\") as pdf_file_handle:\n",
        "  PDF.dumps(pdf_file_handle, doc)"
      ],
      "metadata": {
        "id": "XdpSLuJQNaCp"
      },
      "execution_count": 7,
      "outputs": []
    }
  ]
}