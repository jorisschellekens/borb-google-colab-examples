{
  "nbformat": 4,
  "nbformat_minor": 0,
  "metadata": {
    "colab": {
      "name": "using_borb_to_create_a_word_search_puzzle.ipynb",
      "provenance": [],
      "collapsed_sections": [],
      "authorship_tag": "ABX9TyMf6rRPf0VCUHeI3bDsDrQ4",
      "include_colab_link": true
    },
    "kernelspec": {
      "name": "python3",
      "display_name": "Python 3"
    },
    "language_info": {
      "name": "python"
    }
  },
  "cells": [
    {
      "cell_type": "markdown",
      "metadata": {
        "id": "view-in-github",
        "colab_type": "text"
      },
      "source": [
        "<a href=\"https://colab.research.google.com/github/jorisschellekens/borb-google-colab-examples/blob/main/using_borb_to_create_a_word_search_puzzle.ipynb\" target=\"_parent\"><img src=\"https://colab.research.google.com/assets/colab-badge.svg\" alt=\"Open In Colab\"/></a>"
      ]
    },
    {
      "cell_type": "markdown",
      "source": [
        "# ![borb logo](https://github.com/jorisschellekens/borb/raw/master/logo/borb_64.png) Using `borb` to create a word search puzzle in PDF"
      ],
      "metadata": {
        "id": "4pO8LXAAhltA"
      }
    },
    {
      "cell_type": "markdown",
      "source": [
        "[`borb`](https://github.com/jorisschellekens/borb) is a library for reading, creating and manipulating PDF files in python. borb was created in 2020 by Joris Schellekens and is still in active development. Check out the [GitHub repository](https://github.com/jorisschellekens/borb), or the [borb website](https://borbpdf.com)."
      ],
      "metadata": {
        "id": "7vgV2SIUhm82"
      }
    },
    {
      "cell_type": "markdown",
      "source": [
        "Let's start by installing `borb`"
      ],
      "metadata": {
        "id": "phFc3fyIhtZl"
      }
    },
    {
      "cell_type": "code",
      "execution_count": 1,
      "metadata": {
        "colab": {
          "base_uri": "https://localhost:8080/"
        },
        "id": "A6IIrIL1hWyv",
        "outputId": "c65dc9bb-7d3c-431a-ebfd-30aa8e3cee80"
      },
      "outputs": [
        {
          "output_type": "stream",
          "name": "stdout",
          "text": [
            "Looking in indexes: https://pypi.org/simple, https://us-python.pkg.dev/colab-wheels/public/simple/\n",
            "Collecting borb\n",
            "  Downloading borb-2.0.29-py3-none-any.whl (6.3 MB)\n",
            "\u001b[K     |████████████████████████████████| 6.3 MB 4.8 MB/s \n",
            "\u001b[?25hRequirement already satisfied: setuptools>=51.1.1 in /usr/local/lib/python3.7/dist-packages (from borb) (57.4.0)\n",
            "Requirement already satisfied: Pillow>=7.1.0 in /usr/local/lib/python3.7/dist-packages (from borb) (7.1.2)\n",
            "Collecting qrcode[pil]>=6.1\n",
            "  Downloading qrcode-7.3.1.tar.gz (43 kB)\n",
            "\u001b[K     |████████████████████████████████| 43 kB 1.0 MB/s \n",
            "\u001b[?25hCollecting requests>=2.24.0\n",
            "  Downloading requests-2.28.1-py3-none-any.whl (62 kB)\n",
            "\u001b[K     |████████████████████████████████| 62 kB 803 kB/s \n",
            "\u001b[?25hCollecting fonttools>=4.22.1\n",
            "  Downloading fonttools-4.33.3-py3-none-any.whl (930 kB)\n",
            "\u001b[K     |████████████████████████████████| 930 kB 37.2 MB/s \n",
            "\u001b[?25hCollecting python-barcode>=0.13.1\n",
            "  Downloading python_barcode-0.14.0-py3-none-any.whl (212 kB)\n",
            "\u001b[K     |████████████████████████████████| 212 kB 39.6 MB/s \n",
            "\u001b[?25hRequirement already satisfied: charset-normalizer<3,>=2 in /usr/local/lib/python3.7/dist-packages (from requests>=2.24.0->borb) (2.0.12)\n",
            "Requirement already satisfied: certifi>=2017.4.17 in /usr/local/lib/python3.7/dist-packages (from requests>=2.24.0->borb) (2022.6.15)\n",
            "Requirement already satisfied: idna<4,>=2.5 in /usr/local/lib/python3.7/dist-packages (from requests>=2.24.0->borb) (2.10)\n",
            "Requirement already satisfied: urllib3<1.27,>=1.21.1 in /usr/local/lib/python3.7/dist-packages (from requests>=2.24.0->borb) (1.24.3)\n",
            "Building wheels for collected packages: qrcode\n",
            "  Building wheel for qrcode (setup.py) ... \u001b[?25l\u001b[?25hdone\n",
            "  Created wheel for qrcode: filename=qrcode-7.3.1-py3-none-any.whl size=40402 sha256=dfba0fe2b519da3bbedb93a8417bddd7fd6ab1dd60c5b3fac194487f2f712f5f\n",
            "  Stored in directory: /root/.cache/pip/wheels/93/d7/39/a4111be2cfb8e679938aa671a37888b6afb1f9e7d748e94492\n",
            "Successfully built qrcode\n",
            "Installing collected packages: qrcode, requests, python-barcode, fonttools, borb\n",
            "  Attempting uninstall: requests\n",
            "    Found existing installation: requests 2.23.0\n",
            "    Uninstalling requests-2.23.0:\n",
            "      Successfully uninstalled requests-2.23.0\n",
            "\u001b[31mERROR: pip's dependency resolver does not currently take into account all the packages that are installed. This behaviour is the source of the following dependency conflicts.\n",
            "google-colab 1.0.0 requires requests~=2.23.0, but you have requests 2.28.1 which is incompatible.\n",
            "datascience 0.10.6 requires folium==0.2.1, but you have folium 0.8.3 which is incompatible.\u001b[0m\n",
            "Successfully installed borb-2.0.29 fonttools-4.33.3 python-barcode-0.14.0 qrcode-7.3.1 requests-2.28.1\n"
          ]
        }
      ],
      "source": [
        "pip install borb"
      ]
    },
    {
      "cell_type": "markdown",
      "source": [
        "We need to build a model to represent our puzzle. I'm going to briefly do that here, and implement a rather naïve search algorithm to populate our word search."
      ],
      "metadata": {
        "id": "jj4DBnwRh8g2"
      }
    },
    {
      "cell_type": "code",
      "source": [
        "import copy\n",
        "import random\n",
        "import typing\n",
        "\n",
        "\n",
        "class WordPuzzleGrid:\n",
        "\n",
        "    def __init__(self, words: typing.List[str],\n",
        "                 width: typing.Optional[int] = None,\n",
        "                 height: typing.Optional[int] = None):\n",
        "        self._words: typing.List[str] = [w.upper() for w in words]\n",
        "        self._solved_grid: typing.Optional[typing.List[typing.List[str]]] = None\n",
        "\n",
        "        # permissions\n",
        "        self._allow_horizontal: bool = True\n",
        "        self._allow_vertical: bool = True\n",
        "        self._allow_horizontal_reverse: bool = True\n",
        "        self._allow_vertical_reverse: bool = True\n",
        "\n",
        "        # init empty grid\n",
        "        n = max([len(w) for w in words])\n",
        "        self._width = width or int(n * 1.5)\n",
        "        self._height = height or int(n * 1.5)\n",
        "        self.fill_word_search_grid(self._words, [['.' for _ in range(0, self._width)] for _ in range(0, self._height)])\n",
        "\n",
        "        # fill remainder of grid with random letters\n",
        "        self._solved_grid = [[c if c != '.' else random.choice('ABCDEFGHIJKLMNOPQRSTUVWXYZ') for c in r] for r in self._solved_grid]\n",
        "\n",
        "    def fill_word_search_grid(self, words_todo: typing.List[str], words_done: typing.List[typing.List[str]]):\n",
        "\n",
        "        # a solution has been found\n",
        "        if len(words_todo) == 0:\n",
        "            self._solved_grid = copy.deepcopy(words_done)\n",
        "            return\n",
        "\n",
        "        # a solution has already been found\n",
        "        if self._solved_grid is not None:\n",
        "            return\n",
        "\n",
        "        # attempt to place 1 more word\n",
        "        w = words_todo.pop()\n",
        "\n",
        "        # attempt to place horizontally\n",
        "        if self._allow_horizontal:\n",
        "            ts: typing.List[typing.Tuple[int, int]] = []\n",
        "            for row in range(0, len(words_done)):\n",
        "                for col in range(0, len(words_done[row]) - len(w) + 1):\n",
        "                    ts.append((row, col))\n",
        "            random.shuffle(ts)\n",
        "            for (row, col) in ts:\n",
        "                can_match = all([words_done[row][col + i] == '.' or words_done[row][col + i] == w[i] for i in range(0, len(w))])\n",
        "                if not can_match:\n",
        "                    continue\n",
        "                before_placement = words_done[row][col:col+len(w)]\n",
        "                words_done[row][col:col+len(w)] = [c for c in w]\n",
        "                self.fill_word_search_grid(words_todo, words_done)\n",
        "                words_done[row][col:col+len(w)] = [c for c in before_placement]\n",
        "\n",
        "        # attempt to place vertically\n",
        "        if self._allow_vertical:\n",
        "            ts: typing.List[typing.Tuple[int, int]] = []\n",
        "            for col in range(0, len(words_done[0])):\n",
        "                for row in range(0, len(words_done) - len(w) + 1):\n",
        "                    ts.append((row, col))\n",
        "            random.shuffle(ts)\n",
        "            for (row, col) in ts:\n",
        "                can_match = all([words_done[row+i][col] == '.' or words_done[row+i][col] == w[i] for i in range(0, len(w))])\n",
        "                if not can_match:\n",
        "                    continue\n",
        "                before_placement = [words_done[row+i][col] for i in range(0, len(w))]\n",
        "                for i in range(0, len(w)):\n",
        "                    words_done[row+i][col] = w[i]\n",
        "                self.fill_word_search_grid(words_todo, words_done)\n",
        "                for i in range(0, len(w)):\n",
        "                    words_done[row+i][col] = before_placement[i]\n",
        "\n",
        "        # attempt to place horizontally (reversed)\n",
        "        if self._allow_horizontal_reverse:\n",
        "            w2 = w[::-1]\n",
        "            ts: typing.List[typing.Tuple[int, int]] = []\n",
        "            for row in range(0, len(words_done)):\n",
        "                for col in range(0, len(words_done[row]) - len(w) + 1):\n",
        "                    ts.append((row, col))\n",
        "            random.shuffle(ts)\n",
        "            for (row, col) in ts:\n",
        "                can_match = all([words_done[row][col + i] == '.' or words_done[row][col + i] == w2[i] for i in range(0, len(w))])\n",
        "                if not can_match:\n",
        "                    continue\n",
        "                before_placement = words_done[row][col:col+len(w)]\n",
        "                words_done[row][col:col+len(w)] = [c for c in w2]\n",
        "                self.fill_word_search_grid(words_todo, words_done)\n",
        "                words_done[row][col:col+len(w)] = [c for c in before_placement]\n",
        "\n",
        "        # attempt to place vertically (reversed)\n",
        "        if self._allow_vertical_reverse:\n",
        "            w2 = w[::-1]\n",
        "            ts: typing.List[typing.Tuple[int, int]] = []\n",
        "            for col in range(0, len(words_done[0])):\n",
        "                for row in range(0, len(words_done) - len(w) + 1):\n",
        "                    ts.append((row, col))\n",
        "            random.shuffle(ts)\n",
        "            for (row, col) in ts:\n",
        "                can_match = all([words_done[row+i][col] == '.' or words_done[row+i][col] == w2[i] for i in range(0, len(w))])\n",
        "                if not can_match:\n",
        "                    continue\n",
        "                before_placement = [words_done[row+i][col] for i in range(0, len(w))]\n",
        "                for i in range(0, len(w)):\n",
        "                    words_done[row+i][col] = w2[i]\n",
        "                self.fill_word_search_grid(words_todo, words_done)\n",
        "                for i in range(0, len(w)):\n",
        "                    words_done[row+i][col] = before_placement[i]\n",
        "\n",
        "        # restore\n",
        "        words_todo.append(w)\n",
        "\n",
        "    def at(self, row: int, col: int) -> str:\n",
        "      return self._solved_grid[row][col]\n",
        "\n",
        "    def __str__(self):\n",
        "        return \"\".join([\"\".join([c for c in row]) + \"\\n\" for row in self._solved_grid])\n"
      ],
      "metadata": {
        "id": "4P5GQBP6iNQn"
      },
      "execution_count": 2,
      "outputs": []
    },
    {
      "cell_type": "markdown",
      "source": [
        "We are going to be using a custom font for the title of this PDF. So let's start by downloading it;"
      ],
      "metadata": {
        "id": "24ePxws-h2Ws"
      }
    },
    {
      "cell_type": "code",
      "source": [
        "from borb.pdf.canvas.font.simple_font.true_type_font import TrueTypeFont  \n",
        "from borb.pdf.canvas.font.font import Font\n",
        "\n",
        "# Download Font\n",
        "import requests\n",
        "with open('IndieFlower-Regular.ttf', 'wb') as ffh:\n",
        "  ffh.write(requests.get(\"https://github.com/google/fonts/blob/main/ofl/indieflower/IndieFlower-Regular.ttf?raw=true\", allow_redirects=True).content)"
      ],
      "metadata": {
        "id": "FiJ3zgWJhy3e"
      },
      "execution_count": 3,
      "outputs": []
    },
    {
      "cell_type": "markdown",
      "source": [
        "Now we can build the `Document` using our custom `Font` and the `WordPuzzleGrid` class we defined earlier."
      ],
      "metadata": {
        "id": "IJAguB4wjuCh"
      }
    },
    {
      "cell_type": "code",
      "source": [
        "from borb.pdf.document.document import Document\n",
        "from borb.pdf.page.page import Page\n",
        "from borb.pdf.pdf import PDF\n",
        "from borb.pdf.canvas.layout.page_layout.multi_column_layout import SingleColumnLayout\n",
        "from borb.pdf.canvas.layout.page_layout.page_layout import PageLayout\n",
        "from borb.pdf.canvas.layout.text.paragraph import Paragraph\n",
        "from borb.pdf.canvas.layout.image.image import Image\n",
        "from borb.pdf.canvas.layout.table.fixed_column_width_table import FixedColumnWidthTable\n",
        "\n",
        "# Font\n",
        "from borb.pdf.canvas.color.color import HexColor\n",
        "\n",
        "# Python\n",
        "from decimal import Decimal\n",
        "from pathlib import Path  \n",
        "\n",
        "\n",
        "# create Document\n",
        "doc: Document = Document()\n",
        "\n",
        "page: Page = Page()\n",
        "doc.add_page(page)\n",
        "\n",
        "# set PageLayout\n",
        "layout: PageLayout = SingleColumnLayout(page)\n",
        "\n",
        "# add title\n",
        "layout.add(Paragraph('Word Search', \n",
        "                     font_color=HexColor('#19647E'),\n",
        "                      font=TrueTypeFont.true_type_font_from_file(Path(\"IndieFlower-Regular.ttf\")),\n",
        "                      font_size=Decimal(20)))\n",
        "  \n",
        "# add explanation\n",
        "layout.add(Paragraph('Can you find all the animals hidden in this word search? Words can be horizontal, diagonal, left-to-right and down-to-up.',\n",
        "                     font_color=HexColor('#28AFB0')))\n",
        "\n",
        "# build puzzle\n",
        "animals = [\"aardvark\", \"baboon\",\"cat\",\"dog\", \"elephant\",\n",
        "          \"flamingo\", \"gnu\", \"horse\", \"jackal\", \"llama\",\n",
        "          \"gnat\", \"rat\", \"tiger\", \"monkey\", \"rhino\",\n",
        "          \"hippo\", \"mouse\", \"seahorse\", \"chimpansee\"]\n",
        "word_puzzle_grid: WordPuzzleGrid = WordPuzzleGrid(animals, 13, 13)\n",
        "\n",
        "# build Table using cells\n",
        "table:FixedColumnWidthTable = FixedColumnWidthTable(number_of_rows=13, number_of_columns=13)\n",
        "for i in range(0, 13):\n",
        "  for j in range(0, 13):\n",
        "    table.add(Paragraph(word_puzzle_grid.at(i,j)))\n",
        "\n",
        "# set some global (all cell) table properties\n",
        "table.set_padding_on_all_cells(Decimal(5), Decimal(5), Decimal(5), Decimal(5))\n",
        "table.no_borders()\n",
        "\n",
        "# add to PageLayout\n",
        "layout.add(table)\n",
        "\n",
        "# add list of animals to cross out\n",
        "layout.add(Paragraph(\"\".join([a + \", \" for a in animals])[:-2] ))\n",
        "\n",
        "# write Document\n",
        "with open(\"output.pdf\", \"wb\") as pdf_file_handle:\n",
        "  PDF.dumps(pdf_file_handle, doc)"
      ],
      "metadata": {
        "id": "FaFfdc86iYVu"
      },
      "execution_count": 4,
      "outputs": []
    }
  ]
}