{
  "nbformat": 4,
  "nbformat_minor": 0,
  "metadata": {
    "colab": {
      "name": "using_borb_to_create_a_working_calculator_inside_a_pdf",
      "provenance": [],
      "collapsed_sections": [],
      "authorship_tag": "ABX9TyOyr4koWks7zcx8gMUu0OKx",
      "include_colab_link": true
    },
    "kernelspec": {
      "name": "python3",
      "display_name": "Python 3"
    },
    "language_info": {
      "name": "python"
    }
  },
  "cells": [
    {
      "cell_type": "markdown",
      "metadata": {
        "id": "view-in-github",
        "colab_type": "text"
      },
      "source": [
        "<a href=\"https://colab.research.google.com/github/jorisschellekens/borb-google-colab-examples/blob/main/using_borb_to_create_a_working_calculator_inside_a_pdf.ipynb\" target=\"_parent\"><img src=\"https://colab.research.google.com/assets/colab-badge.svg\" alt=\"Open In Colab\"/></a>"
      ]
    },
    {
      "cell_type": "markdown",
      "source": [
        "# ![borb logo](https://github.com/jorisschellekens/borb/raw/master/logo/borb_64.png) Using `borb` to create a javascript calculator in PDF"
      ],
      "metadata": {
        "id": "-rgJqs27wrR8"
      }
    },
    {
      "cell_type": "markdown",
      "source": [
        "[`borb`](https://github.com/jorisschellekens/borb) is a library for reading, creating and manipulating PDF files in python. borb was created in 2020 by Joris Schellekens and is still in active development. Check out the [GitHub repository](https://github.com/jorisschellekens/borb), or the [borb website](https://borbpdf.com)."
      ],
      "metadata": {
        "id": "mHrbbHxJxj4J"
      }
    },
    {
      "cell_type": "markdown",
      "source": [
        "Let's start by installing `borb`"
      ],
      "metadata": {
        "id": "-ApB2-1-zTKd"
      }
    },
    {
      "cell_type": "code",
      "source": [
        "pip install borb"
      ],
      "metadata": {
        "id": "QyTEfD6kj4I3",
        "colab": {
          "base_uri": "https://localhost:8080/"
        },
        "outputId": "a7386e82-8499-44b8-fcf3-5234faccbd28"
      },
      "execution_count": 26,
      "outputs": [
        {
          "output_type": "stream",
          "name": "stdout",
          "text": [
            "Looking in indexes: https://pypi.org/simple, https://us-python.pkg.dev/colab-wheels/public/simple/\n",
            "Requirement already satisfied: borb in /usr/local/lib/python3.7/dist-packages (2.1.0)\n",
            "Requirement already satisfied: requests>=2.24.0 in /usr/local/lib/python3.7/dist-packages (from borb) (2.28.1)\n",
            "Requirement already satisfied: Pillow>=7.1.0 in /usr/local/lib/python3.7/dist-packages (from borb) (7.1.2)\n",
            "Requirement already satisfied: fonttools>=4.22.1 in /usr/local/lib/python3.7/dist-packages (from borb) (4.37.1)\n",
            "Requirement already satisfied: setuptools>=51.1.1 in /usr/local/lib/python3.7/dist-packages (from borb) (57.4.0)\n",
            "Requirement already satisfied: qrcode[pil]>=6.1 in /usr/local/lib/python3.7/dist-packages (from borb) (7.3.1)\n",
            "Requirement already satisfied: python-barcode>=0.13.1 in /usr/local/lib/python3.7/dist-packages (from borb) (0.14.0)\n",
            "Requirement already satisfied: idna<4,>=2.5 in /usr/local/lib/python3.7/dist-packages (from requests>=2.24.0->borb) (2.10)\n",
            "Requirement already satisfied: certifi>=2017.4.17 in /usr/local/lib/python3.7/dist-packages (from requests>=2.24.0->borb) (2022.6.15)\n",
            "Requirement already satisfied: urllib3<1.27,>=1.21.1 in /usr/local/lib/python3.7/dist-packages (from requests>=2.24.0->borb) (1.24.3)\n",
            "Requirement already satisfied: charset-normalizer<3,>=2 in /usr/local/lib/python3.7/dist-packages (from requests>=2.24.0->borb) (2.1.1)\n"
          ]
        }
      ]
    },
    {
      "cell_type": "markdown",
      "source": [
        "We are going to create a method to add some geometric artwork to the upper right corner of a `Page`. This code is not really doing difficult things, it just deals with coordinates and math a bit. "
      ],
      "metadata": {
        "id": "GU-bbU8FzbcE"
      }
    },
    {
      "cell_type": "code",
      "source": [
        "# new imports\n",
        "from borb.pdf.canvas.layout.shape.connected_shape import ConnectedShape\n",
        "from decimal import Decimal\n",
        "from borb.pdf.canvas.color.color import HexColor, X11Color\n",
        "from borb.pdf.canvas.geometry.rectangle import Rectangle\n",
        "from borb.pdf.page.page_size import PageSize\n",
        "from borb.pdf.page.page import Page\n",
        "import typing\n",
        "import random\n",
        "\n",
        "def add_gray_artwork_to_upper_right_corner(page: Page) -> None:\n",
        "  \"\"\"\n",
        "  This method will add a gray artwork of squares and triangles in the upper right corner\n",
        "  of the given Page\n",
        "  \"\"\"\n",
        "\n",
        "  # define a list of gray colors\n",
        "  grays: typing.List[HexColor] = [HexColor(\"A9A9A9\"), \n",
        "                                HexColor(\"D3D3D3\"), \n",
        "                                HexColor(\"DCDCDC\"), \n",
        "                                HexColor(\"E0E0E0\"),\n",
        "                                HexColor(\"E8E8E8\"),\n",
        "                                HexColor(\"F0F0F0\")]\n",
        "\n",
        "  # we're going to use the size of the page later on,\n",
        "  # so perhaps it's a good idea to retrieve it now                                \n",
        "  ps: typing.Tuple[Decimal, Decimal] = PageSize.A4_PORTRAIT.value\n",
        "\n",
        "  # now we'll write N triangles in the upper right corner\n",
        "  # we'll later fill the remaining space with squares\n",
        "  N: int = 4\n",
        "  M: Decimal = Decimal(32)\n",
        "  for i in range(0, N):\n",
        "    x: Decimal = ps[0] - N * M + i * M\n",
        "    y: Decimal = ps[1] - (i+1) * M\n",
        "    rg: HexColor = random.choice(grays)\n",
        "    ConnectedShape(points=[(x + M,y), (x + M, y + M), (x, y + M)], stroke_color=rg, fill_color=rg).paint(page, Rectangle(x, y, M, M))\n",
        "\n",
        "  # now we can fill up the remaining space with squares    \n",
        "  for i in range(0, N-1):\n",
        "    for j in range(0, N-1):\n",
        "      if j > i:\n",
        "        continue\n",
        "      x: Decimal = ps[0] - (N-1) * M + i * M\n",
        "      y: Decimal = ps[1] - (j+1) * M\n",
        "      rg: HexColor = random.choice(grays)\n",
        "      ConnectedShape(points=[(x, y), (x + M, y), (x + M, y + M), (x, y + M)], stroke_color=rg, fill_color=rg).paint(page, Rectangle(x, y, M, M))"
      ],
      "metadata": {
        "id": "G0PTZjtEhHbb"
      },
      "execution_count": 27,
      "outputs": []
    },
    {
      "cell_type": "markdown",
      "source": [
        "Similarly, I want to add some geometric artwork to the bottom of the page to balance things out a bit. I'm going to write another separate method for that."
      ],
      "metadata": {
        "id": "uc-hhY8cL5br"
      }
    },
    {
      "cell_type": "code",
      "source": [
        "# new imports\n",
        "from borb.pdf.canvas.line_art.line_art_factory import LineArtFactory\n",
        "\n",
        "def add_colored_artwork_to_bottom_right_corner(page: Page) -> None:\n",
        "  \"\"\"\n",
        "  This method will add a blue/purple artwork of lines and squares to the bottom right corner\n",
        "  of the given Page\n",
        "  \"\"\"\n",
        "  ps: typing.Tuple[Decimal, Decimal] = PageSize.A4_PORTRAIT.value\n",
        "  \n",
        "  # square\n",
        "  ConnectedShape(points=[(ps[0] - 32, 40), (ps[0], 40), (ps[0], 40 + 32), (ps[0] - 32, 40 + 32)], stroke_color=HexColor(\"f1cd2e\"), fill_color=HexColor(\"f1cd2e\")).paint(page, Rectangle(ps[0] - 32, 40, 32, 32))\n",
        "  \n",
        "  # square\n",
        "  ConnectedShape(points=[(ps[0] - 64, 40), (ps[0] - 32, 40), (ps[0] - 32, 40 + 32), (ps[0] - 64, 40 + 32)], stroke_color=HexColor(\"0b3954\"), fill_color=HexColor(\"0b3954\")).paint(page, Rectangle(ps[0] - 64, 40, 32, 32))\n",
        "  \n",
        "  # triangle\n",
        "  ConnectedShape(points=[(ps[0] - 96, 40), (ps[0] - 64, 40), (ps[0] - 64, 40 + 32)], stroke_color=HexColor(\"a5ffd6\"), fill_color=HexColor(\"a5ffd6\")).paint(page, Rectangle(ps[0] - 96, 40, 32, 32))\n",
        "  \n",
        "  # line\n",
        "  r: Rectangle = Rectangle(Decimal(0), Decimal(32), ps[0], Decimal(8))\n",
        "  ConnectedShape(points=LineArtFactory.rectangle(r), stroke_color=HexColor(\"56cbf9\"), fill_color=HexColor(\"56cbf9\")).paint(page, r)"
      ],
      "metadata": {
        "id": "dGc2cH3bPxAp"
      },
      "execution_count": 28,
      "outputs": []
    },
    {
      "cell_type": "markdown",
      "source": [
        "Now we're going to create a method that adds the image of a calculator to our `Page`. Here we are using absolute layout, since we want to make absolutely sure that our `Image` is located at the same coordinates every time (even if we were to change the text around it)."
      ],
      "metadata": {
        "id": "UoNXzIjczqBo"
      }
    },
    {
      "cell_type": "code",
      "source": [
        "from borb.pdf.canvas.layout.image.image import Image\n",
        "from decimal import Decimal\n",
        "\n",
        "def add_calculator_image(page: Page):\n",
        "  calculator_img = Image('https://www.shopcore.nl/pub/media/catalog/product/cache/49cebce0f131f74df9ad2e5adc64fe79/t/i/ti-1726-1.jpg',\n",
        "                       width=Decimal(128),\n",
        "                       height=Decimal(128))\n",
        "  calculator_img.paint(page, Rectangle(Decimal(595/2 - 128/2),\n",
        "                                Decimal(842/2 + 128/2),\n",
        "                                Decimal(600),\n",
        "                                Decimal(128)))"
      ],
      "metadata": {
        "id": "r-v8MQb3hjtr"
      },
      "execution_count": 29,
      "outputs": []
    },
    {
      "cell_type": "markdown",
      "source": [
        "Next up we will be adding a lot of \"buttons\" (they are actually annotations with associated javascript actions). To make it a bit easier on ourselves we'll separate this logic into its own method."
      ],
      "metadata": {
        "id": "UJ5C-4NOz7H3"
      }
    },
    {
      "cell_type": "code",
      "source": [
        "from borb.io.read.types import Name\n",
        "from borb.io.read.types import String\n",
        "from borb.pdf.canvas.layout.annotation.remote_go_to_annotation import RemoteGoToAnnotation\n",
        "\n",
        "def add_invisible_button(r: Rectangle, javascript: str):\n",
        "  # the next line (commented out) adds a rectangular annotation with red border\n",
        "  # this makes it a lot easier to debug the calculator\n",
        "  # page.append_annotation(SquareAnnotation(r, stroke_color=HexColor(\"ff0000\"), fill_color=None))\n",
        "  page.add_annotation(RemoteGoToAnnotation(r, \"https://www.borbpdf.com\"))\n",
        "  page[Name(\"Annots\")][-1][Name(\"A\")][Name(\"S\")] = Name(\"JavaScript\")\n",
        "  page[Name(\"Annots\")][-1][Name(\"A\")][Name(\"JS\")] = String(javascript)"
      ],
      "metadata": {
        "id": "U22WSMtekbPn"
      },
      "execution_count": 30,
      "outputs": []
    },
    {
      "cell_type": "markdown",
      "source": [
        "Now we are ready to add all the buttons, and have them call our main Javascript (which will be inserted later on)."
      ],
      "metadata": {
        "id": "tXZllPk00Twh"
      }
    },
    {
      "cell_type": "code",
      "source": [
        "def add_action_annotations(page: Page):\n",
        "  add_invisible_button(Rectangle(Decimal(275), Decimal(492), Decimal(13), Decimal(13)), \"process_token('0')\")\n",
        "  add_invisible_button(Rectangle(Decimal(291), Decimal(492), Decimal(13), Decimal(13)), \"process_token('.')\")\n",
        "  add_invisible_button(Rectangle(Decimal(307), Decimal(492), Decimal(13), Decimal(13)), \"process_token('=')\")\n",
        "\n",
        "  add_invisible_button(Rectangle(Decimal(275), Decimal(507), Decimal(13), Decimal(13)), \"process_token('1')\")\n",
        "  add_invisible_button(Rectangle(Decimal(291), Decimal(507), Decimal(13), Decimal(13)), \"process_token('2')\")\n",
        "  add_invisible_button(Rectangle(Decimal(307), Decimal(507), Decimal(13), Decimal(13)), \"process_token('3')\")\n",
        "\n",
        "  add_invisible_button(Rectangle(Decimal(275), Decimal(522), Decimal(13), Decimal(13)), \"process_token('4')\")\n",
        "  add_invisible_button(Rectangle(Decimal(291), Decimal(522), Decimal(13), Decimal(13)), \"process_token('5')\")\n",
        "  add_invisible_button(Rectangle(Decimal(307), Decimal(522), Decimal(13), Decimal(13)), \"process_token('6')\")\n",
        "\n",
        "  add_invisible_button(Rectangle(Decimal(275), Decimal(538), Decimal(13), Decimal(13)), \"process_token('7')\")\n",
        "  add_invisible_button(Rectangle(Decimal(291), Decimal(538), Decimal(13), Decimal(13)), \"process_token('8')\")\n",
        "  add_invisible_button(Rectangle(Decimal(307), Decimal(538), Decimal(13), Decimal(13)), \"process_token('9')\")\n",
        "\n",
        "  add_invisible_button(Rectangle(Decimal(324), Decimal(551), Decimal(13), Decimal(12)), \"process_token('/')\")\n",
        "  add_invisible_button(Rectangle(Decimal(324), Decimal(536), Decimal(13), Decimal(13)), \"process_token('x')\")\n",
        "  add_invisible_button(Rectangle(Decimal(324), Decimal(520), Decimal(13), Decimal(13)), \"process_token('-')\")\n",
        "  add_invisible_button(Rectangle(Decimal(324), Decimal(497), Decimal(13), Decimal(21)), \"process_token('+')\")\n",
        "\n",
        "  add_invisible_button(Rectangle(Decimal(257), Decimal(541), Decimal(13), Decimal(21)), \"process_token('AC')\")"
      ],
      "metadata": {
        "id": "iLtTP-x6h8jw"
      },
      "execution_count": 31,
      "outputs": []
    },
    {
      "cell_type": "markdown",
      "source": [
        "This part is easy, we add document level Javascript to our PDF. This script has everything in it to make our calculator actually work."
      ],
      "metadata": {
        "id": "XHcCRPQj0dsv"
      }
    },
    {
      "cell_type": "code",
      "source": [
        "from borb.io.read.types import Decimal as bDecimal\n",
        "from borb.io.read.types import String\n",
        "from borb.io.read.types import Stream\n",
        "from borb.io.read.types import Dictionary\n",
        "from borb.io.read.types import List\n",
        "from borb.pdf.document.document import Document\n",
        "\n",
        "\n",
        "def add_document_level_javascript(doc: Document):\n",
        "  # build global_js_stream\n",
        "  global_js_stream = Stream()\n",
        "  global_js_stream[Name(\"Type\")] = Name(\"JavaScript\")\n",
        "  global_js_stream[Name(\"DecodedBytes\")] = b\"\"\"\n",
        "var state = 'START';\n",
        "var arg1 = 0;\n",
        "var arg2 = 0;\n",
        "var disp = '';\n",
        "var oper = '';\n",
        "\n",
        "function to_string(f){\n",
        "\tif(f > 99999999){ return '99999999'; }\n",
        "\tif(f < -99999999){ return '-99999999'; }\n",
        "\tx = f.toString();\n",
        "  if(x.length > 8){ x = x.substring(0, 8);}\n",
        "\treturn x;\t\n",
        "}\n",
        "\n",
        "function is_number(token){\n",
        "\treturn token == '0' || token == '1' || token == '2' || token == '3' || token == '4' || token == '5' || token == '6' || token == '7'  || token == '8' || token == '9';\n",
        "}\n",
        "\n",
        "function is_binary_operator(token){\n",
        "\treturn token == '+' || token == '-' || token == 'x' || token == '/';\n",
        "}\n",
        "\n",
        "function apply_operator(a1, a2, o){\n",
        "\tif(o == '+'){ return a1 + a2; }\n",
        "\tif(o == '-'){ return a1 - a2; }\n",
        "\tif(o == 'x'){ return a1 * a2; }\n",
        "\tif(o == '/'){ \n",
        "\t\tif(a2 == 0){\n",
        "\t\t\treturn 0;\n",
        "\t\t}\n",
        "\t\treturn a1 / a2; \n",
        "\t}\n",
        "}\n",
        "\n",
        "function process_token(token){\n",
        "\tif(token == 'AC'){\n",
        "\t\tstate = 'START';\n",
        "\t\targ1 = 0;\n",
        "\t\targ2 = 0;\n",
        "\t\tdisp = '';\n",
        "\t\toper = '';\n",
        "    this.getField(\"field-000\").value = disp;\n",
        "\t\treturn;\n",
        "\t}\n",
        "\tif(state == 'START'){\n",
        "\t\tif(token == '.'){\n",
        "\t\t\tdisp = '0.';\n",
        "      this.getField(\"field-000\").value = disp;\n",
        "\t\t\tstate = 'ARG1_FLOAT';\n",
        "\t\t\treturn;\n",
        "\t\t}\n",
        "\t\tif(is_number(token)){\n",
        "\t\t\tdisp = token;\n",
        "      this.getField(\"field-000\").value = disp;\n",
        "\t\t\tstate = 'ARG1'\n",
        "\t\t\treturn;\n",
        "\t\t}\n",
        "\t}\n",
        "\t/* \n",
        "\t * ARG1\n",
        "\t * arg1 is being built\n",
        "\t */\n",
        "\tif(state == 'ARG1'){\n",
        "\t\tif(token == '.'){\n",
        "\t\t\tdisp += '.';\n",
        "      this.getField(\"field-000\").value = disp;\n",
        "\t\t\tstate = 'ARG1_FLOAT';\n",
        "\t\t\treturn;\n",
        "\t\t}\n",
        "\t\tif(is_number(token)){\n",
        "\t\t\tdisp += token;\n",
        "      this.getField(\"field-000\").value = disp;\n",
        "\t\t\treturn;\n",
        "\t\t}\n",
        "\t\tif(is_binary_operator(token)){\n",
        "\t\t\targ1 = parseFloat(disp);\n",
        "\t\t\tdisp = '';\n",
        "      this.getField(\"field-000\").value = disp;\n",
        "\t\t\toper = token;\n",
        "\t\t\tstate = 'OPERATOR'\n",
        "\t\t\treturn;\n",
        "\t\t}\n",
        "\t}\n",
        "\t/* \n",
        "\t * ARG1_FLOAT\n",
        "\t * arg1 is being built, and a decimal point has been entered\n",
        "\t */\n",
        "\tif(state == 'ARG1_FLOAT'){\n",
        "\t\tif(is_number(token)){\n",
        "\t\t\tdisp += token;\n",
        "      this.getField(\"field-000\").value = disp;\n",
        "\t\t\treturn;\n",
        "\t\t}\n",
        "\t\tif(is_binary_operator(token)){\n",
        "\t\t\targ1 = parseFloat(disp);\n",
        "\t\t\tdisp = '';\n",
        "      this.getField(\"field-000\").value = disp;\n",
        "\t\t\toper = token;\n",
        "\t\t\tstate = 'OPERATOR'\n",
        "\t\t\treturn;\n",
        "\t\t}\n",
        "\t}\n",
        "\t/* \n",
        "\t * BINARY_OPERATOR\n",
        "\t * a binary operator was entered\n",
        "\t */\n",
        "\tif(state == 'OPERATOR'){\n",
        "\t\tif(token == '.'){\n",
        "\t\t\tdisp = '0.';\n",
        "      this.getField(\"field-000\").value = disp;\n",
        "\t\t\tstate = 'ARG2_FLOAT';\n",
        "\t\t\treturn;\n",
        "\t\t}\n",
        "\t\tif(is_number(token)){\n",
        "\t\t\tdisp = token;\n",
        "      this.getField(\"field-000\").value = disp;\n",
        "\t\t\tstate = 'ARG2'\n",
        "\t\t\treturn;\n",
        "\t\t}\n",
        "\t}\n",
        "\t/* \n",
        "\t * ARG2\n",
        "\t * arg2 is being built\n",
        "\t */\n",
        "\tif(state == 'ARG2'){\n",
        "\t\tif(token == '.'){\n",
        "\t\t\tdisp += '.';\n",
        "      this.getField(\"field-000\").value = disp;\n",
        "\t\t\tstate = 'ARG2_FLOAT';\n",
        "\t\t\treturn;\n",
        "\t\t}\n",
        "\t\tif(is_number(token)){\n",
        "\t\t\tdisp += token;\n",
        "      this.getField(\"field-000\").value = disp;\n",
        "\t\t\treturn;\n",
        "\t\t}\n",
        "\t\tif(is_binary_operator(token)){\n",
        "\t\t\targ1 = apply_operator(arg1, parseFloat(disp), oper);\n",
        "\t\t\tdisp = to_string(arg1);\n",
        "      this.getField(\"field-000\").value = disp;\n",
        "\t\t\toper = token;\n",
        "\t\t\tstate = 'OPERATOR'\n",
        "\t\t\treturn;\n",
        "\t\t}\n",
        "\t\tif(token == '='){\n",
        "\t\t\targ2 = parseFloat(disp);\n",
        "\t\t\tdisp = to_string(apply_operator(arg1, arg2, oper));\n",
        "      this.getField(\"field-000\").value = disp;\n",
        "\t\t\tstate = 'EQUALS';\n",
        "\t\t\treturn;\n",
        "\t\t}\n",
        "\t}\n",
        "\tif(state == 'ARG2_FLOAT'){\n",
        "\t\tif(is_number(token)){\n",
        "\t\t\tdisp += token;\n",
        "      this.getField(\"field-000\").value = disp;\n",
        "\t\t\treturn;\n",
        "\t\t}\n",
        "\t\tif(is_binary_operator(token)){\n",
        "\t\t\targ1 = apply_operator(arg1, parseFloat(disp), oper);\n",
        "\t\t\tdisp = to_string(arg1);\n",
        "      this.getField(\"field-000\").value = disp;\n",
        "\t\t\toper = token;\n",
        "\t\t\tstate = 'OPERATOR'\n",
        "\t\t\treturn;\n",
        "\t\t}\n",
        "\t\tif(token == '='){\n",
        "\t\t\targ2 = parseFloat(disp);\n",
        "\t\t\tdisp = to_string(apply_operator(arg1, arg2, oper));\n",
        "      this.getField(\"field-000\").value = disp;\n",
        "\t\t\tstate = 'EQUALS';\n",
        "\t\t\treturn;\n",
        "\t\t}\n",
        "\t}\t\n",
        "\tif(state == 'EQUALS'){\n",
        "\t\tif(token == '='){\n",
        "\t\t\tdisp = to_string(apply_operator(parseFloat(disp), arg2, oper));\n",
        "      this.getField(\"field-000\").value = disp;\n",
        "\t\t\treturn;\n",
        "\t\t}\n",
        "\t\tif(token == '.'){\n",
        "\t\t\tdisp = '0.';\n",
        "      this.getField(\"field-000\").value = disp;\n",
        "\t\t\tstate = 'ARG1_FLOAT';\n",
        "\t\t\treturn;\n",
        "\t\t}\n",
        "\t\tif(is_number(token)){\n",
        "\t\t\tdisp = token;\n",
        "      this.getField(\"field-000\").value = disp;\n",
        "\t\t\tstate = 'ARG1';\n",
        "\t\t\treturn;\n",
        "\t\t}\n",
        "\t\tif(is_binary_operator(token)){\n",
        "\t\t\targ1 = parseFloat(disp);\n",
        "\t\t\toper = token;\n",
        "\t\t\tstate = 'OPERATOR';\n",
        "\t\t\treturn;\n",
        "\t\t}\n",
        "\t}\n",
        "}\n",
        "this.getField(\"field-000\").fillColor = color.transparent;\n",
        "this.getField(\"field-000\").textFont = \"Courier\";\n",
        "app.runtimeHighlightColor = [\"RGB\", 47/255, 53/255, 51/255];\n",
        "  \"\"\"\n",
        "\n",
        "  global_js_stream[Name(\"Filter\")] = Name(\"FlateDecode\")\n",
        "\n",
        "  # build global js dictionary\n",
        "  global_js_dictionary = Dictionary()\n",
        "  global_js_dictionary[Name(\"S\")] = Name(\"JavaScript\")\n",
        "  global_js_dictionary[Name(\"JS\")] = global_js_stream\n",
        "\n",
        "  # build name tree\n",
        "  root = doc[\"XRef\"][\"Trailer\"][\"Root\"]\n",
        "  root[Name(\"Names\")] = Dictionary()\n",
        "  names = root[\"Names\"]\n",
        "  names[Name(\"JavaScript\")] = Dictionary()\n",
        "  names[\"JavaScript\"][Name(\"Kids\")] = List()\n",
        "  \n",
        "  # build leaf\n",
        "  kids_01 = Dictionary()\n",
        "  kids_01[Name(\"Limits\")] = List()\n",
        "  kids_01[\"Limits\"].append(String(\"js-000\"))\n",
        "  kids_01[\"Limits\"].append(String(\"js-000\"))\n",
        "  kids_01[Name(\"Names\")] = List()\n",
        "  kids_01[\"Names\"].append(String(\"js-000\"))\n",
        "  kids_01[\"Names\"].append(global_js_dictionary)\n",
        "\n",
        "  names[\"JavaScript\"][\"Kids\"].append(kids_01)"
      ],
      "metadata": {
        "id": "o90ypCjpsQ11"
      },
      "execution_count": 32,
      "outputs": []
    },
    {
      "cell_type": "markdown",
      "source": [
        "In order to display the result of the calculations, we need to add a `TextField` that the JavaScript can modify."
      ],
      "metadata": {
        "id": "nPRxObJS5vOs"
      }
    },
    {
      "cell_type": "code",
      "source": [
        "from borb.pdf.canvas.layout.forms.text_field import TextField\n",
        "\n",
        "def add_display(page: Page):\n",
        "  r0 = Rectangle(Decimal(264), Decimal(587), Decimal(65), Decimal(15))\n",
        "  ConnectedShape(LineArtFactory.rectangle(r0), \n",
        "        stroke_color=HexColor('7e838e'), \n",
        "        fill_color=HexColor('7e838e')).paint(page, r0)\n",
        "\n",
        "  r1 = Rectangle(Decimal(264), Decimal(587), Decimal(65), Decimal(15))\n",
        "  display_field = TextField(value=\"\", font_size=Decimal(13))\n",
        "  display_field.paint(page, r1)\n"
      ],
      "metadata": {
        "id": "-dZDRJb75v-c"
      },
      "execution_count": 33,
      "outputs": []
    },
    {
      "cell_type": "markdown",
      "source": [
        "Now we can build our `Document`"
      ],
      "metadata": {
        "id": "AmkML_3R0p2e"
      }
    },
    {
      "cell_type": "code",
      "source": [
        "from borb.pdf.document.document import Document\n",
        "from borb.pdf.page.page import Page\n",
        "from borb.pdf.pdf import PDF\n",
        "from borb.pdf.canvas.geometry.rectangle import Rectangle\n",
        "from borb.pdf.canvas.layout.page_layout.multi_column_layout import MultiColumnLayout\n",
        "from borb.pdf.canvas.layout.page_layout.page_layout import PageLayout\n",
        "from borb.pdf.canvas.layout.text.paragraph import Paragraph\n",
        "from borb.pdf.canvas.color.color import HexColor\n",
        "from borb.pdf.canvas.layout.image.barcode import Barcode, BarcodeType\n",
        "\n",
        "from decimal import Decimal\n",
        "from pathlib import Path\n",
        "\n",
        "# create Document\n",
        "doc: Document = Document()\n",
        "\n",
        "# create Page\n",
        "page: Page = Page()\n",
        "doc.add_page(page)\n",
        "\n",
        "# add javascript\n",
        "add_document_level_javascript(doc)\n",
        "\n",
        "# add artwork\n",
        "add_gray_artwork_to_upper_right_corner(page)\n",
        "add_colored_artwork_to_bottom_right_corner(page)\n",
        "\n",
        "# add Image\n",
        "add_calculator_image(page)\n",
        "add_action_annotations(page)\n",
        "\n",
        "# add TextField\n",
        "add_display(page)\n",
        "\n",
        "# create layout\n",
        "layout: PageLayout = MultiColumnLayout(page, 2)\n",
        "\n",
        "# add first Paragraph\n",
        "layout.add(Paragraph(\"Javascript in PDF\", \n",
        "                     font=\"Helvetica-Bold\",\n",
        "                     font_size=Decimal(20),\n",
        "                     font_color=HexColor('56cbf9')))\n",
        "\n",
        "# add second paragraph\n",
        "layout.add(Paragraph(\"\"\"\n",
        "You can cause an action to occur when a bookmark or link is clicked, or when a page is viewed. \n",
        "For example, you can use links and bookmarks to jump to different locations in a document, \n",
        "execute commands from a menu, and perform other actions. \"\"\"\n",
        "))\n",
        "\n",
        "# add third Paragraph\n",
        "# we are explictly adding the newlines ourselves to ensure the text\n",
        "# breaks nicely around the outline of the calculator\n",
        "layout.add(Paragraph(\"\"\"To enhance the interactive qual-\n",
        "ity of a document, you can spec-\n",
        "ify actions, such as changing the \n",
        "zoom value, to occur when a page \n",
        "is opened or closed.\"\"\", respect_newlines_in_text=True))\n",
        "\n",
        "# add fourth Paragraph\n",
        "layout.add(Paragraph(\"Trigger Types\",\n",
        "                     font=\"Helvetica-Bold\",\n",
        "                     font_size=Decimal(14)))\n",
        "\n",
        "# add fifth Paragraph\n",
        "layout.add(Paragraph(\"Triggers determine how actions are activated in media clips, pages, and form fields. For example, you can specify a movie or sound clip to play when a page is opened or closed. The available options depend on the specified page element.\"))\n",
        "\n",
        "# add sixth Paragraph\n",
        "layout.add(Paragraph(\"Javascript\",\n",
        "                     font=\"Helvetica-Bold\",\n",
        "                     font_size=Decimal(14)))\n",
        "\n",
        "# add seventh Paragraph\n",
        "layout.add(Paragraph(\"\"\"\n",
        "The JavaScript language was developed by Netscape Communications as a means to create interactive web pages more easily. Adobe has enhanced JavaScript so that you can easily integrate this level of interactivity into your PDF documents.\n",
        "You can invoke JavaScript code using actions associated with bookmarks, links, and pages. You can set Document Actions which lets you create document-level JavaScript actions that apply to the entire document.\"\"\"\n",
        "))\n",
        "\n",
        "# add final Paragraph\n",
        "Paragraph(\"With enough buttons and Javascript, you could even make a functional calculator inside a PDF!\", \n",
        "          font=\"Courier\",\n",
        "          font_size=Decimal(8),\n",
        "          padding_left=Decimal(5),\n",
        "          border_left=True).paint(page, Rectangle(Decimal(350), Decimal(450), Decimal(200), Decimal(100)))\n",
        "\n",
        "# add QR code\n",
        "Barcode(\"https://www.borb-pdf.com\", \n",
        "        type=BarcodeType.QR, \n",
        "        width=Decimal(64), \n",
        "        height=Decimal(64)).paint(page, Rectangle(Decimal(595 - 64 - 15), Decimal(84), Decimal(64), Decimal(64)))\n",
        "\n",
        "# store PDF\n",
        "with open(Path(\"output.pdf\"), \"wb\") as pdf_file_handle:\n",
        "    PDF.dumps(pdf_file_handle, doc)"
      ],
      "metadata": {
        "id": "ciRp2G0mBOea"
      },
      "execution_count": 34,
      "outputs": []
    }
  ]
}