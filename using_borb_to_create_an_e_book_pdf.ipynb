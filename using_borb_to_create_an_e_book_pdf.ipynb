{
  "nbformat": 4,
  "nbformat_minor": 0,
  "metadata": {
    "colab": {
      "name": "borb_colab_example_001.ipynb",
      "provenance": [],
      "collapsed_sections": [],
      "include_colab_link": true
    },
    "kernelspec": {
      "name": "python3",
      "display_name": "Python 3"
    },
    "language_info": {
      "name": "python"
    }
  },
  "cells": [
    {
      "cell_type": "markdown",
      "metadata": {
        "id": "view-in-github",
        "colab_type": "text"
      },
      "source": [
        "<a href=\"https://colab.research.google.com/github/jorisschellekens/borb-google-colab-examples/blob/main/using_borb_to_create_an_e_book_pdf.ipynb\" target=\"_parent\"><img src=\"https://colab.research.google.com/assets/colab-badge.svg\" alt=\"Open In Colab\"/></a>"
      ]
    },
    {
      "cell_type": "markdown",
      "metadata": {
        "id": "69pFrdjXwffy"
      },
      "source": [
        "# ![borb logo](https://github.com/jorisschellekens/borb/raw/master/logo/borb_64.png) Using `borb` to create an e-book PDF"
      ]
    },
    {
      "cell_type": "markdown",
      "metadata": {
        "id": "QzPdWssCpvjm"
      },
      "source": [
        "[`borb`](https://github.com/jorisschellekens/borb) is a library for reading, creating and manipulating PDF files in python. borb was created in 2020 by Joris Schellekens and is still in active development. Check out the [GitHub repository](https://github.com/jorisschellekens/borb), or the [borb website](https://borbpdf.com)."
      ]
    },
    {
      "cell_type": "markdown",
      "metadata": {
        "id": "ok7w4E5cs-90"
      },
      "source": [
        "Let's start by installing `borb`"
      ]
    },
    {
      "cell_type": "code",
      "metadata": {
        "colab": {
          "base_uri": "https://localhost:8080/"
        },
        "id": "hCsIoviIrivr",
        "outputId": "9fa2c18d-692a-481e-917b-01d206ace518"
      },
      "source": [
        "pip install borb"
      ],
      "execution_count": 55,
      "outputs": [
        {
          "output_type": "stream",
          "name": "stdout",
          "text": [
            "Requirement already satisfied: borb in /usr/local/lib/python3.7/dist-packages (2.0.11)\n",
            "Requirement already satisfied: fonttools>=4.22.1 in /usr/local/lib/python3.7/dist-packages (from borb) (4.27.1)\n",
            "Requirement already satisfied: Pillow>=7.1.0 in /usr/local/lib/python3.7/dist-packages (from borb) (7.1.2)\n",
            "Requirement already satisfied: qrcode[pil]>=6.1 in /usr/local/lib/python3.7/dist-packages (from borb) (7.3.1)\n",
            "Requirement already satisfied: setuptools~=51.1.1 in /usr/local/lib/python3.7/dist-packages (from borb) (51.1.2)\n",
            "Requirement already satisfied: requests>=2.24.0 in /usr/local/lib/python3.7/dist-packages (from borb) (2.26.0)\n",
            "Requirement already satisfied: python-barcode>=0.13.1 in /usr/local/lib/python3.7/dist-packages (from borb) (0.13.1)\n",
            "Requirement already satisfied: charset-normalizer~=2.0.0 in /usr/local/lib/python3.7/dist-packages (from requests>=2.24.0->borb) (2.0.6)\n",
            "Requirement already satisfied: urllib3<1.27,>=1.21.1 in /usr/local/lib/python3.7/dist-packages (from requests>=2.24.0->borb) (1.24.3)\n",
            "Requirement already satisfied: idna<4,>=2.5 in /usr/local/lib/python3.7/dist-packages (from requests>=2.24.0->borb) (2.10)\n",
            "Requirement already satisfied: certifi>=2017.4.17 in /usr/local/lib/python3.7/dist-packages (from requests>=2.24.0->borb) (2021.5.30)\n"
          ]
        }
      ]
    },
    {
      "cell_type": "code",
      "metadata": {
        "id": "tUedVdqWuWL5",
        "outputId": "e47ea7ea-124d-418b-991d-792310c2a28e",
        "colab": {
          "base_uri": "https://localhost:8080/"
        }
      },
      "source": [
        "pip install unidecode"
      ],
      "execution_count": 56,
      "outputs": [
        {
          "output_type": "stream",
          "name": "stdout",
          "text": [
            "Requirement already satisfied: unidecode in /usr/local/lib/python3.7/dist-packages (1.3.2)\n"
          ]
        }
      ]
    },
    {
      "cell_type": "markdown",
      "metadata": {
        "id": "L3IBqyjEtLET"
      },
      "source": [
        "With that out of the way, you can now copy the imports needed to create a basic PDF document."
      ]
    },
    {
      "cell_type": "code",
      "metadata": {
        "id": "I6FzsGmprxbq"
      },
      "source": [
        "from borb.pdf.document import Document\n",
        "from borb.pdf.page.page import Page\n",
        "from borb.pdf.pdf import PDF\n",
        "\n",
        "from borb.pdf.canvas.layout.page_layout.multi_column_layout import SingleColumnLayout\n",
        "from borb.pdf.canvas.layout.page_layout.page_layout import PageLayout\n",
        "from borb.pdf.canvas.layout.text.paragraph import Paragraph\n",
        "from borb.pdf.canvas.layout.text.heading import Heading\n",
        "\n",
        "from borb.pdf.canvas.color.color import HexColor, X11Color\n",
        "\n",
        "import typing\n",
        "import re\n",
        "from decimal import Decimal"
      ],
      "execution_count": 57,
      "outputs": []
    },
    {
      "cell_type": "markdown",
      "metadata": {
        "id": "iGnd7R-DtTkt"
      },
      "source": [
        "This is the part where it gets fun. You're now going to set up everything to be able to add content to your PDF."
      ]
    },
    {
      "cell_type": "code",
      "metadata": {
        "id": "P5VlAvhqsCPR"
      },
      "source": [
        "# create empty Document\n",
        "pdf = Document()\n",
        "\n",
        "# create empty Page\n",
        "page = Page()\n",
        "\n",
        "# add Page to Document\n",
        "pdf.append_page(page)\n",
        "\n",
        "# create PageLayout\n",
        "layout: PageLayout = SingleColumnLayout(page)"
      ],
      "execution_count": 58,
      "outputs": []
    },
    {
      "cell_type": "markdown",
      "metadata": {
        "id": "mIGcXKNKtc0o"
      },
      "source": [
        "Not all fonts can handle all characters. Instead of dealing with this in a more elaborate way, here you'll be using `unidecode` which finds the nearest matching ASCII character for a given non-ASCII character."
      ]
    },
    {
      "cell_type": "code",
      "metadata": {
        "id": "qZDDbe6_w8w6"
      },
      "source": [
        "def to_ascii(s: str) -> str:\n",
        "  s_out: str = \"\"\n",
        "  for c in s:\n",
        "    if c == '“' or c == '”' or c == 'â':\n",
        "      s_out += '\"'\n",
        "    else:\n",
        "      s_out += unidecode(c)  \n",
        "  return s_out"
      ],
      "execution_count": 59,
      "outputs": []
    },
    {
      "cell_type": "markdown",
      "metadata": {
        "id": "FFwO9rlbKFa4"
      },
      "source": [
        "Now you can move on to the bulk processing of the text.\n",
        "You'll start by simply downloading the full text from the gutenberg website."
      ]
    },
    {
      "cell_type": "code",
      "metadata": {
        "colab": {
          "base_uri": "https://localhost:8080/"
        },
        "id": "kPafsXiKtlH0",
        "outputId": "0f69b31e-e5ad-4f12-bd9c-93bfcd7cb7c1"
      },
      "source": [
        "from unidecode import unidecode\n",
        "\n",
        "# define which ebook to fetch\n",
        "url = 'https://www.gutenberg.org/files/863/863-0.txt'\n",
        "\n",
        "# download text\n",
        "import requests\n",
        "txt = requests.get(url).text\n",
        "print(\"Downloaded %d bytes of text ..\" % len(txt))\n",
        "\n",
        "# split to lines\n",
        "lines_of_text: typing.List[str] = re.split('\\r\\n', txt)\n",
        "lines_of_text = [to_ascii(x) for x in lines_of_text]\n",
        "\n",
        "# debug\n",
        "print(\"This ebook contains %d lines .. \" % len(lines_of_text))"
      ],
      "execution_count": 60,
      "outputs": [
        {
          "output_type": "stream",
          "name": "stdout",
          "text": [
            "Downloaded 361353 bytes of text ..\n",
            "This ebook contains 8892 lines .. \n"
          ]
        }
      ]
    },
    {
      "cell_type": "markdown",
      "metadata": {
        "id": "3BZ2KAm2R97A"
      },
      "source": [
        "You don't really need the first couple of lines of text. They're just the copyright headers Project Gutenberg puts on all these works."
      ]
    },
    {
      "cell_type": "code",
      "metadata": {
        "colab": {
          "base_uri": "https://localhost:8080/"
        },
        "id": "VvWQ7kLEKfCv",
        "outputId": "cfe5d461-4130-416a-f8d4-6d7fbdd1107a"
      },
      "source": [
        "# skip header\n",
        "header_offset: int = 0\n",
        "for i in range(0, len(lines_of_text)):\n",
        "  if lines_of_text[i].startswith(\"*** START OF THE PROJECT GUTENBERG EBOOK\"):\n",
        "    header_offset = i + 1\n",
        "    break\n",
        "while lines_of_text[header_offset].isspace():\n",
        "  header_offset += 1\n",
        "lines_of_text = lines_of_text[header_offset:]\n",
        "print(\"The first %d lines are the gutenberg header ..\" % header_offset)"
      ],
      "execution_count": 61,
      "outputs": [
        {
          "output_type": "stream",
          "name": "stdout",
          "text": [
            "The first 24 lines are the gutenberg header ..\n"
          ]
        }
      ]
    },
    {
      "cell_type": "markdown",
      "metadata": {
        "id": "jdZ85YH3R2Cz"
      },
      "source": [
        "Next, you'll ensure the final copyright/legal header is trimmed as well."
      ]
    },
    {
      "cell_type": "code",
      "metadata": {
        "colab": {
          "base_uri": "https://localhost:8080/"
        },
        "id": "-YDorQ9oKb5b",
        "outputId": "fa9b82e5-df5d-452c-df68-30797c0eb7ec"
      },
      "source": [
        "# skip footer\n",
        "footer_offset: int = len(lines_of_text)\n",
        "for i in range(0, len(lines_of_text)):\n",
        "  if \"*** END OF THE PROJECT GUTENBERG EBOOK\" in lines_of_text[i]:\n",
        "    footer_offset = i\n",
        "    break\n",
        "lines_of_text = lines_of_text[0:footer_offset]\n",
        "print(\"The last %d lines are the gutenberg footer ..\" % (len(lines_of_text) - footer_offset))"
      ],
      "execution_count": 62,
      "outputs": [
        {
          "output_type": "stream",
          "name": "stdout",
          "text": [
            "The last 0 lines are the gutenberg footer ..\n"
          ]
        }
      ]
    },
    {
      "cell_type": "markdown",
      "metadata": {
        "id": "LlcCySpFSIZb"
      },
      "source": [
        "With that out of the way, you can move on to processing the main body of text."
      ]
    },
    {
      "cell_type": "code",
      "metadata": {
        "id": "LLfbNuIfKXZ7"
      },
      "source": [
        "# main processing loop\n",
        "i: int = 0\n",
        "while i < len(lines_of_text):\n",
        "  \n",
        "  # process lines\n",
        "  paragraph_text: str = \"\"\n",
        "  while i < len(lines_of_text) and not len(lines_of_text[i]) == 0:\n",
        "    paragraph_text += lines_of_text[i]\n",
        "    paragraph_text += \" \"\n",
        "    i += 1\n",
        "\n",
        "  # empty\n",
        "  if len(paragraph_text) == 0:\n",
        "    i += 1\n",
        "    continue\n",
        "\n",
        "  # space\n",
        "  if paragraph_text.isspace():\n",
        "    i += 1\n",
        "    continue\n",
        "\n",
        "  # contains the word 'CHAPTER' multiple times (likely to be table of contents)\n",
        "  if sum([1 for x in paragraph_text.split(' ') if 'CHAPTER' in x]) > 2:\n",
        "    i += 1\n",
        "    continue\n",
        "\n",
        "  # debug\n",
        "  print(\"Processing line %d / %d\" % (i, len(lines_of_text)))\n",
        "\n",
        "  # outline\n",
        "  if paragraph_text.startswith(\"CHAPTER\"):\n",
        "    print(\"Adding Header of %d bytes ..\" % len(paragraph_text))\n",
        "    try:\n",
        "      page = Page()\n",
        "      pdf.append_page(page)\n",
        "      layout = SingleColumnLayout(page)\n",
        "      layout.add(Heading(paragraph_text, font_color=HexColor(\"13505B\"), font_size=Decimal(20)))\n",
        "    except:\n",
        "      pass\n",
        "    continue\n",
        "\n",
        "  # default\n",
        "  try:\n",
        "      layout.add(Paragraph(paragraph_text))\n",
        "  except:\n",
        "    pass\n",
        "  \n",
        "  # default behaviour\n",
        "  i += 1"
      ],
      "execution_count": null,
      "outputs": []
    },
    {
      "cell_type": "markdown",
      "metadata": {
        "id": "_nKSdLcPtvv-"
      },
      "source": [
        "Now, you can store the `Document` as a PDF using the `PDF.dumps` method."
      ]
    },
    {
      "cell_type": "code",
      "metadata": {
        "id": "zV-kv3I5t2Ax"
      },
      "source": [
        "with open(\"output.pdf\", \"wb\") as pdf_file_handle:\n",
        "  PDF.dumps(pdf_file_handle, pdf)"
      ],
      "execution_count": 65,
      "outputs": []
    },
    {
      "cell_type": "markdown",
      "metadata": {
        "id": "xrksHOTewKxS"
      },
      "source": [
        "That's it! You now have a PDF e-book. That's how easy it is to create a PDF using `borb`."
      ]
    }
  ]
}