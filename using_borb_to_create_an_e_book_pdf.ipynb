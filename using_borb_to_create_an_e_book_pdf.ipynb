{
  "nbformat": 4,
  "nbformat_minor": 0,
  "metadata": {
    "colab": {
      "name": "using_borb_to_create_an_e_book_pdf.ipynb",
      "provenance": [],
      "collapsed_sections": [],
      "include_colab_link": true
    },
    "kernelspec": {
      "name": "python3",
      "display_name": "Python 3"
    },
    "language_info": {
      "name": "python"
    }
  },
  "cells": [
    {
      "cell_type": "markdown",
      "metadata": {
        "id": "view-in-github",
        "colab_type": "text"
      },
      "source": [
        "<a href=\"https://colab.research.google.com/github/jorisschellekens/borb-google-colab-examples/blob/main/using_borb_to_create_an_e_book_pdf.ipynb\" target=\"_parent\"><img src=\"https://colab.research.google.com/assets/colab-badge.svg\" alt=\"Open In Colab\"/></a>"
      ]
    },
    {
      "cell_type": "markdown",
      "metadata": {
        "id": "69pFrdjXwffy"
      },
      "source": [
        "# ![borb logo](https://github.com/jorisschellekens/borb/raw/master/logo/borb_64.png) Using `borb` to create an e-book PDF"
      ]
    },
    {
      "cell_type": "markdown",
      "metadata": {
        "id": "QzPdWssCpvjm"
      },
      "source": [
        "[`borb`](https://github.com/jorisschellekens/borb) is a library for reading, creating and manipulating PDF files in python. borb was created in 2020 by Joris Schellekens and is still in active development. Check out the [GitHub repository](https://github.com/jorisschellekens/borb), or the [borb website](https://borbpdf.com)."
      ]
    },
    {
      "cell_type": "markdown",
      "metadata": {
        "id": "ok7w4E5cs-90"
      },
      "source": [
        "Let's start by installing `borb`"
      ]
    },
    {
      "cell_type": "code",
      "metadata": {
        "colab": {
          "base_uri": "https://localhost:8080/"
        },
        "id": "hCsIoviIrivr",
        "outputId": "5a66bc38-6f9d-440f-e713-d498a5d1917f"
      },
      "source": [
        "pip install borb"
      ],
      "execution_count": 1,
      "outputs": [
        {
          "output_type": "stream",
          "name": "stdout",
          "text": [
            "Looking in indexes: https://pypi.org/simple, https://us-python.pkg.dev/colab-wheels/public/simple/\n",
            "Collecting borb\n",
            "  Downloading borb-2.0.29-py3-none-any.whl (6.3 MB)\n",
            "\u001b[K     |████████████████████████████████| 6.3 MB 4.5 MB/s \n",
            "\u001b[?25hCollecting python-barcode>=0.13.1\n",
            "  Downloading python_barcode-0.14.0-py3-none-any.whl (212 kB)\n",
            "\u001b[K     |████████████████████████████████| 212 kB 34.2 MB/s \n",
            "\u001b[?25hCollecting fonttools>=4.22.1\n",
            "  Downloading fonttools-4.33.3-py3-none-any.whl (930 kB)\n",
            "\u001b[K     |████████████████████████████████| 930 kB 47.7 MB/s \n",
            "\u001b[?25hRequirement already satisfied: Pillow>=7.1.0 in /usr/local/lib/python3.7/dist-packages (from borb) (7.1.2)\n",
            "Collecting requests>=2.24.0\n",
            "  Downloading requests-2.28.1-py3-none-any.whl (62 kB)\n",
            "\u001b[K     |████████████████████████████████| 62 kB 972 kB/s \n",
            "\u001b[?25hRequirement already satisfied: setuptools>=51.1.1 in /usr/local/lib/python3.7/dist-packages (from borb) (57.4.0)\n",
            "Collecting qrcode[pil]>=6.1\n",
            "  Downloading qrcode-7.3.1.tar.gz (43 kB)\n",
            "\u001b[K     |████████████████████████████████| 43 kB 1.8 MB/s \n",
            "\u001b[?25hRequirement already satisfied: urllib3<1.27,>=1.21.1 in /usr/local/lib/python3.7/dist-packages (from requests>=2.24.0->borb) (1.24.3)\n",
            "Requirement already satisfied: certifi>=2017.4.17 in /usr/local/lib/python3.7/dist-packages (from requests>=2.24.0->borb) (2022.6.15)\n",
            "Requirement already satisfied: idna<4,>=2.5 in /usr/local/lib/python3.7/dist-packages (from requests>=2.24.0->borb) (2.10)\n",
            "Requirement already satisfied: charset-normalizer<3,>=2 in /usr/local/lib/python3.7/dist-packages (from requests>=2.24.0->borb) (2.0.12)\n",
            "Building wheels for collected packages: qrcode\n",
            "  Building wheel for qrcode (setup.py) ... \u001b[?25l\u001b[?25hdone\n",
            "  Created wheel for qrcode: filename=qrcode-7.3.1-py3-none-any.whl size=40402 sha256=cd9c22a553abcdfba341d1075ccc00fbae510639e2aa1d9c210f612411a7fe61\n",
            "  Stored in directory: /root/.cache/pip/wheels/93/d7/39/a4111be2cfb8e679938aa671a37888b6afb1f9e7d748e94492\n",
            "Successfully built qrcode\n",
            "Installing collected packages: qrcode, requests, python-barcode, fonttools, borb\n",
            "  Attempting uninstall: requests\n",
            "    Found existing installation: requests 2.23.0\n",
            "    Uninstalling requests-2.23.0:\n",
            "      Successfully uninstalled requests-2.23.0\n",
            "\u001b[31mERROR: pip's dependency resolver does not currently take into account all the packages that are installed. This behaviour is the source of the following dependency conflicts.\n",
            "google-colab 1.0.0 requires requests~=2.23.0, but you have requests 2.28.1 which is incompatible.\n",
            "datascience 0.10.6 requires folium==0.2.1, but you have folium 0.8.3 which is incompatible.\u001b[0m\n",
            "Successfully installed borb-2.0.29 fonttools-4.33.3 python-barcode-0.14.0 qrcode-7.3.1 requests-2.28.1\n"
          ]
        }
      ]
    },
    {
      "cell_type": "code",
      "metadata": {
        "id": "tUedVdqWuWL5",
        "outputId": "9c633cbd-b86b-417a-bdd0-e5054193ff35",
        "colab": {
          "base_uri": "https://localhost:8080/"
        }
      },
      "source": [
        "pip install unidecode"
      ],
      "execution_count": 2,
      "outputs": [
        {
          "output_type": "stream",
          "name": "stdout",
          "text": [
            "Looking in indexes: https://pypi.org/simple, https://us-python.pkg.dev/colab-wheels/public/simple/\n",
            "Collecting unidecode\n",
            "  Downloading Unidecode-1.3.4-py3-none-any.whl (235 kB)\n",
            "\u001b[K     |████████████████████████████████| 235 kB 5.2 MB/s \n",
            "\u001b[?25hInstalling collected packages: unidecode\n",
            "Successfully installed unidecode-1.3.4\n"
          ]
        }
      ]
    },
    {
      "cell_type": "markdown",
      "metadata": {
        "id": "L3IBqyjEtLET"
      },
      "source": [
        "With that out of the way, you can now copy the imports needed to create a basic PDF document."
      ]
    },
    {
      "cell_type": "code",
      "metadata": {
        "id": "I6FzsGmprxbq"
      },
      "source": [
        "from borb.pdf.document.document import Document\n",
        "from borb.pdf.page.page import Page\n",
        "from borb.pdf.pdf import PDF\n",
        "\n",
        "from borb.pdf.canvas.layout.page_layout.multi_column_layout import SingleColumnLayout\n",
        "from borb.pdf.canvas.layout.page_layout.page_layout import PageLayout\n",
        "from borb.pdf.canvas.layout.text.paragraph import Paragraph\n",
        "from borb.pdf.canvas.layout.text.heading import Heading\n",
        "\n",
        "from borb.pdf.canvas.color.color import HexColor, X11Color\n",
        "\n",
        "import typing\n",
        "import re\n",
        "from decimal import Decimal"
      ],
      "execution_count": 3,
      "outputs": []
    },
    {
      "cell_type": "markdown",
      "metadata": {
        "id": "iGnd7R-DtTkt"
      },
      "source": [
        "This is the part where it gets fun. You're now going to set up everything to be able to add content to your PDF."
      ]
    },
    {
      "cell_type": "code",
      "metadata": {
        "id": "P5VlAvhqsCPR"
      },
      "source": [
        "# create empty Document\n",
        "pdf = Document()\n",
        "\n",
        "# create empty Page\n",
        "page = Page()\n",
        "\n",
        "# add Page to Document\n",
        "pdf.add_page(page)\n",
        "\n",
        "# create PageLayout\n",
        "layout: PageLayout = SingleColumnLayout(page)"
      ],
      "execution_count": 4,
      "outputs": []
    },
    {
      "cell_type": "markdown",
      "metadata": {
        "id": "mIGcXKNKtc0o"
      },
      "source": [
        "Not all fonts can handle all characters. Instead of dealing with this in a more elaborate way, here you'll be using `unidecode` which finds the nearest matching ASCII character for a given non-ASCII character."
      ]
    },
    {
      "cell_type": "code",
      "metadata": {
        "id": "qZDDbe6_w8w6"
      },
      "source": [
        "def to_ascii(s: str) -> str:\n",
        "  s_out: str = \"\"\n",
        "  for c in s:\n",
        "    if c == '“' or c == '”' or c == 'â':\n",
        "      s_out += '\"'\n",
        "    else:\n",
        "      s_out += unidecode(c)  \n",
        "  return s_out"
      ],
      "execution_count": 5,
      "outputs": []
    },
    {
      "cell_type": "markdown",
      "metadata": {
        "id": "FFwO9rlbKFa4"
      },
      "source": [
        "Now you can move on to the bulk processing of the text.\n",
        "You'll start by simply downloading the full text from the gutenberg website."
      ]
    },
    {
      "cell_type": "code",
      "metadata": {
        "colab": {
          "base_uri": "https://localhost:8080/"
        },
        "id": "kPafsXiKtlH0",
        "outputId": "0e1cb804-8a13-40d5-9c82-11e32acd7bb8"
      },
      "source": [
        "from unidecode import unidecode\n",
        "\n",
        "# define which ebook to fetch\n",
        "url = 'https://www.gutenberg.org/files/863/863-0.txt'\n",
        "\n",
        "# download text\n",
        "import requests\n",
        "txt = requests.get(url).text\n",
        "print(\"Downloaded %d bytes of text ..\" % len(txt))\n",
        "\n",
        "# split to lines\n",
        "lines_of_text: typing.List[str] = re.split('\\r\\n', txt)\n",
        "lines_of_text = [to_ascii(x) for x in lines_of_text]\n",
        "\n",
        "# debug\n",
        "print(\"This ebook contains %d lines .. \" % len(lines_of_text))"
      ],
      "execution_count": 6,
      "outputs": [
        {
          "output_type": "stream",
          "name": "stdout",
          "text": [
            "Downloaded 361359 bytes of text ..\n",
            "This ebook contains 8892 lines .. \n"
          ]
        }
      ]
    },
    {
      "cell_type": "markdown",
      "metadata": {
        "id": "3BZ2KAm2R97A"
      },
      "source": [
        "You don't really need the first couple of lines of text. They're just the copyright headers Project Gutenberg puts on all these works."
      ]
    },
    {
      "cell_type": "code",
      "metadata": {
        "colab": {
          "base_uri": "https://localhost:8080/"
        },
        "id": "VvWQ7kLEKfCv",
        "outputId": "60968461-aeb7-486f-8110-4a845a62a1c0"
      },
      "source": [
        "# skip header\n",
        "header_offset: int = 0\n",
        "for i in range(0, len(lines_of_text)):\n",
        "  if lines_of_text[i].startswith(\"*** START OF THE PROJECT GUTENBERG EBOOK\"):\n",
        "    header_offset = i + 1\n",
        "    break\n",
        "while lines_of_text[header_offset].isspace():\n",
        "  header_offset += 1\n",
        "lines_of_text = lines_of_text[header_offset:]\n",
        "print(\"The first %d lines are the gutenberg header ..\" % header_offset)"
      ],
      "execution_count": 7,
      "outputs": [
        {
          "output_type": "stream",
          "name": "stdout",
          "text": [
            "The first 24 lines are the gutenberg header ..\n"
          ]
        }
      ]
    },
    {
      "cell_type": "markdown",
      "metadata": {
        "id": "jdZ85YH3R2Cz"
      },
      "source": [
        "Next, you'll ensure the final copyright/legal header is trimmed as well."
      ]
    },
    {
      "cell_type": "code",
      "metadata": {
        "colab": {
          "base_uri": "https://localhost:8080/"
        },
        "id": "-YDorQ9oKb5b",
        "outputId": "71271faa-8748-450e-bdb0-d84f5c2cfdbe"
      },
      "source": [
        "# skip footer\n",
        "footer_offset: int = len(lines_of_text)\n",
        "for i in range(0, len(lines_of_text)):\n",
        "  if \"*** END OF THE PROJECT GUTENBERG EBOOK\" in lines_of_text[i]:\n",
        "    footer_offset = i\n",
        "    break\n",
        "lines_of_text = lines_of_text[0:footer_offset]\n",
        "print(\"The last %d lines are the gutenberg footer ..\" % (len(lines_of_text) - footer_offset))"
      ],
      "execution_count": 8,
      "outputs": [
        {
          "output_type": "stream",
          "name": "stdout",
          "text": [
            "The last 0 lines are the gutenberg footer ..\n"
          ]
        }
      ]
    },
    {
      "cell_type": "markdown",
      "metadata": {
        "id": "LlcCySpFSIZb"
      },
      "source": [
        "With that out of the way, you can move on to processing the main body of text."
      ]
    },
    {
      "cell_type": "code",
      "metadata": {
        "id": "LLfbNuIfKXZ7",
        "outputId": "0696b3ac-51f3-498d-9938-3da75da12b34",
        "colab": {
          "base_uri": "https://localhost:8080/"
        }
      },
      "source": [
        "# main processing loop\n",
        "i: int = 0\n",
        "while i < len(lines_of_text):\n",
        "  \n",
        "  # process lines\n",
        "  paragraph_text: str = \"\"\n",
        "  while i < len(lines_of_text) and not len(lines_of_text[i]) == 0:\n",
        "    paragraph_text += lines_of_text[i]\n",
        "    paragraph_text += \" \"\n",
        "    i += 1\n",
        "\n",
        "  # empty\n",
        "  if len(paragraph_text) == 0:\n",
        "    i += 1\n",
        "    continue\n",
        "\n",
        "  # space\n",
        "  if paragraph_text.isspace():\n",
        "    i += 1\n",
        "    continue\n",
        "\n",
        "  # contains the word 'CHAPTER' multiple times (likely to be table of contents)\n",
        "  if sum([1 for x in paragraph_text.split(' ') if 'CHAPTER' in x]) > 2:\n",
        "    i += 1\n",
        "    continue\n",
        "\n",
        "  # debug\n",
        "  print(\"Processing line %d / %d\" % (i, len(lines_of_text)))\n",
        "\n",
        "  # outline\n",
        "  if paragraph_text.startswith(\"CHAPTER\"):\n",
        "    print(\"Adding Header of %d bytes ..\" % len(paragraph_text))\n",
        "    try:\n",
        "      page = Page()\n",
        "      pdf.add_page(page)\n",
        "      layout = SingleColumnLayout(page)\n",
        "      layout.add(Heading(paragraph_text, font_color=HexColor(\"13505B\"), font_size=Decimal(20)))\n",
        "    except:\n",
        "      pass\n",
        "    continue\n",
        "\n",
        "  # default\n",
        "  try:\n",
        "      layout.add(Paragraph(paragraph_text))\n",
        "  except:\n",
        "    pass\n",
        "  \n",
        "  # default behaviour\n",
        "  i += 1"
      ],
      "execution_count": null,
      "outputs": [
        {
          "output_type": "stream",
          "name": "stdout",
          "text": [
            "Processing line 5 / 8519\n",
            "Processing line 7 / 8519\n",
            "Processing line 9 / 8519\n",
            "Processing line 30 / 8519\n",
            "Adding Header of 26 bytes ..\n",
            "Processing line 38 / 8519\n",
            "Processing line 41 / 8519\n",
            "Processing line 50 / 8519\n",
            "Processing line 53 / 8519\n",
            "Processing line 56 / 8519\n",
            "Processing line 58 / 8519\n",
            "Processing line 60 / 8519\n",
            "Processing line 69 / 8519\n",
            "Processing line 78 / 8519\n",
            "Processing line 83 / 8519\n",
            "Processing line 92 / 8519\n",
            "Processing line 95 / 8519\n",
            "Processing line 99 / 8519\n",
            "Processing line 101 / 8519\n",
            "Processing line 105 / 8519\n",
            "Processing line 107 / 8519\n",
            "Processing line 115 / 8519\n",
            "Processing line 117 / 8519\n",
            "Processing line 124 / 8519\n",
            "Processing line 126 / 8519\n",
            "Processing line 128 / 8519\n",
            "Processing line 134 / 8519\n",
            "Processing line 137 / 8519\n",
            "Processing line 145 / 8519\n",
            "Processing line 147 / 8519\n",
            "Processing line 149 / 8519\n",
            "Processing line 158 / 8519\n",
            "Processing line 160 / 8519\n",
            "Processing line 166 / 8519\n",
            "Processing line 170 / 8519\n",
            "Processing line 172 / 8519\n",
            "Processing line 179 / 8519\n",
            "Processing line 182 / 8519\n",
            "Processing line 185 / 8519\n",
            "Processing line 187 / 8519\n",
            "Processing line 190 / 8519\n",
            "Processing line 192 / 8519\n",
            "Processing line 195 / 8519\n",
            "Processing line 198 / 8519\n",
            "Processing line 201 / 8519\n",
            "Processing line 204 / 8519\n",
            "Processing line 206 / 8519\n",
            "Processing line 215 / 8519\n",
            "Processing line 225 / 8519\n",
            "Processing line 228 / 8519\n",
            "Processing line 234 / 8519\n",
            "Processing line 237 / 8519\n",
            "Processing line 240 / 8519\n",
            "Processing line 245 / 8519\n",
            "Processing line 247 / 8519\n",
            "Processing line 250 / 8519\n",
            "Processing line 258 / 8519\n",
            "Processing line 261 / 8519\n",
            "Processing line 265 / 8519\n",
            "Processing line 277 / 8519\n",
            "Processing line 281 / 8519\n",
            "Processing line 283 / 8519\n",
            "Processing line 285 / 8519\n",
            "Processing line 287 / 8519\n",
            "Processing line 289 / 8519\n",
            "Processing line 291 / 8519\n",
            "Processing line 294 / 8519\n",
            "Processing line 296 / 8519\n",
            "Processing line 299 / 8519\n",
            "Processing line 301 / 8519\n",
            "Processing line 303 / 8519\n",
            "Processing line 305 / 8519\n",
            "Processing line 307 / 8519\n",
            "Processing line 309 / 8519\n",
            "Processing line 317 / 8519\n",
            "Processing line 321 / 8519\n",
            "Processing line 323 / 8519\n",
            "Processing line 326 / 8519\n",
            "Processing line 329 / 8519\n",
            "Processing line 333 / 8519\n",
            "Processing line 335 / 8519\n",
            "Processing line 337 / 8519\n",
            "Processing line 342 / 8519\n",
            "Processing line 346 / 8519\n",
            "Processing line 348 / 8519\n",
            "Processing line 350 / 8519\n",
            "Processing line 356 / 8519\n",
            "Processing line 359 / 8519\n",
            "Processing line 361 / 8519\n",
            "Processing line 363 / 8519\n",
            "Processing line 365 / 8519\n",
            "Processing line 367 / 8519\n",
            "Processing line 369 / 8519\n",
            "Processing line 371 / 8519\n",
            "Processing line 373 / 8519\n",
            "Processing line 376 / 8519\n",
            "Processing line 380 / 8519\n",
            "Processing line 382 / 8519\n",
            "Processing line 384 / 8519\n",
            "Processing line 386 / 8519\n",
            "Processing line 389 / 8519\n",
            "Processing line 391 / 8519\n",
            "Processing line 395 / 8519\n",
            "Processing line 397 / 8519\n",
            "Processing line 404 / 8519\n",
            "Processing line 409 / 8519\n",
            "Processing line 421 / 8519\n",
            "Processing line 424 / 8519\n",
            "Processing line 427 / 8519\n",
            "Processing line 430 / 8519\n",
            "Processing line 434 / 8519\n",
            "Processing line 438 / 8519\n",
            "Processing line 441 / 8519\n",
            "Processing line 443 / 8519\n",
            "Processing line 445 / 8519\n",
            "Processing line 447 / 8519\n",
            "Processing line 451 / 8519\n",
            "Processing line 453 / 8519\n",
            "Processing line 455 / 8519\n",
            "Processing line 457 / 8519\n",
            "Processing line 469 / 8519\n",
            "Processing line 471 / 8519\n",
            "Processing line 473 / 8519\n",
            "Processing line 477 / 8519\n",
            "Processing line 479 / 8519\n",
            "Processing line 481 / 8519\n",
            "Processing line 486 / 8519\n",
            "Processing line 489 / 8519\n",
            "Processing line 491 / 8519\n",
            "Processing line 494 / 8519\n",
            "Processing line 500 / 8519\n",
            "Processing line 503 / 8519\n",
            "Processing line 505 / 8519\n",
            "Processing line 508 / 8519\n",
            "Processing line 513 / 8519\n",
            "Processing line 515 / 8519\n",
            "Processing line 518 / 8519\n",
            "Processing line 523 / 8519\n",
            "Processing line 525 / 8519\n",
            "Processing line 527 / 8519\n",
            "Processing line 529 / 8519\n",
            "Processing line 533 / 8519\n",
            "Processing line 535 / 8519\n",
            "Processing line 537 / 8519\n",
            "Processing line 541 / 8519\n",
            "Processing line 544 / 8519\n",
            "Processing line 548 / 8519\n",
            "Processing line 550 / 8519\n",
            "Processing line 552 / 8519\n",
            "Processing line 554 / 8519\n",
            "Processing line 556 / 8519\n",
            "Processing line 558 / 8519\n",
            "Processing line 562 / 8519\n",
            "Processing line 564 / 8519\n",
            "Processing line 566 / 8519\n",
            "Processing line 570 / 8519\n",
            "Processing line 572 / 8519\n",
            "Processing line 575 / 8519\n",
            "Processing line 577 / 8519\n",
            "Processing line 582 / 8519\n",
            "Processing line 589 / 8519\n",
            "Processing line 595 / 8519\n",
            "Adding Header of 38 bytes ..\n",
            "Processing line 602 / 8519\n",
            "Processing line 608 / 8519\n",
            "Processing line 615 / 8519\n",
            "Processing line 624 / 8519\n",
            "Processing line 627 / 8519\n",
            "Processing line 632 / 8519\n",
            "Processing line 638 / 8519\n",
            "Processing line 642 / 8519\n",
            "Processing line 646 / 8519\n",
            "Processing line 649 / 8519\n",
            "Processing line 656 / 8519\n",
            "Processing line 662 / 8519\n",
            "Processing line 665 / 8519\n",
            "Processing line 671 / 8519\n",
            "Processing line 673 / 8519\n",
            "Processing line 678 / 8519\n",
            "Processing line 683 / 8519\n",
            "Processing line 685 / 8519\n",
            "Processing line 689 / 8519\n",
            "Processing line 691 / 8519\n",
            "Processing line 693 / 8519\n",
            "Processing line 695 / 8519\n",
            "Processing line 697 / 8519\n",
            "Processing line 699 / 8519\n",
            "Processing line 703 / 8519\n",
            "Processing line 705 / 8519\n",
            "Processing line 707 / 8519\n",
            "Processing line 710 / 8519\n",
            "Processing line 714 / 8519\n",
            "Processing line 716 / 8519\n",
            "Processing line 718 / 8519\n",
            "Processing line 721 / 8519\n",
            "Processing line 726 / 8519\n",
            "Processing line 728 / 8519\n",
            "Processing line 730 / 8519\n",
            "Processing line 732 / 8519\n",
            "Processing line 742 / 8519\n",
            "Processing line 745 / 8519\n",
            "Processing line 749 / 8519\n",
            "Processing line 751 / 8519\n",
            "Processing line 753 / 8519\n",
            "Processing line 755 / 8519\n",
            "Processing line 758 / 8519\n",
            "Processing line 761 / 8519\n",
            "Processing line 768 / 8519\n",
            "Processing line 779 / 8519\n",
            "Processing line 783 / 8519\n",
            "Processing line 785 / 8519\n",
            "Processing line 787 / 8519\n",
            "Processing line 790 / 8519\n",
            "Processing line 793 / 8519\n",
            "Processing line 795 / 8519\n",
            "Processing line 797 / 8519\n",
            "Processing line 801 / 8519\n",
            "Processing line 804 / 8519\n",
            "Processing line 808 / 8519\n",
            "Processing line 810 / 8519\n",
            "Processing line 812 / 8519\n",
            "Processing line 814 / 8519\n",
            "Processing line 816 / 8519\n",
            "Processing line 819 / 8519\n",
            "Processing line 822 / 8519\n",
            "Processing line 825 / 8519\n",
            "Processing line 828 / 8519\n",
            "Processing line 830 / 8519\n",
            "Processing line 832 / 8519\n",
            "Processing line 836 / 8519\n",
            "Processing line 841 / 8519\n",
            "Processing line 843 / 8519\n",
            "Processing line 845 / 8519\n",
            "Processing line 847 / 8519\n",
            "Processing line 849 / 8519\n",
            "Processing line 852 / 8519\n",
            "Processing line 854 / 8519\n",
            "Processing line 856 / 8519\n",
            "Processing line 858 / 8519\n",
            "Processing line 861 / 8519\n",
            "Processing line 863 / 8519\n",
            "Processing line 865 / 8519\n",
            "Processing line 867 / 8519\n",
            "Processing line 870 / 8519\n",
            "Processing line 875 / 8519\n",
            "Processing line 881 / 8519\n",
            "Processing line 885 / 8519\n",
            "Processing line 892 / 8519\n",
            "Processing line 895 / 8519\n",
            "Processing line 898 / 8519\n",
            "Processing line 902 / 8519\n",
            "Processing line 905 / 8519\n"
          ]
        }
      ]
    },
    {
      "cell_type": "markdown",
      "metadata": {
        "id": "_nKSdLcPtvv-"
      },
      "source": [
        "Now, you can store the `Document` as a PDF using the `PDF.dumps` method."
      ]
    },
    {
      "cell_type": "code",
      "metadata": {
        "id": "zV-kv3I5t2Ax"
      },
      "source": [
        "with open(\"output.pdf\", \"wb\") as pdf_file_handle:\n",
        "  PDF.dumps(pdf_file_handle, pdf)"
      ],
      "execution_count": null,
      "outputs": []
    },
    {
      "cell_type": "markdown",
      "metadata": {
        "id": "xrksHOTewKxS"
      },
      "source": [
        "That's it! You now have a PDF e-book. That's how easy it is to create a PDF using `borb`."
      ]
    }
  ]
}