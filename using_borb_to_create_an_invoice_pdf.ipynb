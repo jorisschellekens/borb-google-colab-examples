{
  "nbformat": 4,
  "nbformat_minor": 0,
  "metadata": {
    "colab": {
      "name": "borb_colab_example_001.ipynb",
      "provenance": [],
      "collapsed_sections": [],
      "include_colab_link": true
    },
    "kernelspec": {
      "name": "python3",
      "display_name": "Python 3"
    },
    "language_info": {
      "name": "python"
    }
  },
  "cells": [
    {
      "cell_type": "markdown",
      "metadata": {
        "id": "view-in-github",
        "colab_type": "text"
      },
      "source": [
        "<a href=\"https://colab.research.google.com/github/jorisschellekens/borb-google-colab-examples/blob/main/using_borb_to_create_an_invoice_pdf.ipynb\" target=\"_parent\"><img src=\"https://colab.research.google.com/assets/colab-badge.svg\" alt=\"Open In Colab\"/></a>"
      ]
    },
    {
      "cell_type": "markdown",
      "metadata": {
        "id": "69pFrdjXwffy"
      },
      "source": [
        "# ![borb logo](https://github.com/jorisschellekens/borb/raw/master/logo/borb_64.png) Using `borb` to create an invoice PDF"
      ]
    },
    {
      "cell_type": "markdown",
      "metadata": {
        "id": "QzPdWssCpvjm"
      },
      "source": [
        "[`borb`](https://github.com/jorisschellekens/borb) is a library for reading, creating and manipulating PDF files in python. borb was created in 2020 by Joris Schellekens and is still in active development. Check out the [GitHub repository](https://github.com/jorisschellekens/borb), or the [borb website](https://borbpdf.com)."
      ]
    },
    {
      "cell_type": "markdown",
      "metadata": {
        "id": "ok7w4E5cs-90"
      },
      "source": [
        "Let's start by installing `borb`"
      ]
    },
    {
      "cell_type": "code",
      "metadata": {
        "colab": {
          "base_uri": "https://localhost:8080/"
        },
        "id": "hCsIoviIrivr",
        "outputId": "474e0c75-8dec-4b95-86d4-1509e2a2c10b"
      },
      "source": [
        "pip install borb"
      ],
      "execution_count": 43,
      "outputs": [
        {
          "output_type": "stream",
          "text": [
            "Requirement already satisfied: borb in /usr/local/lib/python3.7/dist-packages (2.0.9)\n",
            "Requirement already satisfied: python-barcode>=0.13.1 in /usr/local/lib/python3.7/dist-packages (from borb) (0.13.1)\n",
            "Requirement already satisfied: qrcode[pil]>=6.1 in /usr/local/lib/python3.7/dist-packages (from borb) (7.3)\n",
            "Requirement already satisfied: fonttools>=4.22.1 in /usr/local/lib/python3.7/dist-packages (from borb) (4.26.2)\n",
            "Requirement already satisfied: requests>=2.24.0 in /usr/local/lib/python3.7/dist-packages (from borb) (2.26.0)\n",
            "Requirement already satisfied: setuptools~=51.1.1 in /usr/local/lib/python3.7/dist-packages (from borb) (51.1.2)\n",
            "Requirement already satisfied: Pillow>=7.1.0 in /usr/local/lib/python3.7/dist-packages (from borb) (7.1.2)\n",
            "Requirement already satisfied: certifi>=2017.4.17 in /usr/local/lib/python3.7/dist-packages (from requests>=2.24.0->borb) (2021.5.30)\n",
            "Requirement already satisfied: urllib3<1.27,>=1.21.1 in /usr/local/lib/python3.7/dist-packages (from requests>=2.24.0->borb) (1.24.3)\n",
            "Requirement already satisfied: charset-normalizer~=2.0.0 in /usr/local/lib/python3.7/dist-packages (from requests>=2.24.0->borb) (2.0.4)\n",
            "Requirement already satisfied: idna<4,>=2.5 in /usr/local/lib/python3.7/dist-packages (from requests>=2.24.0->borb) (2.10)\n"
          ],
          "name": "stdout"
        }
      ]
    },
    {
      "cell_type": "markdown",
      "metadata": {
        "id": "L3IBqyjEtLET"
      },
      "source": [
        "`borb` has two intuitive key classes - `Document` and `Page`, which represent a document and the pages within it. Additionally, the `PDF` class represents an API for loading and saving the Documents we create.\n",
        "\n",
        "Let's create a `Document()` and `Page()` as a blank canvas that we can add the invoice to:"
      ]
    },
    {
      "cell_type": "code",
      "metadata": {
        "id": "I6FzsGmprxbq",
        "outputId": "b11583bb-13e1-40e3-9962-c1c80f252f3e",
        "colab": {
          "base_uri": "https://localhost:8080/"
        }
      },
      "source": [
        "from borb.pdf.document import Document\n",
        "from borb.pdf.page.page import Page\n",
        "\n",
        "# Create document\n",
        "pdf = Document()\n",
        "\n",
        "# Add page\n",
        "page = Page()\n",
        "pdf.append_page(page)"
      ],
      "execution_count": 44,
      "outputs": [
        {
          "output_type": "execute_result",
          "data": {
            "text/plain": [
              "{<borb.io.read.types.Name at 0x7f3c94404c50>: {<borb.io.read.types.Name at 0x7f3c942d9590>: Decimal('0'),\n",
              "  <borb.io.read.types.Name at 0x7f3c94337210>: {<borb.io.read.types.Name at 0x7f3c927223d0>: {<borb.io.read.types.Name at 0x7f3c95480350>: {<borb.io.read.types.Name at 0x7f3c954806d0>: Decimal('1'),\n",
              "     <borb.io.read.types.Name at 0x7f3c92a93450>: [{<borb.io.read.types.Name at 0x7f3c92482090>: [Decimal('0'),\n",
              "        Decimal('0'),\n",
              "        Decimal('595'),\n",
              "        Decimal('842')],\n",
              "       <borb.io.read.types.Name at 0x7f3c95480c90>: {...},\n",
              "       <borb.io.read.types.Name at 0x7f3c9293cc90>: <borb.io.read.types.Name at 0x7f3c9293cbd0>}],\n",
              "     <borb.io.read.types.Name at 0x7f3c954805d0>: <borb.io.read.types.Name at 0x7f3c92a93550>},\n",
              "    <borb.io.read.types.Name at 0x7f3c95059850>: <borb.io.read.types.Name at 0x7f3c95059690>}}}}"
            ]
          },
          "metadata": {},
          "execution_count": 44
        }
      ]
    },
    {
      "cell_type": "markdown",
      "metadata": {
        "id": "iGnd7R-DtTkt"
      },
      "source": [
        "Since we don't want to deal with calculating coordinates - we can delegate this to a `PageLayout` which manages all of the content and its positions:"
      ]
    },
    {
      "cell_type": "code",
      "metadata": {
        "id": "P5VlAvhqsCPR"
      },
      "source": [
        "# New imports\n",
        "from borb.pdf.canvas.layout.page_layout.multi_column_layout import SingleColumnLayout\n",
        "from borb.pdf.canvas.layout.page_layout.page_layout import PageLayout\n",
        "from decimal import Decimal\n",
        "\n",
        "# create PageLayout\n",
        "page_layout: PageLayout = SingleColumnLayout(page)\n",
        "page_layout.vertical_margin = page.get_page_info().get_height() * Decimal(0.02)"
      ],
      "execution_count": 45,
      "outputs": []
    },
    {
      "cell_type": "markdown",
      "metadata": {
        "id": "mIGcXKNKtc0o"
      },
      "source": [
        "Here, we're using a `SingleColumnLayout` since all of the content should be in a single column - we won't have a left and right side of the invoice. We're also making the vertical margin smaller here. The default value is to trim the top 10% of the page height as the margin, and we're reducing it down to 2%, since we'll want to use this space for the company logo/name.\n",
        "\n",
        "Speaking of which, let's add the company logo to the layout:"
      ]
    },
    {
      "cell_type": "code",
      "metadata": {
        "colab": {
          "base_uri": "https://localhost:8080/"
        },
        "id": "kPafsXiKtlH0",
        "outputId": "94eaa6a7-92d5-40f9-dfd2-3439779a1b7f"
      },
      "source": [
        "# New imports\n",
        "from borb.pdf.canvas.layout.image.image import Image\n",
        "\n",
        "page_layout.add(    \n",
        "        Image(        \n",
        "        \"https://s3.stackabuse.com/media/articles/creating-an-invoice-in-python-with-ptext-1.png\",        \n",
        "        width=Decimal(128),        \n",
        "        height=Decimal(128),    \n",
        "        ))"
      ],
      "execution_count": 46,
      "outputs": [
        {
          "output_type": "execute_result",
          "data": {
            "text/plain": [
              "<borb.pdf.canvas.layout.page_layout.multi_column_layout.SingleColumnLayout at 0x7f3c92940890>"
            ]
          },
          "metadata": {},
          "execution_count": 46
        }
      ]
    },
    {
      "cell_type": "markdown",
      "metadata": {
        "id": "_nKSdLcPtvv-"
      },
      "source": [
        "Here, we're adding an element to the layout - an `Image()`. Through its constructor, we're adding a URL pointing to the image resource and setting its `width` and `height`.\n",
        "\n",
        "Beneath the image, we'll want to add our imaginary company info (name, address, website, phone) as well as the invoice information (invoice number, date, due date). \n",
        "\n",
        "A common format for brevity (which incidentally also makes the code cleaner) is to use a table to store invoice data. Let's create a separate helper method to build the invoice information in a table, which we can then use to simply add a table to the invoice in our main method:"
      ]
    },
    {
      "cell_type": "code",
      "metadata": {
        "id": "zV-kv3I5t2Ax"
      },
      "source": [
        "# New imports\n",
        "from borb.pdf.canvas.layout.table.fixed_column_width_table import FixedColumnWidthTable as Table\n",
        "from borb.pdf.canvas.layout.text.paragraph import Paragraph\n",
        "from borb.pdf.canvas.layout.layout_element import Alignment\n",
        "from datetime import datetime\n",
        "import random\n",
        "\n",
        "def _build_invoice_information():    \n",
        "    table_001 = Table(number_of_rows=5, number_of_columns=3)\n",
        "\t\n",
        "    table_001.add(Paragraph(\"[Street Address]\"))    \n",
        "    table_001.add(Paragraph(\"Date\", font=\"Helvetica-Bold\", horizontal_alignment=Alignment.RIGHT))    \n",
        "    now = datetime.now()    \n",
        "    table_001.add(Paragraph(\"%d/%d/%d\" % (now.day, now.month, now.year)))\n",
        "\t\n",
        "    table_001.add(Paragraph(\"[City, State, ZIP Code]\"))    \n",
        "    table_001.add(Paragraph(\"Invoice #\", font=\"Helvetica-Bold\", horizontal_alignment=Alignment.RIGHT))\n",
        "    table_001.add(Paragraph(\"%d\" % random.randint(1000, 10000)))   \n",
        "\t\n",
        "    table_001.add(Paragraph(\"[Phone]\"))    \n",
        "    table_001.add(Paragraph(\"Due Date\", font=\"Helvetica-Bold\", horizontal_alignment=Alignment.RIGHT))\n",
        "    table_001.add(Paragraph(\"%d/%d/%d\" % (now.day, now.month, now.year))) \n",
        "\t\n",
        "    table_001.add(Paragraph(\"[Email Address]\"))    \n",
        "    table_001.add(Paragraph(\" \"))\n",
        "    table_001.add(Paragraph(\" \"))\n",
        "\n",
        "    table_001.add(Paragraph(\"[Company Website]\"))\n",
        "    table_001.add(Paragraph(\" \"))\n",
        "    table_001.add(Paragraph(\" \"))\n",
        "\n",
        "    table_001.set_padding_on_all_cells(Decimal(2), Decimal(2), Decimal(2), Decimal(2))    \t\t\n",
        "    table_001.no_borders()\n",
        "    return table_001"
      ],
      "execution_count": 47,
      "outputs": []
    },
    {
      "cell_type": "markdown",
      "metadata": {
        "id": "xrksHOTewKxS"
      },
      "source": [
        "Here, we're making a simple `Table` with 5 rows and 3 columns. The rows correspond to the street address, city/state, phone, email address and company website. Each row will have `0..3` values (columns). Each text element is added as a `Paragraph`, which we've aligned to the right via `Alignment.RIGHT`, and accept styling arguments such as `font`.\n",
        "\n",
        "Finally, we've added padding to all the cells to make sure we don't place the text awkwardly near the confounds of the cells.\n",
        "\n",
        "Now, back in our main method, we can call `_build_invoice_information()` to populate a table and add it to our layout:"
      ]
    },
    {
      "cell_type": "code",
      "metadata": {
        "id": "cdiesXilzLfS",
        "outputId": "61288c49-cc1b-4cf7-a551-bc2e65214555",
        "colab": {
          "base_uri": "https://localhost:8080/"
        }
      },
      "source": [
        "# Invoice information table  \n",
        "page_layout.add(_build_invoice_information())  \n",
        "  \n",
        "# Empty paragraph for spacing  \n",
        "page_layout.add(Paragraph(\" \"))"
      ],
      "execution_count": 48,
      "outputs": [
        {
          "output_type": "execute_result",
          "data": {
            "text/plain": [
              "<borb.pdf.canvas.layout.page_layout.multi_column_layout.SingleColumnLayout at 0x7f3c92940890>"
            ]
          },
          "metadata": {},
          "execution_count": 48
        }
      ]
    },
    {
      "cell_type": "markdown",
      "metadata": {
        "id": "-yEkariZ8MRX"
      },
      "source": [
        "Great! Now we'll want to add the billing and shipping information as well. It'll conveniently be placed in a table, just like the company information. For brevity's sake, we'll also opt to make a separate helper function to build this info, and then we can simply add it in our main method:"
      ]
    },
    {
      "cell_type": "code",
      "metadata": {
        "id": "vSNotcNW8OVY"
      },
      "source": [
        "# New imports\n",
        "from borb.pdf.canvas.color.color import HexColor, X11Color\n",
        "\n",
        "def _build_billing_and_shipping_information():  \n",
        "    table_001 = Table(number_of_rows=6, number_of_columns=2)  \n",
        "    table_001.add(  \n",
        "        Paragraph(  \n",
        "            \"BILL TO\",  \n",
        "            background_color=HexColor(\"263238\"),  \n",
        "            font_color=X11Color(\"White\"),  \n",
        "        )  \n",
        "    )  \n",
        "    table_001.add(  \n",
        "        Paragraph(  \n",
        "            \"SHIP TO\",  \n",
        "            background_color=HexColor(\"263238\"),  \n",
        "            font_color=X11Color(\"White\"),  \n",
        "        )  \n",
        "    )  \n",
        "    table_001.add(Paragraph(\"[Recipient Name]\"))        # BILLING  \n",
        "    table_001.add(Paragraph(\"[Recipient Name]\"))        # SHIPPING  \n",
        "    table_001.add(Paragraph(\"[Company Name]\"))          # BILLING  \n",
        "    table_001.add(Paragraph(\"[Company Name]\"))          # SHIPPING  \n",
        "    table_001.add(Paragraph(\"[Street Address]\"))        # BILLING  \n",
        "    table_001.add(Paragraph(\"[Street Address]\"))        # SHIPPING  \n",
        "    table_001.add(Paragraph(\"[City, State, ZIP Code]\")) # BILLING  \n",
        "    table_001.add(Paragraph(\"[City, State, ZIP Code]\")) # SHIPPING  \n",
        "    table_001.add(Paragraph(\"[Phone]\"))                 # BILLING  \n",
        "    table_001.add(Paragraph(\"[Phone]\"))                 # SHIPPING  \n",
        "    table_001.set_padding_on_all_cells(Decimal(2), Decimal(2), Decimal(2), Decimal(2))  \n",
        "    table_001.no_borders()  \n",
        "    return table_001"
      ],
      "execution_count": 49,
      "outputs": []
    },
    {
      "cell_type": "markdown",
      "metadata": {
        "id": "cjCXai-c8aYE"
      },
      "source": [
        "Let's call this in the main method as well:\n",
        "\n"
      ]
    },
    {
      "cell_type": "code",
      "metadata": {
        "id": "1ZdGM0le8a4E",
        "outputId": "e044bb48-0d75-442e-c723-1cc25bd98801",
        "colab": {
          "base_uri": "https://localhost:8080/"
        }
      },
      "source": [
        "# Billing and shipping information table\n",
        "page_layout.add(_build_billing_and_shipping_information())"
      ],
      "execution_count": 50,
      "outputs": [
        {
          "output_type": "execute_result",
          "data": {
            "text/plain": [
              "<borb.pdf.canvas.layout.page_layout.multi_column_layout.SingleColumnLayout at 0x7f3c92940890>"
            ]
          },
          "metadata": {},
          "execution_count": 50
        }
      ]
    },
    {
      "cell_type": "markdown",
      "metadata": {
        "id": "DHreerNu83G5"
      },
      "source": [
        "With our basic information sorted out (company info and billing/shipping info) - we'll want to add an itemized description. These will be the goods/services that our supposed company offered to someone and are also typically done in a table-like fashion beneath the information we've already added.\n",
        "\n",
        "Again, let's create a helper function that generates a table and populates it with data, which we can simply add to our layout later on.\n",
        "\n",
        "We'll start by defining a Product class to represent a sold product. In practice, you'd substitute the hard-coded strings related to the subtotal, taxes and total prices with calculations of the actual prices - though, this heavily depends on the underlying implementation of your Product models, so we've added a stand-in for abstraction."
      ]
    },
    {
      "cell_type": "code",
      "metadata": {
        "id": "ebKopLTm85mS"
      },
      "source": [
        "class Product:\n",
        "    \"\"\"\n",
        "    This class represents a purchased product\n",
        "    \"\"\"\n",
        "    def __init__(self, name: str, quantity: int, price_per_sku: float):\n",
        "        self.name: str = name\n",
        "        assert quantity >= 0\n",
        "        self.quantity: int = quantity\n",
        "        assert price_per_sku >= 0\n",
        "        self.price_per_sku: float = price_per_sku"
      ],
      "execution_count": 51,
      "outputs": []
    },
    {
      "cell_type": "markdown",
      "metadata": {
        "id": "yPcZ-nP79LRD"
      },
      "source": [
        "Now we can build a method `_build_itemized_description_table` that will render these products and their prices to the PDF:"
      ]
    },
    {
      "cell_type": "code",
      "metadata": {
        "id": "u8I-Y1fU9OFd"
      },
      "source": [
        "# New Imports\n",
        "from borb.pdf.canvas.layout.table.table import TableCell\n",
        "import typing\n",
        "\n",
        "def _build_itemized_description_table(products: typing.List[Product] = []):\n",
        "    \"\"\"\n",
        "    This function builds a Table containing itemized billing information\n",
        "    :param:     products\n",
        "    :return:    a Table containing itemized billing information\n",
        "    \"\"\"\n",
        "    table_001 = Table(number_of_rows=15, number_of_columns=4)\n",
        "    for h in [\"DESCRIPTION\", \"QTY\", \"UNIT PRICE\", \"AMOUNT\"]:\n",
        "        table_001.add(\n",
        "            TableCell(\n",
        "                Paragraph(h, font_color=X11Color(\"White\")),\n",
        "                background_color=HexColor(\"0b3954\"),\n",
        "            )\n",
        "        )\n",
        "\n",
        "    odd_color = HexColor(\"BBBBBB\")\n",
        "    even_color = HexColor(\"FFFFFF\")\n",
        "    for row_number, item in enumerate(products):\n",
        "        c = even_color if row_number % 2 == 0 else odd_color\n",
        "        table_001.add(TableCell(Paragraph(item.name), background_color=c))\n",
        "        table_001.add(TableCell(Paragraph(str(item.quantity)), background_color=c))\n",
        "        table_001.add(TableCell(Paragraph(\"$ \" + str(item.price_per_sku)), background_color=c))\n",
        "        table_001.add(TableCell(Paragraph(\"$ \" + str(item.quantity * item.price_per_sku)), background_color=c))\n",
        "\n",
        "    # Optionally add some empty rows to have a fixed number of rows for styling purposes\n",
        "    for row_number in range(len(products), 10):\n",
        "        c = even_color if row_number % 2 == 0 else odd_color\n",
        "        for _ in range(0, 4):\n",
        "            table_001.add(TableCell(Paragraph(\" \"), background_color=c))\n",
        "\n",
        "    # subtotal\n",
        "    subtotal: float = sum([x.price_per_sku * x.quantity for x in products])\n",
        "    table_001.add(TableCell(Paragraph(\"Subtotal\", font=\"Helvetica-Bold\", horizontal_alignment=Alignment.RIGHT, ), col_span=3, ))\n",
        "    table_001.add(TableCell(Paragraph(\"$ 1,180.00\", horizontal_alignment=Alignment.RIGHT)))\n",
        "\n",
        "    # discounts\n",
        "    table_001.add(TableCell(Paragraph(\"Discounts\", font=\"Helvetica-Bold\", horizontal_alignment=Alignment.RIGHT, ), col_span=3, ))\n",
        "    table_001.add(TableCell(Paragraph(\"$ 0.00\", horizontal_alignment=Alignment.RIGHT)))\n",
        "\n",
        "    # taxes\n",
        "    taxes: float = subtotal * 0.06\n",
        "    table_001.add(TableCell(Paragraph(\"Taxes\", font=\"Helvetica-Bold\", horizontal_alignment=Alignment.RIGHT), col_span=3, ))\n",
        "    table_001.add(TableCell(Paragraph(\"$ \" + str(taxes), horizontal_alignment=Alignment.RIGHT)))\n",
        "\n",
        "    # total\n",
        "    total: float = subtotal + taxes\n",
        "    table_001.add(TableCell(Paragraph(\"Total\", font=\"Helvetica-Bold\", horizontal_alignment=Alignment.RIGHT), col_span=3, ))\n",
        "    table_001.add(TableCell(Paragraph(\"$ \" + str(total), horizontal_alignment=Alignment.RIGHT)))\n",
        "    table_001.set_padding_on_all_cells(Decimal(2), Decimal(2), Decimal(2), Decimal(2))\n",
        "    table_001.no_borders()\n",
        "    return table_001"
      ],
      "execution_count": 52,
      "outputs": []
    },
    {
      "cell_type": "markdown",
      "metadata": {
        "id": "XG25KGNi9jKK"
      },
      "source": [
        "Let's call this method with some dummy `Product` items:"
      ]
    },
    {
      "cell_type": "code",
      "metadata": {
        "id": "0DdMq-219nWm",
        "outputId": "0f320e1b-aa0f-46f0-a5cf-962597492dbb",
        "colab": {
          "base_uri": "https://localhost:8080/"
        }
      },
      "source": [
        "# Empty paragraph for spacing\n",
        "page_layout.add(Paragraph(\" \"))\n",
        "\n",
        "# Itemized description\n",
        "page_layout.add(_build_itemized_description_table([\n",
        "    Product(\"Product 1\", 2, 50),\n",
        "    Product(\"Product 2\", 4, 60),\n",
        "    Product(\"Labor\", 14, 60)\n",
        "]))\n"
      ],
      "execution_count": 53,
      "outputs": [
        {
          "output_type": "execute_result",
          "data": {
            "text/plain": [
              "<borb.pdf.canvas.layout.page_layout.multi_column_layout.SingleColumnLayout at 0x7f3c92940890>"
            ]
          },
          "metadata": {},
          "execution_count": 53
        }
      ]
    },
    {
      "cell_type": "markdown",
      "metadata": {
        "id": "NJVdM5H297ac"
      },
      "source": [
        "Finally, you can store the PDF to disk"
      ]
    },
    {
      "cell_type": "code",
      "metadata": {
        "id": "dpbWc1te9-c7"
      },
      "source": [
        "# New Imports\n",
        "from borb.pdf.pdf import PDF\n",
        "\n",
        "# store\n",
        "with open(\"output.pdf\", \"wb\") as out_file_handle:\n",
        "    PDF.dumps(out_file_handle, pdf)"
      ],
      "execution_count": 54,
      "outputs": []
    }
  ]
}