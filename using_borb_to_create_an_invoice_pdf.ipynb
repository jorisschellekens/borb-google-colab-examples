{
  "nbformat": 4,
  "nbformat_minor": 0,
  "metadata": {
    "colab": {
      "name": "using_borb_to_create_an_invoice_pdf.ipynb",
      "provenance": [],
      "collapsed_sections": [],
      "include_colab_link": true
    },
    "kernelspec": {
      "name": "python3",
      "display_name": "Python 3"
    },
    "language_info": {
      "name": "python"
    }
  },
  "cells": [
    {
      "cell_type": "markdown",
      "metadata": {
        "id": "view-in-github",
        "colab_type": "text"
      },
      "source": [
        "<a href=\"https://colab.research.google.com/github/jorisschellekens/borb-google-colab-examples/blob/main/using_borb_to_create_an_invoice_pdf.ipynb\" target=\"_parent\"><img src=\"https://colab.research.google.com/assets/colab-badge.svg\" alt=\"Open In Colab\"/></a>"
      ]
    },
    {
      "cell_type": "markdown",
      "metadata": {
        "id": "69pFrdjXwffy"
      },
      "source": [
        "# ![borb logo](https://github.com/jorisschellekens/borb/raw/master/logo/borb_64.png) Using `borb` to create an invoice PDF"
      ]
    },
    {
      "cell_type": "markdown",
      "metadata": {
        "id": "QzPdWssCpvjm"
      },
      "source": [
        "[`borb`](https://github.com/jorisschellekens/borb) is a library for reading, creating and manipulating PDF files in python. borb was created in 2020 by Joris Schellekens and is still in active development. Check out the [GitHub repository](https://github.com/jorisschellekens/borb), or the [borb website](https://borbpdf.com)."
      ]
    },
    {
      "cell_type": "markdown",
      "metadata": {
        "id": "ok7w4E5cs-90"
      },
      "source": [
        "Let's start by installing `borb`"
      ]
    },
    {
      "cell_type": "code",
      "metadata": {
        "colab": {
          "base_uri": "https://localhost:8080/"
        },
        "id": "hCsIoviIrivr",
        "outputId": "3a3d3191-64f8-4a99-d32d-5218856d36a9"
      },
      "source": [
        "pip install borb"
      ],
      "execution_count": 1,
      "outputs": [
        {
          "output_type": "stream",
          "name": "stdout",
          "text": [
            "Collecting borb\n",
            "  Downloading borb-2.0.19-py3-none-any.whl (6.5 MB)\n",
            "\u001b[K     |████████████████████████████████| 6.5 MB 9.5 MB/s \n",
            "\u001b[?25hRequirement already satisfied: setuptools>=51.1.1 in /usr/local/lib/python3.7/dist-packages (from borb) (57.4.0)\n",
            "Collecting fonttools>=4.22.1\n",
            "  Downloading fonttools-4.29.1-py3-none-any.whl (895 kB)\n",
            "\u001b[K     |████████████████████████████████| 895 kB 53.3 MB/s \n",
            "\u001b[?25hCollecting qrcode[pil]>=6.1\n",
            "  Downloading qrcode-7.3.1.tar.gz (43 kB)\n",
            "\u001b[K     |████████████████████████████████| 43 kB 1.6 MB/s \n",
            "\u001b[?25hRequirement already satisfied: Pillow>=7.1.0 in /usr/local/lib/python3.7/dist-packages (from borb) (7.1.2)\n",
            "Collecting requests>=2.24.0\n",
            "  Downloading requests-2.27.1-py2.py3-none-any.whl (63 kB)\n",
            "\u001b[K     |████████████████████████████████| 63 kB 1.5 MB/s \n",
            "\u001b[?25hCollecting python-barcode>=0.13.1\n",
            "  Downloading python_barcode-0.13.1-py3-none-any.whl (217 kB)\n",
            "\u001b[K     |████████████████████████████████| 217 kB 46.5 MB/s \n",
            "\u001b[?25hRequirement already satisfied: charset-normalizer~=2.0.0 in /usr/local/lib/python3.7/dist-packages (from requests>=2.24.0->borb) (2.0.11)\n",
            "Requirement already satisfied: idna<4,>=2.5 in /usr/local/lib/python3.7/dist-packages (from requests>=2.24.0->borb) (2.10)\n",
            "Requirement already satisfied: urllib3<1.27,>=1.21.1 in /usr/local/lib/python3.7/dist-packages (from requests>=2.24.0->borb) (1.24.3)\n",
            "Requirement already satisfied: certifi>=2017.4.17 in /usr/local/lib/python3.7/dist-packages (from requests>=2.24.0->borb) (2021.10.8)\n",
            "Building wheels for collected packages: qrcode\n",
            "  Building wheel for qrcode (setup.py) ... \u001b[?25l\u001b[?25hdone\n",
            "  Created wheel for qrcode: filename=qrcode-7.3.1-py3-none-any.whl size=40402 sha256=04507d5b97995c7ee27b29ab3d98e67659d72092d1e478a852393b5d813769cb\n",
            "  Stored in directory: /root/.cache/pip/wheels/93/d7/39/a4111be2cfb8e679938aa671a37888b6afb1f9e7d748e94492\n",
            "Successfully built qrcode\n",
            "Installing collected packages: qrcode, requests, python-barcode, fonttools, borb\n",
            "  Attempting uninstall: requests\n",
            "    Found existing installation: requests 2.23.0\n",
            "    Uninstalling requests-2.23.0:\n",
            "      Successfully uninstalled requests-2.23.0\n",
            "\u001b[31mERROR: pip's dependency resolver does not currently take into account all the packages that are installed. This behaviour is the source of the following dependency conflicts.\n",
            "google-colab 1.0.0 requires requests~=2.23.0, but you have requests 2.27.1 which is incompatible.\n",
            "datascience 0.10.6 requires folium==0.2.1, but you have folium 0.8.3 which is incompatible.\u001b[0m\n",
            "Successfully installed borb-2.0.19 fonttools-4.29.1 python-barcode-0.13.1 qrcode-7.3.1 requests-2.27.1\n"
          ]
        }
      ]
    },
    {
      "cell_type": "markdown",
      "metadata": {
        "id": "L3IBqyjEtLET"
      },
      "source": [
        "`borb` has two intuitive key classes - `Document` and `Page`, which represent a document and the pages within it. Additionally, the `PDF` class represents an API for loading and saving the Documents we create.\n",
        "\n",
        "Let's create a `Document()` and `Page()` as a blank canvas that we can add the invoice to:"
      ]
    },
    {
      "cell_type": "code",
      "metadata": {
        "id": "I6FzsGmprxbq",
        "outputId": "b016e8d8-1d78-41e5-f14f-185c111648ad",
        "colab": {
          "base_uri": "https://localhost:8080/"
        }
      },
      "source": [
        "from borb.pdf.document.document import Document\n",
        "from borb.pdf.page.page import Page\n",
        "\n",
        "# Create document\n",
        "pdf = Document()\n",
        "\n",
        "# Add page\n",
        "page = Page()\n",
        "pdf.append_page(page)"
      ],
      "execution_count": 2,
      "outputs": [
        {
          "output_type": "execute_result",
          "data": {
            "text/plain": [
              "{<borb.io.read.types.Name at 0x7fd5caef1b10>: {<borb.io.read.types.Name at 0x7fd5cae82150>: Decimal('0'),\n",
              "  <borb.io.read.types.Name at 0x7fd5caef1e90>: {<borb.io.read.types.Name at 0x7fd5cae82350>: {<borb.io.read.types.Name at 0x7fd5cae82990>: {<borb.io.read.types.Name at 0x7fd5cae82e50>: Decimal('1'),\n",
              "     <borb.io.read.types.Name at 0x7fd5cae8d350>: [{<borb.io.read.types.Name at 0x7fd5caef1710>: [Decimal('0'),\n",
              "        Decimal('0'),\n",
              "        Decimal('595'),\n",
              "        Decimal('842')],\n",
              "       <borb.io.read.types.Name at 0x7fd5cae8d450>: {...},\n",
              "       <borb.io.read.types.Name at 0x7fd5caedf750>: <borb.io.read.types.Name at 0x7fd5caf59290>}],\n",
              "     <borb.io.read.types.Name at 0x7fd5caef1cd0>: <borb.io.read.types.Name at 0x7fd5cae82d50>},\n",
              "    <borb.io.read.types.Name at 0x7fd5cae82610>: <borb.io.read.types.Name at 0x7fd5cae824d0>}}}}"
            ]
          },
          "metadata": {},
          "execution_count": 2
        }
      ]
    },
    {
      "cell_type": "markdown",
      "metadata": {
        "id": "iGnd7R-DtTkt"
      },
      "source": [
        "Since we don't want to deal with calculating coordinates - we can delegate this to a `PageLayout` which manages all of the content and its positions:"
      ]
    },
    {
      "cell_type": "code",
      "metadata": {
        "id": "P5VlAvhqsCPR"
      },
      "source": [
        "# New imports\n",
        "from borb.pdf.canvas.layout.page_layout.multi_column_layout import SingleColumnLayout\n",
        "from borb.pdf.canvas.layout.page_layout.page_layout import PageLayout\n",
        "from decimal import Decimal\n",
        "\n",
        "# create PageLayout\n",
        "page_layout: PageLayout = SingleColumnLayout(page)\n",
        "page_layout.vertical_margin = page.get_page_info().get_height() * Decimal(0.02)"
      ],
      "execution_count": 3,
      "outputs": []
    },
    {
      "cell_type": "markdown",
      "metadata": {
        "id": "mIGcXKNKtc0o"
      },
      "source": [
        "Here, we're using a `SingleColumnLayout` since all of the content should be in a single column - we won't have a left and right side of the invoice. We're also making the vertical margin smaller here. The default value is to trim the top 10% of the page height as the margin, and we're reducing it down to 2%, since we'll want to use this space for the company logo/name.\n",
        "\n",
        "Speaking of which, let's add the company logo to the layout:"
      ]
    },
    {
      "cell_type": "code",
      "metadata": {
        "colab": {
          "base_uri": "https://localhost:8080/"
        },
        "id": "kPafsXiKtlH0",
        "outputId": "bb35afcb-0b69-4eb4-ba60-38e3fcc96d29"
      },
      "source": [
        "# New imports\n",
        "from borb.pdf.canvas.layout.image.image import Image\n",
        "\n",
        "page_layout.add(    \n",
        "        Image(        \n",
        "        \"https://s3.stackabuse.com/media/articles/creating-an-invoice-in-python-with-ptext-1.png\",        \n",
        "        width=Decimal(128),        \n",
        "        height=Decimal(128),    \n",
        "        ))"
      ],
      "execution_count": 4,
      "outputs": [
        {
          "output_type": "execute_result",
          "data": {
            "text/plain": [
              "<borb.pdf.canvas.layout.page_layout.multi_column_layout.SingleColumnLayout at 0x7fd5cae99310>"
            ]
          },
          "metadata": {},
          "execution_count": 4
        }
      ]
    },
    {
      "cell_type": "markdown",
      "metadata": {
        "id": "_nKSdLcPtvv-"
      },
      "source": [
        "Here, we're adding an element to the layout - an `Image()`. Through its constructor, we're adding a URL pointing to the image resource and setting its `width` and `height`.\n",
        "\n",
        "Beneath the image, we'll want to add our imaginary company info (name, address, website, phone) as well as the invoice information (invoice number, date, due date). \n",
        "\n",
        "A common format for brevity (which incidentally also makes the code cleaner) is to use a table to store invoice data. Let's create a separate helper method to build the invoice information in a table, which we can then use to simply add a table to the invoice in our main method:"
      ]
    },
    {
      "cell_type": "code",
      "metadata": {
        "id": "zV-kv3I5t2Ax"
      },
      "source": [
        "# New imports\n",
        "from borb.pdf.canvas.layout.table.fixed_column_width_table import FixedColumnWidthTable as Table\n",
        "from borb.pdf.canvas.layout.text.paragraph import Paragraph\n",
        "from borb.pdf.canvas.layout.layout_element import Alignment\n",
        "from datetime import datetime\n",
        "import random\n",
        "\n",
        "def _build_invoice_information():    \n",
        "    table_001 = Table(number_of_rows=5, number_of_columns=3)\n",
        "\t\n",
        "    table_001.add(Paragraph(\"[Street Address]\"))    \n",
        "    table_001.add(Paragraph(\"Date\", font=\"Helvetica-Bold\", horizontal_alignment=Alignment.RIGHT))    \n",
        "    now = datetime.now()    \n",
        "    table_001.add(Paragraph(\"%d/%d/%d\" % (now.day, now.month, now.year)))\n",
        "\t\n",
        "    table_001.add(Paragraph(\"[City, State, ZIP Code]\"))    \n",
        "    table_001.add(Paragraph(\"Invoice #\", font=\"Helvetica-Bold\", horizontal_alignment=Alignment.RIGHT))\n",
        "    table_001.add(Paragraph(\"%d\" % random.randint(1000, 10000)))   \n",
        "\t\n",
        "    table_001.add(Paragraph(\"[Phone]\"))    \n",
        "    table_001.add(Paragraph(\"Due Date\", font=\"Helvetica-Bold\", horizontal_alignment=Alignment.RIGHT))\n",
        "    table_001.add(Paragraph(\"%d/%d/%d\" % (now.day, now.month, now.year))) \n",
        "\t\n",
        "    table_001.add(Paragraph(\"[Email Address]\"))    \n",
        "    table_001.add(Paragraph(\" \"))\n",
        "    table_001.add(Paragraph(\" \"))\n",
        "\n",
        "    table_001.add(Paragraph(\"[Company Website]\"))\n",
        "    table_001.add(Paragraph(\" \"))\n",
        "    table_001.add(Paragraph(\" \"))\n",
        "\n",
        "    table_001.set_padding_on_all_cells(Decimal(2), Decimal(2), Decimal(2), Decimal(2))    \t\t\n",
        "    table_001.no_borders()\n",
        "    return table_001"
      ],
      "execution_count": 5,
      "outputs": []
    },
    {
      "cell_type": "markdown",
      "metadata": {
        "id": "xrksHOTewKxS"
      },
      "source": [
        "Here, we're making a simple `Table` with 5 rows and 3 columns. The rows correspond to the street address, city/state, phone, email address and company website. Each row will have `0..3` values (columns). Each text element is added as a `Paragraph`, which we've aligned to the right via `Alignment.RIGHT`, and accept styling arguments such as `font`.\n",
        "\n",
        "Finally, we've added padding to all the cells to make sure we don't place the text awkwardly near the confounds of the cells.\n",
        "\n",
        "Now, back in our main method, we can call `_build_invoice_information()` to populate a table and add it to our layout:"
      ]
    },
    {
      "cell_type": "code",
      "metadata": {
        "id": "cdiesXilzLfS",
        "outputId": "81294434-0752-4fa1-b764-99b4e252f202",
        "colab": {
          "base_uri": "https://localhost:8080/"
        }
      },
      "source": [
        "# Invoice information table  \n",
        "page_layout.add(_build_invoice_information())  \n",
        "  \n",
        "# Empty paragraph for spacing  \n",
        "page_layout.add(Paragraph(\" \"))"
      ],
      "execution_count": 6,
      "outputs": [
        {
          "output_type": "execute_result",
          "data": {
            "text/plain": [
              "<borb.pdf.canvas.layout.page_layout.multi_column_layout.SingleColumnLayout at 0x7fd5cae99310>"
            ]
          },
          "metadata": {},
          "execution_count": 6
        }
      ]
    },
    {
      "cell_type": "markdown",
      "metadata": {
        "id": "-yEkariZ8MRX"
      },
      "source": [
        "Great! Now we'll want to add the billing and shipping information as well. It'll conveniently be placed in a table, just like the company information. For brevity's sake, we'll also opt to make a separate helper function to build this info, and then we can simply add it in our main method:"
      ]
    },
    {
      "cell_type": "code",
      "metadata": {
        "id": "vSNotcNW8OVY"
      },
      "source": [
        "# New imports\n",
        "from borb.pdf.canvas.color.color import HexColor, X11Color\n",
        "\n",
        "def _build_billing_and_shipping_information():  \n",
        "    table_001 = Table(number_of_rows=6, number_of_columns=2)  \n",
        "    table_001.add(  \n",
        "        Paragraph(  \n",
        "            \"BILL TO\",  \n",
        "            background_color=HexColor(\"263238\"),  \n",
        "            font_color=X11Color(\"White\"),  \n",
        "        )  \n",
        "    )  \n",
        "    table_001.add(  \n",
        "        Paragraph(  \n",
        "            \"SHIP TO\",  \n",
        "            background_color=HexColor(\"263238\"),  \n",
        "            font_color=X11Color(\"White\"),  \n",
        "        )  \n",
        "    )  \n",
        "    table_001.add(Paragraph(\"[Recipient Name]\"))        # BILLING  \n",
        "    table_001.add(Paragraph(\"[Recipient Name]\"))        # SHIPPING  \n",
        "    table_001.add(Paragraph(\"[Company Name]\"))          # BILLING  \n",
        "    table_001.add(Paragraph(\"[Company Name]\"))          # SHIPPING  \n",
        "    table_001.add(Paragraph(\"[Street Address]\"))        # BILLING  \n",
        "    table_001.add(Paragraph(\"[Street Address]\"))        # SHIPPING  \n",
        "    table_001.add(Paragraph(\"[City, State, ZIP Code]\")) # BILLING  \n",
        "    table_001.add(Paragraph(\"[City, State, ZIP Code]\")) # SHIPPING  \n",
        "    table_001.add(Paragraph(\"[Phone]\"))                 # BILLING  \n",
        "    table_001.add(Paragraph(\"[Phone]\"))                 # SHIPPING  \n",
        "    table_001.set_padding_on_all_cells(Decimal(2), Decimal(2), Decimal(2), Decimal(2))  \n",
        "    table_001.no_borders()  \n",
        "    return table_001"
      ],
      "execution_count": 7,
      "outputs": []
    },
    {
      "cell_type": "markdown",
      "metadata": {
        "id": "cjCXai-c8aYE"
      },
      "source": [
        "Let's call this in the main method as well:\n",
        "\n"
      ]
    },
    {
      "cell_type": "code",
      "metadata": {
        "id": "1ZdGM0le8a4E",
        "outputId": "ca1ce731-8cbc-497e-84a5-86b4f3e7db2c",
        "colab": {
          "base_uri": "https://localhost:8080/"
        }
      },
      "source": [
        "# Billing and shipping information table\n",
        "page_layout.add(_build_billing_and_shipping_information())"
      ],
      "execution_count": 8,
      "outputs": [
        {
          "output_type": "execute_result",
          "data": {
            "text/plain": [
              "<borb.pdf.canvas.layout.page_layout.multi_column_layout.SingleColumnLayout at 0x7fd5cae99310>"
            ]
          },
          "metadata": {},
          "execution_count": 8
        }
      ]
    },
    {
      "cell_type": "markdown",
      "metadata": {
        "id": "DHreerNu83G5"
      },
      "source": [
        "With our basic information sorted out (company info and billing/shipping info) - we'll want to add an itemized description. These will be the goods/services that our supposed company offered to someone and are also typically done in a table-like fashion beneath the information we've already added.\n",
        "\n",
        "Again, let's create a helper function that generates a table and populates it with data, which we can simply add to our layout later on.\n",
        "\n",
        "We'll start by defining a Product class to represent a sold product. In practice, you'd substitute the hard-coded strings related to the subtotal, taxes and total prices with calculations of the actual prices - though, this heavily depends on the underlying implementation of your Product models, so we've added a stand-in for abstraction."
      ]
    },
    {
      "cell_type": "code",
      "metadata": {
        "id": "ebKopLTm85mS"
      },
      "source": [
        "class Product:\n",
        "    \"\"\"\n",
        "    This class represents a purchased product\n",
        "    \"\"\"\n",
        "    def __init__(self, name: str, quantity: int, price_per_sku: float):\n",
        "        self.name: str = name\n",
        "        assert quantity >= 0\n",
        "        self.quantity: int = quantity\n",
        "        assert price_per_sku >= 0\n",
        "        self.price_per_sku: float = price_per_sku"
      ],
      "execution_count": 9,
      "outputs": []
    },
    {
      "cell_type": "markdown",
      "metadata": {
        "id": "yPcZ-nP79LRD"
      },
      "source": [
        "Now we can build a method `_build_itemized_description_table` that will render these products and their prices to the PDF:"
      ]
    },
    {
      "cell_type": "code",
      "metadata": {
        "id": "u8I-Y1fU9OFd"
      },
      "source": [
        "# New Imports\n",
        "from borb.pdf.canvas.layout.table.table import TableCell\n",
        "import typing\n",
        "\n",
        "def _build_itemized_description_table(products: typing.List[Product] = []):\n",
        "    \"\"\"\n",
        "    This function builds a Table containing itemized billing information\n",
        "    :param:     products\n",
        "    :return:    a Table containing itemized billing information\n",
        "    \"\"\"\n",
        "    table_001 = Table(number_of_rows=15, number_of_columns=4)\n",
        "    for h in [\"DESCRIPTION\", \"QTY\", \"UNIT PRICE\", \"AMOUNT\"]:\n",
        "        table_001.add(\n",
        "            TableCell(\n",
        "                Paragraph(h, font_color=X11Color(\"White\")),\n",
        "                background_color=HexColor(\"0b3954\"),\n",
        "            )\n",
        "        )\n",
        "\n",
        "    odd_color = HexColor(\"BBBBBB\")\n",
        "    even_color = HexColor(\"FFFFFF\")\n",
        "    for row_number, item in enumerate(products):\n",
        "        c = even_color if row_number % 2 == 0 else odd_color\n",
        "        table_001.add(TableCell(Paragraph(item.name), background_color=c))\n",
        "        table_001.add(TableCell(Paragraph(str(item.quantity)), background_color=c))\n",
        "        table_001.add(TableCell(Paragraph(\"$ \" + str(item.price_per_sku)), background_color=c))\n",
        "        table_001.add(TableCell(Paragraph(\"$ \" + str(item.quantity * item.price_per_sku)), background_color=c))\n",
        "\n",
        "    # Optionally add some empty rows to have a fixed number of rows for styling purposes\n",
        "    for row_number in range(len(products), 10):\n",
        "        c = even_color if row_number % 2 == 0 else odd_color\n",
        "        for _ in range(0, 4):\n",
        "            table_001.add(TableCell(Paragraph(\" \"), background_color=c))\n",
        "\n",
        "    # subtotal\n",
        "    subtotal: float = sum([x.price_per_sku * x.quantity for x in products])\n",
        "    table_001.add(TableCell(Paragraph(\"Subtotal\", font=\"Helvetica-Bold\", horizontal_alignment=Alignment.RIGHT, ), col_span=3, ))\n",
        "    table_001.add(TableCell(Paragraph(\"$ 1,180.00\", horizontal_alignment=Alignment.RIGHT)))\n",
        "\n",
        "    # discounts\n",
        "    table_001.add(TableCell(Paragraph(\"Discounts\", font=\"Helvetica-Bold\", horizontal_alignment=Alignment.RIGHT, ), col_span=3, ))\n",
        "    table_001.add(TableCell(Paragraph(\"$ 0.00\", horizontal_alignment=Alignment.RIGHT)))\n",
        "\n",
        "    # taxes\n",
        "    taxes: float = subtotal * 0.06\n",
        "    table_001.add(TableCell(Paragraph(\"Taxes\", font=\"Helvetica-Bold\", horizontal_alignment=Alignment.RIGHT), col_span=3, ))\n",
        "    table_001.add(TableCell(Paragraph(\"$ \" + str(taxes), horizontal_alignment=Alignment.RIGHT)))\n",
        "\n",
        "    # total\n",
        "    total: float = subtotal + taxes\n",
        "    table_001.add(TableCell(Paragraph(\"Total\", font=\"Helvetica-Bold\", horizontal_alignment=Alignment.RIGHT), col_span=3, ))\n",
        "    table_001.add(TableCell(Paragraph(\"$ \" + str(total), horizontal_alignment=Alignment.RIGHT)))\n",
        "    table_001.set_padding_on_all_cells(Decimal(2), Decimal(2), Decimal(2), Decimal(2))\n",
        "    table_001.no_borders()\n",
        "    return table_001"
      ],
      "execution_count": 10,
      "outputs": []
    },
    {
      "cell_type": "markdown",
      "metadata": {
        "id": "XG25KGNi9jKK"
      },
      "source": [
        "Let's call this method with some dummy `Product` items:"
      ]
    },
    {
      "cell_type": "code",
      "metadata": {
        "id": "0DdMq-219nWm",
        "outputId": "e98c0328-396c-4c31-e998-e2d1cf64b884",
        "colab": {
          "base_uri": "https://localhost:8080/"
        }
      },
      "source": [
        "# Empty paragraph for spacing\n",
        "page_layout.add(Paragraph(\" \"))\n",
        "\n",
        "# Itemized description\n",
        "page_layout.add(_build_itemized_description_table([\n",
        "    Product(\"Product 1\", 2, 50),\n",
        "    Product(\"Product 2\", 4, 60),\n",
        "    Product(\"Labor\", 14, 60)\n",
        "]))\n"
      ],
      "execution_count": 11,
      "outputs": [
        {
          "output_type": "execute_result",
          "data": {
            "text/plain": [
              "<borb.pdf.canvas.layout.page_layout.multi_column_layout.SingleColumnLayout at 0x7fd5cae99310>"
            ]
          },
          "metadata": {},
          "execution_count": 11
        }
      ]
    },
    {
      "cell_type": "markdown",
      "metadata": {
        "id": "NJVdM5H297ac"
      },
      "source": [
        "Finally, you can store the PDF to disk"
      ]
    },
    {
      "cell_type": "code",
      "metadata": {
        "id": "dpbWc1te9-c7"
      },
      "source": [
        "# New Imports\n",
        "from borb.pdf.pdf import PDF\n",
        "\n",
        "# store\n",
        "with open(\"output.pdf\", \"wb\") as out_file_handle:\n",
        "    PDF.dumps(out_file_handle, pdf)"
      ],
      "execution_count": 12,
      "outputs": []
    }
  ]
}
